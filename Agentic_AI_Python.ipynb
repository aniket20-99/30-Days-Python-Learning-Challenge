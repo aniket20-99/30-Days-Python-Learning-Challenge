{
 "cells": [
  {
   "cell_type": "markdown",
   "id": "c09d0ca5-ecc3-4b15-be6c-a075bbd7d53b",
   "metadata": {},
   "source": [
    "# Python :-\n",
    "* Python is one of the most popular programming languages.\n",
    "* It’s simple to use, packed with features and supported by a wide range of libraries and frameworks\n",
    "* A high-level language, used in web development, data science, automation, AI and more.\r",
    "* It is \n",
    "Known for its readability, which means code is easier to write, understand and maintain.* It is \r\n",
    "Backed by library support, so we don’t have to build everything from scratch, there’s probably a library that already does what we need."
   ]
  },
  {
   "cell_type": "code",
   "execution_count": null,
   "id": "477f61fa-7b40-418f-b9c0-0f73abab1562",
   "metadata": {},
   "outputs": [],
   "source": []
  },
  {
   "cell_type": "code",
   "execution_count": null,
   "id": "24f3a928-91b9-4898-9b3f-6e74db3cc882",
   "metadata": {},
   "outputs": [],
   "source": []
  },
  {
   "cell_type": "code",
   "execution_count": null,
   "id": "401a7e93-8272-4ba2-b135-9affadb22031",
   "metadata": {},
   "outputs": [],
   "source": []
  },
  {
   "cell_type": "markdown",
   "id": "8425e297-4b25-44a1-9104-900239806ca7",
   "metadata": {},
   "source": [
    "## Python variable: (variable = identifier = object)"
   ]
  },
  {
   "cell_type": "markdown",
   "id": "65666e9e-75b4-4c5e-a500-0b212a4c1d43",
   "metadata": {},
   "source": [
    "# Variable --> Variable is like a labeled box where we can store data.\n",
    "\n",
    "* Ex --> If we have a labeled box name 'age' and we put the number 26 in it.\n",
    "\n",
    "# age = 26\n",
    "\n",
    "* when we write this python will creates a box(variable) with name age and stores 26 in that box(variable)\n",
    "* This process to create a variable and store a value into it is known as Declaration and \n",
    "* The process of setting its value for the first time is called initialization.\n"
   ]
  },
  {
   "cell_type": "code",
   "execution_count": 11,
   "id": "1279c006-77d9-4a6d-aad4-d008a3aca639",
   "metadata": {},
   "outputs": [
    {
     "data": {
      "text/plain": [
       "int"
      ]
     },
     "execution_count": 11,
     "metadata": {},
     "output_type": "execute_result"
    }
   ],
   "source": [
    "#Syntax of python --> variablename = value\n",
    "i = 10 #( i - variable and 10 is value) 10 is integer value\n",
    "type(a)#--int"
   ]
  },
  {
   "cell_type": "code",
   "execution_count": 1,
   "id": "30b435f5-c8b5-4672-a320-b6962afa33f1",
   "metadata": {},
   "outputs": [
    {
     "data": {
      "text/plain": [
       "9"
      ]
     },
     "execution_count": 1,
     "metadata": {},
     "output_type": "execute_result"
    }
   ],
   "source": [
    "va = 9\n",
    "va"
   ]
  },
  {
   "cell_type": "code",
   "execution_count": 2,
   "id": "eb0e5950-0d2a-4002-9319-fdf4314418d2",
   "metadata": {},
   "outputs": [
    {
     "data": {
      "text/plain": [
       "140713316619304"
      ]
     },
     "execution_count": 2,
     "metadata": {},
     "output_type": "execute_result"
    }
   ],
   "source": [
    "# id = address of the memory allocation\n",
    "id(va)"
   ]
  },
  {
   "cell_type": "raw",
   "id": "11387888-b943-4553-a261-442f50c118a5",
   "metadata": {},
   "source": []
  },
  {
   "cell_type": "markdown",
   "id": "7bd77d6c-333a-44f7-ab22-718d40d08aa0",
   "metadata": {},
   "source": [
    "## Python Variables Creation\n",
    "* varibale doesnt start with digit but it can end with digits\n",
    "* Vatriables are case sensitive\n",
    "* Special character is not allowed except underscore(_)\n",
    "* keywords or reserve words never be declare as variable(Total no of keywords are 35)"
   ]
  },
  {
   "cell_type": "code",
   "execution_count": 18,
   "id": "4fee181b-e7cc-400c-9c73-196c5769a754",
   "metadata": {},
   "outputs": [
    {
     "ename": "SyntaxError",
     "evalue": "invalid decimal literal (3195386917.py, line 1)",
     "output_type": "error",
     "traceback": [
      "\u001b[1;36m  Cell \u001b[1;32mIn[18], line 1\u001b[1;36m\u001b[0m\n\u001b[1;33m    1nit = 18\u001b[0m\n\u001b[1;37m    ^\u001b[0m\n\u001b[1;31mSyntaxError\u001b[0m\u001b[1;31m:\u001b[0m invalid decimal literal\n"
     ]
    }
   ],
   "source": [
    "1nit = 18\n",
    "1nit"
   ]
  },
  {
   "cell_type": "code",
   "execution_count": 5,
   "id": "1a177794-e253-4852-b063-5ea567995ef6",
   "metadata": {},
   "outputs": [
    {
     "data": {
      "text/plain": [
       "20"
      ]
     },
     "execution_count": 5,
     "metadata": {},
     "output_type": "execute_result"
    }
   ],
   "source": [
    "nit1 = 20\n",
    "nit1"
   ]
  },
  {
   "cell_type": "code",
   "execution_count": 7,
   "id": "9881fa65-b2e0-4b85-9bc1-7ecc49a45e54",
   "metadata": {},
   "outputs": [
    {
     "ename": "NameError",
     "evalue": "name 'NIT2' is not defined",
     "output_type": "error",
     "traceback": [
      "\u001b[1;31m---------------------------------------------------------------------------\u001b[0m",
      "\u001b[1;31mNameError\u001b[0m                                 Traceback (most recent call last)",
      "Cell \u001b[1;32mIn[7], line 2\u001b[0m\n\u001b[0;32m      1\u001b[0m nit2 \u001b[38;5;241m=\u001b[39m \u001b[38;5;241m19\u001b[39m\n\u001b[1;32m----> 2\u001b[0m NIT2\n",
      "\u001b[1;31mNameError\u001b[0m: name 'NIT2' is not defined"
     ]
    }
   ],
   "source": [
    "nit2 = 19\n",
    "NIT2"
   ]
  },
  {
   "cell_type": "code",
   "execution_count": 9,
   "id": "eb046b77-0b7a-4595-a792-df9fc8522960",
   "metadata": {},
   "outputs": [
    {
     "ename": "SyntaxError",
     "evalue": "invalid syntax (1118413444.py, line 1)",
     "output_type": "error",
     "traceback": [
      "\u001b[1;36m  Cell \u001b[1;32mIn[9], line 1\u001b[1;36m\u001b[0m\n\u001b[1;33m    v$ = 9\u001b[0m\n\u001b[1;37m     ^\u001b[0m\n\u001b[1;31mSyntaxError\u001b[0m\u001b[1;31m:\u001b[0m invalid syntax\n"
     ]
    }
   ],
   "source": [
    "v$ = 9\n",
    "v$"
   ]
  },
  {
   "cell_type": "code",
   "execution_count": 10,
   "id": "b0ee5bf7-4c28-4ea4-8df6-52033d9658fa",
   "metadata": {},
   "outputs": [
    {
     "data": {
      "text/plain": [
       "89"
      ]
     },
     "execution_count": 10,
     "metadata": {},
     "output_type": "execute_result"
    }
   ],
   "source": [
    "v_ = 89\n",
    "v_"
   ]
  },
  {
   "cell_type": "code",
   "execution_count": 128,
   "id": "9b3c1e79-b60e-418d-a52c-baa770659784",
   "metadata": {},
   "outputs": [
    {
     "name": "stdout",
     "output_type": "stream",
     "text": [
      "['False', 'None', 'True', 'and', 'as', 'assert', 'async', 'await', 'break', 'class', 'continue', 'def', 'del', 'elif', 'else', 'except', 'finally', 'for', 'from', 'global', 'if', 'import', 'in', 'is', 'lambda', 'nonlocal', 'not', 'or', 'pass', 'raise', 'return', 'try', 'while', 'with', 'yield']\n"
     ]
    }
   ],
   "source": [
    "import keyword\n",
    "print(keyword.kwlist)"
   ]
  },
  {
   "cell_type": "code",
   "execution_count": 12,
   "id": "2197bc32-23c0-4523-ad0f-afac10d560ea",
   "metadata": {},
   "outputs": [
    {
     "data": {
      "text/plain": [
       "35"
      ]
     },
     "execution_count": 12,
     "metadata": {},
     "output_type": "execute_result"
    }
   ],
   "source": [
    "len(keyword.kwlist)"
   ]
  },
  {
   "cell_type": "code",
   "execution_count": 13,
   "id": "629ed694-89bc-405b-a195-2f4920c3635b",
   "metadata": {},
   "outputs": [
    {
     "ename": "SyntaxError",
     "evalue": "invalid syntax (174527739.py, line 1)",
     "output_type": "error",
     "traceback": [
      "\u001b[1;36m  Cell \u001b[1;32mIn[13], line 1\u001b[1;36m\u001b[0m\n\u001b[1;33m    for  = 55\u001b[0m\n\u001b[1;37m         ^\u001b[0m\n\u001b[1;31mSyntaxError\u001b[0m\u001b[1;31m:\u001b[0m invalid syntax\n"
     ]
    }
   ],
   "source": [
    "for  = 55\n",
    "for"
   ]
  },
  {
   "cell_type": "code",
   "execution_count": 14,
   "id": "ad55764d-d756-407f-bc13-71b910a386bd",
   "metadata": {},
   "outputs": [
    {
     "data": {
      "text/plain": [
       "58"
      ]
     },
     "execution_count": 14,
     "metadata": {},
     "output_type": "execute_result"
    }
   ],
   "source": [
    "For = 58\n",
    "For"
   ]
  },
  {
   "cell_type": "code",
   "execution_count": 15,
   "id": "23d2ec97-5af1-4684-9493-001ef6ae18bd",
   "metadata": {},
   "outputs": [
    {
     "ename": "SyntaxError",
     "evalue": "invalid syntax (1364489644.py, line 1)",
     "output_type": "error",
     "traceback": [
      "\u001b[1;36m  Cell \u001b[1;32mIn[15], line 1\u001b[1;36m\u001b[0m\n\u001b[1;33m    def  = 90\u001b[0m\n\u001b[1;37m         ^\u001b[0m\n\u001b[1;31mSyntaxError\u001b[0m\u001b[1;31m:\u001b[0m invalid syntax\n"
     ]
    }
   ],
   "source": [
    "def  = 90\n",
    "def"
   ]
  },
  {
   "cell_type": "code",
   "execution_count": 17,
   "id": "3cd980d1-67db-4f58-8c75-365a2fee4d81",
   "metadata": {},
   "outputs": [
    {
     "data": {
      "text/plain": [
       "68"
      ]
     },
     "execution_count": 17,
     "metadata": {},
     "output_type": "execute_result"
    }
   ],
   "source": [
    "Def = 68\n",
    "Def "
   ]
  },
  {
   "cell_type": "markdown",
   "id": "144d7b86-a29f-4717-b75f-8706bea705fc",
   "metadata": {},
   "source": [
    "## Declaring a variable\n",
    "* There are many different types of variables in python. The type of a variable is defined by the kind of value it stores.\n",
    "\n",
    "### Some variable types in Python are as follows"
   ]
  },
  {
   "cell_type": "code",
   "execution_count": 1,
   "id": "b59f8318-836b-4663-a645-8d0680a04e71",
   "metadata": {},
   "outputs": [],
   "source": [
    "# Numeric varaible --> Holds integers and decimal values\n",
    "age = 24\n",
    "temperature = 98.5\n",
    "\n",
    "# String variable --> Stores a sequence of character enclosed in single or double quotes\n",
    "name = 'aniket'\n",
    "message = \"Hello, Aniket!\"\n",
    "\n",
    "# Boolean variables --> Only holds the value True and False\n",
    "is_true = True\n",
    "is_false = False\n",
    "\n",
    "# List variable --> Stores a collection of item, which can be of different types.\n",
    "numbers = [1,2,3,6,7]\n",
    "fruits = ['apple','banana','cherry']\n",
    "\n",
    "# tuple variable\n",
    "cordinates = (10,20)\n",
    "\n",
    "# Dictionary Variable\n",
    "person = {'name': 'Aniket','Age':25}\n",
    "\n",
    "# Set variables\n",
    "unique_number = {1,2,4}\n",
    "\n",
    "# None variables\n",
    "empty_value = None"
   ]
  },
  {
   "cell_type": "markdown",
   "id": "e314c8d2-3295-45e6-884d-e72e645b5805",
   "metadata": {},
   "source": [
    "# Task\n",
    "\n",
    "### Write a programm which does this -->\n",
    "* There is a variable name number having value 20 in editor\n",
    "* use the print command to uptput the value of (number - 1)"
   ]
  },
  {
   "cell_type": "code",
   "execution_count": 2,
   "id": "9adb5bfb-e331-4e31-bcbd-c0f5b6a322d5",
   "metadata": {},
   "outputs": [
    {
     "name": "stdout",
     "output_type": "stream",
     "text": [
      "19\n"
     ]
    }
   ],
   "source": [
    "number = 20\n",
    "print(number - 1)"
   ]
  },
  {
   "cell_type": "markdown",
   "id": "dbb7b62f-6215-40b3-9039-b76fdda48bcb",
   "metadata": {},
   "source": [
    "## Properties of variable\n",
    "\n",
    "* variable is a labeled box which can store many different types of values. We can also change the value of variable in our code"
   ]
  },
  {
   "cell_type": "markdown",
   "id": "0c4934c3-a745-4ee4-9b0a-deb23d2e68a5",
   "metadata": {},
   "source": [
    "# Task\n",
    "* There is some code written in editor to print code chef\n",
    "* but the variable names are not following the rule, can you spot the mistake and fix it"
   ]
  },
  {
   "cell_type": "code",
   "execution_count": null,
   "id": "9c26941d-6bdd-4ad8-b697-74a57fb10ba3",
   "metadata": {},
   "outputs": [],
   "source": []
  },
  {
   "cell_type": "code",
   "execution_count": null,
   "id": "ecbd8ae2-615d-48ad-8507-bf4a908a82a5",
   "metadata": {},
   "outputs": [],
   "source": []
  },
  {
   "cell_type": "code",
   "execution_count": null,
   "id": "55f92299-3ed4-4a08-9531-82d4fa93a13e",
   "metadata": {},
   "outputs": [],
   "source": []
  },
  {
   "cell_type": "markdown",
   "id": "4959c04d-2c8a-4b76-9b84-172505434ba7",
   "metadata": {},
   "source": [
    "\n",
    "# print"
   ]
  },
  {
   "cell_type": "code",
   "execution_count": 20,
   "id": "d54a7f87-8981-4f9f-9966-a770bab24c56",
   "metadata": {},
   "outputs": [
    {
     "name": "stdout",
     "output_type": "stream",
     "text": [
      "5\n",
      "6\n",
      "8\n"
     ]
    }
   ],
   "source": [
    "a = 5\n",
    "b = 6\n",
    "c = 8\n",
    "print(a)\n",
    "print(b)\n",
    "print(c)"
   ]
  },
  {
   "cell_type": "markdown",
   "id": "0cda7387-7783-4937-8168-a8f44756347d",
   "metadata": {},
   "source": [
    "* If user has only 1 variable ( print is not allowed)\n",
    "* If user has more than 1 variable ( print is  allowed)"
   ]
  },
  {
   "cell_type": "code",
   "execution_count": 21,
   "id": "2448d9c0-52a6-488d-940d-8441dde2d36c",
   "metadata": {},
   "outputs": [
    {
     "data": {
      "text/plain": [
       "'3.11.5 | packaged by Anaconda, Inc. | (main, Sep 11 2023, 13:26:23) [MSC v.1916 64 bit (AMD64)]'"
      ]
     },
     "execution_count": 21,
     "metadata": {},
     "output_type": "execute_result"
    }
   ],
   "source": [
    "import sys\n",
    "sys.version"
   ]
  },
  {
   "cell_type": "code",
   "execution_count": 1,
   "id": "180b906f-b03e-4d8e-967e-ba55f76e7918",
   "metadata": {},
   "outputs": [
    {
     "name": "stdout",
     "output_type": "stream",
     "text": [
      "26\n"
     ]
    }
   ],
   "source": [
    "age = 26\n",
    "print(age)"
   ]
  },
  {
   "cell_type": "code",
   "execution_count": 2,
   "id": "ecc4d4ff-174a-4ab4-b076-8f7d00404326",
   "metadata": {},
   "outputs": [
    {
     "name": "stdout",
     "output_type": "stream",
     "text": [
      "aniket\n"
     ]
    }
   ],
   "source": [
    "name = 'aniket'\n",
    "print(name)"
   ]
  },
  {
   "cell_type": "code",
   "execution_count": 3,
   "id": "4e6c14f2-4b50-4b73-848a-b472a7148c5e",
   "metadata": {},
   "outputs": [
    {
     "name": "stdout",
     "output_type": "stream",
     "text": [
      "True\n"
     ]
    }
   ],
   "source": [
    "is_active = True\n",
    "print(is_active)"
   ]
  },
  {
   "cell_type": "code",
   "execution_count": 4,
   "id": "bd4b2127-ae17-49b6-ba16-1b292d1883de",
   "metadata": {},
   "outputs": [
    {
     "data": {
      "text/plain": [
       "199.99"
      ]
     },
     "execution_count": 4,
     "metadata": {},
     "output_type": "execute_result"
    }
   ],
   "source": [
    "price = 199.99\n",
    "price"
   ]
  },
  {
   "cell_type": "code",
   "execution_count": 5,
   "id": "3937916c-a57b-42b5-a9ff-8fffca468060",
   "metadata": {},
   "outputs": [
    {
     "name": "stdout",
     "output_type": "stream",
     "text": [
      "15\n"
     ]
    }
   ],
   "source": [
    "a = 5\n",
    "b = 10\n",
    "\n",
    "print(a+b)"
   ]
  },
  {
   "cell_type": "code",
   "execution_count": 7,
   "id": "a5f2e60d-423a-4a2c-8c2b-fc714c1acfff",
   "metadata": {},
   "outputs": [
    {
     "data": {
      "text/plain": [
       "'Aniket  Kumar'"
      ]
     },
     "execution_count": 7,
     "metadata": {},
     "output_type": "execute_result"
    }
   ],
   "source": [
    "first_name = 'Aniket'\n",
    "lst_name = 'Kumar'\n",
    "\n",
    "full_name = first_name + '  ' + lst_name\n",
    "full_name"
   ]
  },
  {
   "cell_type": "code",
   "execution_count": 9,
   "id": "6871feaf-1254-4868-8a36-cc43d568bac4",
   "metadata": {},
   "outputs": [
    {
     "name": "stdout",
     "output_type": "stream",
     "text": [
      "50\n"
     ]
    }
   ],
   "source": [
    "length = 10\n",
    "width = 5\n",
    "\n",
    "area = length * width \n",
    "print(area)\n"
   ]
  },
  {
   "cell_type": "markdown",
   "id": "53ce643f-0ea1-4024-b30a-81347b798bab",
   "metadata": {},
   "source": [
    "# Tasks\n",
    "### Addition of variables\n",
    "\n",
    "* Declare two variable a and b\n",
    "* Assign the value 25 to a and 20 to b.\n",
    "* Output the sum of and b to the console\n"
   ]
  },
  {
   "cell_type": "code",
   "execution_count": 6,
   "id": "c3e6bf6d-a655-4aff-ba6e-0342b8b7d664",
   "metadata": {},
   "outputs": [
    {
     "name": "stdout",
     "output_type": "stream",
     "text": [
      "45\n"
     ]
    }
   ],
   "source": [
    "a = 25\n",
    "b = 20\n",
    "\n",
    "print(a + b)"
   ]
  },
  {
   "cell_type": "markdown",
   "id": "70337a74-4dfc-41e1-9c64-277cac3ee243",
   "metadata": {},
   "source": [
    "### Area Of rectangle\n",
    "* Write a programme which does this\n",
    "* Find out and display the area of a rectangle of sides 45 and 76 respectively.\n",
    "* Declare variables length , width and area and assign the relevant values to them.\n",
    "* output the value of variable area\n",
    "  "
   ]
  },
  {
   "cell_type": "code",
   "execution_count": 7,
   "id": "81fb563a-25f8-4e4f-b788-f211c3eb858d",
   "metadata": {},
   "outputs": [
    {
     "name": "stdout",
     "output_type": "stream",
     "text": [
      "3420\n"
     ]
    }
   ],
   "source": [
    "length = 45\n",
    "width = 76\n",
    "\n",
    "area_of_rectangle = length * width\n",
    "print(area_of_rectangle)"
   ]
  },
  {
   "cell_type": "markdown",
   "id": "6104fcc6-4ae4-44c9-9c00-80b1cddaf1a8",
   "metadata": {},
   "source": [
    "# 16th April"
   ]
  },
  {
   "cell_type": "markdown",
   "id": "7167a3e6-02bf-4925-b272-47b24bbd715a",
   "metadata": {},
   "source": [
    "# Datatypes -->\n",
    "    - Integer datatypes\n",
    "    - float datatypes\n",
    "    - Bool datatypes\n",
    "    - Complex datatypes"
   ]
  },
  {
   "cell_type": "raw",
   "id": "2db6a757-f4eb-444f-a18d-7833348ed2ff",
   "metadata": {},
   "source": [
    "Integer datatypes"
   ]
  },
  {
   "cell_type": "code",
   "execution_count": 14,
   "id": "91801b73-9730-4516-b7c4-50ccbdf3aa5e",
   "metadata": {},
   "outputs": [
    {
     "name": "stdout",
     "output_type": "stream",
     "text": [
      "45\n",
      "<class 'int'>\n"
     ]
    }
   ],
   "source": [
    "i =  45\n",
    "print(i)\n",
    "print(type(i))"
   ]
  },
  {
   "cell_type": "code",
   "execution_count": 17,
   "id": "3ece6a74-801f-42d0-b377-1f5dde191de0",
   "metadata": {},
   "outputs": [
    {
     "name": "stdout",
     "output_type": "stream",
     "text": [
      "110.5\n",
      "<class 'float'>\n"
     ]
    }
   ],
   "source": [
    "# Float Datatypes\n",
    "petrol = 110.5\n",
    "print(petrol)\n",
    "print(type(petrol))"
   ]
  },
  {
   "cell_type": "code",
   "execution_count": 20,
   "id": "ce10da8d-83d9-48d2-828e-294e2411efa1",
   "metadata": {},
   "outputs": [
    {
     "ename": "TypeError",
     "evalue": "cannot unpack non-iterable int object",
     "output_type": "error",
     "traceback": [
      "\u001b[1;31m---------------------------------------------------------------------------\u001b[0m",
      "\u001b[1;31mTypeError\u001b[0m                                 Traceback (most recent call last)",
      "Cell \u001b[1;32mIn[20], line 1\u001b[0m\n\u001b[1;32m----> 1\u001b[0m i1,i2 \u001b[38;5;241m=\u001b[39m \u001b[38;5;241m10\u001b[39m\n",
      "\u001b[1;31mTypeError\u001b[0m: cannot unpack non-iterable int object"
     ]
    }
   ],
   "source": [
    "i1,i2 = 10 "
   ]
  },
  {
   "cell_type": "code",
   "execution_count": null,
   "id": "026c385f-e810-488d-b774-f4a78cdd57d4",
   "metadata": {},
   "outputs": [],
   "source": [
    "i1,i2 = 10 , 20"
   ]
  },
  {
   "cell_type": "code",
   "execution_count": 24,
   "id": "2a1d0aff-8762-485a-9504-786d8bbc553e",
   "metadata": {},
   "outputs": [
    {
     "name": "stdout",
     "output_type": "stream",
     "text": [
      "10\n",
      "20\n",
      "30\n",
      "-10\n",
      "200\n",
      "0.5\n"
     ]
    }
   ],
   "source": [
    "print(i1)\n",
    "print(i2)\n",
    "print(i1 + i2)\n",
    "print(i1 - i2)\n",
    "print(i1 * i2)\n",
    "print(i1 / i2)"
   ]
  },
  {
   "cell_type": "markdown",
   "id": "88fa58b5-e260-4eea-82cc-084d26312b44",
   "metadata": {},
   "source": [
    "# Task\n",
    "* Write a programme which does the following\n",
    "* Find the area of a circle which radius is 8.9. Take pi - 3.14\n",
    "* Declare variable radius, pi and area and assign the relevent values to them.\n",
    "* Output the area you dont need to output any another text\n",
    "\n",
    "*Note:- Formula for the area of the circle is pi * radiu * radius"
   ]
  },
  {
   "cell_type": "code",
   "execution_count": 8,
   "id": "877eba5e-d003-48cb-8010-c8d7d2374cd9",
   "metadata": {},
   "outputs": [
    {
     "name": "stdout",
     "output_type": "stream",
     "text": [
      "248.71940000000004\n"
     ]
    }
   ],
   "source": [
    "radius = 8.9\n",
    "pi = 3.14\n",
    "\n",
    "area = pi * radius * radius\n",
    "print(area)"
   ]
  },
  {
   "cell_type": "markdown",
   "id": "0755f43f-2a3b-4982-8560-afd74e7570c2",
   "metadata": {},
   "source": [
    "# String Datatypes --> It is used to store a seuquence of characters, i.e.text\n",
    "* String values are surrounded by single or double quotes\n",
    "* Python doesn't care about whether we use single or double quotes.\n",
    "* define ''|\" \"|\"\"\" \"\"\"(Multiline comments)\n",
    "\n"
   ]
  },
  {
   "cell_type": "code",
   "execution_count": null,
   "id": "ca75fb58-9e95-45ab-963d-f8d806dfa9a2",
   "metadata": {},
   "outputs": [],
   "source": [
    "# For example --> Both the below codes will do the same thing:\n",
    "sent1 = 'I am learning Datascience'\n",
    "sent2 = \"I am learning Datascience\""
   ]
  },
  {
   "cell_type": "markdown",
   "id": "de7e2496-e0f9-41b5-9195-58cf82ef0a17",
   "metadata": {},
   "source": [
    "# Task\n",
    "* Write a programm which does the following\n",
    "* Declare two variable a and b\n",
    "* Assign Learning to a and is fun! to b."
   ]
  },
  {
   "cell_type": "code",
   "execution_count": 12,
   "id": "8751a882-abc3-490e-942d-c2230409c1f9",
   "metadata": {},
   "outputs": [
    {
     "name": "stdout",
     "output_type": "stream",
     "text": [
      "Learning is fun!\n"
     ]
    }
   ],
   "source": [
    "a = \"Learning \"\n",
    "b = \"is fun!\"\n",
    "\n",
    "print( a + b)"
   ]
  },
  {
   "cell_type": "code",
   "execution_count": null,
   "id": "c9aac8dd-3463-4700-abff-15da42fcd556",
   "metadata": {},
   "outputs": [],
   "source": []
  },
  {
   "cell_type": "code",
   "execution_count": 25,
   "id": "095d11ac-7391-44cb-8a0b-b6f3e3d6f714",
   "metadata": {},
   "outputs": [
    {
     "ename": "NameError",
     "evalue": "name 'nareshit' is not defined",
     "output_type": "error",
     "traceback": [
      "\u001b[1;31m---------------------------------------------------------------------------\u001b[0m",
      "\u001b[1;31mNameError\u001b[0m                                 Traceback (most recent call last)",
      "Cell \u001b[1;32mIn[25], line 1\u001b[0m\n\u001b[1;32m----> 1\u001b[0m s \u001b[38;5;241m=\u001b[39m nareshit\n",
      "\u001b[1;31mNameError\u001b[0m: name 'nareshit' is not defined"
     ]
    }
   ],
   "source": [
    "s = nareshit"
   ]
  },
  {
   "cell_type": "code",
   "execution_count": 28,
   "id": "3e6dbe17-9f4a-48e5-a6ca-74c0d0f478ec",
   "metadata": {},
   "outputs": [
    {
     "name": "stdout",
     "output_type": "stream",
     "text": [
      "aniket\n"
     ]
    }
   ],
   "source": [
    "s = 'aniket'\n",
    "print(s)"
   ]
  },
  {
   "cell_type": "code",
   "execution_count": 27,
   "id": "9d4a7d0a-5030-467e-8b09-c832ab98499d",
   "metadata": {},
   "outputs": [
    {
     "data": {
      "text/plain": [
       "str"
      ]
     },
     "execution_count": 27,
     "metadata": {},
     "output_type": "execute_result"
    }
   ],
   "source": [
    "type(s)"
   ]
  },
  {
   "cell_type": "code",
   "execution_count": 29,
   "id": "513bba5c-287e-4d75-9cc7-55b5779a1428",
   "metadata": {},
   "outputs": [
    {
     "data": {
      "text/plain": [
       "'Aniket'"
      ]
     },
     "execution_count": 29,
     "metadata": {},
     "output_type": "execute_result"
    }
   ],
   "source": [
    "s1 = \"Aniket\"\n",
    "s1"
   ]
  },
  {
   "cell_type": "code",
   "execution_count": 32,
   "id": "d5f338a1-2924-40f4-a630-fa5eaae50052",
   "metadata": {},
   "outputs": [
    {
     "data": {
      "text/plain": [
       "'naresh it technology\\n            datascience, ai student --6 month course'"
      ]
     },
     "execution_count": 32,
     "metadata": {},
     "output_type": "execute_result"
    }
   ],
   "source": [
    "s2  = '''naresh it technology\n",
    "            datascience, ai student --6 month course'''\n",
    "s2"
   ]
  },
  {
   "cell_type": "code",
   "execution_count": 34,
   "id": "48f1ca5e-97c4-4324-bad8-7b9d6f3c2714",
   "metadata": {},
   "outputs": [],
   "source": [
    "# String indexing --> Forward and backword indexing\n",
    "s = 'nareshit'"
   ]
  },
  {
   "cell_type": "code",
   "execution_count": 35,
   "id": "49d12a1c-0bcf-4acd-94e4-1380c38345d0",
   "metadata": {},
   "outputs": [
    {
     "name": "stdout",
     "output_type": "stream",
     "text": [
      "n\n",
      "e\n",
      "t\n"
     ]
    }
   ],
   "source": [
    "print(s[0])\n",
    "print(s[-1])\n",
    "print(s[3])"
   ]
  },
  {
   "cell_type": "code",
   "execution_count": 38,
   "id": "c9cf8205-8a20-4537-bb3d-d04ce81ecf9d",
   "metadata": {},
   "outputs": [
    {
     "name": "stdout",
     "output_type": "stream",
     "text": [
      "nareshit\n",
      "res\n"
     ]
    }
   ],
   "source": [
    "# String slicing\n",
    "print(s[:])\n",
    "print(s[2:5])"
   ]
  },
  {
   "cell_type": "markdown",
   "id": "9450b1c1-5985-4280-a50b-dd0557b01325",
   "metadata": {},
   "source": [
    "# 17th April"
   ]
  },
  {
   "cell_type": "code",
   "execution_count": 39,
   "id": "0e1c8a18-6576-4a9d-8c81-a11d221883e7",
   "metadata": {},
   "outputs": [
    {
     "data": {
      "text/plain": [
       "True"
      ]
     },
     "execution_count": 39,
     "metadata": {},
     "output_type": "execute_result"
    }
   ],
   "source": [
    "# Boolean --> (True,False)\n",
    "True"
   ]
  },
  {
   "cell_type": "code",
   "execution_count": 40,
   "id": "98b14123-6cc0-4881-96d0-0afbc68e76bd",
   "metadata": {},
   "outputs": [
    {
     "data": {
      "text/plain": [
       "False"
      ]
     },
     "execution_count": 40,
     "metadata": {},
     "output_type": "execute_result"
    }
   ],
   "source": [
    "False"
   ]
  },
  {
   "cell_type": "code",
   "execution_count": 42,
   "id": "ddacd3e1-9252-4743-9263-9204d5c3d5ed",
   "metadata": {},
   "outputs": [],
   "source": [
    "b = True\n",
    "b1 = False"
   ]
  },
  {
   "cell_type": "code",
   "execution_count": 43,
   "id": "7453b680-c75e-4101-b1f3-b70973db50cd",
   "metadata": {},
   "outputs": [
    {
     "data": {
      "text/plain": [
       "True"
      ]
     },
     "execution_count": 43,
     "metadata": {},
     "output_type": "execute_result"
    }
   ],
   "source": [
    "b"
   ]
  },
  {
   "cell_type": "code",
   "execution_count": 44,
   "id": "009e3caf-eabb-47e2-ae99-42a8519e1b0b",
   "metadata": {},
   "outputs": [
    {
     "data": {
      "text/plain": [
       "False"
      ]
     },
     "execution_count": 44,
     "metadata": {},
     "output_type": "execute_result"
    }
   ],
   "source": [
    "b1 "
   ]
  },
  {
   "cell_type": "code",
   "execution_count": 45,
   "id": "d950faa0-5d27-4b1a-b600-35777cc7b506",
   "metadata": {},
   "outputs": [
    {
     "data": {
      "text/plain": [
       "1"
      ]
     },
     "execution_count": 45,
     "metadata": {},
     "output_type": "execute_result"
    }
   ],
   "source": [
    "b + b1 # (1 + 0 = 1)"
   ]
  },
  {
   "cell_type": "code",
   "execution_count": 47,
   "id": "5fc4f511-8d8b-46a3-9469-ffbd2bd68f88",
   "metadata": {},
   "outputs": [
    {
     "name": "stdout",
     "output_type": "stream",
     "text": [
      "0\n",
      "1\n",
      "0.0\n",
      "0\n"
     ]
    }
   ],
   "source": [
    "print(b * b1) # (1 * 0 = 0)\n",
    "print(b - b1) # (1 - 0 = 1)\n",
    "print(b1 / b) # (1 / 0 = 0.0) float division\n",
    "print(b1 // b) ## (1  // = 0) int division"
   ]
  },
  {
   "cell_type": "markdown",
   "id": "178901b6-d8f0-4ba6-b824-646b0f24508d",
   "metadata": {},
   "source": [
    "# Complex --> a + ij\n",
    "* real + imaginary* 1j\n",
    "* Datatype we can use motre math opearion"
   ]
  },
  {
   "cell_type": "code",
   "execution_count": null,
   "id": "b24d549d-6dc6-4bd5-8343-6a13c20c5d23",
   "metadata": {},
   "outputs": [],
   "source": [
    "a =  real part \n",
    "b =  imaginary part\n",
    "c = square root of -1"
   ]
  },
  {
   "cell_type": "code",
   "execution_count": 50,
   "id": "4c438639-59c0-4aa0-8a27-9d68fc13303b",
   "metadata": {},
   "outputs": [
    {
     "data": {
      "text/plain": [
       "(10+20j)"
      ]
     },
     "execution_count": 50,
     "metadata": {},
     "output_type": "execute_result"
    }
   ],
   "source": [
    "c1  = 10 + 20j\n",
    "c1"
   ]
  },
  {
   "cell_type": "code",
   "execution_count": 58,
   "id": "c64211a5-13c2-4b89-9a62-dacc80a55633",
   "metadata": {},
   "outputs": [
    {
     "ename": "SyntaxError",
     "evalue": "invalid decimal literal (3777439605.py, line 1)",
     "output_type": "error",
     "traceback": [
      "\u001b[1;36m  Cell \u001b[1;32mIn[58], line 1\u001b[1;36m\u001b[0m\n\u001b[1;33m    C = 10 + 30a\u001b[0m\n\u001b[1;37m              ^\u001b[0m\n\u001b[1;31mSyntaxError\u001b[0m\u001b[1;31m:\u001b[0m invalid decimal literal\n"
     ]
    }
   ],
   "source": [
    "C = 10 + 30a"
   ]
  },
  {
   "cell_type": "code",
   "execution_count": 51,
   "id": "ce43ae7d-d7ab-40ee-9cca-1719414c1d65",
   "metadata": {},
   "outputs": [
    {
     "data": {
      "text/plain": [
       "complex"
      ]
     },
     "execution_count": 51,
     "metadata": {},
     "output_type": "execute_result"
    }
   ],
   "source": [
    "type(c1)"
   ]
  },
  {
   "cell_type": "code",
   "execution_count": 54,
   "id": "a9d31335-3e38-409c-a899-21afc8b43988",
   "metadata": {},
   "outputs": [
    {
     "data": {
      "text/plain": [
       "10.0"
      ]
     },
     "execution_count": 54,
     "metadata": {},
     "output_type": "execute_result"
    }
   ],
   "source": [
    "c1.real"
   ]
  },
  {
   "cell_type": "code",
   "execution_count": 55,
   "id": "9f20c05e-4fbb-4c26-8b3d-3cada10420fa",
   "metadata": {},
   "outputs": [
    {
     "data": {
      "text/plain": [
       "20.0"
      ]
     },
     "execution_count": 55,
     "metadata": {},
     "output_type": "execute_result"
    }
   ],
   "source": [
    "c1.imag"
   ]
  },
  {
   "cell_type": "code",
   "execution_count": 56,
   "id": "7673af04-c91b-4628-b0c1-f0661663283d",
   "metadata": {},
   "outputs": [
    {
     "data": {
      "text/plain": [
       "<function complex.conjugate()>"
      ]
     },
     "execution_count": 56,
     "metadata": {},
     "output_type": "execute_result"
    }
   ],
   "source": [
    "c1.conjugate"
   ]
  },
  {
   "cell_type": "code",
   "execution_count": 59,
   "id": "4c99f92b-6c59-4b43-832b-cc7269475e53",
   "metadata": {},
   "outputs": [
    {
     "data": {
      "text/plain": [
       "(3+5j)"
      ]
     },
     "execution_count": 59,
     "metadata": {},
     "output_type": "execute_result"
    }
   ],
   "source": [
    "c2 = 3 + 5j\n",
    "c2"
   ]
  },
  {
   "cell_type": "code",
   "execution_count": 61,
   "id": "3b1598ec-9d4d-4f29-b28d-c084df8bef03",
   "metadata": {},
   "outputs": [
    {
     "name": "stdout",
     "output_type": "stream",
     "text": [
      "(10+20j)\n",
      "(3+5j)\n"
     ]
    }
   ],
   "source": [
    "print(c1)\n",
    "print(c2)"
   ]
  },
  {
   "cell_type": "code",
   "execution_count": 60,
   "id": "8db0aee2-4ecf-4cbb-bdf9-45686e5c947b",
   "metadata": {},
   "outputs": [
    {
     "name": "stdout",
     "output_type": "stream",
     "text": [
      "(13+25j)\n"
     ]
    }
   ],
   "source": [
    "print(c1 + c2)"
   ]
  },
  {
   "cell_type": "raw",
   "id": "39ba3636-b6f0-4e7d-abd9-74c396605783",
   "metadata": {},
   "source": [
    "python function alwyas ends with ():\n",
    "\n",
    "fam3():--> Define the fam3 function without argument or without parameter\n",
    "fam1(d,m): --> Define the fam1 function with 2 argument or with  2 parameter\n",
    "fam2(d,m,s,d): Define the fam2 function with 4 argument or with  4 parameter\n",
    "\n",
    "1bhk(sand,bricks,labour,came,iron, sqt)--> 6 parameters"
   ]
  },
  {
   "cell_type": "markdown",
   "id": "6e7e85e5-3bfa-4303-a590-c99656fcadc5",
   "metadata": {},
   "source": [
    "# Python type casting "
   ]
  },
  {
   "cell_type": "markdown",
   "id": "a3914325-1865-4373-80cb-facf627960c7",
   "metadata": {},
   "source": [
    "### Type casting or Type Conversion"
   ]
  },
  {
   "cell_type": "code",
   "execution_count": 62,
   "id": "82cbc352-e415-414d-ae9c-9ce33bc53a51",
   "metadata": {},
   "outputs": [
    {
     "data": {
      "text/plain": [
       "3"
      ]
     },
     "execution_count": 62,
     "metadata": {},
     "output_type": "execute_result"
    }
   ],
   "source": [
    "# Convert float datatypes into integers                            \n",
    "int(3.4)"
   ]
  },
  {
   "cell_type": "code",
   "execution_count": 65,
   "id": "3579f2ee-e098-4579-ad85-18c640fa5292",
   "metadata": {},
   "outputs": [
    {
     "data": {
      "text/plain": [
       "5"
      ]
     },
     "execution_count": 65,
     "metadata": {},
     "output_type": "execute_result"
    }
   ],
   "source": [
    "int(5.5)"
   ]
  },
  {
   "cell_type": "code",
   "execution_count": 66,
   "id": "934efb5e-b640-4118-b216-7d6e3870b3c9",
   "metadata": {},
   "outputs": [
    {
     "data": {
      "text/plain": [
       "1"
      ]
     },
     "execution_count": 66,
     "metadata": {},
     "output_type": "execute_result"
    }
   ],
   "source": [
    "# Bool to int\n",
    "int(True)"
   ]
  },
  {
   "cell_type": "code",
   "execution_count": 67,
   "id": "c8d6589e-2f77-4cf3-9c8a-42d87cf90e41",
   "metadata": {},
   "outputs": [
    {
     "ename": "TypeError",
     "evalue": "int() can't convert non-string with explicit base",
     "output_type": "error",
     "traceback": [
      "\u001b[1;31m---------------------------------------------------------------------------\u001b[0m",
      "\u001b[1;31mTypeError\u001b[0m                                 Traceback (most recent call last)",
      "Cell \u001b[1;32mIn[67], line 1\u001b[0m\n\u001b[1;32m----> 1\u001b[0m \u001b[38;5;28mint\u001b[39m(\u001b[38;5;28;01mTrue\u001b[39;00m,\u001b[38;5;28;01mFalse\u001b[39;00m)\n",
      "\u001b[1;31mTypeError\u001b[0m: int() can't convert non-string with explicit base"
     ]
    }
   ],
   "source": [
    "int(True,False) # only one argument required"
   ]
  },
  {
   "cell_type": "code",
   "execution_count": 68,
   "id": "eac49600-0981-4828-bfae-1596d4ec4030",
   "metadata": {},
   "outputs": [
    {
     "data": {
      "text/plain": [
       "0"
      ]
     },
     "execution_count": 68,
     "metadata": {},
     "output_type": "execute_result"
    }
   ],
   "source": [
    "int(False)"
   ]
  },
  {
   "cell_type": "code",
   "execution_count": 74,
   "id": "819352f9-1c29-461f-b269-595d8a6d6c9f",
   "metadata": {},
   "outputs": [
    {
     "name": "stdout",
     "output_type": "stream",
     "text": [
      "3\n",
      "1\n",
      "10\n"
     ]
    }
   ],
   "source": [
    "print(int(3.4))\n",
    "print(int(True))\n",
    "print(int('10'))"
   ]
  },
  {
   "cell_type": "code",
   "execution_count": 75,
   "id": "e69853f7-2d1d-45de-a36f-bedf797d8340",
   "metadata": {},
   "outputs": [
    {
     "ename": "TypeError",
     "evalue": "int() argument must be a string, a bytes-like object or a real number, not 'complex'",
     "output_type": "error",
     "traceback": [
      "\u001b[1;31m---------------------------------------------------------------------------\u001b[0m",
      "\u001b[1;31mTypeError\u001b[0m                                 Traceback (most recent call last)",
      "Cell \u001b[1;32mIn[75], line 1\u001b[0m\n\u001b[1;32m----> 1\u001b[0m \u001b[38;5;28mprint\u001b[39m(\u001b[38;5;28mint\u001b[39m(\u001b[38;5;241m10\u001b[39m\u001b[38;5;241m+\u001b[39m\u001b[38;5;241m20\u001b[39mj))\n",
      "\u001b[1;31mTypeError\u001b[0m: int() argument must be a string, a bytes-like object or a real number, not 'complex'"
     ]
    }
   ],
   "source": [
    "print(int(10+20j)) # From int typecasting int to complex is not possible"
   ]
  },
  {
   "cell_type": "code",
   "execution_count": 76,
   "id": "8c018470-ff11-4eff-85be-2f0c843f7c00",
   "metadata": {},
   "outputs": [
    {
     "ename": "ValueError",
     "evalue": "invalid literal for int() with base 10: 'ten'",
     "output_type": "error",
     "traceback": [
      "\u001b[1;31m---------------------------------------------------------------------------\u001b[0m",
      "\u001b[1;31mValueError\u001b[0m                                Traceback (most recent call last)",
      "Cell \u001b[1;32mIn[76], line 1\u001b[0m\n\u001b[1;32m----> 1\u001b[0m \u001b[38;5;28mint\u001b[39m(\u001b[38;5;124m'\u001b[39m\u001b[38;5;124mten\u001b[39m\u001b[38;5;124m'\u001b[39m)\n",
      "\u001b[1;31mValueError\u001b[0m: invalid literal for int() with base 10: 'ten'"
     ]
    }
   ],
   "source": [
    "int('ten') # in string only number string are allowed not alphabetical string"
   ]
  },
  {
   "cell_type": "code",
   "execution_count": null,
   "id": "90f44091-a77c-4fc5-abc0-635155e3746a",
   "metadata": {},
   "outputs": [],
   "source": [
    "# From all other datatypes to integers"
   ]
  },
  {
   "cell_type": "markdown",
   "id": "af075f36-ca22-46f4-8737-7f42cf220852",
   "metadata": {},
   "source": [
    "# VS-Code Extensions List"
   ]
  },
  {
   "cell_type": "raw",
   "id": "ae714008-99d1-47fe-9bfa-f615c04deb48",
   "metadata": {},
   "source": [
    "autoDocstring\n",
    "Arepl\n",
    "cline\n",
    "code runner\n",
    "github coplit\n",
    "gitlens\n",
    "intellicode\n",
    "jupyter notebook\n",
    "markdownlint\n",
    "python\n",
    "pdf viewer\n",
    "Python image preview\n",
    "Python Extension Pack\n",
    "YAML\n",
    "office viewer"
   ]
  },
  {
   "cell_type": "markdown",
   "id": "b82413c5-2673-4567-82a5-287bbd6c9c8b",
   "metadata": {},
   "source": [
    "# 18th April"
   ]
  },
  {
   "cell_type": "code",
   "execution_count": 1,
   "id": "421279c4-327e-4b92-9db4-514e7e0b8385",
   "metadata": {},
   "outputs": [
    {
     "data": {
      "text/plain": [
       "23.0"
      ]
     },
     "execution_count": 1,
     "metadata": {},
     "output_type": "execute_result"
    }
   ],
   "source": [
    "# From int to float \n",
    "float(23)"
   ]
  },
  {
   "cell_type": "code",
   "execution_count": 2,
   "id": "9f154c29-229b-4904-b176-b70cd004666a",
   "metadata": {},
   "outputs": [
    {
     "data": {
      "text/plain": [
       "1.0"
      ]
     },
     "execution_count": 2,
     "metadata": {},
     "output_type": "execute_result"
    }
   ],
   "source": [
    "#from bool  to float \n",
    "float(True)"
   ]
  },
  {
   "cell_type": "code",
   "execution_count": 3,
   "id": "7c2a9186-bbec-4cf3-bc70-ced781798e4b",
   "metadata": {},
   "outputs": [
    {
     "data": {
      "text/plain": [
       "0.0"
      ]
     },
     "execution_count": 3,
     "metadata": {},
     "output_type": "execute_result"
    }
   ],
   "source": [
    "float(False)"
   ]
  },
  {
   "cell_type": "code",
   "execution_count": 7,
   "id": "69984223-2987-4c39-9598-4907b006688f",
   "metadata": {},
   "outputs": [
    {
     "ename": "TypeError",
     "evalue": "float() argument must be a string or a real number, not 'complex'",
     "output_type": "error",
     "traceback": [
      "\u001b[1;31m---------------------------------------------------------------------------\u001b[0m",
      "\u001b[1;31mTypeError\u001b[0m                                 Traceback (most recent call last)",
      "Cell \u001b[1;32mIn[7], line 2\u001b[0m\n\u001b[0;32m      1\u001b[0m \u001b[38;5;66;03m# Complex to float typecasting is not allowed\u001b[39;00m\n\u001b[1;32m----> 2\u001b[0m \u001b[38;5;28mfloat\u001b[39m(\u001b[38;5;241m5\u001b[39m \u001b[38;5;241m+\u001b[39m \u001b[38;5;241m10\u001b[39mj)\n",
      "\u001b[1;31mTypeError\u001b[0m: float() argument must be a string or a real number, not 'complex'"
     ]
    }
   ],
   "source": [
    "# Complex to float typecasting is not allowed\n",
    "float(5 + 10j)"
   ]
  },
  {
   "cell_type": "code",
   "execution_count": 5,
   "id": "e43c10e9-b9af-48d0-add9-7a60d4a0b218",
   "metadata": {},
   "outputs": [
    {
     "data": {
      "text/plain": [
       "10.0"
      ]
     },
     "execution_count": 5,
     "metadata": {},
     "output_type": "execute_result"
    }
   ],
   "source": [
    "# from string to float\n",
    "float('10')"
   ]
  },
  {
   "cell_type": "code",
   "execution_count": 6,
   "id": "1a59c9d0-537f-4dcf-ab54-9b5d951f5f02",
   "metadata": {},
   "outputs": [
    {
     "ename": "ValueError",
     "evalue": "could not convert string to float: 'ten'",
     "output_type": "error",
     "traceback": [
      "\u001b[1;31m---------------------------------------------------------------------------\u001b[0m",
      "\u001b[1;31mValueError\u001b[0m                                Traceback (most recent call last)",
      "Cell \u001b[1;32mIn[6], line 1\u001b[0m\n\u001b[1;32m----> 1\u001b[0m \u001b[38;5;28mfloat\u001b[39m(\u001b[38;5;124m'\u001b[39m\u001b[38;5;124mten\u001b[39m\u001b[38;5;124m'\u001b[39m)\n",
      "\u001b[1;31mValueError\u001b[0m: could not convert string to float: 'ten'"
     ]
    }
   ],
   "source": [
    "float('ten') # only numeric string is allowed"
   ]
  },
  {
   "cell_type": "markdown",
   "id": "9957499a-ae88-4f48-ae7f-ac6176001135",
   "metadata": {},
   "source": [
    "### From other dataypes to float except complex & 'string text'"
   ]
  },
  {
   "cell_type": "code",
   "execution_count": 9,
   "id": "a813fe66-63ea-44b8-b352-2a3a3ce45c49",
   "metadata": {},
   "outputs": [
    {
     "data": {
      "text/plain": [
       "(10+0j)"
      ]
     },
     "execution_count": 9,
     "metadata": {},
     "output_type": "execute_result"
    }
   ],
   "source": [
    "# Int to complex\n",
    "complex(10)"
   ]
  },
  {
   "cell_type": "code",
   "execution_count": 10,
   "id": "8d19e167-8325-41d0-8d2b-527e7a0f3925",
   "metadata": {},
   "outputs": [
    {
     "data": {
      "text/plain": [
       "(10+20j)"
      ]
     },
     "execution_count": 10,
     "metadata": {},
     "output_type": "execute_result"
    }
   ],
   "source": [
    "complex(10,20)"
   ]
  },
  {
   "cell_type": "code",
   "execution_count": 11,
   "id": "8bd75f9e-1642-4248-9581-75cd7bbf330f",
   "metadata": {},
   "outputs": [
    {
     "ename": "TypeError",
     "evalue": "complex() takes at most 2 arguments (3 given)",
     "output_type": "error",
     "traceback": [
      "\u001b[1;31m---------------------------------------------------------------------------\u001b[0m",
      "\u001b[1;31mTypeError\u001b[0m                                 Traceback (most recent call last)",
      "Cell \u001b[1;32mIn[11], line 1\u001b[0m\n\u001b[1;32m----> 1\u001b[0m \u001b[38;5;28mcomplex\u001b[39m(\u001b[38;5;241m10\u001b[39m,\u001b[38;5;241m20\u001b[39m,\u001b[38;5;241m30\u001b[39m)\n",
      "\u001b[1;31mTypeError\u001b[0m: complex() takes at most 2 arguments (3 given)"
     ]
    }
   ],
   "source": [
    "complex(10,20,30) # only two arguments required "
   ]
  },
  {
   "cell_type": "code",
   "execution_count": 12,
   "id": "c865d720-85d7-49c9-9cd3-2ae55e283661",
   "metadata": {},
   "outputs": [
    {
     "data": {
      "text/plain": [
       "(1+0j)"
      ]
     },
     "execution_count": 12,
     "metadata": {},
     "output_type": "execute_result"
    }
   ],
   "source": [
    "complex(True)"
   ]
  },
  {
   "cell_type": "code",
   "execution_count": 13,
   "id": "1aac0afe-79a8-4280-a7e7-fa326e28d737",
   "metadata": {},
   "outputs": [
    {
     "data": {
      "text/plain": [
       "0j"
      ]
     },
     "execution_count": 13,
     "metadata": {},
     "output_type": "execute_result"
    }
   ],
   "source": [
    "complex(False)"
   ]
  },
  {
   "cell_type": "code",
   "execution_count": 14,
   "id": "e357f187-341e-45c9-b109-4ce648638324",
   "metadata": {},
   "outputs": [
    {
     "data": {
      "text/plain": [
       "(1+0j)"
      ]
     },
     "execution_count": 14,
     "metadata": {},
     "output_type": "execute_result"
    }
   ],
   "source": [
    "complex(True,False)"
   ]
  },
  {
   "cell_type": "code",
   "execution_count": 15,
   "id": "60b38bf8-1adc-4930-8640-77207c2d10d2",
   "metadata": {},
   "outputs": [
    {
     "data": {
      "text/plain": [
       "1j"
      ]
     },
     "execution_count": 15,
     "metadata": {},
     "output_type": "execute_result"
    }
   ],
   "source": [
    "complex(False,True)"
   ]
  },
  {
   "cell_type": "code",
   "execution_count": 16,
   "id": "3384f0b4-8a7c-46c2-b24a-5fe086554f1b",
   "metadata": {},
   "outputs": [
    {
     "data": {
      "text/plain": [
       "(20.5+0j)"
      ]
     },
     "execution_count": 16,
     "metadata": {},
     "output_type": "execute_result"
    }
   ],
   "source": [
    "complex(20.5)"
   ]
  },
  {
   "cell_type": "code",
   "execution_count": 17,
   "id": "de4b8028-8913-4531-8c85-4bfbbe9852b5",
   "metadata": {},
   "outputs": [
    {
     "data": {
      "text/plain": [
       "(10+0j)"
      ]
     },
     "execution_count": 17,
     "metadata": {},
     "output_type": "execute_result"
    }
   ],
   "source": [
    "# From string to complex\n",
    "complex('10')"
   ]
  },
  {
   "cell_type": "code",
   "execution_count": 18,
   "id": "f4a1e3cb-c65c-4594-814f-a8b58512087b",
   "metadata": {},
   "outputs": [
    {
     "data": {
      "text/plain": [
       "(3.2+5.6j)"
      ]
     },
     "execution_count": 18,
     "metadata": {},
     "output_type": "execute_result"
    }
   ],
   "source": [
    "# From float to complex\n",
    "complex(3.2,5.6)"
   ]
  },
  {
   "cell_type": "markdown",
   "id": "caf1c025-c435-43ad-bd6d-6a713c7dcf29",
   "metadata": {},
   "source": [
    "### From other datatypes to complex and text string is not possible"
   ]
  },
  {
   "cell_type": "code",
   "execution_count": 19,
   "id": "2085de44-ebff-4ba1-9403-79562aad237c",
   "metadata": {},
   "outputs": [
    {
     "data": {
      "text/plain": [
       "True"
      ]
     },
     "execution_count": 19,
     "metadata": {},
     "output_type": "execute_result"
    }
   ],
   "source": [
    "bool(10) # Non-zero returns true and zero returns False"
   ]
  },
  {
   "cell_type": "code",
   "execution_count": 23,
   "id": "760cd133-a9a0-4031-bf48-7a080dbdba17",
   "metadata": {},
   "outputs": [
    {
     "data": {
      "text/plain": [
       "False"
      ]
     },
     "execution_count": 23,
     "metadata": {},
     "output_type": "execute_result"
    }
   ],
   "source": [
    "bool(0)"
   ]
  },
  {
   "cell_type": "code",
   "execution_count": 22,
   "id": "148b87da-4491-4293-a99f-6811ebee219a",
   "metadata": {},
   "outputs": [
    {
     "data": {
      "text/plain": [
       "True"
      ]
     },
     "execution_count": 22,
     "metadata": {},
     "output_type": "execute_result"
    }
   ],
   "source": [
    "bool(3.2)"
   ]
  },
  {
   "cell_type": "code",
   "execution_count": 21,
   "id": "9aab2c8f-e3ca-41f4-85be-8b424635aa8c",
   "metadata": {},
   "outputs": [
    {
     "data": {
      "text/plain": [
       "True"
      ]
     },
     "execution_count": 21,
     "metadata": {},
     "output_type": "execute_result"
    }
   ],
   "source": [
    "bool(10+10j)"
   ]
  },
  {
   "cell_type": "code",
   "execution_count": 24,
   "id": "d4d6eddd-d929-4286-be08-5e8b6b806acd",
   "metadata": {},
   "outputs": [
    {
     "data": {
      "text/plain": [
       "False"
      ]
     },
     "execution_count": 24,
     "metadata": {},
     "output_type": "execute_result"
    }
   ],
   "source": [
    "bool(0.0)"
   ]
  },
  {
   "cell_type": "code",
   "execution_count": 25,
   "id": "5ec472c7-8b93-4657-a049-ae9101fc0a0c",
   "metadata": {},
   "outputs": [
    {
     "data": {
      "text/plain": [
       "True"
      ]
     },
     "execution_count": 25,
     "metadata": {},
     "output_type": "execute_result"
    }
   ],
   "source": [
    "bool('10')"
   ]
  },
  {
   "cell_type": "code",
   "execution_count": 28,
   "id": "b5fb89ae-d4a1-4c6b-aa10-76039daa175f",
   "metadata": {},
   "outputs": [
    {
     "data": {
      "text/plain": [
       "True"
      ]
     },
     "execution_count": 28,
     "metadata": {},
     "output_type": "execute_result"
    }
   ],
   "source": [
    "bool('python')"
   ]
  },
  {
   "cell_type": "code",
   "execution_count": 26,
   "id": "5740247c-b05c-4b93-9c8a-00060bc95f7c",
   "metadata": {},
   "outputs": [
    {
     "data": {
      "text/plain": [
       "False"
      ]
     },
     "execution_count": 26,
     "metadata": {},
     "output_type": "execute_result"
    }
   ],
   "source": [
    "bool(0+0j)"
   ]
  },
  {
   "cell_type": "code",
   "execution_count": 29,
   "id": "746aff66-b3ee-488e-9f60-db3af770da43",
   "metadata": {},
   "outputs": [
    {
     "data": {
      "text/plain": [
       "True"
      ]
     },
     "execution_count": 29,
     "metadata": {},
     "output_type": "execute_result"
    }
   ],
   "source": [
    "bool(_)"
   ]
  },
  {
   "cell_type": "code",
   "execution_count": 30,
   "id": "03d35526-5a74-4629-b824-36ca87603760",
   "metadata": {},
   "outputs": [
    {
     "data": {
      "text/plain": [
       "False"
      ]
     },
     "execution_count": 30,
     "metadata": {},
     "output_type": "execute_result"
    }
   ],
   "source": [
    "bool( )"
   ]
  },
  {
   "cell_type": "markdown",
   "id": "15b35137-9679-4d1a-a657-015d02f88ee0",
   "metadata": {},
   "source": [
    "# String indexing & Slicing, advanced slicing"
   ]
  },
  {
   "cell_type": "code",
   "execution_count": 4,
   "id": "6892f7a4-9c18-42a3-b2af-de496aeca95a",
   "metadata": {},
   "outputs": [],
   "source": [
    "s1 = 'HELLOPYTHON'"
   ]
  },
  {
   "cell_type": "code",
   "execution_count": 5,
   "id": "7130a243-9722-4bd3-8227-3757bfa6c86b",
   "metadata": {},
   "outputs": [
    {
     "data": {
      "text/plain": [
       "'HELLOPYTHON'"
      ]
     },
     "execution_count": 5,
     "metadata": {},
     "output_type": "execute_result"
    }
   ],
   "source": [
    "s1[:] # : Slicing"
   ]
  },
  {
   "cell_type": "code",
   "execution_count": 6,
   "id": "31ba752d-9757-425a-bbcf-63ebd68a438b",
   "metadata": {},
   "outputs": [
    {
     "name": "stdout",
     "output_type": "stream",
     "text": [
      "H\n",
      "E\n",
      "L\n",
      "L\n",
      "O\n",
      "P\n",
      "Y\n",
      "T\n",
      "H\n",
      "O\n",
      "N\n"
     ]
    }
   ],
   "source": [
    "for i in s1:\n",
    "    print(i)"
   ]
  },
  {
   "cell_type": "code",
   "execution_count": 7,
   "id": "26ea2f51-5371-467a-b493-f4b4d7410425",
   "metadata": {},
   "outputs": [
    {
     "data": {
      "text/plain": [
       "'HELLOPYTHON'"
      ]
     },
     "execution_count": 7,
     "metadata": {},
     "output_type": "execute_result"
    }
   ],
   "source": [
    "s1"
   ]
  },
  {
   "cell_type": "code",
   "execution_count": 8,
   "id": "0bca93b3-83dd-4fd7-827e-b2a2844c76f7",
   "metadata": {},
   "outputs": [
    {
     "data": {
      "text/plain": [
       "'H'"
      ]
     },
     "execution_count": 8,
     "metadata": {},
     "output_type": "execute_result"
    }
   ],
   "source": [
    "s1[0]"
   ]
  },
  {
   "cell_type": "code",
   "execution_count": 9,
   "id": "d106fa85-47c5-4c79-bc16-fbf1f29e66c3",
   "metadata": {},
   "outputs": [
    {
     "data": {
      "text/plain": [
       "'E'"
      ]
     },
     "execution_count": 9,
     "metadata": {},
     "output_type": "execute_result"
    }
   ],
   "source": [
    "s1[1]"
   ]
  },
  {
   "cell_type": "code",
   "execution_count": 10,
   "id": "a850d74a-58d8-4e20-995b-3a93d2d6d6f4",
   "metadata": {},
   "outputs": [
    {
     "ename": "IndexError",
     "evalue": "string index out of range",
     "output_type": "error",
     "traceback": [
      "\u001b[1;31m---------------------------------------------------------------------------\u001b[0m",
      "\u001b[1;31mIndexError\u001b[0m                                Traceback (most recent call last)",
      "Cell \u001b[1;32mIn[10], line 1\u001b[0m\n\u001b[1;32m----> 1\u001b[0m s1[\u001b[38;5;241m20\u001b[39m]\n",
      "\u001b[1;31mIndexError\u001b[0m: string index out of range"
     ]
    }
   ],
   "source": [
    "s1[20]"
   ]
  },
  {
   "cell_type": "code",
   "execution_count": 11,
   "id": "c661facf-6fd5-47d3-8170-c003e17072dd",
   "metadata": {},
   "outputs": [
    {
     "data": {
      "text/plain": [
       "'N'"
      ]
     },
     "execution_count": 11,
     "metadata": {},
     "output_type": "execute_result"
    }
   ],
   "source": [
    "s1[10]"
   ]
  },
  {
   "cell_type": "code",
   "execution_count": 12,
   "id": "af38b1d2-7ca4-4ccd-bcff-245749a29045",
   "metadata": {},
   "outputs": [
    {
     "data": {
      "text/plain": [
       "'N'"
      ]
     },
     "execution_count": 12,
     "metadata": {},
     "output_type": "execute_result"
    }
   ],
   "source": [
    "s1[-1]"
   ]
  },
  {
   "cell_type": "code",
   "execution_count": 13,
   "id": "d87e3d2b-198b-45c8-b43d-4e7d8907fa10",
   "metadata": {},
   "outputs": [
    {
     "data": {
      "text/plain": [
       "'T'"
      ]
     },
     "execution_count": 13,
     "metadata": {},
     "output_type": "execute_result"
    }
   ],
   "source": [
    "s1[-4]"
   ]
  },
  {
   "cell_type": "code",
   "execution_count": 14,
   "id": "58cf94ac-22ae-4054-a1d6-116c52772b75",
   "metadata": {},
   "outputs": [
    {
     "data": {
      "text/plain": [
       "'NOHTYPOLLEH'"
      ]
     },
     "execution_count": 14,
     "metadata": {},
     "output_type": "execute_result"
    }
   ],
   "source": [
    "s1[::-1]"
   ]
  },
  {
   "cell_type": "code",
   "execution_count": 15,
   "id": "29ea8d20-20da-4780-9b9e-f0fd4907b2e8",
   "metadata": {},
   "outputs": [
    {
     "data": {
      "text/plain": [
       "'HELLOPYTHON'"
      ]
     },
     "execution_count": 15,
     "metadata": {},
     "output_type": "execute_result"
    }
   ],
   "source": [
    "s1"
   ]
  },
  {
   "cell_type": "code",
   "execution_count": 16,
   "id": "df4f290a-e34e-4b03-8c67-5392d8411ebf",
   "metadata": {},
   "outputs": [
    {
     "data": {
      "text/plain": [
       "'HELLO'"
      ]
     },
     "execution_count": 16,
     "metadata": {},
     "output_type": "execute_result"
    }
   ],
   "source": [
    "s1[0:5]"
   ]
  },
  {
   "cell_type": "code",
   "execution_count": 17,
   "id": "938323e2-2316-4fae-b086-00b75c6c85fd",
   "metadata": {},
   "outputs": [
    {
     "data": {
      "text/plain": [
       "'HELLOPYTHO'"
      ]
     },
     "execution_count": 17,
     "metadata": {},
     "output_type": "execute_result"
    }
   ],
   "source": [
    "s1[0:-1]"
   ]
  },
  {
   "cell_type": "code",
   "execution_count": 18,
   "id": "94a413d3-e943-4631-ab89-7f1e2577569d",
   "metadata": {},
   "outputs": [
    {
     "data": {
      "text/plain": [
       "'HELLOPYTH'"
      ]
     },
     "execution_count": 18,
     "metadata": {},
     "output_type": "execute_result"
    }
   ],
   "source": [
    "s1[0:-2]"
   ]
  },
  {
   "cell_type": "code",
   "execution_count": 19,
   "id": "47103161-c3bc-4452-af30-659d2e8563d8",
   "metadata": {},
   "outputs": [
    {
     "data": {
      "text/plain": [
       "'ELLOPYTHON'"
      ]
     },
     "execution_count": 19,
     "metadata": {},
     "output_type": "execute_result"
    }
   ],
   "source": [
    "s1[1:20]"
   ]
  },
  {
   "cell_type": "code",
   "execution_count": 20,
   "id": "010a4ffb-6c47-4346-9f4d-155daf6b75a3",
   "metadata": {},
   "outputs": [
    {
     "data": {
      "text/plain": [
       "'HELLO'"
      ]
     },
     "execution_count": 20,
     "metadata": {},
     "output_type": "execute_result"
    }
   ],
   "source": [
    "s1[:5]"
   ]
  },
  {
   "cell_type": "code",
   "execution_count": 21,
   "id": "182a2de6-a8d2-4021-8f8a-a024c61dce1f",
   "metadata": {},
   "outputs": [
    {
     "data": {
      "text/plain": [
       "'PYTHON'"
      ]
     },
     "execution_count": 21,
     "metadata": {},
     "output_type": "execute_result"
    }
   ],
   "source": [
    "s1[5:]"
   ]
  },
  {
   "cell_type": "code",
   "execution_count": 22,
   "id": "f87f9825-81ce-46f7-9ecd-317a4604e1b3",
   "metadata": {},
   "outputs": [
    {
     "data": {
      "text/plain": [
       "'HELLOPYTHON'"
      ]
     },
     "execution_count": 22,
     "metadata": {},
     "output_type": "execute_result"
    }
   ],
   "source": [
    "s1"
   ]
  },
  {
   "cell_type": "code",
   "execution_count": 23,
   "id": "4a1e68de-7e4f-4187-bb1f-7bde355d8aed",
   "metadata": {},
   "outputs": [
    {
     "data": {
      "text/plain": [
       "'HLOYHN'"
      ]
     },
     "execution_count": 23,
     "metadata": {},
     "output_type": "execute_result"
    }
   ],
   "source": [
    "s1[0:11:2]"
   ]
  },
  {
   "cell_type": "code",
   "execution_count": 24,
   "id": "c1a957c8-d132-4f86-85dd-be9a91bbad35",
   "metadata": {},
   "outputs": [
    {
     "data": {
      "text/plain": [
       "'HPN'"
      ]
     },
     "execution_count": 24,
     "metadata": {},
     "output_type": "execute_result"
    }
   ],
   "source": [
    "s1[0:11:5]"
   ]
  },
  {
   "cell_type": "code",
   "execution_count": null,
   "id": "2badaf65-1e44-43f2-bef1-e9866183d60b",
   "metadata": {},
   "outputs": [],
   "source": []
  },
  {
   "cell_type": "markdown",
   "id": "d96b2044-e5fe-4121-84b0-ce88fb2759d7",
   "metadata": {},
   "source": [
    "# 21st April"
   ]
  },
  {
   "cell_type": "markdown",
   "id": "a688dbf4-a24b-4706-a17d-f0a379f0df9e",
   "metadata": {},
   "source": [
    "### Data Structure --> Collection of datatypes\n",
    "* Inbuilt Data structure\n",
    "* User defined Data structure"
   ]
  },
  {
   "cell_type": "raw",
   "id": "bcf3d7cd-37c6-4d4d-abe2-327a595c161d",
   "metadata": {},
   "source": [
    "In Datatype user can define only 1 value ex --> a = 10\n",
    "But in Data structure user can define more than on value ex --> a = 10,20,30\n",
    "matrix = collection of rows * column (Collection of datastructure)\n",
    "\n",
    "Inbuild or Build-in or Built-in"
   ]
  },
  {
   "cell_type": "markdown",
   "id": "158531d4-bd40-460e-a369-7de7724ad3e7",
   "metadata": {},
   "source": [
    "## Inbuilt data structure\n",
    "* List\n",
    "* Tuple\n",
    "* Set\n",
    "* Dictionary\n",
    "## User defined Datastructure\n",
    "* Stack\n",
    "* linked list\n",
    "* Array\n",
    "* Tree"
   ]
  },
  {
   "cell_type": "code",
   "execution_count": 25,
   "id": "2a7eb5f5-9d2a-49b6-9907-d046b0a945c9",
   "metadata": {},
   "outputs": [
    {
     "name": "stdout",
     "output_type": "stream",
     "text": [
      "<class 'int'>\n"
     ]
    }
   ],
   "source": [
    "i = 5\n",
    "print(type(i))"
   ]
  },
  {
   "cell_type": "code",
   "execution_count": 26,
   "id": "33296b20-9eaf-45d8-bc9f-84c3df71dcff",
   "metadata": {},
   "outputs": [
    {
     "data": {
      "text/plain": [
       "float"
      ]
     },
     "execution_count": 26,
     "metadata": {},
     "output_type": "execute_result"
    }
   ],
   "source": [
    "f = 5.5\n",
    "type(f)"
   ]
  },
  {
   "cell_type": "markdown",
   "id": "b7805832-e3cf-44d7-9e50-135aebc39224",
   "metadata": {},
   "source": [
    "# LIST \n",
    "* In Python, a list is a built-in dynamic sized array (automatically grows and shrinks). We can store all types of items (including another list) in a list\n",
    "* List can contain duplicate items.\r",
    "* List in Python are Mutable. Hence, we can modify, replace or delete the items.\r",
    "* List are ordered. It maintain the order of elements based on how they a added.\n",
    "* \n",
    "Accessing items in List can be done directly using their position (index, starting from 0."
   ]
  },
  {
   "cell_type": "code",
   "execution_count": 15,
   "id": "875e3845-e5eb-4f96-b2eb-12e42b094a55",
   "metadata": {},
   "outputs": [
    {
     "data": {
      "text/plain": [
       "[]"
      ]
     },
     "execution_count": 15,
     "metadata": {},
     "output_type": "execute_result"
    }
   ],
   "source": [
    "l = []\n",
    "l"
   ]
  },
  {
   "cell_type": "code",
   "execution_count": 16,
   "id": "c8ced98f-d35b-4878-b32b-4d72ad4e23ab",
   "metadata": {},
   "outputs": [
    {
     "data": {
      "text/plain": [
       "list"
      ]
     },
     "execution_count": 16,
     "metadata": {},
     "output_type": "execute_result"
    }
   ],
   "source": [
    "type(l)"
   ]
  },
  {
   "cell_type": "code",
   "execution_count": 17,
   "id": "b457145c-c630-4dd9-a1c3-8558fb0a4c44",
   "metadata": {},
   "outputs": [],
   "source": [
    "l.append(10)"
   ]
  },
  {
   "cell_type": "code",
   "execution_count": 18,
   "id": "403f9894-8667-4379-b137-2a78981fb919",
   "metadata": {},
   "outputs": [
    {
     "data": {
      "text/plain": [
       "[10]"
      ]
     },
     "execution_count": 18,
     "metadata": {},
     "output_type": "execute_result"
    }
   ],
   "source": [
    "l"
   ]
  },
  {
   "cell_type": "code",
   "execution_count": 19,
   "id": "8212ae11-01ff-4015-9ff0-b8e6575c3c00",
   "metadata": {},
   "outputs": [],
   "source": [
    "l.append(20)\n",
    "l.append(30)\n",
    "l.append(40)\n",
    "l.append(50)"
   ]
  },
  {
   "cell_type": "code",
   "execution_count": 20,
   "id": "b25cd52b-e4d0-46ad-abad-e185ba811712",
   "metadata": {},
   "outputs": [
    {
     "data": {
      "text/plain": [
       "[10, 20, 30, 40, 50]"
      ]
     },
     "execution_count": 20,
     "metadata": {},
     "output_type": "execute_result"
    }
   ],
   "source": [
    "l"
   ]
  },
  {
   "cell_type": "code",
   "execution_count": 21,
   "id": "f4bb4ba4-5937-47f3-a369-4f8f7a409209",
   "metadata": {},
   "outputs": [],
   "source": [
    "l.append(60)"
   ]
  },
  {
   "cell_type": "code",
   "execution_count": 22,
   "id": "b8f319ee-c5fc-49cc-b196-237d5ccfa20f",
   "metadata": {},
   "outputs": [
    {
     "data": {
      "text/plain": [
       "[10, 20, 30, 40, 50, 60]"
      ]
     },
     "execution_count": 22,
     "metadata": {},
     "output_type": "execute_result"
    }
   ],
   "source": [
    "l"
   ]
  },
  {
   "cell_type": "code",
   "execution_count": 23,
   "id": "3bdb6c2b-7384-4471-b85f-3d4659a9225a",
   "metadata": {},
   "outputs": [
    {
     "ename": "TypeError",
     "evalue": "list.append() takes exactly one argument (3 given)",
     "output_type": "error",
     "traceback": [
      "\u001b[1;31m---------------------------------------------------------------------------\u001b[0m",
      "\u001b[1;31mTypeError\u001b[0m                                 Traceback (most recent call last)",
      "Cell \u001b[1;32mIn[23], line 1\u001b[0m\n\u001b[1;32m----> 1\u001b[0m l\u001b[38;5;241m.\u001b[39mappend(\u001b[38;5;241m70\u001b[39m,\u001b[38;5;241m80\u001b[39m,\u001b[38;5;241m90\u001b[39m)\n",
      "\u001b[1;31mTypeError\u001b[0m: list.append() takes exactly one argument (3 given)"
     ]
    }
   ],
   "source": [
    "l.append(70,80,90) # only 1 argument required "
   ]
  },
  {
   "cell_type": "code",
   "execution_count": 24,
   "id": "9c141bad-1346-44bc-a0ca-5b13552b3dfd",
   "metadata": {},
   "outputs": [],
   "source": [
    "l.append(70)"
   ]
  },
  {
   "cell_type": "code",
   "execution_count": 25,
   "id": "0d5d18d9-a1e3-4701-892e-432bd3b10464",
   "metadata": {},
   "outputs": [
    {
     "data": {
      "text/plain": [
       "[10, 20, 30, 40, 50, 60, 70]"
      ]
     },
     "execution_count": 25,
     "metadata": {},
     "output_type": "execute_result"
    }
   ],
   "source": [
    "l"
   ]
  },
  {
   "cell_type": "code",
   "execution_count": 26,
   "id": "4173fe2c-1695-4cf9-b20e-9b663f3dadff",
   "metadata": {},
   "outputs": [],
   "source": [
    "l.append(10) # Duplicate is allowed in list"
   ]
  },
  {
   "cell_type": "code",
   "execution_count": 27,
   "id": "81cb0e4b-62df-4cca-b512-a92da9d7d89d",
   "metadata": {},
   "outputs": [
    {
     "data": {
      "text/plain": [
       "[10, 20, 30, 40, 50, 60, 70, 10]"
      ]
     },
     "execution_count": 27,
     "metadata": {},
     "output_type": "execute_result"
    }
   ],
   "source": [
    "l"
   ]
  },
  {
   "cell_type": "code",
   "execution_count": 41,
   "id": "a0c7aa8a-272a-4e77-8875-46ea97e6fd66",
   "metadata": {},
   "outputs": [
    {
     "data": {
      "text/plain": [
       "8"
      ]
     },
     "execution_count": 41,
     "metadata": {},
     "output_type": "execute_result"
    }
   ],
   "source": [
    "len(l)"
   ]
  },
  {
   "cell_type": "code",
   "execution_count": 42,
   "id": "d82cf4b0-a338-4f56-a981-4dcba84f3e96",
   "metadata": {},
   "outputs": [],
   "source": [
    "l1 = l.copy() # it will copy each information from list l"
   ]
  },
  {
   "cell_type": "code",
   "execution_count": 14,
   "id": "964428f9-e8c1-4d8a-b471-5c38848f99a3",
   "metadata": {},
   "outputs": [
    {
     "ename": "NameError",
     "evalue": "name 'l1' is not defined",
     "output_type": "error",
     "traceback": [
      "\u001b[1;31m---------------------------------------------------------------------------\u001b[0m",
      "\u001b[1;31mNameError\u001b[0m                                 Traceback (most recent call last)",
      "Cell \u001b[1;32mIn[14], line 1\u001b[0m\n\u001b[1;32m----> 1\u001b[0m l1\n",
      "\u001b[1;31mNameError\u001b[0m: name 'l1' is not defined"
     ]
    }
   ],
   "source": [
    "l1"
   ]
  },
  {
   "cell_type": "code",
   "execution_count": 44,
   "id": "f56408c1-89ea-47df-b926-c064de42b113",
   "metadata": {},
   "outputs": [],
   "source": [
    "l1.append(2.3)\n",
    "l1.append('nit')\n",
    "l1.append(1+2j)\n",
    "l1.append([1,2,3])"
   ]
  },
  {
   "cell_type": "code",
   "execution_count": 45,
   "id": "7f2b882c-e399-4aed-bd7b-2d41acd5fb54",
   "metadata": {},
   "outputs": [
    {
     "data": {
      "text/plain": [
       "[10, 20, 30, 40, 50, 60, 70, 10, 2.3, 'nit', (1+2j), [1, 2, 3]]"
      ]
     },
     "execution_count": 45,
     "metadata": {},
     "output_type": "execute_result"
    }
   ],
   "source": [
    "print(l)\n",
    "print(l1) # Nested List --> List inside the lsit "
   ]
  },
  {
   "cell_type": "code",
   "execution_count": 46,
   "id": "0e2b3f0a-33f1-4729-a5ec-c53be1728b35",
   "metadata": {},
   "outputs": [
    {
     "name": "stdout",
     "output_type": "stream",
     "text": [
      "8\n",
      "12\n"
     ]
    }
   ],
   "source": [
    "print(len(l))\n",
    "print(len(l1))"
   ]
  },
  {
   "cell_type": "code",
   "execution_count": 47,
   "id": "c3133231-7d6d-4568-ae76-faac0478f476",
   "metadata": {},
   "outputs": [
    {
     "data": {
      "text/plain": [
       "False"
      ]
     },
     "execution_count": 47,
     "metadata": {},
     "output_type": "execute_result"
    }
   ],
   "source": [
    "l == l1"
   ]
  },
  {
   "cell_type": "code",
   "execution_count": 48,
   "id": "274a57fc-439f-4466-817f-af6d1017e636",
   "metadata": {},
   "outputs": [],
   "source": [
    "l2 = l.copy()"
   ]
  },
  {
   "cell_type": "code",
   "execution_count": 49,
   "id": "2e0a549b-44be-4e82-a38f-d84567c0d79d",
   "metadata": {},
   "outputs": [
    {
     "data": {
      "text/plain": [
       "[10, 20, 30, 40, 50, 60, 70, 10]"
      ]
     },
     "execution_count": 49,
     "metadata": {},
     "output_type": "execute_result"
    }
   ],
   "source": [
    "l2"
   ]
  },
  {
   "cell_type": "code",
   "execution_count": 50,
   "id": "b5864ae3-7be5-49e2-9293-6a68ea67cdf0",
   "metadata": {},
   "outputs": [
    {
     "data": {
      "text/plain": [
       "True"
      ]
     },
     "execution_count": 50,
     "metadata": {},
     "output_type": "execute_result"
    }
   ],
   "source": [
    "l == l2"
   ]
  },
  {
   "cell_type": "code",
   "execution_count": 51,
   "id": "90b60b22-5f2c-4dde-b9c8-729ae6498a99",
   "metadata": {},
   "outputs": [
    {
     "name": "stdout",
     "output_type": "stream",
     "text": [
      "[10, 20, 30, 40, 50, 60, 70, 10]\n",
      "[10, 20, 30, 40, 50, 60, 70, 10, 2.3, 'nit', (1+2j), [1, 2, 3]]\n",
      "[10, 20, 30, 40, 50, 60, 70, 10]\n"
     ]
    }
   ],
   "source": [
    "print(l)\n",
    "print(l1)\n",
    "print(l2)"
   ]
  },
  {
   "cell_type": "code",
   "execution_count": 52,
   "id": "c0256570-9722-44fc-82b2-2aa950709f55",
   "metadata": {},
   "outputs": [
    {
     "data": {
      "text/plain": [
       "[10, 20, 30, 40, 50, 60, 70, 10]"
      ]
     },
     "execution_count": 52,
     "metadata": {},
     "output_type": "execute_result"
    }
   ],
   "source": [
    "l[:]"
   ]
  },
  {
   "cell_type": "code",
   "execution_count": 53,
   "id": "022c5a7e-2176-4f7f-8fd7-c272ff2d6ed5",
   "metadata": {},
   "outputs": [
    {
     "data": {
      "text/plain": [
       "10"
      ]
     },
     "execution_count": 53,
     "metadata": {},
     "output_type": "execute_result"
    }
   ],
   "source": [
    "l[0]"
   ]
  },
  {
   "cell_type": "code",
   "execution_count": 54,
   "id": "793cf176-8c64-403c-a69b-9c98ea51b030",
   "metadata": {},
   "outputs": [],
   "source": [
    "l[0] = 100 # list are mutable"
   ]
  },
  {
   "cell_type": "code",
   "execution_count": 55,
   "id": "59c9028b-320c-4226-b44f-d1dc51fbcdca",
   "metadata": {},
   "outputs": [
    {
     "data": {
      "text/plain": [
       "[100, 20, 30, 40, 50, 60, 70, 10]"
      ]
     },
     "execution_count": 55,
     "metadata": {},
     "output_type": "execute_result"
    }
   ],
   "source": [
    "l"
   ]
  },
  {
   "cell_type": "code",
   "execution_count": 56,
   "id": "20d86b53-42cf-4814-b260-c294509efd12",
   "metadata": {},
   "outputs": [],
   "source": [
    "l[-1] = 200"
   ]
  },
  {
   "cell_type": "code",
   "execution_count": 57,
   "id": "5a4fc368-773f-4d10-a7f2-738f2e6c40ae",
   "metadata": {},
   "outputs": [
    {
     "data": {
      "text/plain": [
       "[100, 20, 30, 40, 50, 60, 70, 200]"
      ]
     },
     "execution_count": 57,
     "metadata": {},
     "output_type": "execute_result"
    }
   ],
   "source": [
    "l"
   ]
  },
  {
   "cell_type": "code",
   "execution_count": 58,
   "id": "8bb54b90-5332-424e-a7d9-9da18c594200",
   "metadata": {},
   "outputs": [
    {
     "data": {
      "text/plain": [
       "[40, 50, 60, 70, 200]"
      ]
     },
     "execution_count": 58,
     "metadata": {},
     "output_type": "execute_result"
    }
   ],
   "source": [
    "l[3:]"
   ]
  },
  {
   "cell_type": "code",
   "execution_count": 59,
   "id": "34cca7d5-57be-43d5-a3cd-62c2d0e65e4c",
   "metadata": {},
   "outputs": [
    {
     "data": {
      "text/plain": [
       "[100, 20, 30, 40, 50, 60, 70, 200]"
      ]
     },
     "execution_count": 59,
     "metadata": {},
     "output_type": "execute_result"
    }
   ],
   "source": [
    "l"
   ]
  },
  {
   "cell_type": "code",
   "execution_count": 60,
   "id": "a0065a14-bfd6-4a88-b60b-b151e5fc4571",
   "metadata": {},
   "outputs": [
    {
     "ename": "IndexError",
     "evalue": "list index out of range",
     "output_type": "error",
     "traceback": [
      "\u001b[1;31m---------------------------------------------------------------------------\u001b[0m",
      "\u001b[1;31mIndexError\u001b[0m                                Traceback (most recent call last)",
      "Cell \u001b[1;32mIn[60], line 1\u001b[0m\n\u001b[1;32m----> 1\u001b[0m l[\u001b[38;5;241m10\u001b[39m]\n",
      "\u001b[1;31mIndexError\u001b[0m: list index out of range"
     ]
    }
   ],
   "source": [
    "l[10]"
   ]
  },
  {
   "cell_type": "code",
   "execution_count": 61,
   "id": "0cbb5700-3763-4eea-a21a-2be9c3dbe01e",
   "metadata": {},
   "outputs": [
    {
     "data": {
      "text/plain": [
       "[]"
      ]
     },
     "execution_count": 61,
     "metadata": {},
     "output_type": "execute_result"
    }
   ],
   "source": [
    "l[10:]"
   ]
  },
  {
   "cell_type": "code",
   "execution_count": 62,
   "id": "8f5a1000-3cb0-4301-9fbd-cbabaa52d825",
   "metadata": {},
   "outputs": [
    {
     "data": {
      "text/plain": [
       "[100, 20, 30, 40, 50, 60, 70, 200]"
      ]
     },
     "execution_count": 62,
     "metadata": {},
     "output_type": "execute_result"
    }
   ],
   "source": [
    "l[:10]"
   ]
  },
  {
   "cell_type": "code",
   "execution_count": 63,
   "id": "d113a476-813b-407d-8d8e-b7299f5d992b",
   "metadata": {},
   "outputs": [],
   "source": [
    "l2.clear()"
   ]
  },
  {
   "cell_type": "code",
   "execution_count": 64,
   "id": "5e94a27c-0ef1-483d-95be-94c21980308a",
   "metadata": {},
   "outputs": [
    {
     "data": {
      "text/plain": [
       "[]"
      ]
     },
     "execution_count": 64,
     "metadata": {},
     "output_type": "execute_result"
    }
   ],
   "source": [
    "l2"
   ]
  },
  {
   "cell_type": "code",
   "execution_count": 65,
   "id": "4cf949b7-94ac-41fc-821a-c76ac6abf7b6",
   "metadata": {},
   "outputs": [],
   "source": [
    "del l2"
   ]
  },
  {
   "cell_type": "code",
   "execution_count": 66,
   "id": "13988a61-89dd-48d7-90d2-c9af1f5177ec",
   "metadata": {},
   "outputs": [
    {
     "ename": "NameError",
     "evalue": "name 'l2' is not defined",
     "output_type": "error",
     "traceback": [
      "\u001b[1;31m---------------------------------------------------------------------------\u001b[0m",
      "\u001b[1;31mNameError\u001b[0m                                 Traceback (most recent call last)",
      "Cell \u001b[1;32mIn[66], line 1\u001b[0m\n\u001b[1;32m----> 1\u001b[0m l2\n",
      "\u001b[1;31mNameError\u001b[0m: name 'l2' is not defined"
     ]
    }
   ],
   "source": [
    "l2"
   ]
  },
  {
   "cell_type": "code",
   "execution_count": 67,
   "id": "463d68d6-76d8-40d7-9fe4-8023da16c7ed",
   "metadata": {},
   "outputs": [
    {
     "data": {
      "text/plain": [
       "[10, 20, 30, 40, 50, 60, 70, 10, 2.3, 'nit', (1+2j), [1, 2, 3]]"
      ]
     },
     "execution_count": 67,
     "metadata": {},
     "output_type": "execute_result"
    }
   ],
   "source": [
    "l1"
   ]
  },
  {
   "cell_type": "code",
   "execution_count": 68,
   "id": "69f2ffe3-2484-4e50-9dd2-06355220eaf4",
   "metadata": {},
   "outputs": [
    {
     "data": {
      "text/plain": [
       "12"
      ]
     },
     "execution_count": 68,
     "metadata": {},
     "output_type": "execute_result"
    }
   ],
   "source": [
    "len(l1)"
   ]
  },
  {
   "cell_type": "code",
   "execution_count": 71,
   "id": "373baaad-9c8d-4b53-8548-01304489207a",
   "metadata": {},
   "outputs": [
    {
     "data": {
      "text/plain": [
       "[10, 60, (1+2j)]"
      ]
     },
     "execution_count": 71,
     "metadata": {},
     "output_type": "execute_result"
    }
   ],
   "source": [
    "l1[0:13:5] # here 5 is steps count"
   ]
  },
  {
   "cell_type": "code",
   "execution_count": 72,
   "id": "9c89a9a2-6a0c-47e2-b30f-c49c3b49e7bd",
   "metadata": {},
   "outputs": [
    {
     "data": {
      "text/plain": [
       "[10, 40, 70, 'nit']"
      ]
     },
     "execution_count": 72,
     "metadata": {},
     "output_type": "execute_result"
    }
   ],
   "source": [
    "l1[0:11:3]"
   ]
  },
  {
   "cell_type": "code",
   "execution_count": 73,
   "id": "932428a3-8a4a-4c47-aedb-9b71a0059d0a",
   "metadata": {},
   "outputs": [
    {
     "data": {
      "text/plain": [
       "9"
      ]
     },
     "execution_count": 73,
     "metadata": {},
     "output_type": "execute_result"
    }
   ],
   "source": [
    "l1.index('nit')"
   ]
  },
  {
   "cell_type": "markdown",
   "id": "c85b58e3-e1a9-443d-ac1f-215f8bad5269",
   "metadata": {},
   "source": [
    "# 22nd April --> Day 4"
   ]
  },
  {
   "cell_type": "code",
   "execution_count": 34,
   "id": "273387ef-e5ec-4bc0-ac63-d1e080cb5ab0",
   "metadata": {},
   "outputs": [],
   "source": [
    "s = [100,20,30,40,50,60,70,200,80,90]"
   ]
  },
  {
   "cell_type": "code",
   "execution_count": 35,
   "id": "158cfe5a-f864-4702-9aec-23c6583bb4e3",
   "metadata": {},
   "outputs": [
    {
     "data": {
      "text/plain": [
       "80"
      ]
     },
     "execution_count": 35,
     "metadata": {},
     "output_type": "execute_result"
    }
   ],
   "source": [
    "s[8]"
   ]
  },
  {
   "cell_type": "code",
   "execution_count": 36,
   "id": "282325a6-2a74-4077-bd68-8cc7ab60fb65",
   "metadata": {},
   "outputs": [],
   "source": [
    "s1 = [10, 20, 30, 40, 50, 60, 70, 10, 2.3, 'nit', (1+2j), [1, 2, 3]]"
   ]
  },
  {
   "cell_type": "code",
   "execution_count": 38,
   "id": "63cb7dc3-915e-4417-82dd-6b7c189a409b",
   "metadata": {},
   "outputs": [
    {
     "data": {
      "text/plain": [
       "'n'"
      ]
     },
     "execution_count": 38,
     "metadata": {},
     "output_type": "execute_result"
    }
   ],
   "source": [
    "s1[9][0]"
   ]
  },
  {
   "cell_type": "code",
   "execution_count": 39,
   "id": "c5c6adbe-21ed-4f2c-8e8b-82f6837a93fc",
   "metadata": {},
   "outputs": [
    {
     "data": {
      "text/plain": [
       "2"
      ]
     },
     "execution_count": 39,
     "metadata": {},
     "output_type": "execute_result"
    }
   ],
   "source": [
    "s1.count(10)"
   ]
  },
  {
   "cell_type": "code",
   "execution_count": 40,
   "id": "05510a3b-0fad-4dac-a13b-710edf3b1ad5",
   "metadata": {},
   "outputs": [
    {
     "data": {
      "text/plain": [
       "1"
      ]
     },
     "execution_count": 40,
     "metadata": {},
     "output_type": "execute_result"
    }
   ],
   "source": [
    "s1.count(50)"
   ]
  },
  {
   "cell_type": "code",
   "execution_count": 41,
   "id": "9724edb4-ea83-4a15-9837-2b664836adb0",
   "metadata": {},
   "outputs": [],
   "source": [
    "s1.remove([1,2,3])"
   ]
  },
  {
   "cell_type": "code",
   "execution_count": 43,
   "id": "38ed4c86-e4d9-4969-a2bb-986dcc095359",
   "metadata": {},
   "outputs": [
    {
     "data": {
      "text/plain": [
       "[10, 20, 30, 40, 50, 60, 70, 10, 2.3, 'nit', (1+2j)]"
      ]
     },
     "execution_count": 43,
     "metadata": {},
     "output_type": "execute_result"
    }
   ],
   "source": [
    "s1"
   ]
  },
  {
   "cell_type": "code",
   "execution_count": 44,
   "id": "62be7170-15cb-4cbc-b654-6ecef1341bfc",
   "metadata": {},
   "outputs": [],
   "source": [
    "s1.remove(10)"
   ]
  },
  {
   "cell_type": "code",
   "execution_count": 45,
   "id": "fb1745e6-4ca9-4f05-ad04-a31a2c6d4470",
   "metadata": {},
   "outputs": [
    {
     "data": {
      "text/plain": [
       "[20, 30, 40, 50, 60, 70, 10, 2.3, 'nit', (1+2j)]"
      ]
     },
     "execution_count": 45,
     "metadata": {},
     "output_type": "execute_result"
    }
   ],
   "source": [
    "s1"
   ]
  },
  {
   "cell_type": "code",
   "execution_count": 48,
   "id": "334bea91-e211-4639-9fba-adf23f5821d5",
   "metadata": {},
   "outputs": [],
   "source": [
    "s1.insert(1,25)"
   ]
  },
  {
   "cell_type": "code",
   "execution_count": 49,
   "id": "b3267e09-0812-4067-9b3f-902c448d3d46",
   "metadata": {},
   "outputs": [
    {
     "data": {
      "text/plain": [
       "[20, 25, 30, 25, 40, 50, 60, 70, 10, 2.3, 'nit', (1+2j)]"
      ]
     },
     "execution_count": 49,
     "metadata": {},
     "output_type": "execute_result"
    }
   ],
   "source": [
    "s1"
   ]
  },
  {
   "cell_type": "code",
   "execution_count": 51,
   "id": "89f41716-31f0-4d73-919a-403b0c7056b2",
   "metadata": {},
   "outputs": [
    {
     "data": {
      "text/plain": [
       "[100, 20, 30, 40, 50, 60, 70, 200, 80, 90]"
      ]
     },
     "execution_count": 51,
     "metadata": {},
     "output_type": "execute_result"
    }
   ],
   "source": [
    "s"
   ]
  },
  {
   "cell_type": "code",
   "execution_count": 52,
   "id": "d9c34603-834d-4a36-aaf1-af0370480e73",
   "metadata": {},
   "outputs": [
    {
     "data": {
      "text/plain": [
       "90"
      ]
     },
     "execution_count": 52,
     "metadata": {},
     "output_type": "execute_result"
    }
   ],
   "source": [
    "s.pop()"
   ]
  },
  {
   "cell_type": "code",
   "execution_count": 53,
   "id": "e0601c75-7272-4afa-9889-904cd1a5949c",
   "metadata": {},
   "outputs": [
    {
     "data": {
      "text/plain": [
       "[100, 20, 30, 40, 50, 60, 70, 200, 80]"
      ]
     },
     "execution_count": 53,
     "metadata": {},
     "output_type": "execute_result"
    }
   ],
   "source": [
    "s"
   ]
  },
  {
   "cell_type": "code",
   "execution_count": 55,
   "id": "e5904091-aefc-47c3-987c-eca3ed091580",
   "metadata": {},
   "outputs": [],
   "source": [
    "s.remove(100)"
   ]
  },
  {
   "cell_type": "code",
   "execution_count": 56,
   "id": "4e05ed23-c426-4aca-b960-21f9f4303fd8",
   "metadata": {},
   "outputs": [
    {
     "data": {
      "text/plain": [
       "[20, 30, 40, 50, 60, 70, 200, 80]"
      ]
     },
     "execution_count": 56,
     "metadata": {},
     "output_type": "execute_result"
    }
   ],
   "source": [
    "s"
   ]
  },
  {
   "cell_type": "code",
   "execution_count": 57,
   "id": "2c677a1d-592b-4f60-ad4e-90eaa79905b4",
   "metadata": {},
   "outputs": [
    {
     "data": {
      "text/plain": [
       "20"
      ]
     },
     "execution_count": 57,
     "metadata": {},
     "output_type": "execute_result"
    }
   ],
   "source": [
    "s.pop(0)"
   ]
  },
  {
   "cell_type": "code",
   "execution_count": 61,
   "id": "ad736c34-72b6-4008-8bbe-2d8daf6ec8f3",
   "metadata": {},
   "outputs": [
    {
     "data": {
      "text/plain": [
       "[30, 40, 50, 60, 70, 200, 80]"
      ]
     },
     "execution_count": 61,
     "metadata": {},
     "output_type": "execute_result"
    }
   ],
   "source": [
    "s"
   ]
  },
  {
   "cell_type": "code",
   "execution_count": 62,
   "id": "d3d6895b-8e56-4317-8b84-bd327fd73758",
   "metadata": {},
   "outputs": [
    {
     "data": {
      "text/plain": [
       "7"
      ]
     },
     "execution_count": 62,
     "metadata": {},
     "output_type": "execute_result"
    }
   ],
   "source": [
    "len(s)"
   ]
  },
  {
   "cell_type": "code",
   "execution_count": 63,
   "id": "9b9eecba-6c5b-4b94-a02e-1c578dac2f05",
   "metadata": {},
   "outputs": [
    {
     "data": {
      "text/plain": [
       "[20, 25, 30, 25, 40, 50, 60, 70, 10, 2.3, 'nit', (1+2j)]"
      ]
     },
     "execution_count": 63,
     "metadata": {},
     "output_type": "execute_result"
    }
   ],
   "source": [
    "s1"
   ]
  },
  {
   "cell_type": "code",
   "execution_count": 64,
   "id": "5a1df8d7-ed22-47e8-91bb-9c9e16752780",
   "metadata": {},
   "outputs": [
    {
     "data": {
      "text/plain": [
       "12"
      ]
     },
     "execution_count": 64,
     "metadata": {},
     "output_type": "execute_result"
    }
   ],
   "source": [
    "len(s1)"
   ]
  },
  {
   "cell_type": "code",
   "execution_count": 65,
   "id": "caa15eeb-c214-4b17-8d3d-c1018b7cd27e",
   "metadata": {},
   "outputs": [],
   "source": [
    "s2 = s.copy()"
   ]
  },
  {
   "cell_type": "code",
   "execution_count": 67,
   "id": "caac9458-e34b-42f0-8933-0ae1dbb19301",
   "metadata": {},
   "outputs": [
    {
     "data": {
      "text/plain": [
       "True"
      ]
     },
     "execution_count": 67,
     "metadata": {},
     "output_type": "execute_result"
    }
   ],
   "source": [
    "s2 == s"
   ]
  },
  {
   "cell_type": "code",
   "execution_count": 90,
   "id": "e94712bd-5379-41a1-9f37-3cbbb8166691",
   "metadata": {},
   "outputs": [],
   "source": [
    "s.extend(s2) # Merge/concenate from one list to another list"
   ]
  },
  {
   "cell_type": "code",
   "execution_count": 69,
   "id": "41f780d3-2e7b-46cd-83ef-56805bc6f083",
   "metadata": {},
   "outputs": [
    {
     "data": {
      "text/plain": [
       "[30, 40, 50, 60, 70, 200, 80, 30, 40, 50, 60, 70, 200, 80]"
      ]
     },
     "execution_count": 69,
     "metadata": {},
     "output_type": "execute_result"
    }
   ],
   "source": [
    "s"
   ]
  },
  {
   "cell_type": "code",
   "execution_count": 78,
   "id": "1fceda27-6969-449f-bf3c-49f9bcfead93",
   "metadata": {},
   "outputs": [
    {
     "data": {
      "text/plain": [
       "[4, 5, 6]"
      ]
     },
     "execution_count": 78,
     "metadata": {},
     "output_type": "execute_result"
    }
   ],
   "source": [
    "s3 = [4,5,6]\n",
    "s3"
   ]
  },
  {
   "cell_type": "code",
   "execution_count": 79,
   "id": "0e494ab6-eac1-4f8d-a4f3-ea5bdce3b237",
   "metadata": {},
   "outputs": [
    {
     "data": {
      "text/plain": [
       "[1, 2]"
      ]
     },
     "execution_count": 79,
     "metadata": {},
     "output_type": "execute_result"
    }
   ],
   "source": [
    "s4 = [1,2]\n",
    "s4"
   ]
  },
  {
   "cell_type": "code",
   "execution_count": 80,
   "id": "2f41fe8d-a209-41bf-b2a0-6783781f396c",
   "metadata": {},
   "outputs": [],
   "source": [
    "s4.extend(s3)"
   ]
  },
  {
   "cell_type": "code",
   "execution_count": 81,
   "id": "db6cf955-a166-47f6-b5bf-1fab1c9eb7f7",
   "metadata": {},
   "outputs": [
    {
     "data": {
      "text/plain": [
       "[1, 2, 4, 5, 6]"
      ]
     },
     "execution_count": 81,
     "metadata": {},
     "output_type": "execute_result"
    }
   ],
   "source": [
    "s4"
   ]
  },
  {
   "cell_type": "code",
   "execution_count": 82,
   "id": "fae3502d-d9d9-4652-90ac-db61b3e2d7ad",
   "metadata": {},
   "outputs": [],
   "source": [
    "s4.reverse()"
   ]
  },
  {
   "cell_type": "code",
   "execution_count": 83,
   "id": "799c317b-f433-4ddd-a7ec-2cb0c307b54f",
   "metadata": {},
   "outputs": [
    {
     "data": {
      "text/plain": [
       "[6, 5, 4, 2, 1]"
      ]
     },
     "execution_count": 83,
     "metadata": {},
     "output_type": "execute_result"
    }
   ],
   "source": [
    "s4"
   ]
  },
  {
   "cell_type": "code",
   "execution_count": 91,
   "id": "f255061a-4c35-4459-9de5-a74c57672bfd",
   "metadata": {},
   "outputs": [],
   "source": [
    "s4.sort() # Ascending or descending(Reverse = True)"
   ]
  },
  {
   "cell_type": "code",
   "execution_count": 85,
   "id": "1c05702c-1b6c-40e5-bd3b-d571533cff37",
   "metadata": {},
   "outputs": [
    {
     "data": {
      "text/plain": [
       "[1, 2, 4, 5, 6]"
      ]
     },
     "execution_count": 85,
     "metadata": {},
     "output_type": "execute_result"
    }
   ],
   "source": [
    "s4"
   ]
  },
  {
   "cell_type": "code",
   "execution_count": 88,
   "id": "d8624a9c-2123-4e1e-b9eb-07ad881991bb",
   "metadata": {},
   "outputs": [],
   "source": [
    "s4.sort(reverse = True)"
   ]
  },
  {
   "cell_type": "code",
   "execution_count": 89,
   "id": "7382b827-9d46-471d-9e49-8b944a5225c2",
   "metadata": {},
   "outputs": [
    {
     "data": {
      "text/plain": [
       "[6, 5, 4, 2, 1]"
      ]
     },
     "execution_count": 89,
     "metadata": {},
     "output_type": "execute_result"
    }
   ],
   "source": [
    "s4"
   ]
  },
  {
   "cell_type": "markdown",
   "id": "49d8ce71-9903-4198-94c2-ccb9be115db6",
   "metadata": {},
   "source": [
    "# 23rd APRIL --> "
   ]
  },
  {
   "cell_type": "code",
   "execution_count": 92,
   "id": "9c0bdcf6-4625-446a-a7ef-00c1d3604fb6",
   "metadata": {},
   "outputs": [
    {
     "data": {
      "text/plain": [
       "['z', 'x', 'b', 'd']"
      ]
     },
     "execution_count": 92,
     "metadata": {},
     "output_type": "execute_result"
    }
   ],
   "source": [
    "L6 = ['z','x','b','d'] \n",
    "L6"
   ]
  },
  {
   "cell_type": "code",
   "execution_count": 94,
   "id": "ba543989-de74-4f07-8819-40a24800f0ce",
   "metadata": {},
   "outputs": [
    {
     "data": {
      "text/plain": [
       "['b', 'd', 'x', 'z']"
      ]
     },
     "execution_count": 94,
     "metadata": {},
     "output_type": "execute_result"
    }
   ],
   "source": [
    "L6.sort() # Sort in ascending order\n",
    "L6"
   ]
  },
  {
   "cell_type": "code",
   "execution_count": null,
   "id": "89651dcc-850f-47c1-9372-d645031041f0",
   "metadata": {},
   "outputs": [],
   "source": [
    "L6.sort(reverse = True) # System has given a parameter -- Parameter tunning\n",
    "# User change the system parameter -- Hyper parameter\n",
    "# In LLM hypermeter is called as fintunning"
   ]
  },
  {
   "cell_type": "code",
   "execution_count": 96,
   "id": "91599cea-a935-42d0-8ff0-6bf90554230f",
   "metadata": {},
   "outputs": [
    {
     "data": {
      "text/plain": [
       "['z', 'x', 'd', 'b']"
      ]
     },
     "execution_count": 96,
     "metadata": {},
     "output_type": "execute_result"
    }
   ],
   "source": [
    "L6.sort(reverse = True)\n",
    "L6"
   ]
  },
  {
   "cell_type": "code",
   "execution_count": 97,
   "id": "f17188bb-57be-44e0-804c-5761ee7caab6",
   "metadata": {},
   "outputs": [
    {
     "name": "stdout",
     "output_type": "stream",
     "text": [
      "z\n",
      "x\n",
      "d\n",
      "b\n"
     ]
    }
   ],
   "source": [
    "for i in L6:\n",
    "    print(i)"
   ]
  },
  {
   "cell_type": "code",
   "execution_count": 100,
   "id": "2fa0d932-642c-49b8-b85c-fdad53a3c759",
   "metadata": {},
   "outputs": [
    {
     "name": "stdout",
     "output_type": "stream",
     "text": [
      "(0, 'z')\n",
      "(1, 'x')\n",
      "(2, 'd')\n",
      "(3, 'b')\n"
     ]
    }
   ],
   "source": [
    "for i in enumerate(L6): # It gives the pair with object\n",
    "    print(i)"
   ]
  },
  {
   "cell_type": "code",
   "execution_count": 101,
   "id": "3f898457-bacc-47bc-9788-a528a13994d4",
   "metadata": {},
   "outputs": [
    {
     "data": {
      "text/plain": [
       "True"
      ]
     },
     "execution_count": 101,
     "metadata": {},
     "output_type": "execute_result"
    }
   ],
   "source": [
    "# List membership\n",
    "'z' in L6"
   ]
  },
  {
   "cell_type": "code",
   "execution_count": null,
   "id": "4b86fb8b-0142-4e6e-a9ba-8e5cd4382358",
   "metadata": {},
   "outputs": [],
   "source": []
  },
  {
   "cell_type": "markdown",
   "id": "9f47c737-f428-49b8-967a-3e2b423e45b3",
   "metadata": {},
   "source": [
    "# TUPLE ( )\n",
    "* A tuple in Python is an immutable ordered collection of elements.\n",
    "* Tuples are similar to lists, but unlike lists, they cannot be changed after their creation (i.e., they are immutable).."
   ]
  },
  {
   "cell_type": "markdown",
   "id": "eafc91ee-a0da-4956-8e96-9bea9b5acacf",
   "metadata": {},
   "source": [
    "### Creating a Tuple.\n",
    "* A tuple is created by placing all the items inside parentheses (), separated by commas.\n",
    "* A tuple can have any number of items and they can be of different data types."
   ]
  },
  {
   "cell_type": "code",
   "execution_count": null,
   "id": "e6dec915-a57a-48ae-9e2d-1e3cf084f69d",
   "metadata": {},
   "outputs": [],
   "source": []
  },
  {
   "cell_type": "code",
   "execution_count": 104,
   "id": "ed6daf1b-165f-4f43-b738-92ac6b6c9179",
   "metadata": {},
   "outputs": [
    {
     "data": {
      "text/plain": [
       "()"
      ]
     },
     "execution_count": 104,
     "metadata": {},
     "output_type": "execute_result"
    }
   ],
   "source": [
    "t = ()\n",
    "t"
   ]
  },
  {
   "cell_type": "code",
   "execution_count": 105,
   "id": "76569cbf-d0fa-488e-b9a1-657b6fc5bd41",
   "metadata": {},
   "outputs": [
    {
     "data": {
      "text/plain": [
       "0"
      ]
     },
     "execution_count": 105,
     "metadata": {},
     "output_type": "execute_result"
    }
   ],
   "source": [
    "len(t)"
   ]
  },
  {
   "cell_type": "code",
   "execution_count": 121,
   "id": "4acb9985-d89b-4892-812b-aa5a6d717452",
   "metadata": {},
   "outputs": [
    {
     "data": {
      "text/plain": [
       "(10, 20, 30, 40, 50)"
      ]
     },
     "execution_count": 121,
     "metadata": {},
     "output_type": "execute_result"
    }
   ],
   "source": [
    "t1 = (10,20,30,40,50)\n",
    "t1"
   ]
  },
  {
   "cell_type": "code",
   "execution_count": 107,
   "id": "92e47c51-2663-4bab-a660-d1dfee2a6b05",
   "metadata": {},
   "outputs": [
    {
     "data": {
      "text/plain": [
       "('a', 'z', 'm', 'n')"
      ]
     },
     "execution_count": 107,
     "metadata": {},
     "output_type": "execute_result"
    }
   ],
   "source": [
    "t2 = ('a','z','m','n')\n",
    "t2"
   ]
  },
  {
   "cell_type": "code",
   "execution_count": 108,
   "id": "d6f10403-3783-4b5a-8458-b4be04e82532",
   "metadata": {},
   "outputs": [
    {
     "data": {
      "text/plain": [
       "1"
      ]
     },
     "execution_count": 108,
     "metadata": {},
     "output_type": "execute_result"
    }
   ],
   "source": [
    "t2.count('z') # it takes values as parameter"
   ]
  },
  {
   "cell_type": "code",
   "execution_count": 109,
   "id": "d64e7634-fb29-4566-bf4f-4101dabc0558",
   "metadata": {},
   "outputs": [
    {
     "data": {
      "text/plain": [
       "0"
      ]
     },
     "execution_count": 109,
     "metadata": {},
     "output_type": "execute_result"
    }
   ],
   "source": [
    "t2.index('a') # it takes values as parameter"
   ]
  },
  {
   "cell_type": "code",
   "execution_count": 110,
   "id": "96b39cba-7634-4d84-9f1a-2247be693e81",
   "metadata": {},
   "outputs": [
    {
     "data": {
      "text/plain": [
       "10"
      ]
     },
     "execution_count": 110,
     "metadata": {},
     "output_type": "execute_result"
    }
   ],
   "source": [
    "t1[0]"
   ]
  },
  {
   "cell_type": "code",
   "execution_count": 111,
   "id": "4a1dbbb9-bff8-41da-96c5-30d4171cff14",
   "metadata": {},
   "outputs": [
    {
     "ename": "TypeError",
     "evalue": "'tuple' object does not support item assignment",
     "output_type": "error",
     "traceback": [
      "\u001b[1;31m---------------------------------------------------------------------------\u001b[0m",
      "\u001b[1;31mTypeError\u001b[0m                                 Traceback (most recent call last)",
      "Cell \u001b[1;32mIn[111], line 1\u001b[0m\n\u001b[1;32m----> 1\u001b[0m t1[\u001b[38;5;241m0\u001b[39m] \u001b[38;5;241m=\u001b[39m \u001b[38;5;241m100\u001b[39m\n",
      "\u001b[1;31mTypeError\u001b[0m: 'tuple' object does not support item assignment"
     ]
    }
   ],
   "source": [
    "t1[0] = 100 # Tuple is immutable not changable"
   ]
  },
  {
   "cell_type": "code",
   "execution_count": 122,
   "id": "03227551-4302-4006-8acf-53ec2507c1f2",
   "metadata": {},
   "outputs": [
    {
     "data": {
      "text/plain": [
       "(10, 20, 30, 40, 50)"
      ]
     },
     "execution_count": 122,
     "metadata": {},
     "output_type": "execute_result"
    }
   ],
   "source": [
    "t1"
   ]
  },
  {
   "cell_type": "code",
   "execution_count": 113,
   "id": "4a6fc793-d1ce-4816-8ea9-e598573c2bfc",
   "metadata": {},
   "outputs": [
    {
     "data": {
      "text/plain": [
       "('2221', '19th aug 1999', 1234, 'hkplr1234a')"
      ]
     },
     "execution_count": 113,
     "metadata": {},
     "output_type": "execute_result"
    }
   ],
   "source": [
    "hdfc = ('2221','19th aug 1999',1234,'hkplr1234a')\n",
    "hdfc"
   ]
  },
  {
   "cell_type": "code",
   "execution_count": 114,
   "id": "4e94fd60-26f8-462a-8052-4d91f561b9a1",
   "metadata": {},
   "outputs": [
    {
     "ename": "TypeError",
     "evalue": "'tuple' object does not support item assignment",
     "output_type": "error",
     "traceback": [
      "\u001b[1;31m---------------------------------------------------------------------------\u001b[0m",
      "\u001b[1;31mTypeError\u001b[0m                                 Traceback (most recent call last)",
      "Cell \u001b[1;32mIn[114], line 1\u001b[0m\n\u001b[1;32m----> 1\u001b[0m hdfc[\u001b[38;5;241m0\u001b[39m] \u001b[38;5;241m=\u001b[39m \u001b[38;5;241m5323\u001b[39m\n",
      "\u001b[1;31mTypeError\u001b[0m: 'tuple' object does not support item assignment"
     ]
    }
   ],
   "source": [
    "hdfc[0] = 5323"
   ]
  },
  {
   "cell_type": "code",
   "execution_count": 123,
   "id": "55308222-aa24-4cc7-a016-96e90e62aa6d",
   "metadata": {},
   "outputs": [
    {
     "data": {
      "text/plain": [
       "(10, 20, 30, 40, 50)"
      ]
     },
     "execution_count": 123,
     "metadata": {},
     "output_type": "execute_result"
    }
   ],
   "source": [
    "t1"
   ]
  },
  {
   "cell_type": "code",
   "execution_count": 116,
   "id": "180e9b39-b01c-4336-a27e-8e74f5a29546",
   "metadata": {},
   "outputs": [],
   "source": [
    "t3 = t1 * 3"
   ]
  },
  {
   "cell_type": "code",
   "execution_count": 117,
   "id": "dabd84f7-bcb2-47e4-a0d8-4027e7230872",
   "metadata": {},
   "outputs": [
    {
     "data": {
      "text/plain": [
       "(10, 20, 30, 40, 50, 10, 20, 30, 40, 50, 10, 20, 30, 40, 50)"
      ]
     },
     "execution_count": 117,
     "metadata": {},
     "output_type": "execute_result"
    }
   ],
   "source": [
    "t3"
   ]
  },
  {
   "cell_type": "code",
   "execution_count": null,
   "id": "e52f9014-d125-4b25-bece-630a13dc3035",
   "metadata": {},
   "outputs": [],
   "source": []
  },
  {
   "cell_type": "markdown",
   "id": "fd92e0c2-2e73-41bb-a4c0-297e1fb2bae9",
   "metadata": {},
   "source": [
    "# 24th April"
   ]
  },
  {
   "cell_type": "markdown",
   "id": "73d1a528-0a77-42c0-b45a-ed74c78ee8ec",
   "metadata": {},
   "source": [
    "# Set { }\n",
    "* Python set is an unordered collection of multiple items having different datatypes.\n",
    "* In Python, sets are mutable, unindexed and do not contain duplicates."
   ]
  },
  {
   "cell_type": "markdown",
   "id": "9df93e39-fd36-48c9-91d0-f3c108cf37ca",
   "metadata": {},
   "source": [
    "## Creating SET Using the set() function\n",
    "* Python Sets can be created by using the built-in set() function with an iterable object or a sequence by placing the sequence inside curly braces, separated by a ‘comma’."
   ]
  },
  {
   "cell_type": "code",
   "execution_count": 1,
   "id": "b4d4abc4-d9f0-445f-8c3c-37d791c3648a",
   "metadata": {},
   "outputs": [
    {
     "data": {
      "text/plain": [
       "{}"
      ]
     },
     "execution_count": 1,
     "metadata": {},
     "output_type": "execute_result"
    }
   ],
   "source": [
    "s = {} # by default {} will give dict\n",
    "s"
   ]
  },
  {
   "cell_type": "code",
   "execution_count": 3,
   "id": "396021b5-78a9-465f-acb0-457332c250c8",
   "metadata": {},
   "outputs": [
    {
     "data": {
      "text/plain": [
       "dict"
      ]
     },
     "execution_count": 3,
     "metadata": {},
     "output_type": "execute_result"
    }
   ],
   "source": [
    "type(s)"
   ]
  },
  {
   "cell_type": "code",
   "execution_count": 4,
   "id": "ba46d507-a7bf-4d32-a5a6-610063de0e8d",
   "metadata": {},
   "outputs": [
    {
     "name": "stdout",
     "output_type": "stream",
     "text": [
      "<class 'set'>\n"
     ]
    }
   ],
   "source": [
    "s1 = set() #To define set, use set function\n",
    "print(type(s1))"
   ]
  },
  {
   "cell_type": "code",
   "execution_count": 8,
   "id": "52ca2254-8ec8-41fc-bf80-186671c6309d",
   "metadata": {},
   "outputs": [],
   "source": [
    "s1.add(10)"
   ]
  },
  {
   "cell_type": "code",
   "execution_count": 6,
   "id": "85f7d216-f135-4ada-a8c8-d430fee97154",
   "metadata": {},
   "outputs": [
    {
     "data": {
      "text/plain": [
       "{10}"
      ]
     },
     "execution_count": 6,
     "metadata": {},
     "output_type": "execute_result"
    }
   ],
   "source": [
    "s1"
   ]
  },
  {
   "cell_type": "code",
   "execution_count": 11,
   "id": "d2d48570-10fa-4484-803a-7f56321c8f1f",
   "metadata": {},
   "outputs": [],
   "source": [
    "s1.add(20)\n",
    "s1.add('ani')\n",
    "s1.add(True)\n",
    "s1.add(1+2j)\n",
    "s1.add(3.2)"
   ]
  },
  {
   "cell_type": "code",
   "execution_count": 12,
   "id": "046804b1-585b-4e1d-8e25-7c5daaf0c603",
   "metadata": {},
   "outputs": [
    {
     "data": {
      "text/plain": [
       "{(1+2j), 10, 20, 3.2, True, 'ani'}"
      ]
     },
     "execution_count": 12,
     "metadata": {},
     "output_type": "execute_result"
    }
   ],
   "source": [
    "s1"
   ]
  },
  {
   "cell_type": "code",
   "execution_count": 25,
   "id": "ea8ff67c-693f-4a2c-9e6b-ece3db7f52fc",
   "metadata": {},
   "outputs": [
    {
     "data": {
      "text/plain": [
       "set()"
      ]
     },
     "execution_count": 25,
     "metadata": {},
     "output_type": "execute_result"
    }
   ],
   "source": [
    "s2 = set()\n",
    "s2"
   ]
  },
  {
   "cell_type": "code",
   "execution_count": 26,
   "id": "565ca518-b3cf-41de-abe7-f34c44e436c5",
   "metadata": {},
   "outputs": [],
   "source": [
    "s2.add(120)\n",
    "s2.add(200)\n",
    "s2.add(29)\n",
    "s2.add(50)"
   ]
  },
  {
   "cell_type": "code",
   "execution_count": 27,
   "id": "7f2e8433-a1f9-463c-b574-a391f8de1cac",
   "metadata": {},
   "outputs": [
    {
     "data": {
      "text/plain": [
       "{29, 50, 120, 200}"
      ]
     },
     "execution_count": 27,
     "metadata": {},
     "output_type": "execute_result"
    }
   ],
   "source": [
    "s2 # Set will print ascending order if we have similar datatypes & For different datatypes it will return unordered"
   ]
  },
  {
   "cell_type": "code",
   "execution_count": 20,
   "id": "18dddebf-6a3e-4946-87bc-31abf575185c",
   "metadata": {},
   "outputs": [
    {
     "data": {
      "text/plain": [
       "set()"
      ]
     },
     "execution_count": 20,
     "metadata": {},
     "output_type": "execute_result"
    }
   ],
   "source": [
    "s3 = set()\n",
    "s3"
   ]
  },
  {
   "cell_type": "code",
   "execution_count": 22,
   "id": "729d6769-6a92-47bc-8d82-23bd114aca72",
   "metadata": {},
   "outputs": [],
   "source": [
    "s3.add('a')\n",
    "s3.add('b')\n",
    "s3.add('l')\n",
    "s3.add('y')"
   ]
  },
  {
   "cell_type": "code",
   "execution_count": 23,
   "id": "876dff82-1dc5-47e8-8b6a-38dd7081bbf5",
   "metadata": {},
   "outputs": [
    {
     "data": {
      "text/plain": [
       "{'a', 'b', 'l', 'y'}"
      ]
     },
     "execution_count": 23,
     "metadata": {},
     "output_type": "execute_result"
    }
   ],
   "source": [
    "s3"
   ]
  },
  {
   "cell_type": "code",
   "execution_count": 28,
   "id": "00c63e12-01d9-4528-b17d-5630da9d2711",
   "metadata": {},
   "outputs": [
    {
     "name": "stdout",
     "output_type": "stream",
     "text": [
      "{True, 3.2, (1+2j), 10, 'ani', 20}\n",
      "{120, 50, 29, 200}\n",
      "{'b', 'y', 'a', 'l'}\n"
     ]
    }
   ],
   "source": [
    "print(s1)\n",
    "print(s2)\n",
    "print(s3)"
   ]
  },
  {
   "cell_type": "code",
   "execution_count": 31,
   "id": "d1cba8f2-a8ba-4836-8b7e-ae534c5bddfd",
   "metadata": {},
   "outputs": [
    {
     "ename": "TypeError",
     "evalue": "'set' object is not subscriptable",
     "output_type": "error",
     "traceback": [
      "\u001b[1;31m---------------------------------------------------------------------------\u001b[0m",
      "\u001b[1;31mTypeError\u001b[0m                                 Traceback (most recent call last)",
      "Cell \u001b[1;32mIn[31], line 1\u001b[0m\n\u001b[1;32m----> 1\u001b[0m s2[\u001b[38;5;241m0\u001b[39m]\n",
      "\u001b[1;31mTypeError\u001b[0m: 'set' object is not subscriptable"
     ]
    }
   ],
   "source": [
    "s2[0] # In set indexing and slicing will not work"
   ]
  },
  {
   "cell_type": "code",
   "execution_count": 32,
   "id": "6579c69f-3ec2-457e-8c07-30b3f457daef",
   "metadata": {},
   "outputs": [
    {
     "ename": "TypeError",
     "evalue": "'set' object is not subscriptable",
     "output_type": "error",
     "traceback": [
      "\u001b[1;31m---------------------------------------------------------------------------\u001b[0m",
      "\u001b[1;31mTypeError\u001b[0m                                 Traceback (most recent call last)",
      "Cell \u001b[1;32mIn[32], line 1\u001b[0m\n\u001b[1;32m----> 1\u001b[0m s3[:]\n",
      "\u001b[1;31mTypeError\u001b[0m: 'set' object is not subscriptable"
     ]
    }
   ],
   "source": [
    "s3[:] # In Set slicing will not work"
   ]
  },
  {
   "cell_type": "code",
   "execution_count": 51,
   "id": "7df9e9d0-c687-4a1b-b855-87b79bc1a795",
   "metadata": {},
   "outputs": [
    {
     "data": {
      "text/plain": [
       "{'a', 'b', 'l', 'y'}"
      ]
     },
     "execution_count": 51,
     "metadata": {},
     "output_type": "execute_result"
    }
   ],
   "source": [
    "s4 = s3.copy()\n",
    "s4"
   ]
  },
  {
   "cell_type": "code",
   "execution_count": 52,
   "id": "81b3546c-6fea-489e-9ad2-9f87035eb2ad",
   "metadata": {},
   "outputs": [
    {
     "data": {
      "text/plain": [
       "{'a', 'b', 'l', 'y'}"
      ]
     },
     "execution_count": 52,
     "metadata": {},
     "output_type": "execute_result"
    }
   ],
   "source": [
    "s3"
   ]
  },
  {
   "cell_type": "code",
   "execution_count": 53,
   "id": "11418c01-619f-4cd8-8f78-f777655e0660",
   "metadata": {},
   "outputs": [
    {
     "data": {
      "text/plain": [
       "True"
      ]
     },
     "execution_count": 53,
     "metadata": {},
     "output_type": "execute_result"
    }
   ],
   "source": [
    "s3 == s4"
   ]
  },
  {
   "cell_type": "code",
   "execution_count": 57,
   "id": "3857162d-3c10-4846-a3f5-41c3aa964b6b",
   "metadata": {},
   "outputs": [
    {
     "data": {
      "text/plain": [
       "set()"
      ]
     },
     "execution_count": 57,
     "metadata": {},
     "output_type": "execute_result"
    }
   ],
   "source": [
    "s4.clear()\n",
    "s4"
   ]
  },
  {
   "cell_type": "code",
   "execution_count": 58,
   "id": "fecc9e28-ce06-4a4c-b6db-a4b05f7a154d",
   "metadata": {},
   "outputs": [],
   "source": [
    "del s4"
   ]
  },
  {
   "cell_type": "code",
   "execution_count": 59,
   "id": "d38162bd-82b4-46fe-b330-b67e6527a52e",
   "metadata": {},
   "outputs": [
    {
     "ename": "NameError",
     "evalue": "name 's4' is not defined",
     "output_type": "error",
     "traceback": [
      "\u001b[1;31m---------------------------------------------------------------------------\u001b[0m",
      "\u001b[1;31mNameError\u001b[0m                                 Traceback (most recent call last)",
      "Cell \u001b[1;32mIn[59], line 1\u001b[0m\n\u001b[1;32m----> 1\u001b[0m s4\n",
      "\u001b[1;31mNameError\u001b[0m: name 's4' is not defined"
     ]
    }
   ],
   "source": [
    "s4"
   ]
  },
  {
   "cell_type": "code",
   "execution_count": 60,
   "id": "abaa2afc-959e-459d-a892-408eca4aa464",
   "metadata": {},
   "outputs": [
    {
     "data": {
      "text/plain": [
       "{29, 50, 120, 200}"
      ]
     },
     "execution_count": 60,
     "metadata": {},
     "output_type": "execute_result"
    }
   ],
   "source": [
    "s4 = s2.copy()\n",
    "s4"
   ]
  },
  {
   "cell_type": "code",
   "execution_count": 63,
   "id": "8375751a-2cb4-45d2-8d6f-419182c17f3e",
   "metadata": {},
   "outputs": [
    {
     "data": {
      "text/plain": [
       "120"
      ]
     },
     "execution_count": 63,
     "metadata": {},
     "output_type": "execute_result"
    }
   ],
   "source": [
    "s4.pop() # In list pop() by default deletes last elemnet  but in set pop() returns random elemnts from the set."
   ]
  },
  {
   "cell_type": "code",
   "execution_count": 64,
   "id": "36488d6b-644a-4c0b-b3fe-aaa66c0eef79",
   "metadata": {},
   "outputs": [
    {
     "data": {
      "text/plain": [
       "50"
      ]
     },
     "execution_count": 64,
     "metadata": {},
     "output_type": "execute_result"
    }
   ],
   "source": [
    "s4.pop()"
   ]
  },
  {
   "cell_type": "code",
   "execution_count": 65,
   "id": "6cb54915-462b-4d8a-b487-5ce828f6d2e7",
   "metadata": {},
   "outputs": [
    {
     "data": {
      "text/plain": [
       "{'a', 'b', 'l', 'y'}"
      ]
     },
     "execution_count": 65,
     "metadata": {},
     "output_type": "execute_result"
    }
   ],
   "source": [
    "s3"
   ]
  },
  {
   "cell_type": "code",
   "execution_count": 66,
   "id": "31a21be2-3729-4db4-8ca0-b4b8177fce68",
   "metadata": {},
   "outputs": [
    {
     "ename": "TypeError",
     "evalue": "set.pop() takes no arguments (1 given)",
     "output_type": "error",
     "traceback": [
      "\u001b[1;31m---------------------------------------------------------------------------\u001b[0m",
      "\u001b[1;31mTypeError\u001b[0m                                 Traceback (most recent call last)",
      "Cell \u001b[1;32mIn[66], line 1\u001b[0m\n\u001b[1;32m----> 1\u001b[0m s1\u001b[38;5;241m.\u001b[39mpop(\u001b[38;5;241m0\u001b[39m)\n",
      "\u001b[1;31mTypeError\u001b[0m: set.pop() takes no arguments (1 given)"
     ]
    }
   ],
   "source": [
    "s1.pop(0) # In set pop() index is not allowed."
   ]
  },
  {
   "cell_type": "code",
   "execution_count": 67,
   "id": "0e4aa1a6-6072-4df4-9fc9-a6f3ed887660",
   "metadata": {},
   "outputs": [],
   "source": [
    "s1.remove((1+2j)) # Removes the element from the set by element as parameter"
   ]
  },
  {
   "cell_type": "code",
   "execution_count": 68,
   "id": "dfb0deb2-f810-46e3-ae5b-1b5040d8bd12",
   "metadata": {},
   "outputs": [
    {
     "data": {
      "text/plain": [
       "{10, 20, 3.2, True, 'ani'}"
      ]
     },
     "execution_count": 68,
     "metadata": {},
     "output_type": "execute_result"
    }
   ],
   "source": [
    "s1"
   ]
  },
  {
   "cell_type": "code",
   "execution_count": 70,
   "id": "e6a7fde1-a12c-4f88-81b7-2917e36f8f1d",
   "metadata": {},
   "outputs": [
    {
     "name": "stdout",
     "output_type": "stream",
     "text": [
      "29\n",
      "200\n"
     ]
    }
   ],
   "source": [
    "for i in s4:\n",
    "    print(i)"
   ]
  },
  {
   "cell_type": "code",
   "execution_count": 71,
   "id": "7906914e-39ce-47a6-83d8-245f53528ca1",
   "metadata": {},
   "outputs": [
    {
     "name": "stdout",
     "output_type": "stream",
     "text": [
      "(0, 29)\n",
      "(1, 200)\n"
     ]
    }
   ],
   "source": [
    "for i in enumerate(s4):\n",
    "    print(i)"
   ]
  },
  {
   "cell_type": "markdown",
   "id": "3fa15cfe-f120-4cff-b0ce-0ae9c0d3ecb1",
   "metadata": {},
   "source": [
    "# Set Operation"
   ]
  },
  {
   "cell_type": "code",
   "execution_count": 76,
   "id": "8a6ec915-4d69-4b42-b9b5-decf3c39876f",
   "metadata": {},
   "outputs": [],
   "source": [
    "# union\n",
    "a = {1,2,3,4,5}\n",
    "b = {4,5,6,7,8}\n",
    "c = {8,9,10}"
   ]
  },
  {
   "cell_type": "code",
   "execution_count": 77,
   "id": "29f7d705-bcce-456f-8083-2feda6067423",
   "metadata": {},
   "outputs": [
    {
     "data": {
      "text/plain": [
       "{1, 2, 3, 4, 5, 6, 7, 8}"
      ]
     },
     "execution_count": 77,
     "metadata": {},
     "output_type": "execute_result"
    }
   ],
   "source": [
    "a | b # Union"
   ]
  },
  {
   "cell_type": "code",
   "execution_count": 78,
   "id": "fca662ba-252b-44c7-8115-1ed89151b9d4",
   "metadata": {},
   "outputs": [
    {
     "data": {
      "text/plain": [
       "{4, 5, 6, 7, 8, 9, 10}"
      ]
     },
     "execution_count": 78,
     "metadata": {},
     "output_type": "execute_result"
    }
   ],
   "source": [
    "b.union(c)"
   ]
  },
  {
   "cell_type": "code",
   "execution_count": 80,
   "id": "32e67dfd-5a4f-4431-8759-f2769284dd2a",
   "metadata": {},
   "outputs": [
    {
     "data": {
      "text/plain": [
       "{1, 2, 3, 4, 5, 6, 7, 8, 9, 10}"
      ]
     },
     "execution_count": 80,
     "metadata": {},
     "output_type": "execute_result"
    }
   ],
   "source": [
    "a.union(b,c)"
   ]
  },
  {
   "cell_type": "code",
   "execution_count": 81,
   "id": "2f3811ce-6334-423c-a6fe-269d5eef03ba",
   "metadata": {},
   "outputs": [
    {
     "data": {
      "text/plain": [
       "{1, 2, 3, 4, 5, 6, 7, 8, 9, 10}"
      ]
     },
     "execution_count": 81,
     "metadata": {},
     "output_type": "execute_result"
    }
   ],
   "source": [
    "c | b | a"
   ]
  },
  {
   "cell_type": "code",
   "execution_count": null,
   "id": "594c0bba-5776-4075-b26a-c215d1721d94",
   "metadata": {},
   "outputs": [],
   "source": []
  },
  {
   "cell_type": "code",
   "execution_count": 83,
   "id": "472743ab-c0a3-4f9c-b91c-7254163f003f",
   "metadata": {},
   "outputs": [
    {
     "data": {
      "text/plain": [
       "{8, 9, 10}"
      ]
     },
     "execution_count": 83,
     "metadata": {},
     "output_type": "execute_result"
    }
   ],
   "source": [
    "c"
   ]
  },
  {
   "cell_type": "code",
   "execution_count": 84,
   "id": "80114662-5ee1-49f6-b64c-12743fc42b1b",
   "metadata": {},
   "outputs": [
    {
     "data": {
      "text/plain": [
       "{8, 9, 10}"
      ]
     },
     "execution_count": 84,
     "metadata": {},
     "output_type": "execute_result"
    }
   ],
   "source": [
    "d = c.copy()\n",
    "d"
   ]
  },
  {
   "cell_type": "code",
   "execution_count": 85,
   "id": "34120ed9-0209-4c96-978f-ed9d018eec79",
   "metadata": {},
   "outputs": [
    {
     "name": "stdout",
     "output_type": "stream",
     "text": [
      "{8, 9, 10}\n",
      "{8, 9, 10}\n"
     ]
    }
   ],
   "source": [
    "print(c)\n",
    "print(d)"
   ]
  },
  {
   "cell_type": "code",
   "execution_count": 86,
   "id": "456056fb-93f1-4af7-9159-e2f617d92346",
   "metadata": {},
   "outputs": [],
   "source": [
    "# Update\n",
    "c.update(d)"
   ]
  },
  {
   "cell_type": "code",
   "execution_count": 87,
   "id": "9af6ff1d-7884-4a3c-b702-bad49e5d4219",
   "metadata": {},
   "outputs": [
    {
     "data": {
      "text/plain": [
       "{8, 9, 10}"
      ]
     },
     "execution_count": 87,
     "metadata": {},
     "output_type": "execute_result"
    }
   ],
   "source": [
    "c"
   ]
  },
  {
   "cell_type": "code",
   "execution_count": 88,
   "id": "dc0bc6ba-1d21-4cbf-be96-8fdff6203181",
   "metadata": {},
   "outputs": [],
   "source": [
    "c.update(b) # merge/concate from the two set"
   ]
  },
  {
   "cell_type": "code",
   "execution_count": 89,
   "id": "40448c09-8d91-404e-8c24-02f083e3db6d",
   "metadata": {},
   "outputs": [
    {
     "data": {
      "text/plain": [
       "{4, 5, 6, 7, 8, 9, 10}"
      ]
     },
     "execution_count": 89,
     "metadata": {},
     "output_type": "execute_result"
    }
   ],
   "source": [
    "c"
   ]
  },
  {
   "cell_type": "code",
   "execution_count": 90,
   "id": "69c35c5f-9432-470a-8501-5e8f6fd50fa1",
   "metadata": {},
   "outputs": [
    {
     "name": "stdout",
     "output_type": "stream",
     "text": [
      "{1, 2, 3, 4, 5}\n",
      "{4, 5, 6, 7, 8}\n",
      "{4, 5, 6, 7, 8, 9, 10}\n"
     ]
    }
   ],
   "source": [
    "# Inersection \n",
    "print(a)\n",
    "print(b)\n",
    "print(c)"
   ]
  },
  {
   "cell_type": "code",
   "execution_count": 91,
   "id": "16524942-7181-4bcd-becc-d953d278d879",
   "metadata": {},
   "outputs": [
    {
     "data": {
      "text/plain": [
       "{4, 5}"
      ]
     },
     "execution_count": 91,
     "metadata": {},
     "output_type": "execute_result"
    }
   ],
   "source": [
    "a & b"
   ]
  },
  {
   "cell_type": "code",
   "execution_count": 92,
   "id": "322ba413-4506-4acb-b6cc-4b61ed9bb697",
   "metadata": {},
   "outputs": [
    {
     "data": {
      "text/plain": [
       "{4, 5, 6, 7, 8}"
      ]
     },
     "execution_count": 92,
     "metadata": {},
     "output_type": "execute_result"
    }
   ],
   "source": [
    "b.intersection(c) # Reteurns the common elemnts from the two sets"
   ]
  },
  {
   "cell_type": "code",
   "execution_count": 93,
   "id": "d9e410a2-ac10-4221-b636-65940bf6c61f",
   "metadata": {},
   "outputs": [
    {
     "data": {
      "text/plain": [
       "{4, 5}"
      ]
     },
     "execution_count": 93,
     "metadata": {},
     "output_type": "execute_result"
    }
   ],
   "source": [
    "a & b & c"
   ]
  },
  {
   "cell_type": "code",
   "execution_count": null,
   "id": "b94e96e1-7cca-4624-9188-b226923324f6",
   "metadata": {},
   "outputs": [],
   "source": [
    "# Difference"
   ]
  },
  {
   "cell_type": "code",
   "execution_count": 94,
   "id": "a8a4735b-cdb2-48ab-ae0a-cc5b579b4132",
   "metadata": {},
   "outputs": [
    {
     "name": "stdout",
     "output_type": "stream",
     "text": [
      "{1, 2, 3, 4, 5}\n",
      "{4, 5, 6, 7, 8}\n",
      "{4, 5, 6, 7, 8, 9, 10}\n"
     ]
    }
   ],
   "source": [
    "print(a)\n",
    "print(b)\n",
    "print(c)"
   ]
  },
  {
   "cell_type": "code",
   "execution_count": 95,
   "id": "213a5f95-6306-4204-863c-76ea4fdff6bc",
   "metadata": {},
   "outputs": [
    {
     "data": {
      "text/plain": [
       "{1, 2, 3}"
      ]
     },
     "execution_count": 95,
     "metadata": {},
     "output_type": "execute_result"
    }
   ],
   "source": [
    "a - b"
   ]
  },
  {
   "cell_type": "code",
   "execution_count": 96,
   "id": "4a4a0bd6-a83f-4de8-8b3e-bd8062083400",
   "metadata": {},
   "outputs": [
    {
     "data": {
      "text/plain": [
       "{6, 7, 8}"
      ]
     },
     "execution_count": 96,
     "metadata": {},
     "output_type": "execute_result"
    }
   ],
   "source": [
    "b - a"
   ]
  },
  {
   "cell_type": "code",
   "execution_count": 97,
   "id": "389d5e8c-8a52-4f4f-9e80-2efdbe8c542b",
   "metadata": {},
   "outputs": [
    {
     "data": {
      "text/plain": [
       "set()"
      ]
     },
     "execution_count": 97,
     "metadata": {},
     "output_type": "execute_result"
    }
   ],
   "source": [
    "b - c"
   ]
  },
  {
   "cell_type": "code",
   "execution_count": 98,
   "id": "06cb9193-1d3d-4606-b3d1-426c7df44b7a",
   "metadata": {},
   "outputs": [
    {
     "data": {
      "text/plain": [
       "{9, 10}"
      ]
     },
     "execution_count": 98,
     "metadata": {},
     "output_type": "execute_result"
    }
   ],
   "source": [
    "c - b"
   ]
  },
  {
   "cell_type": "code",
   "execution_count": 99,
   "id": "ac8af82f-fa1c-4364-894b-fbf72ee1c886",
   "metadata": {},
   "outputs": [
    {
     "data": {
      "text/plain": [
       "{6, 7, 8, 9, 10}"
      ]
     },
     "execution_count": 99,
     "metadata": {},
     "output_type": "execute_result"
    }
   ],
   "source": [
    "c.difference(a)"
   ]
  },
  {
   "cell_type": "code",
   "execution_count": null,
   "id": "f14f35d8-b34b-4ccf-9bed-458023b66f80",
   "metadata": {},
   "outputs": [],
   "source": []
  }
 ],
 "metadata": {
  "kernelspec": {
   "display_name": "Python 3 (ipykernel)",
   "language": "python",
   "name": "python3"
  },
  "language_info": {
   "codemirror_mode": {
    "name": "ipython",
    "version": 3
   },
   "file_extension": ".py",
   "mimetype": "text/x-python",
   "name": "python",
   "nbconvert_exporter": "python",
   "pygments_lexer": "ipython3",
   "version": "3.11.5"
  }
 },
 "nbformat": 4,
 "nbformat_minor": 5
}
