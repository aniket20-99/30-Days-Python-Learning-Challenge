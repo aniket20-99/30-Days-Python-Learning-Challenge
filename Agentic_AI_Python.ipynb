{
 "cells": [
  {
   "cell_type": "code",
   "execution_count": null,
   "id": "f332fa08-2f9d-4658-b490-5032b038dd2a",
   "metadata": {},
   "outputs": [],
   "source": []
  },
  {
   "cell_type": "markdown",
   "id": "ab1bdda7-7bf2-4acd-8531-f21b89821ef6",
   "metadata": {},
   "source": [
    "# Completed Topics\n",
    "* Variable\n",
    "* Datatypes"
   ]
  },
  {
   "cell_type": "markdown",
   "id": "8425e297-4b25-44a1-9104-900239806ca7",
   "metadata": {},
   "source": [
    "## Python variable: (variable = identifier = object)"
   ]
  },
  {
   "cell_type": "code",
   "execution_count": 11,
   "id": "1279c006-77d9-4a6d-aad4-d008a3aca639",
   "metadata": {},
   "outputs": [
    {
     "data": {
      "text/plain": [
       "int"
      ]
     },
     "execution_count": 11,
     "metadata": {},
     "output_type": "execute_result"
    }
   ],
   "source": [
    "#Syntax of python --> variablename = value\n",
    "i = 10 #( i - variable and 10 is value) 10 is integer value\n",
    "type(a)#--int"
   ]
  },
  {
   "cell_type": "code",
   "execution_count": 1,
   "id": "30b435f5-c8b5-4672-a320-b6962afa33f1",
   "metadata": {},
   "outputs": [
    {
     "data": {
      "text/plain": [
       "9"
      ]
     },
     "execution_count": 1,
     "metadata": {},
     "output_type": "execute_result"
    }
   ],
   "source": [
    "va = 9\n",
    "va"
   ]
  },
  {
   "cell_type": "code",
   "execution_count": 2,
   "id": "eb0e5950-0d2a-4002-9319-fdf4314418d2",
   "metadata": {},
   "outputs": [
    {
     "data": {
      "text/plain": [
       "140713316619304"
      ]
     },
     "execution_count": 2,
     "metadata": {},
     "output_type": "execute_result"
    }
   ],
   "source": [
    "# id = address of the memory allocation\n",
    "id(va)"
   ]
  },
  {
   "cell_type": "markdown",
   "id": "7bd77d6c-333a-44f7-ab22-718d40d08aa0",
   "metadata": {},
   "source": [
    "## Python Variables Creation\n",
    "* varibale doesnt start with digit but it can end with digits\n",
    "* Vatriables are case sensitive\n",
    "* Special charecter is not allowed except underscore(_)\n",
    "* keywords or reserve words never be declare as variable(Total no of keywords are 35)"
   ]
  },
  {
   "cell_type": "code",
   "execution_count": 18,
   "id": "4fee181b-e7cc-400c-9c73-196c5769a754",
   "metadata": {},
   "outputs": [
    {
     "ename": "SyntaxError",
     "evalue": "invalid decimal literal (3195386917.py, line 1)",
     "output_type": "error",
     "traceback": [
      "\u001b[1;36m  Cell \u001b[1;32mIn[18], line 1\u001b[1;36m\u001b[0m\n\u001b[1;33m    1nit = 18\u001b[0m\n\u001b[1;37m    ^\u001b[0m\n\u001b[1;31mSyntaxError\u001b[0m\u001b[1;31m:\u001b[0m invalid decimal literal\n"
     ]
    }
   ],
   "source": [
    "\n",
    "1nit = 18\n",
    "1nit"
   ]
  },
  {
   "cell_type": "code",
   "execution_count": 5,
   "id": "1a177794-e253-4852-b063-5ea567995ef6",
   "metadata": {},
   "outputs": [
    {
     "data": {
      "text/plain": [
       "20"
      ]
     },
     "execution_count": 5,
     "metadata": {},
     "output_type": "execute_result"
    }
   ],
   "source": [
    "nit1 = 20\n",
    "nit1"
   ]
  },
  {
   "cell_type": "code",
   "execution_count": 7,
   "id": "9881fa65-b2e0-4b85-9bc1-7ecc49a45e54",
   "metadata": {},
   "outputs": [
    {
     "ename": "NameError",
     "evalue": "name 'NIT2' is not defined",
     "output_type": "error",
     "traceback": [
      "\u001b[1;31m---------------------------------------------------------------------------\u001b[0m",
      "\u001b[1;31mNameError\u001b[0m                                 Traceback (most recent call last)",
      "Cell \u001b[1;32mIn[7], line 2\u001b[0m\n\u001b[0;32m      1\u001b[0m nit2 \u001b[38;5;241m=\u001b[39m \u001b[38;5;241m19\u001b[39m\n\u001b[1;32m----> 2\u001b[0m NIT2\n",
      "\u001b[1;31mNameError\u001b[0m: name 'NIT2' is not defined"
     ]
    }
   ],
   "source": [
    "nit2 = 19\n",
    "NIT2"
   ]
  },
  {
   "cell_type": "code",
   "execution_count": 9,
   "id": "eb046b77-0b7a-4595-a792-df9fc8522960",
   "metadata": {},
   "outputs": [
    {
     "ename": "SyntaxError",
     "evalue": "invalid syntax (1118413444.py, line 1)",
     "output_type": "error",
     "traceback": [
      "\u001b[1;36m  Cell \u001b[1;32mIn[9], line 1\u001b[1;36m\u001b[0m\n\u001b[1;33m    v$ = 9\u001b[0m\n\u001b[1;37m     ^\u001b[0m\n\u001b[1;31mSyntaxError\u001b[0m\u001b[1;31m:\u001b[0m invalid syntax\n"
     ]
    }
   ],
   "source": [
    "v$ = 9\n",
    "v$"
   ]
  },
  {
   "cell_type": "code",
   "execution_count": 10,
   "id": "b0ee5bf7-4c28-4ea4-8df6-52033d9658fa",
   "metadata": {},
   "outputs": [
    {
     "data": {
      "text/plain": [
       "89"
      ]
     },
     "execution_count": 10,
     "metadata": {},
     "output_type": "execute_result"
    }
   ],
   "source": [
    "v_ = 89\n",
    "v_"
   ]
  },
  {
   "cell_type": "code",
   "execution_count": 11,
   "id": "9b3c1e79-b60e-418d-a52c-baa770659784",
   "metadata": {},
   "outputs": [
    {
     "data": {
      "text/plain": [
       "['False',\n",
       " 'None',\n",
       " 'True',\n",
       " 'and',\n",
       " 'as',\n",
       " 'assert',\n",
       " 'async',\n",
       " 'await',\n",
       " 'break',\n",
       " 'class',\n",
       " 'continue',\n",
       " 'def',\n",
       " 'del',\n",
       " 'elif',\n",
       " 'else',\n",
       " 'except',\n",
       " 'finally',\n",
       " 'for',\n",
       " 'from',\n",
       " 'global',\n",
       " 'if',\n",
       " 'import',\n",
       " 'in',\n",
       " 'is',\n",
       " 'lambda',\n",
       " 'nonlocal',\n",
       " 'not',\n",
       " 'or',\n",
       " 'pass',\n",
       " 'raise',\n",
       " 'return',\n",
       " 'try',\n",
       " 'while',\n",
       " 'with',\n",
       " 'yield']"
      ]
     },
     "execution_count": 11,
     "metadata": {},
     "output_type": "execute_result"
    }
   ],
   "source": [
    "import keyword\n",
    "keyword.kwlist"
   ]
  },
  {
   "cell_type": "code",
   "execution_count": 12,
   "id": "2197bc32-23c0-4523-ad0f-afac10d560ea",
   "metadata": {},
   "outputs": [
    {
     "data": {
      "text/plain": [
       "35"
      ]
     },
     "execution_count": 12,
     "metadata": {},
     "output_type": "execute_result"
    }
   ],
   "source": [
    "len(keyword.kwlist)"
   ]
  },
  {
   "cell_type": "code",
   "execution_count": 13,
   "id": "629ed694-89bc-405b-a195-2f4920c3635b",
   "metadata": {},
   "outputs": [
    {
     "ename": "SyntaxError",
     "evalue": "invalid syntax (174527739.py, line 1)",
     "output_type": "error",
     "traceback": [
      "\u001b[1;36m  Cell \u001b[1;32mIn[13], line 1\u001b[1;36m\u001b[0m\n\u001b[1;33m    for  = 55\u001b[0m\n\u001b[1;37m         ^\u001b[0m\n\u001b[1;31mSyntaxError\u001b[0m\u001b[1;31m:\u001b[0m invalid syntax\n"
     ]
    }
   ],
   "source": [
    "for  = 55\n",
    "for"
   ]
  },
  {
   "cell_type": "code",
   "execution_count": 14,
   "id": "ad55764d-d756-407f-bc13-71b910a386bd",
   "metadata": {},
   "outputs": [
    {
     "data": {
      "text/plain": [
       "58"
      ]
     },
     "execution_count": 14,
     "metadata": {},
     "output_type": "execute_result"
    }
   ],
   "source": [
    "For = 58\n",
    "For"
   ]
  },
  {
   "cell_type": "code",
   "execution_count": 15,
   "id": "23d2ec97-5af1-4684-9493-001ef6ae18bd",
   "metadata": {},
   "outputs": [
    {
     "ename": "SyntaxError",
     "evalue": "invalid syntax (1364489644.py, line 1)",
     "output_type": "error",
     "traceback": [
      "\u001b[1;36m  Cell \u001b[1;32mIn[15], line 1\u001b[1;36m\u001b[0m\n\u001b[1;33m    def  = 90\u001b[0m\n\u001b[1;37m         ^\u001b[0m\n\u001b[1;31mSyntaxError\u001b[0m\u001b[1;31m:\u001b[0m invalid syntax\n"
     ]
    }
   ],
   "source": [
    "def  = 90\n",
    "def"
   ]
  },
  {
   "cell_type": "code",
   "execution_count": 17,
   "id": "3cd980d1-67db-4f58-8c75-365a2fee4d81",
   "metadata": {},
   "outputs": [
    {
     "data": {
      "text/plain": [
       "68"
      ]
     },
     "execution_count": 17,
     "metadata": {},
     "output_type": "execute_result"
    }
   ],
   "source": [
    "Def = 68\n",
    "Def "
   ]
  },
  {
   "cell_type": "markdown",
   "id": "4959c04d-2c8a-4b76-9b84-172505434ba7",
   "metadata": {},
   "source": [
    "# print"
   ]
  },
  {
   "cell_type": "code",
   "execution_count": 20,
   "id": "d54a7f87-8981-4f9f-9966-a770bab24c56",
   "metadata": {},
   "outputs": [
    {
     "name": "stdout",
     "output_type": "stream",
     "text": [
      "5\n",
      "6\n",
      "8\n"
     ]
    }
   ],
   "source": [
    "a = 5\n",
    "b = 6\n",
    "c = 8\n",
    "print(a)\n",
    "print(b)\n",
    "print(c)"
   ]
  },
  {
   "cell_type": "markdown",
   "id": "0cda7387-7783-4937-8168-a8f44756347d",
   "metadata": {},
   "source": [
    "* If user has only 1 variable ( print is not allowed)\n",
    "* If user has more than 1 variable ( print is  allowed)"
   ]
  },
  {
   "cell_type": "code",
   "execution_count": 21,
   "id": "2448d9c0-52a6-488d-940d-8441dde2d36c",
   "metadata": {},
   "outputs": [
    {
     "data": {
      "text/plain": [
       "'3.11.5 | packaged by Anaconda, Inc. | (main, Sep 11 2023, 13:26:23) [MSC v.1916 64 bit (AMD64)]'"
      ]
     },
     "execution_count": 21,
     "metadata": {},
     "output_type": "execute_result"
    }
   ],
   "source": [
    "import sys\n",
    "sys.version"
   ]
  },
  {
   "cell_type": "code",
   "execution_count": 1,
   "id": "180b906f-b03e-4d8e-967e-ba55f76e7918",
   "metadata": {},
   "outputs": [
    {
     "name": "stdout",
     "output_type": "stream",
     "text": [
      "26\n"
     ]
    }
   ],
   "source": [
    "age = 26\n",
    "print(age)"
   ]
  },
  {
   "cell_type": "code",
   "execution_count": 2,
   "id": "ecc4d4ff-174a-4ab4-b076-8f7d00404326",
   "metadata": {},
   "outputs": [
    {
     "name": "stdout",
     "output_type": "stream",
     "text": [
      "aniket\n"
     ]
    }
   ],
   "source": [
    "name = 'aniket'\n",
    "print(name)"
   ]
  },
  {
   "cell_type": "code",
   "execution_count": 3,
   "id": "4e6c14f2-4b50-4b73-848a-b472a7148c5e",
   "metadata": {},
   "outputs": [
    {
     "name": "stdout",
     "output_type": "stream",
     "text": [
      "True\n"
     ]
    }
   ],
   "source": [
    "is_active = True\n",
    "print(is_active)"
   ]
  },
  {
   "cell_type": "code",
   "execution_count": 4,
   "id": "bd4b2127-ae17-49b6-ba16-1b292d1883de",
   "metadata": {},
   "outputs": [
    {
     "data": {
      "text/plain": [
       "199.99"
      ]
     },
     "execution_count": 4,
     "metadata": {},
     "output_type": "execute_result"
    }
   ],
   "source": [
    "price = 199.99\n",
    "price"
   ]
  },
  {
   "cell_type": "code",
   "execution_count": 5,
   "id": "3937916c-a57b-42b5-a9ff-8fffca468060",
   "metadata": {},
   "outputs": [
    {
     "name": "stdout",
     "output_type": "stream",
     "text": [
      "15\n"
     ]
    }
   ],
   "source": [
    "a = 5\n",
    "b = 10\n",
    "\n",
    "print(a+b)"
   ]
  },
  {
   "cell_type": "code",
   "execution_count": 7,
   "id": "a5f2e60d-423a-4a2c-8c2b-fc714c1acfff",
   "metadata": {},
   "outputs": [
    {
     "data": {
      "text/plain": [
       "'Aniket  Kumar'"
      ]
     },
     "execution_count": 7,
     "metadata": {},
     "output_type": "execute_result"
    }
   ],
   "source": [
    "first_name = 'Aniket'\n",
    "lst_name = 'Kumar'\n",
    "\n",
    "full_name = first_name + '  ' + lst_name\n",
    "full_name"
   ]
  },
  {
   "cell_type": "code",
   "execution_count": 9,
   "id": "6871feaf-1254-4868-8a36-cc43d568bac4",
   "metadata": {},
   "outputs": [
    {
     "name": "stdout",
     "output_type": "stream",
     "text": [
      "50\n"
     ]
    }
   ],
   "source": [
    "length = 10\n",
    "width = 5\n",
    "\n",
    "area = length * width \n",
    "print(area)\n"
   ]
  },
  {
   "cell_type": "markdown",
   "id": "6104fcc6-4ae4-44c9-9c00-80b1cddaf1a8",
   "metadata": {},
   "source": [
    "# 16th April"
   ]
  },
  {
   "cell_type": "markdown",
   "id": "7167a3e6-02bf-4925-b272-47b24bbd715a",
   "metadata": {},
   "source": [
    "# Datatypes -->\n",
    "    - Integer datatypes\n",
    "    - float datatypes\n",
    "    - Bool datatypes\n",
    "    - Coplex datatypes"
   ]
  },
  {
   "cell_type": "raw",
   "id": "2db6a757-f4eb-444f-a18d-7833348ed2ff",
   "metadata": {},
   "source": [
    "Integer datatypes"
   ]
  },
  {
   "cell_type": "code",
   "execution_count": 14,
   "id": "91801b73-9730-4516-b7c4-50ccbdf3aa5e",
   "metadata": {},
   "outputs": [
    {
     "name": "stdout",
     "output_type": "stream",
     "text": [
      "45\n",
      "<class 'int'>\n"
     ]
    }
   ],
   "source": [
    "i =  45\n",
    "print(i)\n",
    "print(type(i))"
   ]
  },
  {
   "cell_type": "code",
   "execution_count": 17,
   "id": "3ece6a74-801f-42d0-b377-1f5dde191de0",
   "metadata": {},
   "outputs": [
    {
     "name": "stdout",
     "output_type": "stream",
     "text": [
      "110.5\n",
      "<class 'float'>\n"
     ]
    }
   ],
   "source": [
    "# Float Datatypes\n",
    "petrol = 110.5\n",
    "print(petrol)\n",
    "print(type(petrol))"
   ]
  },
  {
   "cell_type": "code",
   "execution_count": 20,
   "id": "ce10da8d-83d9-48d2-828e-294e2411efa1",
   "metadata": {},
   "outputs": [
    {
     "ename": "TypeError",
     "evalue": "cannot unpack non-iterable int object",
     "output_type": "error",
     "traceback": [
      "\u001b[1;31m---------------------------------------------------------------------------\u001b[0m",
      "\u001b[1;31mTypeError\u001b[0m                                 Traceback (most recent call last)",
      "Cell \u001b[1;32mIn[20], line 1\u001b[0m\n\u001b[1;32m----> 1\u001b[0m i1,i2 \u001b[38;5;241m=\u001b[39m \u001b[38;5;241m10\u001b[39m\n",
      "\u001b[1;31mTypeError\u001b[0m: cannot unpack non-iterable int object"
     ]
    }
   ],
   "source": [
    "i1,i2 = 10 "
   ]
  },
  {
   "cell_type": "code",
   "execution_count": null,
   "id": "026c385f-e810-488d-b774-f4a78cdd57d4",
   "metadata": {},
   "outputs": [],
   "source": [
    "i1,i2 = 10 , 20"
   ]
  },
  {
   "cell_type": "code",
   "execution_count": 24,
   "id": "2a1d0aff-8762-485a-9504-786d8bbc553e",
   "metadata": {},
   "outputs": [
    {
     "name": "stdout",
     "output_type": "stream",
     "text": [
      "10\n",
      "20\n",
      "30\n",
      "-10\n",
      "200\n",
      "0.5\n"
     ]
    }
   ],
   "source": [
    "print(i1)\n",
    "print(i2)\n",
    "print(i1 + i2)\n",
    "print(i1 - i2)\n",
    "print(i1 * i2)\n",
    "print(i1 / i2)"
   ]
  },
  {
   "cell_type": "code",
   "execution_count": null,
   "id": "3cf04015-03fc-4732-bb04-ad844038b389",
   "metadata": {},
   "outputs": [],
   "source": [
    "# String Datatypes\n",
    "assign text to the variable\n",
    "define ''|\" \"|\"\"\" \"\"\"(Multiline comments)"
   ]
  },
  {
   "cell_type": "code",
   "execution_count": 25,
   "id": "095d11ac-7391-44cb-8a0b-b6f3e3d6f714",
   "metadata": {},
   "outputs": [
    {
     "ename": "NameError",
     "evalue": "name 'nareshit' is not defined",
     "output_type": "error",
     "traceback": [
      "\u001b[1;31m---------------------------------------------------------------------------\u001b[0m",
      "\u001b[1;31mNameError\u001b[0m                                 Traceback (most recent call last)",
      "Cell \u001b[1;32mIn[25], line 1\u001b[0m\n\u001b[1;32m----> 1\u001b[0m s \u001b[38;5;241m=\u001b[39m nareshit\n",
      "\u001b[1;31mNameError\u001b[0m: name 'nareshit' is not defined"
     ]
    }
   ],
   "source": [
    "s = nareshit"
   ]
  },
  {
   "cell_type": "code",
   "execution_count": 28,
   "id": "3e6dbe17-9f4a-48e5-a6ca-74c0d0f478ec",
   "metadata": {},
   "outputs": [
    {
     "name": "stdout",
     "output_type": "stream",
     "text": [
      "aniket\n"
     ]
    }
   ],
   "source": [
    "s = 'aniket'\n",
    "print(s)"
   ]
  },
  {
   "cell_type": "code",
   "execution_count": 27,
   "id": "9d4a7d0a-5030-467e-8b09-c832ab98499d",
   "metadata": {},
   "outputs": [
    {
     "data": {
      "text/plain": [
       "str"
      ]
     },
     "execution_count": 27,
     "metadata": {},
     "output_type": "execute_result"
    }
   ],
   "source": [
    "type(s)"
   ]
  },
  {
   "cell_type": "code",
   "execution_count": 29,
   "id": "513bba5c-287e-4d75-9cc7-55b5779a1428",
   "metadata": {},
   "outputs": [
    {
     "data": {
      "text/plain": [
       "'Aniket'"
      ]
     },
     "execution_count": 29,
     "metadata": {},
     "output_type": "execute_result"
    }
   ],
   "source": [
    "s1 = \"Aniket\"\n",
    "s1"
   ]
  },
  {
   "cell_type": "code",
   "execution_count": 32,
   "id": "d5f338a1-2924-40f4-a630-fa5eaae50052",
   "metadata": {},
   "outputs": [
    {
     "data": {
      "text/plain": [
       "'naresh it technology\\n            datascience, ai student --6 month course'"
      ]
     },
     "execution_count": 32,
     "metadata": {},
     "output_type": "execute_result"
    }
   ],
   "source": [
    "s2  = '''naresh it technology\n",
    "            datascience, ai student --6 month course'''\n",
    "s2"
   ]
  },
  {
   "cell_type": "code",
   "execution_count": 34,
   "id": "48f1ca5e-97c4-4324-bad8-7b9d6f3c2714",
   "metadata": {},
   "outputs": [],
   "source": [
    "# String indexing --> Forward and backword indexing\n",
    "s = 'nareshit'"
   ]
  },
  {
   "cell_type": "code",
   "execution_count": 35,
   "id": "49d12a1c-0bcf-4acd-94e4-1380c38345d0",
   "metadata": {},
   "outputs": [
    {
     "name": "stdout",
     "output_type": "stream",
     "text": [
      "n\n",
      "e\n",
      "t\n"
     ]
    }
   ],
   "source": [
    "print(s[0])\n",
    "print(s[-1])\n",
    "print(s[3])"
   ]
  },
  {
   "cell_type": "code",
   "execution_count": 38,
   "id": "c9cf8205-8a20-4537-bb3d-d04ce81ecf9d",
   "metadata": {},
   "outputs": [
    {
     "name": "stdout",
     "output_type": "stream",
     "text": [
      "nareshit\n",
      "res\n"
     ]
    }
   ],
   "source": [
    "# String slicing\n",
    "print(s[:])\n",
    "print(s[2:5])"
   ]
  },
  {
   "cell_type": "markdown",
   "id": "9450b1c1-5985-4280-a50b-dd0557b01325",
   "metadata": {},
   "source": [
    "# 17th April"
   ]
  },
  {
   "cell_type": "code",
   "execution_count": 39,
   "id": "0e1c8a18-6576-4a9d-8c81-a11d221883e7",
   "metadata": {},
   "outputs": [
    {
     "data": {
      "text/plain": [
       "True"
      ]
     },
     "execution_count": 39,
     "metadata": {},
     "output_type": "execute_result"
    }
   ],
   "source": [
    "# Boolean --> (True,False)\n",
    "True"
   ]
  },
  {
   "cell_type": "code",
   "execution_count": 40,
   "id": "98b14123-6cc0-4881-96d0-0afbc68e76bd",
   "metadata": {},
   "outputs": [
    {
     "data": {
      "text/plain": [
       "False"
      ]
     },
     "execution_count": 40,
     "metadata": {},
     "output_type": "execute_result"
    }
   ],
   "source": [
    "False"
   ]
  },
  {
   "cell_type": "code",
   "execution_count": 42,
   "id": "ddacd3e1-9252-4743-9263-9204d5c3d5ed",
   "metadata": {},
   "outputs": [],
   "source": [
    "b = True\n",
    "b1 = False"
   ]
  },
  {
   "cell_type": "code",
   "execution_count": 43,
   "id": "7453b680-c75e-4101-b1f3-b70973db50cd",
   "metadata": {},
   "outputs": [
    {
     "data": {
      "text/plain": [
       "True"
      ]
     },
     "execution_count": 43,
     "metadata": {},
     "output_type": "execute_result"
    }
   ],
   "source": [
    "b"
   ]
  },
  {
   "cell_type": "code",
   "execution_count": 44,
   "id": "009e3caf-eabb-47e2-ae99-42a8519e1b0b",
   "metadata": {},
   "outputs": [
    {
     "data": {
      "text/plain": [
       "False"
      ]
     },
     "execution_count": 44,
     "metadata": {},
     "output_type": "execute_result"
    }
   ],
   "source": [
    "b1 "
   ]
  },
  {
   "cell_type": "code",
   "execution_count": 45,
   "id": "d950faa0-5d27-4b1a-b600-35777cc7b506",
   "metadata": {},
   "outputs": [
    {
     "data": {
      "text/plain": [
       "1"
      ]
     },
     "execution_count": 45,
     "metadata": {},
     "output_type": "execute_result"
    }
   ],
   "source": [
    "b + b1 # (1 + 0 = 1)"
   ]
  },
  {
   "cell_type": "code",
   "execution_count": 47,
   "id": "5fc4f511-8d8b-46a3-9469-ffbd2bd68f88",
   "metadata": {},
   "outputs": [
    {
     "name": "stdout",
     "output_type": "stream",
     "text": [
      "0\n",
      "1\n",
      "0.0\n",
      "0\n"
     ]
    }
   ],
   "source": [
    "print(b * b1) # (1 * 0 = 0)\n",
    "print(b - b1) # (1 - 0 = 1)\n",
    "print(b1 / b) # (1 / 0 = 0.0) float division\n",
    "print(b1 // b) ## (1  // = 0) int division"
   ]
  },
  {
   "cell_type": "markdown",
   "id": "178901b6-d8f0-4ba6-b824-646b0f24508d",
   "metadata": {},
   "source": [
    "# Complex --> a + ij\n",
    "* real + imaginary* 1j\n",
    "* Datatype we can use motre math opearion"
   ]
  },
  {
   "cell_type": "code",
   "execution_count": null,
   "id": "b24d549d-6dc6-4bd5-8343-6a13c20c5d23",
   "metadata": {},
   "outputs": [],
   "source": [
    "a =  real part \n",
    "b =  imaginary part\n",
    "c = square root of -1"
   ]
  },
  {
   "cell_type": "code",
   "execution_count": 50,
   "id": "4c438639-59c0-4aa0-8a27-9d68fc13303b",
   "metadata": {},
   "outputs": [
    {
     "data": {
      "text/plain": [
       "(10+20j)"
      ]
     },
     "execution_count": 50,
     "metadata": {},
     "output_type": "execute_result"
    }
   ],
   "source": [
    "c1  = 10 + 20j\n",
    "c1"
   ]
  },
  {
   "cell_type": "code",
   "execution_count": 58,
   "id": "c64211a5-13c2-4b89-9a62-dacc80a55633",
   "metadata": {},
   "outputs": [
    {
     "ename": "SyntaxError",
     "evalue": "invalid decimal literal (3777439605.py, line 1)",
     "output_type": "error",
     "traceback": [
      "\u001b[1;36m  Cell \u001b[1;32mIn[58], line 1\u001b[1;36m\u001b[0m\n\u001b[1;33m    C = 10 + 30a\u001b[0m\n\u001b[1;37m              ^\u001b[0m\n\u001b[1;31mSyntaxError\u001b[0m\u001b[1;31m:\u001b[0m invalid decimal literal\n"
     ]
    }
   ],
   "source": [
    "C = 10 + 30a"
   ]
  },
  {
   "cell_type": "code",
   "execution_count": 51,
   "id": "ce43ae7d-d7ab-40ee-9cca-1719414c1d65",
   "metadata": {},
   "outputs": [
    {
     "data": {
      "text/plain": [
       "complex"
      ]
     },
     "execution_count": 51,
     "metadata": {},
     "output_type": "execute_result"
    }
   ],
   "source": [
    "type(c1)"
   ]
  },
  {
   "cell_type": "code",
   "execution_count": 54,
   "id": "a9d31335-3e38-409c-a899-21afc8b43988",
   "metadata": {},
   "outputs": [
    {
     "data": {
      "text/plain": [
       "10.0"
      ]
     },
     "execution_count": 54,
     "metadata": {},
     "output_type": "execute_result"
    }
   ],
   "source": [
    "c1.real"
   ]
  },
  {
   "cell_type": "code",
   "execution_count": 55,
   "id": "9f20c05e-4fbb-4c26-8b3d-3cada10420fa",
   "metadata": {},
   "outputs": [
    {
     "data": {
      "text/plain": [
       "20.0"
      ]
     },
     "execution_count": 55,
     "metadata": {},
     "output_type": "execute_result"
    }
   ],
   "source": [
    "c1.imag"
   ]
  },
  {
   "cell_type": "code",
   "execution_count": 56,
   "id": "7673af04-c91b-4628-b0c1-f0661663283d",
   "metadata": {},
   "outputs": [
    {
     "data": {
      "text/plain": [
       "<function complex.conjugate()>"
      ]
     },
     "execution_count": 56,
     "metadata": {},
     "output_type": "execute_result"
    }
   ],
   "source": [
    "c1.conjugate"
   ]
  },
  {
   "cell_type": "code",
   "execution_count": 59,
   "id": "4c99f92b-6c59-4b43-832b-cc7269475e53",
   "metadata": {},
   "outputs": [
    {
     "data": {
      "text/plain": [
       "(3+5j)"
      ]
     },
     "execution_count": 59,
     "metadata": {},
     "output_type": "execute_result"
    }
   ],
   "source": [
    "c2 = 3 + 5j\n",
    "c2"
   ]
  },
  {
   "cell_type": "code",
   "execution_count": 61,
   "id": "3b1598ec-9d4d-4f29-b28d-c084df8bef03",
   "metadata": {},
   "outputs": [
    {
     "name": "stdout",
     "output_type": "stream",
     "text": [
      "(10+20j)\n",
      "(3+5j)\n"
     ]
    }
   ],
   "source": [
    "print(c1)\n",
    "print(c2)"
   ]
  },
  {
   "cell_type": "code",
   "execution_count": 60,
   "id": "8db0aee2-4ecf-4cbb-bdf9-45686e5c947b",
   "metadata": {},
   "outputs": [
    {
     "name": "stdout",
     "output_type": "stream",
     "text": [
      "(13+25j)\n"
     ]
    }
   ],
   "source": [
    "print(c1 + c2)"
   ]
  },
  {
   "cell_type": "raw",
   "id": "39ba3636-b6f0-4e7d-abd9-74c396605783",
   "metadata": {},
   "source": [
    "python function alwyas ends with ():\n",
    "\n",
    "fam3():--> Define the fam3 function without argument or without parameter\n",
    "fam1(d,m): --> Define the fam1 function with 2 argument or with  2 parameter\n",
    "fam2(d,m,s,d): Define the fam2 function with 4 argument or with  4 parameter\n",
    "\n",
    "1bhk(sand,bricks,labour,came,iron, sqt)--> 6 parameters"
   ]
  },
  {
   "cell_type": "markdown",
   "id": "6e7e85e5-3bfa-4303-a590-c99656fcadc5",
   "metadata": {},
   "source": [
    "# Python type casting "
   ]
  },
  {
   "cell_type": "markdown",
   "id": "a3914325-1865-4373-80cb-facf627960c7",
   "metadata": {},
   "source": [
    "### Type casting or Type Conversion"
   ]
  },
  {
   "cell_type": "code",
   "execution_count": 62,
   "id": "82cbc352-e415-414d-ae9c-9ce33bc53a51",
   "metadata": {},
   "outputs": [
    {
     "data": {
      "text/plain": [
       "3"
      ]
     },
     "execution_count": 62,
     "metadata": {},
     "output_type": "execute_result"
    }
   ],
   "source": [
    "# Convert float datatypes into integers                            \n",
    "int(3.4)"
   ]
  },
  {
   "cell_type": "code",
   "execution_count": 65,
   "id": "3579f2ee-e098-4579-ad85-18c640fa5292",
   "metadata": {},
   "outputs": [
    {
     "data": {
      "text/plain": [
       "5"
      ]
     },
     "execution_count": 65,
     "metadata": {},
     "output_type": "execute_result"
    }
   ],
   "source": [
    "int(5.5)"
   ]
  },
  {
   "cell_type": "code",
   "execution_count": 66,
   "id": "934efb5e-b640-4118-b216-7d6e3870b3c9",
   "metadata": {},
   "outputs": [
    {
     "data": {
      "text/plain": [
       "1"
      ]
     },
     "execution_count": 66,
     "metadata": {},
     "output_type": "execute_result"
    }
   ],
   "source": [
    "# Bool to int\n",
    "int(True)"
   ]
  },
  {
   "cell_type": "code",
   "execution_count": 67,
   "id": "c8d6589e-2f77-4cf3-9c8a-42d87cf90e41",
   "metadata": {},
   "outputs": [
    {
     "ename": "TypeError",
     "evalue": "int() can't convert non-string with explicit base",
     "output_type": "error",
     "traceback": [
      "\u001b[1;31m---------------------------------------------------------------------------\u001b[0m",
      "\u001b[1;31mTypeError\u001b[0m                                 Traceback (most recent call last)",
      "Cell \u001b[1;32mIn[67], line 1\u001b[0m\n\u001b[1;32m----> 1\u001b[0m \u001b[38;5;28mint\u001b[39m(\u001b[38;5;28;01mTrue\u001b[39;00m,\u001b[38;5;28;01mFalse\u001b[39;00m)\n",
      "\u001b[1;31mTypeError\u001b[0m: int() can't convert non-string with explicit base"
     ]
    }
   ],
   "source": [
    "int(True,False) # only one argument required"
   ]
  },
  {
   "cell_type": "code",
   "execution_count": 68,
   "id": "eac49600-0981-4828-bfae-1596d4ec4030",
   "metadata": {},
   "outputs": [
    {
     "data": {
      "text/plain": [
       "0"
      ]
     },
     "execution_count": 68,
     "metadata": {},
     "output_type": "execute_result"
    }
   ],
   "source": [
    "int(False)"
   ]
  },
  {
   "cell_type": "code",
   "execution_count": 74,
   "id": "819352f9-1c29-461f-b269-595d8a6d6c9f",
   "metadata": {},
   "outputs": [
    {
     "name": "stdout",
     "output_type": "stream",
     "text": [
      "3\n",
      "1\n",
      "10\n"
     ]
    }
   ],
   "source": [
    "print(int(3.4))\n",
    "print(int(True))\n",
    "print(int('10'))"
   ]
  },
  {
   "cell_type": "code",
   "execution_count": 75,
   "id": "e69853f7-2d1d-45de-a36f-bedf797d8340",
   "metadata": {},
   "outputs": [
    {
     "ename": "TypeError",
     "evalue": "int() argument must be a string, a bytes-like object or a real number, not 'complex'",
     "output_type": "error",
     "traceback": [
      "\u001b[1;31m---------------------------------------------------------------------------\u001b[0m",
      "\u001b[1;31mTypeError\u001b[0m                                 Traceback (most recent call last)",
      "Cell \u001b[1;32mIn[75], line 1\u001b[0m\n\u001b[1;32m----> 1\u001b[0m \u001b[38;5;28mprint\u001b[39m(\u001b[38;5;28mint\u001b[39m(\u001b[38;5;241m10\u001b[39m\u001b[38;5;241m+\u001b[39m\u001b[38;5;241m20\u001b[39mj))\n",
      "\u001b[1;31mTypeError\u001b[0m: int() argument must be a string, a bytes-like object or a real number, not 'complex'"
     ]
    }
   ],
   "source": [
    "print(int(10+20j)) # From int typecasting int to complex is not possible"
   ]
  },
  {
   "cell_type": "code",
   "execution_count": 76,
   "id": "8c018470-ff11-4eff-85be-2f0c843f7c00",
   "metadata": {},
   "outputs": [
    {
     "ename": "ValueError",
     "evalue": "invalid literal for int() with base 10: 'ten'",
     "output_type": "error",
     "traceback": [
      "\u001b[1;31m---------------------------------------------------------------------------\u001b[0m",
      "\u001b[1;31mValueError\u001b[0m                                Traceback (most recent call last)",
      "Cell \u001b[1;32mIn[76], line 1\u001b[0m\n\u001b[1;32m----> 1\u001b[0m \u001b[38;5;28mint\u001b[39m(\u001b[38;5;124m'\u001b[39m\u001b[38;5;124mten\u001b[39m\u001b[38;5;124m'\u001b[39m)\n",
      "\u001b[1;31mValueError\u001b[0m: invalid literal for int() with base 10: 'ten'"
     ]
    }
   ],
   "source": [
    "int('ten') # in string only number string are allowed not alphabetical string"
   ]
  },
  {
   "cell_type": "code",
   "execution_count": null,
   "id": "90f44091-a77c-4fc5-abc0-635155e3746a",
   "metadata": {},
   "outputs": [],
   "source": [
    "# From all other datatypes to integers"
   ]
  },
  {
   "cell_type": "markdown",
   "id": "af075f36-ca22-46f4-8737-7f42cf220852",
   "metadata": {},
   "source": [
    "# VS-Code Extensions List"
   ]
  },
  {
   "cell_type": "raw",
   "id": "ae714008-99d1-47fe-9bfa-f615c04deb48",
   "metadata": {},
   "source": [
    "autoDocstring\n",
    "Arepl\n",
    "cline\n",
    "code runner\n",
    "github coplit\n",
    "gitlens\n",
    "intellicode\n",
    "jupyter notebook\n",
    "markdownlint\n",
    "python\n",
    "pdf viewer\n",
    "Python image preview\n",
    "Python Extension Pack\n",
    "YAML\n",
    "office viewer"
   ]
  },
  {
   "cell_type": "markdown",
   "id": "b82413c5-2673-4567-82a5-287bbd6c9c8b",
   "metadata": {},
   "source": [
    "# 18th April"
   ]
  },
  {
   "cell_type": "code",
   "execution_count": 1,
   "id": "421279c4-327e-4b92-9db4-514e7e0b8385",
   "metadata": {},
   "outputs": [
    {
     "data": {
      "text/plain": [
       "23.0"
      ]
     },
     "execution_count": 1,
     "metadata": {},
     "output_type": "execute_result"
    }
   ],
   "source": [
    "# From int to float \n",
    "float(23)"
   ]
  },
  {
   "cell_type": "code",
   "execution_count": 2,
   "id": "9f154c29-229b-4904-b176-b70cd004666a",
   "metadata": {},
   "outputs": [
    {
     "data": {
      "text/plain": [
       "1.0"
      ]
     },
     "execution_count": 2,
     "metadata": {},
     "output_type": "execute_result"
    }
   ],
   "source": [
    "#from bool  to float \n",
    "float(True)"
   ]
  },
  {
   "cell_type": "code",
   "execution_count": 3,
   "id": "7c2a9186-bbec-4cf3-bc70-ced781798e4b",
   "metadata": {},
   "outputs": [
    {
     "data": {
      "text/plain": [
       "0.0"
      ]
     },
     "execution_count": 3,
     "metadata": {},
     "output_type": "execute_result"
    }
   ],
   "source": [
    "float(False)"
   ]
  },
  {
   "cell_type": "code",
   "execution_count": 7,
   "id": "69984223-2987-4c39-9598-4907b006688f",
   "metadata": {},
   "outputs": [
    {
     "ename": "TypeError",
     "evalue": "float() argument must be a string or a real number, not 'complex'",
     "output_type": "error",
     "traceback": [
      "\u001b[1;31m---------------------------------------------------------------------------\u001b[0m",
      "\u001b[1;31mTypeError\u001b[0m                                 Traceback (most recent call last)",
      "Cell \u001b[1;32mIn[7], line 2\u001b[0m\n\u001b[0;32m      1\u001b[0m \u001b[38;5;66;03m# Complex to float typecasting is not allowed\u001b[39;00m\n\u001b[1;32m----> 2\u001b[0m \u001b[38;5;28mfloat\u001b[39m(\u001b[38;5;241m5\u001b[39m \u001b[38;5;241m+\u001b[39m \u001b[38;5;241m10\u001b[39mj)\n",
      "\u001b[1;31mTypeError\u001b[0m: float() argument must be a string or a real number, not 'complex'"
     ]
    }
   ],
   "source": [
    "# Complex to float typecasting is not allowed\n",
    "float(5 + 10j)"
   ]
  },
  {
   "cell_type": "code",
   "execution_count": 5,
   "id": "e43c10e9-b9af-48d0-add9-7a60d4a0b218",
   "metadata": {},
   "outputs": [
    {
     "data": {
      "text/plain": [
       "10.0"
      ]
     },
     "execution_count": 5,
     "metadata": {},
     "output_type": "execute_result"
    }
   ],
   "source": [
    "# from string to float\n",
    "float('10')"
   ]
  },
  {
   "cell_type": "code",
   "execution_count": 6,
   "id": "1a59c9d0-537f-4dcf-ab54-9b5d951f5f02",
   "metadata": {},
   "outputs": [
    {
     "ename": "ValueError",
     "evalue": "could not convert string to float: 'ten'",
     "output_type": "error",
     "traceback": [
      "\u001b[1;31m---------------------------------------------------------------------------\u001b[0m",
      "\u001b[1;31mValueError\u001b[0m                                Traceback (most recent call last)",
      "Cell \u001b[1;32mIn[6], line 1\u001b[0m\n\u001b[1;32m----> 1\u001b[0m \u001b[38;5;28mfloat\u001b[39m(\u001b[38;5;124m'\u001b[39m\u001b[38;5;124mten\u001b[39m\u001b[38;5;124m'\u001b[39m)\n",
      "\u001b[1;31mValueError\u001b[0m: could not convert string to float: 'ten'"
     ]
    }
   ],
   "source": [
    "float('ten') # only numeric string is allowed"
   ]
  },
  {
   "cell_type": "markdown",
   "id": "9957499a-ae88-4f48-ae7f-ac6176001135",
   "metadata": {},
   "source": [
    "### From other dataypes to float except complex & 'string text'"
   ]
  },
  {
   "cell_type": "code",
   "execution_count": 9,
   "id": "a813fe66-63ea-44b8-b352-2a3a3ce45c49",
   "metadata": {},
   "outputs": [
    {
     "data": {
      "text/plain": [
       "(10+0j)"
      ]
     },
     "execution_count": 9,
     "metadata": {},
     "output_type": "execute_result"
    }
   ],
   "source": [
    "# Int to complex\n",
    "complex(10)"
   ]
  },
  {
   "cell_type": "code",
   "execution_count": 10,
   "id": "8d19e167-8325-41d0-8d2b-527e7a0f3925",
   "metadata": {},
   "outputs": [
    {
     "data": {
      "text/plain": [
       "(10+20j)"
      ]
     },
     "execution_count": 10,
     "metadata": {},
     "output_type": "execute_result"
    }
   ],
   "source": [
    "complex(10,20)"
   ]
  },
  {
   "cell_type": "code",
   "execution_count": 11,
   "id": "8bd75f9e-1642-4248-9581-75cd7bbf330f",
   "metadata": {},
   "outputs": [
    {
     "ename": "TypeError",
     "evalue": "complex() takes at most 2 arguments (3 given)",
     "output_type": "error",
     "traceback": [
      "\u001b[1;31m---------------------------------------------------------------------------\u001b[0m",
      "\u001b[1;31mTypeError\u001b[0m                                 Traceback (most recent call last)",
      "Cell \u001b[1;32mIn[11], line 1\u001b[0m\n\u001b[1;32m----> 1\u001b[0m \u001b[38;5;28mcomplex\u001b[39m(\u001b[38;5;241m10\u001b[39m,\u001b[38;5;241m20\u001b[39m,\u001b[38;5;241m30\u001b[39m)\n",
      "\u001b[1;31mTypeError\u001b[0m: complex() takes at most 2 arguments (3 given)"
     ]
    }
   ],
   "source": [
    "complex(10,20,30) # only two arguments required "
   ]
  },
  {
   "cell_type": "code",
   "execution_count": 12,
   "id": "c865d720-85d7-49c9-9cd3-2ae55e283661",
   "metadata": {},
   "outputs": [
    {
     "data": {
      "text/plain": [
       "(1+0j)"
      ]
     },
     "execution_count": 12,
     "metadata": {},
     "output_type": "execute_result"
    }
   ],
   "source": [
    "complex(True)"
   ]
  },
  {
   "cell_type": "code",
   "execution_count": 13,
   "id": "1aac0afe-79a8-4280-a7e7-fa326e28d737",
   "metadata": {},
   "outputs": [
    {
     "data": {
      "text/plain": [
       "0j"
      ]
     },
     "execution_count": 13,
     "metadata": {},
     "output_type": "execute_result"
    }
   ],
   "source": [
    "complex(False)"
   ]
  },
  {
   "cell_type": "code",
   "execution_count": 14,
   "id": "e357f187-341e-45c9-b109-4ce648638324",
   "metadata": {},
   "outputs": [
    {
     "data": {
      "text/plain": [
       "(1+0j)"
      ]
     },
     "execution_count": 14,
     "metadata": {},
     "output_type": "execute_result"
    }
   ],
   "source": [
    "complex(True,False)"
   ]
  },
  {
   "cell_type": "code",
   "execution_count": 15,
   "id": "60b38bf8-1adc-4930-8640-77207c2d10d2",
   "metadata": {},
   "outputs": [
    {
     "data": {
      "text/plain": [
       "1j"
      ]
     },
     "execution_count": 15,
     "metadata": {},
     "output_type": "execute_result"
    }
   ],
   "source": [
    "complex(False,True)"
   ]
  },
  {
   "cell_type": "code",
   "execution_count": 16,
   "id": "3384f0b4-8a7c-46c2-b24a-5fe086554f1b",
   "metadata": {},
   "outputs": [
    {
     "data": {
      "text/plain": [
       "(20.5+0j)"
      ]
     },
     "execution_count": 16,
     "metadata": {},
     "output_type": "execute_result"
    }
   ],
   "source": [
    "complex(20.5)"
   ]
  },
  {
   "cell_type": "code",
   "execution_count": 17,
   "id": "de4b8028-8913-4531-8c85-4bfbbe9852b5",
   "metadata": {},
   "outputs": [
    {
     "data": {
      "text/plain": [
       "(10+0j)"
      ]
     },
     "execution_count": 17,
     "metadata": {},
     "output_type": "execute_result"
    }
   ],
   "source": [
    "# From string to complex\n",
    "complex('10')"
   ]
  },
  {
   "cell_type": "code",
   "execution_count": 18,
   "id": "f4a1e3cb-c65c-4594-814f-a8b58512087b",
   "metadata": {},
   "outputs": [
    {
     "data": {
      "text/plain": [
       "(3.2+5.6j)"
      ]
     },
     "execution_count": 18,
     "metadata": {},
     "output_type": "execute_result"
    }
   ],
   "source": [
    "# From float to complex\n",
    "complex(3.2,5.6)"
   ]
  },
  {
   "cell_type": "markdown",
   "id": "caf1c025-c435-43ad-bd6d-6a713c7dcf29",
   "metadata": {},
   "source": [
    "### From other datatypes to complex and text string is not possible"
   ]
  },
  {
   "cell_type": "code",
   "execution_count": 19,
   "id": "2085de44-ebff-4ba1-9403-79562aad237c",
   "metadata": {},
   "outputs": [
    {
     "data": {
      "text/plain": [
       "True"
      ]
     },
     "execution_count": 19,
     "metadata": {},
     "output_type": "execute_result"
    }
   ],
   "source": [
    "bool(10) # Non-zero returns true and zero returns False"
   ]
  },
  {
   "cell_type": "code",
   "execution_count": 23,
   "id": "760cd133-a9a0-4031-bf48-7a080dbdba17",
   "metadata": {},
   "outputs": [
    {
     "data": {
      "text/plain": [
       "False"
      ]
     },
     "execution_count": 23,
     "metadata": {},
     "output_type": "execute_result"
    }
   ],
   "source": [
    "bool(0)"
   ]
  },
  {
   "cell_type": "code",
   "execution_count": 22,
   "id": "148b87da-4491-4293-a99f-6811ebee219a",
   "metadata": {},
   "outputs": [
    {
     "data": {
      "text/plain": [
       "True"
      ]
     },
     "execution_count": 22,
     "metadata": {},
     "output_type": "execute_result"
    }
   ],
   "source": [
    "bool(3.2)"
   ]
  },
  {
   "cell_type": "code",
   "execution_count": 21,
   "id": "9aab2c8f-e3ca-41f4-85be-8b424635aa8c",
   "metadata": {},
   "outputs": [
    {
     "data": {
      "text/plain": [
       "True"
      ]
     },
     "execution_count": 21,
     "metadata": {},
     "output_type": "execute_result"
    }
   ],
   "source": [
    "bool(10+10j)"
   ]
  },
  {
   "cell_type": "code",
   "execution_count": 24,
   "id": "d4d6eddd-d929-4286-be08-5e8b6b806acd",
   "metadata": {},
   "outputs": [
    {
     "data": {
      "text/plain": [
       "False"
      ]
     },
     "execution_count": 24,
     "metadata": {},
     "output_type": "execute_result"
    }
   ],
   "source": [
    "bool(0.0)"
   ]
  },
  {
   "cell_type": "code",
   "execution_count": 25,
   "id": "5ec472c7-8b93-4657-a049-ae9101fc0a0c",
   "metadata": {},
   "outputs": [
    {
     "data": {
      "text/plain": [
       "True"
      ]
     },
     "execution_count": 25,
     "metadata": {},
     "output_type": "execute_result"
    }
   ],
   "source": [
    "bool('10')"
   ]
  },
  {
   "cell_type": "code",
   "execution_count": 28,
   "id": "b5fb89ae-d4a1-4c6b-aa10-76039daa175f",
   "metadata": {},
   "outputs": [
    {
     "data": {
      "text/plain": [
       "True"
      ]
     },
     "execution_count": 28,
     "metadata": {},
     "output_type": "execute_result"
    }
   ],
   "source": [
    "bool('python')"
   ]
  },
  {
   "cell_type": "code",
   "execution_count": 26,
   "id": "5740247c-b05c-4b93-9c8a-00060bc95f7c",
   "metadata": {},
   "outputs": [
    {
     "data": {
      "text/plain": [
       "False"
      ]
     },
     "execution_count": 26,
     "metadata": {},
     "output_type": "execute_result"
    }
   ],
   "source": [
    "bool(0+0j)"
   ]
  },
  {
   "cell_type": "code",
   "execution_count": 29,
   "id": "746aff66-b3ee-488e-9f60-db3af770da43",
   "metadata": {},
   "outputs": [
    {
     "data": {
      "text/plain": [
       "True"
      ]
     },
     "execution_count": 29,
     "metadata": {},
     "output_type": "execute_result"
    }
   ],
   "source": [
    "bool(_)"
   ]
  },
  {
   "cell_type": "code",
   "execution_count": 30,
   "id": "03d35526-5a74-4629-b824-36ca87603760",
   "metadata": {},
   "outputs": [
    {
     "data": {
      "text/plain": [
       "False"
      ]
     },
     "execution_count": 30,
     "metadata": {},
     "output_type": "execute_result"
    }
   ],
   "source": [
    "bool( )"
   ]
  },
  {
   "cell_type": "markdown",
   "id": "15b35137-9679-4d1a-a657-015d02f88ee0",
   "metadata": {},
   "source": [
    "# String indexing & Slicing, advanced slicing"
   ]
  },
  {
   "cell_type": "code",
   "execution_count": 31,
   "id": "6892f7a4-9c18-42a3-b2af-de496aeca95a",
   "metadata": {},
   "outputs": [],
   "source": [
    "s1 = 'HELLOPYTHON'"
   ]
  },
  {
   "cell_type": "code",
   "execution_count": 32,
   "id": "7130a243-9722-4bd3-8227-3757bfa6c86b",
   "metadata": {},
   "outputs": [
    {
     "data": {
      "text/plain": [
       "'HELLOPYTHON'"
      ]
     },
     "execution_count": 32,
     "metadata": {},
     "output_type": "execute_result"
    }
   ],
   "source": [
    "s1[:] # : Slicing"
   ]
  },
  {
   "cell_type": "code",
   "execution_count": 36,
   "id": "31ba752d-9757-425a-bbcf-63ebd68a438b",
   "metadata": {},
   "outputs": [
    {
     "name": "stdout",
     "output_type": "stream",
     "text": [
      "H\n",
      "E\n",
      "L\n",
      "L\n",
      "O\n",
      "P\n",
      "Y\n",
      "T\n",
      "H\n",
      "O\n",
      "N\n"
     ]
    }
   ],
   "source": [
    "for i in s1:\n",
    "    print(i)"
   ]
  },
  {
   "cell_type": "code",
   "execution_count": 37,
   "id": "26ea2f51-5371-467a-b493-f4b4d7410425",
   "metadata": {},
   "outputs": [
    {
     "data": {
      "text/plain": [
       "'HELLOPYTHON'"
      ]
     },
     "execution_count": 37,
     "metadata": {},
     "output_type": "execute_result"
    }
   ],
   "source": [
    "s1"
   ]
  },
  {
   "cell_type": "code",
   "execution_count": 39,
   "id": "0bca93b3-83dd-4fd7-827e-b2a2844c76f7",
   "metadata": {},
   "outputs": [
    {
     "data": {
      "text/plain": [
       "'H'"
      ]
     },
     "execution_count": 39,
     "metadata": {},
     "output_type": "execute_result"
    }
   ],
   "source": [
    "s1[0]"
   ]
  },
  {
   "cell_type": "code",
   "execution_count": 41,
   "id": "d106fa85-47c5-4c79-bc16-fbf1f29e66c3",
   "metadata": {},
   "outputs": [
    {
     "data": {
      "text/plain": [
       "'E'"
      ]
     },
     "execution_count": 41,
     "metadata": {},
     "output_type": "execute_result"
    }
   ],
   "source": [
    "s1[1]"
   ]
  },
  {
   "cell_type": "code",
   "execution_count": 42,
   "id": "a850d74a-58d8-4e20-995b-3a93d2d6d6f4",
   "metadata": {},
   "outputs": [
    {
     "ename": "IndexError",
     "evalue": "string index out of range",
     "output_type": "error",
     "traceback": [
      "\u001b[1;31m---------------------------------------------------------------------------\u001b[0m",
      "\u001b[1;31mIndexError\u001b[0m                                Traceback (most recent call last)",
      "Cell \u001b[1;32mIn[42], line 1\u001b[0m\n\u001b[1;32m----> 1\u001b[0m s1[\u001b[38;5;241m20\u001b[39m]\n",
      "\u001b[1;31mIndexError\u001b[0m: string index out of range"
     ]
    }
   ],
   "source": [
    "s1[20]"
   ]
  },
  {
   "cell_type": "code",
   "execution_count": 43,
   "id": "c661facf-6fd5-47d3-8170-c003e17072dd",
   "metadata": {},
   "outputs": [
    {
     "data": {
      "text/plain": [
       "'N'"
      ]
     },
     "execution_count": 43,
     "metadata": {},
     "output_type": "execute_result"
    }
   ],
   "source": [
    "s1[10]"
   ]
  },
  {
   "cell_type": "code",
   "execution_count": 44,
   "id": "af38b1d2-7ca4-4ccd-bcff-245749a29045",
   "metadata": {},
   "outputs": [
    {
     "data": {
      "text/plain": [
       "'N'"
      ]
     },
     "execution_count": 44,
     "metadata": {},
     "output_type": "execute_result"
    }
   ],
   "source": [
    "s1[-1]"
   ]
  },
  {
   "cell_type": "code",
   "execution_count": 45,
   "id": "d87e3d2b-198b-45c8-b43d-4e7d8907fa10",
   "metadata": {},
   "outputs": [
    {
     "data": {
      "text/plain": [
       "'T'"
      ]
     },
     "execution_count": 45,
     "metadata": {},
     "output_type": "execute_result"
    }
   ],
   "source": [
    "s1[-4]"
   ]
  },
  {
   "cell_type": "code",
   "execution_count": 46,
   "id": "58cf94ac-22ae-4054-a1d6-116c52772b75",
   "metadata": {},
   "outputs": [
    {
     "data": {
      "text/plain": [
       "'NOHTYPOLLEH'"
      ]
     },
     "execution_count": 46,
     "metadata": {},
     "output_type": "execute_result"
    }
   ],
   "source": [
    "s1[::-1]"
   ]
  },
  {
   "cell_type": "code",
   "execution_count": 47,
   "id": "29ea8d20-20da-4780-9b9e-f0fd4907b2e8",
   "metadata": {},
   "outputs": [
    {
     "data": {
      "text/plain": [
       "'HELLOPYTHON'"
      ]
     },
     "execution_count": 47,
     "metadata": {},
     "output_type": "execute_result"
    }
   ],
   "source": [
    "s1"
   ]
  },
  {
   "cell_type": "code",
   "execution_count": 49,
   "id": "df4f290a-e34e-4b03-8c67-5392d8411ebf",
   "metadata": {},
   "outputs": [
    {
     "data": {
      "text/plain": [
       "'HELLO'"
      ]
     },
     "execution_count": 49,
     "metadata": {},
     "output_type": "execute_result"
    }
   ],
   "source": [
    "s1[0:5]"
   ]
  },
  {
   "cell_type": "code",
   "execution_count": 50,
   "id": "938323e2-2316-4fae-b086-00b75c6c85fd",
   "metadata": {},
   "outputs": [
    {
     "data": {
      "text/plain": [
       "'HELLOPYTHO'"
      ]
     },
     "execution_count": 50,
     "metadata": {},
     "output_type": "execute_result"
    }
   ],
   "source": [
    "s1[0:-1]"
   ]
  },
  {
   "cell_type": "code",
   "execution_count": 51,
   "id": "94a413d3-e943-4631-ab89-7f1e2577569d",
   "metadata": {},
   "outputs": [
    {
     "data": {
      "text/plain": [
       "'HELLOPYTH'"
      ]
     },
     "execution_count": 51,
     "metadata": {},
     "output_type": "execute_result"
    }
   ],
   "source": [
    "s1[0:-2]"
   ]
  },
  {
   "cell_type": "code",
   "execution_count": 52,
   "id": "47103161-c3bc-4452-af30-659d2e8563d8",
   "metadata": {},
   "outputs": [
    {
     "data": {
      "text/plain": [
       "'ELLOPYTHON'"
      ]
     },
     "execution_count": 52,
     "metadata": {},
     "output_type": "execute_result"
    }
   ],
   "source": [
    "s1[1:20]"
   ]
  },
  {
   "cell_type": "code",
   "execution_count": 53,
   "id": "010a4ffb-6c47-4346-9f4d-155daf6b75a3",
   "metadata": {},
   "outputs": [
    {
     "data": {
      "text/plain": [
       "'HELLO'"
      ]
     },
     "execution_count": 53,
     "metadata": {},
     "output_type": "execute_result"
    }
   ],
   "source": [
    "s1[:5]"
   ]
  },
  {
   "cell_type": "code",
   "execution_count": 54,
   "id": "182a2de6-a8d2-4021-8f8a-a024c61dce1f",
   "metadata": {},
   "outputs": [
    {
     "data": {
      "text/plain": [
       "'PYTHON'"
      ]
     },
     "execution_count": 54,
     "metadata": {},
     "output_type": "execute_result"
    }
   ],
   "source": [
    "s1[5:]"
   ]
  },
  {
   "cell_type": "code",
   "execution_count": 55,
   "id": "f87f9825-81ce-46f7-9ecd-317a4604e1b3",
   "metadata": {},
   "outputs": [
    {
     "data": {
      "text/plain": [
       "'HELLOPYTHON'"
      ]
     },
     "execution_count": 55,
     "metadata": {},
     "output_type": "execute_result"
    }
   ],
   "source": [
    "s1"
   ]
  },
  {
   "cell_type": "code",
   "execution_count": 58,
   "id": "4a1e68de-7e4f-4187-bb1f-7bde355d8aed",
   "metadata": {},
   "outputs": [
    {
     "data": {
      "text/plain": [
       "'HLOYHN'"
      ]
     },
     "execution_count": 58,
     "metadata": {},
     "output_type": "execute_result"
    }
   ],
   "source": [
    "s1[0:11:2]"
   ]
  },
  {
   "cell_type": "code",
   "execution_count": 59,
   "id": "c1a957c8-d132-4f86-85dd-be9a91bbad35",
   "metadata": {},
   "outputs": [
    {
     "data": {
      "text/plain": [
       "'HPN'"
      ]
     },
     "execution_count": 59,
     "metadata": {},
     "output_type": "execute_result"
    }
   ],
   "source": [
    "s1[0:11:5]"
   ]
  },
  {
   "cell_type": "markdown",
   "id": "0464e9b9-195a-47e6-bf1f-c2da3c734474",
   "metadata": {},
   "source": [
    "### String indexing & slicing we are complete and tomorrow datastructure will start"
   ]
  },
  {
   "cell_type": "markdown",
   "id": "d96b2044-e5fe-4121-84b0-ce88fb2759d7",
   "metadata": {},
   "source": [
    "# 19th April"
   ]
  },
  {
   "cell_type": "code",
   "execution_count": null,
   "id": "6b4ef928-833b-4b1b-87dc-14190817b466",
   "metadata": {},
   "outputs": [],
   "source": []
  }
 ],
 "metadata": {
  "kernelspec": {
   "display_name": "Python 3 (ipykernel)",
   "language": "python",
   "name": "python3"
  },
  "language_info": {
   "codemirror_mode": {
    "name": "ipython",
    "version": 3
   },
   "file_extension": ".py",
   "mimetype": "text/x-python",
   "name": "python",
   "nbconvert_exporter": "python",
   "pygments_lexer": "ipython3",
   "version": "3.11.5"
  }
 },
 "nbformat": 4,
 "nbformat_minor": 5
}
