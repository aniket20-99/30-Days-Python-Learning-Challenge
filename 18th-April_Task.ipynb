{
 "cells": [
  {
   "cell_type": "markdown",
   "id": "01ec0e0a-2b37-4457-817f-b064aecc32d0",
   "metadata": {
    "vscode": {
     "languageId": "plaintext"
    }
   },
   "source": [
    "# Python Print Statement"
   ]
  },
  {
   "cell_type": "code",
   "execution_count": null,
   "id": "53b7f719-16e4-49a6-9c1f-5526cb57c30f",
   "metadata": {},
   "outputs": [],
   "source": [
    "# print is used for answer"
   ]
  },
  {
   "cell_type": "code",
   "execution_count": 1,
   "id": "4c540b69-ebfd-4467-8ae5-4940236bbf90",
   "metadata": {},
   "outputs": [
    {
     "data": {
      "text/plain": [
       "20"
      ]
     },
     "execution_count": 1,
     "metadata": {},
     "output_type": "execute_result"
    }
   ],
   "source": [
    "a = 20\n",
    "b = 20\n",
    "a\n",
    "b"
   ]
  },
  {
   "cell_type": "code",
   "execution_count": 2,
   "id": "a42e1010-4923-4b14-a146-788170a50343",
   "metadata": {},
   "outputs": [
    {
     "name": "stdout",
     "output_type": "stream",
     "text": [
      "30\n",
      "25\n"
     ]
    }
   ],
   "source": [
    "a = 30\n",
    "b = 25\n",
    "print(a)\n",
    "print(b)"
   ]
  },
  {
   "cell_type": "code",
   "execution_count": 3,
   "id": "94d6662f-3aa9-4639-a857-4bd4d3cc89c7",
   "metadata": {},
   "outputs": [
    {
     "name": "stdout",
     "output_type": "stream",
     "text": [
      "10\n",
      "10 20\n",
      "Python\n",
      "10 20 Python\n"
     ]
    }
   ],
   "source": [
    "print(10)\n",
    "print(10,20)\n",
    "print('Python')\n",
    "print(10,20,'Python')"
   ]
  },
  {
   "cell_type": "code",
   "execution_count": 4,
   "id": "d568816a-dee3-4013-bb28-128aa37e6945",
   "metadata": {},
   "outputs": [
    {
     "name": "stdout",
     "output_type": "stream",
     "text": [
      "50\n"
     ]
    }
   ],
   "source": [
    "num1 = 20\n",
    "num2 = 30\n",
    "add = num1 + num2\n",
    "print(add)"
   ]
  },
  {
   "cell_type": "code",
   "execution_count": 7,
   "id": "d56eb19d-697f-45a7-83fe-c9584278c076",
   "metadata": {},
   "outputs": [
    {
     "name": "stdout",
     "output_type": "stream",
     "text": [
      "The addition of 45 and 35 is = 80\n"
     ]
    }
   ],
   "source": [
    "num1 = 45\n",
    "num2 = 35\n",
    "add = num1 + num2\n",
    "print('The addition of',num1,'and',num2,'is =',add)"
   ]
  },
  {
   "cell_type": "markdown",
   "id": "76f30ce5-46ff-494d-877f-0bb5b68072f8",
   "metadata": {},
   "source": [
    "### print result with string"
   ]
  },
  {
   "cell_type": "code",
   "execution_count": 9,
   "id": "c16465c4-84d9-4a08-b176-a0c5d6010dec",
   "metadata": {},
   "outputs": [
    {
     "name": "stdout",
     "output_type": "stream",
     "text": [
      "Hello my name is aniket and i am 25 years old from Hydrabad\n"
     ]
    }
   ],
   "source": [
    "name = \"aniket\"\n",
    "age  = 25\n",
    "city = 'Hydrabad'\n",
    "\n",
    "print('Hello my name is',name,'and i am',age,'years old from',city)"
   ]
  },
  {
   "cell_type": "markdown",
   "id": "edc9636d-6279-452a-9308-5f6c3b11fe0a",
   "metadata": {},
   "source": [
    "### print format method "
   ]
  },
  {
   "cell_type": "code",
   "execution_count": 11,
   "id": "d719e266-16dc-42ac-84bc-44c9783d79cb",
   "metadata": {},
   "outputs": [
    {
     "name": "stdout",
     "output_type": "stream",
     "text": [
      "The addition of  25 and 35 is 60\n"
     ]
    }
   ],
   "source": [
    "num1 = 25\n",
    "num2 = 35\n",
    "\n",
    "add = num1 + num2\n",
    "print('The addition of  {} and {} is {}'.format(num1,num2,add))"
   ]
  },
  {
   "cell_type": "markdown",
   "id": "4a1082b6-8f9d-42d5-b431-693f2995d7d8",
   "metadata": {},
   "source": [
    "* first decide how the print statement should be \n",
    "* like:- The addition of 40 and 50 is = 90  \n",
    "* then replace the variable position with curly bracket { } \n",
    "* then appply .format(val1,val2,....val-n method"
   ]
  },
  {
   "cell_type": "code",
   "execution_count": 12,
   "id": "c69fe95b-3214-46da-8c2a-5679e8f29860",
   "metadata": {},
   "outputs": [
    {
     "name": "stdout",
     "output_type": "stream",
     "text": [
      "Hello my name is aniket i am 26 years old from city hydrabad\n"
     ]
    }
   ],
   "source": [
    "name = 'aniket'\n",
    "age = 26\n",
    "city = 'hydrabad'\n",
    "print('Hello my name is {} i am {} years old from city {}'.format(name,age,city))"
   ]
  },
  {
   "cell_type": "code",
   "execution_count": 13,
   "id": "88c8c384-0c5f-4919-9533-74f414ca4ce7",
   "metadata": {},
   "outputs": [
    {
     "name": "stdout",
     "output_type": "stream",
     "text": [
      "The average of 85,70 and 68 is 74.33333333333333 or 74.33\n"
     ]
    }
   ],
   "source": [
    "num1 = 85\n",
    "num2 = 70\n",
    "num3 = 68\n",
    "\n",
    "avg = (num1+num2+num3)/3 # or we can use avg = round((num1+num2+num3)/3,2)\n",
    "avg1 = round((num1+num2+num3)/3,2)\n",
    "\n",
    "# The average of num1,num2 and num3 is = avg\n",
    "print('The average of {},{} and {} is {} or {}'.format(num1,num2,num3,avg,avg1))"
   ]
  },
  {
   "cell_type": "code",
   "execution_count": 14,
   "id": "5f476d15-fd53-4fa7-bb86-f33c0ec5fbbc",
   "metadata": {},
   "outputs": [
    {
     "data": {
      "text/plain": [
       "74.33"
      ]
     },
     "execution_count": 14,
     "metadata": {},
     "output_type": "execute_result"
    }
   ],
   "source": [
    "round(avg,2) #round of till 2 dugit after decimal"
   ]
  },
  {
   "cell_type": "markdown",
   "id": "caffc9ec-db49-45af-8779-2a36c9525b92",
   "metadata": {},
   "source": [
    "### More short format meythod(f string method) \n",
    "* variable should be in curly braces  and write everything inside quots '' at starting simpaly add f  "
   ]
  },
  {
   "cell_type": "code",
   "execution_count": 15,
   "id": "a916b823-08e1-4051-8aeb-9d19d9980664",
   "metadata": {},
   "outputs": [
    {
     "name": "stdout",
     "output_type": "stream",
     "text": [
      "The addition of 30 and 78 is 108\n"
     ]
    }
   ],
   "source": [
    "num1 = 30\n",
    "num2 = 78\n",
    "add = num1 + num2\n",
    "print(f'The addition of {num1} and {num2} is {add}') # always prefer this method for formating"
   ]
  },
  {
   "cell_type": "code",
   "execution_count": 16,
   "id": "4f13343b-dd6b-42d5-b010-37f5055836e2",
   "metadata": {},
   "outputs": [
    {
     "name": "stdout",
     "output_type": "stream",
     "text": [
      "My name is Aniket and I am 25 years old from hydrabad\n"
     ]
    }
   ],
   "source": [
    "name = 'Aniket'\n",
    "age = 25\n",
    "city = 'hydrabad'\n",
    "\n",
    "print(f'My name is {name} and I am {age} years old from {city}')"
   ]
  },
  {
   "cell_type": "code",
   "execution_count": 18,
   "id": "9b310416-a80d-45b7-a1c1-9041ee0fadb1",
   "metadata": {},
   "outputs": [
    {
     "name": "stdout",
     "output_type": "stream",
     "text": [
      "The average of 250,340 and 420 is 336.67\n"
     ]
    }
   ],
   "source": [
    "num1 = 250\n",
    "num2 = 340\n",
    "num3 = 420\n",
    "avg = round((num1 + num2 + num3)/3,2)\n",
    "print(f'The average of {num1},{num2} and {num3} is {avg}')"
   ]
  },
  {
   "cell_type": "code",
   "execution_count": 22,
   "id": "72725634-4c3c-48bf-95d7-0fd1c8d9da72",
   "metadata": {},
   "outputs": [
    {
     "name": "stdout",
     "output_type": "stream",
     "text": [
      "The addition of 40 and 50 is 90\n",
      "The addition of 40 and 50 is 90\n",
      "The addition of 40 and 50 is 90\n"
     ]
    }
   ],
   "source": [
    "### Combine each formating method\n",
    "num1 = 40\n",
    "num2 = 50\n",
    "\n",
    "add = num1 + num2\n",
    "print('The addition of',num1,'and',num2,'is',add)\n",
    "print('The addition of {} and {} is {}'.format(num1,num2,add))\n",
    "print(f'The addition of {num1} and {num2} is {add}')"
   ]
  },
  {
   "cell_type": "markdown",
   "id": "7b2cbeb8-83e0-499e-98db-9e63d82c81f7",
   "metadata": {},
   "source": [
    "# end Statement"
   ]
  },
  {
   "cell_type": "code",
   "execution_count": 23,
   "id": "b9a2e7ad-8b34-43a8-bdcf-b2666206f370",
   "metadata": {},
   "outputs": [
    {
     "name": "stdout",
     "output_type": "stream",
     "text": [
      "Hello\n",
      "good morning\n"
     ]
    }
   ],
   "source": [
    "print('Hello') # 1st statement\n",
    "print('good morning') # 2nd Statement\n",
    "\n",
    "# print :- Hellow good morning"
   ]
  },
  {
   "cell_type": "markdown",
   "id": "bdb094f6-df26-44da-a6aa-f7f1263a4a9a",
   "metadata": {},
   "source": [
    "* Here we use end statement that joint line from end of one string to starting of other string"
   ]
  },
  {
   "cell_type": "code",
   "execution_count": 25,
   "id": "54389080-a6d3-433a-a1f5-8878d5e314c1",
   "metadata": {},
   "outputs": [
    {
     "name": "stdout",
     "output_type": "stream",
     "text": [
      "Hello good morning\n"
     ]
    }
   ],
   "source": [
    "print('Hello',end = ' ') # 1st statement\n",
    "print('good morning') # 2nd statement"
   ]
  },
  {
   "cell_type": "markdown",
   "id": "f0664d9c-1fc9-4f02-afa0-5f4f0411b409",
   "metadata": {},
   "source": [
    "## seperator \n",
    " \n",
    "* Here we use only one statement, inside one print statement we have multiple values and if we have to sepearate these multiple values with anything we use seperator"
   ]
  },
  {
   "cell_type": "code",
   "execution_count": 26,
   "id": "5229006a-2530-451c-8b61-a6540f254ca7",
   "metadata": {},
   "outputs": [
    {
     "name": "stdout",
     "output_type": "stream",
     "text": [
      "Hello--->everyone--->How are you\n"
     ]
    }
   ],
   "source": [
    "print('Hello','everyone','How are you',sep='--->')"
   ]
  },
  {
   "cell_type": "code",
   "execution_count": 29,
   "id": "f357e782-e23e-4196-a05b-faf1d4af829d",
   "metadata": {},
   "outputs": [
    {
     "name": "stdout",
     "output_type": "stream",
     "text": [
      "Hello & student & how are you\n"
     ]
    }
   ],
   "source": [
    "print('Hello','student','how are you',sep= ' & ')"
   ]
  },
  {
   "cell_type": "code",
   "execution_count": 30,
   "id": "0713b66a-4bdb-4d9f-ac0e-aa535ecaf791",
   "metadata": {},
   "outputs": [
    {
     "name": "stdout",
     "output_type": "stream",
     "text": [
      "Hello @ student @ how are you\n"
     ]
    }
   ],
   "source": [
    "print('Hello','student','how are you',sep= ' @ ')"
   ]
  },
  {
   "cell_type": "code",
   "execution_count": 33,
   "id": "1469d8e5-3b25-4a39-a8a5-d322d9a031bd",
   "metadata": {},
   "outputs": [
    {
     "name": "stdout",
     "output_type": "stream",
     "text": [
      "Hello student how are you\n"
     ]
    }
   ],
   "source": [
    "print('Hello','student','how are you',sep= ' ')"
   ]
  },
  {
   "cell_type": "code",
   "execution_count": 34,
   "id": "9fc7c4f8-3107-4082-b3d3-e0515db2f801",
   "metadata": {},
   "outputs": [
    {
     "name": "stdout",
     "output_type": "stream",
     "text": [
      "3 .\n"
     ]
    }
   ],
   "source": [
    "print(3,'.') # here . is far from  3 so here we will use sep method"
   ]
  },
  {
   "cell_type": "code",
   "execution_count": 38,
   "id": "e1e276a1-2492-4d8f-8622-ae7a1540c5ce",
   "metadata": {},
   "outputs": [
    {
     "name": "stdout",
     "output_type": "stream",
     "text": [
      "3.\n"
     ]
    }
   ],
   "source": [
    "print(3,'.',sep='') # see now space setteld(sep is also use to remove space b/w words)"
   ]
  },
  {
   "cell_type": "code",
   "execution_count": 42,
   "id": "0d308c68-d8b9-4ec5-b16c-e88af8d3e46e",
   "metadata": {},
   "outputs": [
    {
     "name": "stdout",
     "output_type": "stream",
     "text": [
      "1 2 3.\n"
     ]
    }
   ],
   "source": [
    "print(1,2,end = ' ')\n",
    "print(3,'.',sep='')"
   ]
  },
  {
   "cell_type": "code",
   "execution_count": 40,
   "id": "ac6b3574-c051-41cb-8621-03789d2f70f8",
   "metadata": {},
   "outputs": [
    {
     "name": "stdout",
     "output_type": "stream",
     "text": [
      "1.\n"
     ]
    }
   ],
   "source": []
  },
  {
   "cell_type": "code",
   "execution_count": null,
   "id": "daa7a0d5-d3db-408d-8d47-c333b3bf9097",
   "metadata": {},
   "outputs": [],
   "source": []
  }
 ],
 "metadata": {
  "kernelspec": {
   "display_name": "",
   "name": ""
  },
  "language_info": {
   "name": "python"
  }
 },
 "nbformat": 4,
 "nbformat_minor": 5
}
