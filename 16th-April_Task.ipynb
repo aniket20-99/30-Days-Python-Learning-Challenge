{
 "cells": [
  {
   "cell_type": "markdown",
   "id": "ed149edc-fd74-4d3e-a549-0b7662473b0c",
   "metadata": {},
   "source": [
    "# String "
   ]
  },
  {
   "cell_type": "code",
   "execution_count": 2,
   "id": "da080616-ca7a-473d-b760-02512745aa45",
   "metadata": {},
   "outputs": [
    {
     "name": "stdout",
     "output_type": "stream",
     "text": [
      "p\n",
      "1\n"
     ]
    }
   ],
   "source": [
    "letter = 'p'\n",
    "print(letter)\n",
    "print(len(letter))"
   ]
  },
  {
   "cell_type": "code",
   "execution_count": 3,
   "id": "9c235d9a-0a2d-4b9f-b27a-9fc113c89092",
   "metadata": {},
   "outputs": [
    {
     "name": "stdout",
     "output_type": "stream",
     "text": [
      "Hello, world!\n",
      "13\n",
      "I am very excited  to learn datascience\n"
     ]
    }
   ],
   "source": [
    "greeting  = 'Hello, world!'\n",
    "print(greeting)\n",
    "print(len(greeting))\n",
    "sentence = \"I am very excited  to learn datascience\"\n",
    "print(sentence)\n"
   ]
  },
  {
   "cell_type": "code",
   "execution_count": 4,
   "id": "f63f3f06-7c34-49c6-a9fc-4207a803552c",
   "metadata": {},
   "outputs": [
    {
     "name": "stdout",
     "output_type": "stream",
     "text": [
      "A string is a sequence of characters. Python treats anything inside quotes as a string. \n",
      "This includes letters, numbers, and symbols.\n"
     ]
    }
   ],
   "source": [
    "# Multline string\n",
    "multiline_string = '''A string is a sequence of characters. Python treats anything inside quotes as a string. \n",
    "This includes letters, numbers, and symbols.'''\n",
    "print(multiline_string)"
   ]
  },
  {
   "cell_type": "code",
   "execution_count": 6,
   "id": "b43a6520-0720-474d-a6fc-949ca88a7107",
   "metadata": {},
   "outputs": [
    {
     "name": "stdout",
     "output_type": "stream",
     "text": [
      "A string is a sequence of characters. Python treats anything inside quotes as a string. \n",
      "This includes letters, numbers, and symbols.\n"
     ]
    }
   ],
   "source": [
    "multiline_string = \"\"\"A string is a sequence of characters. Python treats anything inside quotes as a string. \n",
    "This includes letters, numbers, and symbols.\"\"\"\n",
    "print(multiline_string)"
   ]
  },
  {
   "cell_type": "code",
   "execution_count": 9,
   "id": "25c82715-cf46-4d05-95d7-5071fa4d9fbd",
   "metadata": {},
   "outputs": [
    {
     "name": "stdout",
     "output_type": "stream",
     "text": [
      "Aniket kumar\n",
      "12\n",
      "6\n",
      "5\n",
      "True\n"
     ]
    }
   ],
   "source": [
    "# String Concatenation\n",
    "first_name = 'Aniket'\n",
    "last_name = 'kumar'\n",
    "space = ' '\n",
    "full_name = first_name + space + last_name\n",
    "print(full_name)\n",
    "# Checking length of a string using len() builtin function\n",
    "print(len(full_name))\n",
    "print(len(first_name))\n",
    "print(len(last_name))\n",
    "print(len(first_name) > len(last_name))"
   ]
  },
  {
   "cell_type": "code",
   "execution_count": 12,
   "id": "f2dfcb49-5ff1-48c5-97f2-2d8f060c0a19",
   "metadata": {},
   "outputs": [
    {
     "name": "stdout",
     "output_type": "stream",
     "text": [
      "P\n",
      "y\n",
      "t\n",
      "h\n",
      "o\n",
      "n\n"
     ]
    }
   ],
   "source": [
    "#### Unpacking characters \n",
    "language = 'Python'\n",
    "a,b,c,d,e,f = language #unpacking sequence characters into variables\n",
    "print(a)\n",
    "print(b)\n",
    "print(c)\n",
    "print(d)\n",
    "print(e)\n",
    "print(f)"
   ]
  },
  {
   "cell_type": "code",
   "execution_count": 20,
   "id": "5bf791da-f341-45ab-991e-c810dbbcda88",
   "metadata": {},
   "outputs": [
    {
     "name": "stdout",
     "output_type": "stream",
     "text": [
      "P\n",
      "y\n",
      "t\n",
      "5\n",
      "n\n"
     ]
    }
   ],
   "source": [
    "# Accessing characters in strings by index\n",
    "language = 'Python'\n",
    "first_character = language[0]\n",
    "print(first_character)\n",
    "second_character = language[1]\n",
    "print(second_character)\n",
    "third_character = language[2]\n",
    "print(third_character)\n",
    "last_index = len(language) - 1\n",
    "print(last_index)\n",
    "last_letter = language[-1]\n",
    "print(last_letter)"
   ]
  },
  {
   "cell_type": "code",
   "execution_count": 23,
   "id": "7ad0668e-881b-43db-92a0-e02f3f562ec0",
   "metadata": {},
   "outputs": [
    {
     "name": "stdout",
     "output_type": "stream",
     "text": [
      "n\n",
      "o\n"
     ]
    }
   ],
   "source": [
    "# If we want to start from right end we can use negative indexing. -1 is the last index\n",
    "language = 'Python'\n",
    "last_letter = language[-1]\n",
    "print(last_letter)\n",
    "\n",
    "second_last = language[-2]\n",
    "print(second_last)"
   ]
  },
  {
   "cell_type": "code",
   "execution_count": 26,
   "id": "f04f80a7-c4cd-41a4-93e8-264625061b80",
   "metadata": {},
   "outputs": [
    {
     "name": "stdout",
     "output_type": "stream",
     "text": [
      "Pyt\n",
      "hon\n"
     ]
    }
   ],
   "source": [
    "# Slicing\n",
    "language = 'Python'\n",
    "first_three  = language[0:3]\n",
    "last_three = language[3:6]\n",
    "print(first_three)\n",
    "print(last_three)\n",
    "\n"
   ]
  },
  {
   "cell_type": "code",
   "execution_count": 30,
   "id": "21fb22d0-11e1-441f-a1db-3bf38edec9dc",
   "metadata": {},
   "outputs": [
    {
     "name": "stdout",
     "output_type": "stream",
     "text": [
      "hon\n",
      "hon\n"
     ]
    }
   ],
   "source": [
    "# Another way\n",
    "last_three = language[-3:]\n",
    "print(last_three)\n",
    "last_three = language[3:]\n",
    "print(last_three)"
   ]
  },
  {
   "cell_type": "code",
   "execution_count": 31,
   "id": "4498bb22-5211-42b2-ad28-cbe0f5200d6f",
   "metadata": {},
   "outputs": [
    {
     "name": "stdout",
     "output_type": "stream",
     "text": [
      "Pto\n"
     ]
    }
   ],
   "source": [
    "# Skipping character while splitting Python strings\n",
    "language = 'Python'\n",
    "skip = language[0:6:2]\n",
    "print(skip)"
   ]
  },
  {
   "cell_type": "code",
   "execution_count": 36,
   "id": "2c87a3e1-5599-429f-b23e-47c7d7f609bc",
   "metadata": {},
   "outputs": [
    {
     "name": "stdout",
     "output_type": "stream",
     "text": [
      "I hope every one enjoying the python challenge.\n",
      "Do you?\n",
      "Days\tTopics\tExercise\n",
      "Day 1\t3\t5\n",
      "Day 2\t3\t5\n",
      "Day 3\t4\t5\n",
      "Day 4\t4\t5\n",
      "This is a back slash symbol (\\)\n",
      "In every programming languange it starts with \"Hello, World!\"\n"
     ]
    }
   ],
   "source": [
    "# Escape sequence\n",
    "print('I hope every one enjoying the python challenge.\\nDo you?') # Line break\n",
    "print('Days\\tTopics\\tExercise')\n",
    "print('Day 1\\t3\\t5')\n",
    "print('Day 2\\t3\\t5')\n",
    "print('Day 3\\t4\\t5')\n",
    "print('Day 4\\t4\\t5')\n",
    "print('This is a back slash symbol (\\\\)')\n",
    "print('In every programming languange it starts with \\\"Hello, World!\\\"')"
   ]
  },
  {
   "cell_type": "code",
   "execution_count": 38,
   "id": "0fb45c64-44e5-4632-9bff-b7d3872897b3",
   "metadata": {},
   "outputs": [
    {
     "name": "stdout",
     "output_type": "stream",
     "text": [
      "Thirty day of python\n"
     ]
    }
   ],
   "source": [
    "# string method\n",
    "# capitalize(): Converts the first character the string to Capital Letter\n",
    "challenge = 'thirty day of python'\n",
    "print(challenge.capitalize())"
   ]
  },
  {
   "cell_type": "code",
   "execution_count": 43,
   "id": "4dfe1ef9-f2c3-4182-b467-99200cbb1c76",
   "metadata": {},
   "outputs": [
    {
     "name": "stdout",
     "output_type": "stream",
     "text": [
      "3\n",
      "1\n",
      "2\n"
     ]
    }
   ],
   "source": [
    "# count(): returns occurrences of substring in string, count(substring, start=.., end=..)\n",
    "challenge = 'thirty day of python'\n",
    "print(challenge.count('y'))\n",
    "print(challenge.count('y',7,14))\n",
    "print(challenge.count('th'))"
   ]
  },
  {
   "cell_type": "code",
   "execution_count": 44,
   "id": "a8e0a6d8-7349-4925-8ebc-ed0c98b7206c",
   "metadata": {},
   "outputs": [
    {
     "name": "stdout",
     "output_type": "stream",
     "text": [
      "True\n",
      "False\n"
     ]
    }
   ],
   "source": [
    "# endswith(): Checks if a string ends with a specified ending\n",
    "challenge = 'thirty day of python'\n",
    "print(challenge.endswith('on')) \n",
    "print(challenge.endswith('tion'))"
   ]
  },
  {
   "cell_type": "code",
   "execution_count": 49,
   "id": "c79bef91-541c-4a7a-aec4-cbe001b986f5",
   "metadata": {},
   "outputs": [
    {
     "name": "stdout",
     "output_type": "stream",
     "text": [
      "thirty  days    of      python\n",
      "thirty    days      of        python\n"
     ]
    }
   ],
   "source": [
    "#expandtabs(): Replaces tab character with spaces, default tab size is 8. It takes tab size argument\n",
    "challenge = 'thirty\\tdays\\tof\\tpython'\n",
    "print(challenge.expandtabs())\n",
    "print(challenge.expandtabs(10))"
   ]
  },
  {
   "cell_type": "code",
   "execution_count": 52,
   "id": "ed94b143-0d37-458a-871a-044d54e2a727",
   "metadata": {},
   "outputs": [
    {
     "name": "stdout",
     "output_type": "stream",
     "text": [
      "0\n",
      "5\n"
     ]
    }
   ],
   "source": [
    "# find(): Returns the index of first occurrence of substring\n",
    "challenge = 'thirty days of python'\n",
    "print(challenge.find('th'))\n",
    "print(challenge.find('y'))"
   ]
  },
  {
   "cell_type": "code",
   "execution_count": 55,
   "id": "d11e42ac-b757-45bb-96ce-5d8db339cffd",
   "metadata": {},
   "outputs": [
    {
     "name": "stdout",
     "output_type": "stream",
     "text": [
      "I am Aniket kumar. I am a Data Scietist. I live in India\n"
     ]
    }
   ],
   "source": [
    "# format()\tformats string into nicer output   \n",
    "first_name = 'Aniket'\n",
    "last_name = 'kumar'\n",
    "job = 'Data Scietist'\n",
    "country = 'India'\n",
    "sentence = 'I am {} {}. I am a {}. I live in {}'.format(first_name,last_name,job,country)\n",
    "print(sentence)"
   ]
  },
  {
   "cell_type": "code",
   "execution_count": 57,
   "id": "3a299307-b710-4d42-85a3-174ff46b948e",
   "metadata": {},
   "outputs": [
    {
     "name": "stdout",
     "output_type": "stream",
     "text": [
      "The area of circle with 10 is 314.0\n"
     ]
    }
   ],
   "source": [
    "radius  = 10\n",
    "pi = 3.14\n",
    "area  = pi * radius**2\n",
    "result = 'The area of circle with {} is {}'.format(str(radius),str(area))\n",
    "print(result)"
   ]
  },
  {
   "cell_type": "code",
   "execution_count": 58,
   "id": "dff62162-6183-4a36-9f88-61517f8242da",
   "metadata": {},
   "outputs": [
    {
     "name": "stdout",
     "output_type": "stream",
     "text": [
      "5\n",
      "0\n"
     ]
    }
   ],
   "source": [
    "# index(): Returns the index of substring\n",
    "challenge = 'thirty day of python'\n",
    "print(challenge.find('y'))\n",
    "print(challenge.find('th'))"
   ]
  },
  {
   "cell_type": "code",
   "execution_count": null,
   "id": "408d9eb5-85cb-4079-ad76-f2659f806e9d",
   "metadata": {},
   "outputs": [],
   "source": []
  },
  {
   "cell_type": "code",
   "execution_count": 59,
   "id": "544b6780-c96e-48a0-a72f-bedc31dea129",
   "metadata": {},
   "outputs": [
    {
     "name": "stdout",
     "output_type": "stream",
     "text": [
      "True\n"
     ]
    }
   ],
   "source": [
    "# isalnum(): Checks alphanumeric character\n",
    "challenge  = 'ThirtyDaysPython'\n",
    "print(challenge.isalnum())\n"
   ]
  },
  {
   "cell_type": "code",
   "execution_count": 60,
   "id": "042fa887-77f4-4c65-9f35-2c88981697fd",
   "metadata": {},
   "outputs": [
    {
     "name": "stdout",
     "output_type": "stream",
     "text": [
      "True\n"
     ]
    }
   ],
   "source": [
    "challenge = '30DaysPython'\n",
    "print(challenge.isalnum())"
   ]
  },
  {
   "cell_type": "code",
   "execution_count": 61,
   "id": "27cfa008-8597-4403-ae2b-223bb75983f3",
   "metadata": {},
   "outputs": [
    {
     "name": "stdout",
     "output_type": "stream",
     "text": [
      "False\n"
     ]
    }
   ],
   "source": [
    "challenge = 'Thirty days of python 2025'\n",
    "print(challenge.isalnum())"
   ]
  },
  {
   "cell_type": "code",
   "execution_count": 63,
   "id": "3445d7d0-68c8-41cd-85a2-47bcf2abbbd7",
   "metadata": {},
   "outputs": [
    {
     "name": "stdout",
     "output_type": "stream",
     "text": [
      "False\n",
      "False\n"
     ]
    }
   ],
   "source": [
    "# isalpha(): Checks if all characters are alphabets\n",
    "challenge = 'Thirty days of Python'\n",
    "print(challenge.isalpha())\n",
    "\n",
    "num ='12345'\n",
    "print(num.isalpha())"
   ]
  },
  {
   "cell_type": "code",
   "execution_count": 73,
   "id": "b44cef10-40ef-453d-aef5-33d67a09ade6",
   "metadata": {},
   "outputs": [
    {
     "name": "stdout",
     "output_type": "stream",
     "text": [
      "False\n",
      "True\n",
      "False\n"
     ]
    }
   ],
   "source": [
    "# isdecimal(): Checks Decimal Characters\n",
    "challenge = 'thirty days of python'\n",
    "print(challenge.isdecimal())\n",
    "\n",
    "num = '10'\n",
    "print(num.isdecimal())\n",
    "num1 = '30.5'\n",
    "print(num1.isdecimal())"
   ]
  },
  {
   "cell_type": "code",
   "execution_count": 67,
   "id": "b9a0f89e-da33-4031-a48d-85ceb8d414b1",
   "metadata": {},
   "outputs": [
    {
     "name": "stdout",
     "output_type": "stream",
     "text": [
      "False\n"
     ]
    }
   ],
   "source": [
    "# isdigit(): Checks Digit Characters\n",
    "challenge  = 'Thirty'\n",
    "print(challenge.isdigit())"
   ]
  },
  {
   "cell_type": "code",
   "execution_count": 68,
   "id": "227dc900-6801-4147-9a9d-1ed61ef25d7a",
   "metadata": {},
   "outputs": [
    {
     "name": "stdout",
     "output_type": "stream",
     "text": [
      "True\n"
     ]
    }
   ],
   "source": [
    "challenge = '30'\n",
    "print(challenge.isdigit())"
   ]
  },
  {
   "cell_type": "code",
   "execution_count": 74,
   "id": "eebdfba0-72b4-4434-9138-824470d9b991",
   "metadata": {},
   "outputs": [
    {
     "name": "stdout",
     "output_type": "stream",
     "text": [
      "False\n"
     ]
    }
   ],
   "source": [
    "# isidentifier():Checks for valid identifier means it check if a string is a valid variable name\n",
    "challenge = '30DaysOfPython'\n",
    "print(challenge.isidentifier())\n"
   ]
  },
  {
   "cell_type": "code",
   "execution_count": 76,
   "id": "8eaca0cb-d213-44a5-a27e-fcd489514a6c",
   "metadata": {},
   "outputs": [
    {
     "name": "stdout",
     "output_type": "stream",
     "text": [
      "True\n"
     ]
    }
   ],
   "source": [
    "challenge = 'thirty_days_of_python'\n",
    "print(challenge.isidentifier())"
   ]
  },
  {
   "cell_type": "code",
   "execution_count": 77,
   "id": "bd46de31-ee8a-4e01-bc21-41aed8f23479",
   "metadata": {},
   "outputs": [
    {
     "name": "stdout",
     "output_type": "stream",
     "text": [
      "True\n"
     ]
    }
   ],
   "source": [
    "# islower():Checks if all alphabets in a string are lowercase\n",
    "challenge = 'thirty days of python'\n",
    "print(challenge.islower())"
   ]
  },
  {
   "cell_type": "code",
   "execution_count": 79,
   "id": "e5b42bdc-3994-4288-9dc3-8756a65c64c0",
   "metadata": {},
   "outputs": [
    {
     "name": "stdout",
     "output_type": "stream",
     "text": [
      "False\n"
     ]
    }
   ],
   "source": [
    "challenge = 'Thirty Days of Python'\n",
    "print(challenge.islower())"
   ]
  },
  {
   "cell_type": "code",
   "execution_count": 80,
   "id": "551a98f6-9cad-4ea3-ae97-5320b9c9fc91",
   "metadata": {},
   "outputs": [
    {
     "name": "stdout",
     "output_type": "stream",
     "text": [
      "False\n"
     ]
    }
   ],
   "source": [
    "# isupper(): returns if all characters are uppercase characters\n",
    "challenge = 'Thirty Days of Python'\n",
    "print(challenge.isupper())"
   ]
  },
  {
   "cell_type": "code",
   "execution_count": 87,
   "id": "4f380b16-72d1-4d40-a970-91f3d7a07a7d",
   "metadata": {},
   "outputs": [
    {
     "name": "stdout",
     "output_type": "stream",
     "text": [
      "True\n"
     ]
    }
   ],
   "source": [
    "challenge = 'thirty days of python'\n",
    "Challenge = challenge.upper()\n",
    "Challenge\n",
    "print(Challenge.isupper())"
   ]
  },
  {
   "cell_type": "code",
   "execution_count": 89,
   "id": "a376d5b5-1144-476e-8998-d57796025c88",
   "metadata": {},
   "outputs": [
    {
     "name": "stdout",
     "output_type": "stream",
     "text": [
      "True\n",
      "False\n"
     ]
    }
   ],
   "source": [
    "# isnumeric():Checks numeric characters\n",
    "num = '20'\n",
    "print(num.isnumeric())\n",
    "print('ten'.isnumeric())"
   ]
  },
  {
   "cell_type": "code",
   "execution_count": 94,
   "id": "0d180eb9-5445-4dd0-be64-9049a50313bb",
   "metadata": {},
   "outputs": [
    {
     "name": "stdout",
     "output_type": "stream",
     "text": [
      "HTML# CSS# Javascript# React\n"
     ]
    }
   ],
   "source": [
    "# join(): Returns a concatenated string\n",
    "web_tech = ['HTML','CSS','Javascript','React']\n",
    "result = '# '.join(web_tech)\n",
    "print(result)"
   ]
  },
  {
   "cell_type": "code",
   "execution_count": 2,
   "id": "c286085e-2c9d-49ea-87d2-6a0545260cb6",
   "metadata": {},
   "outputs": [
    {
     "name": "stdout",
     "output_type": "stream",
     "text": [
      " thirty days of python \n"
     ]
    }
   ],
   "source": [
    "# strip(): Removes both leading and trailing characters\n",
    "challenge = ' thirty days of python '\n",
    "print(challenge.strip('y'))"
   ]
  },
  {
   "cell_type": "code",
   "execution_count": 97,
   "id": "05e2b949-6e02-4ca5-99ad-c866454a1ad9",
   "metadata": {},
   "outputs": [
    {
     "name": "stdout",
     "output_type": "stream",
     "text": [
      "thirty days of coding\n"
     ]
    }
   ],
   "source": [
    "# replace(): Replaces substring inside\n",
    "challenge = 'thirty days of python'\n",
    "print(challenge.replace('python', 'coding'))"
   ]
  },
  {
   "cell_type": "code",
   "execution_count": 98,
   "id": "6f518c22-5739-4100-9c83-3ec92d7a7454",
   "metadata": {},
   "outputs": [
    {
     "name": "stdout",
     "output_type": "stream",
     "text": [
      "['thirty', 'days', 'of', 'python']\n"
     ]
    }
   ],
   "source": [
    "# split():Splits String from Left\n",
    "challenge = 'thirty days of python'\n",
    "print(challenge.split())"
   ]
  },
  {
   "cell_type": "code",
   "execution_count": 99,
   "id": "a82c120c-b4a5-449e-adb3-e5c02379aa26",
   "metadata": {},
   "outputs": [
    {
     "name": "stdout",
     "output_type": "stream",
     "text": [
      "Thirty Days Of Python\n"
     ]
    }
   ],
   "source": [
    "# title(): Returns a Title Cased String\n",
    "challenge = 'thirty days of python'\n",
    "print(challenge.title())"
   ]
  },
  {
   "cell_type": "code",
   "execution_count": 100,
   "id": "b27d46a1-1939-4ad9-a418-2d98a79d860d",
   "metadata": {},
   "outputs": [
    {
     "name": "stdout",
     "output_type": "stream",
     "text": [
      "THIRTY DAYS OF PYTHON\n"
     ]
    }
   ],
   "source": [
    "# swapcase(): Checks if String Starts with the Specified String\n",
    "challenge = 'thirty days of python'\n",
    "print(challenge.swapcase())"
   ]
  },
  {
   "cell_type": "code",
   "execution_count": 101,
   "id": "d6c2a819-9559-4e07-a71b-617c829e248a",
   "metadata": {},
   "outputs": [
    {
     "name": "stdout",
     "output_type": "stream",
     "text": [
      "thirty days of python\n"
     ]
    }
   ],
   "source": [
    "challenge = 'THIRTY DAYS OF PYTHON'\n",
    "print(challenge.swapcase())"
   ]
  },
  {
   "cell_type": "code",
   "execution_count": 102,
   "id": "52d51f84-b030-4743-8a6c-ff8e7fefa529",
   "metadata": {},
   "outputs": [
    {
     "name": "stdout",
     "output_type": "stream",
     "text": [
      "True\n"
     ]
    }
   ],
   "source": [
    "# startswith(): Checks if String Starts with the Specified String\n",
    "challenge = 'thirty days of python'\n",
    "print(challenge.startswith('thirty'))"
   ]
  },
  {
   "cell_type": "code",
   "execution_count": 103,
   "id": "bef42b81-ed54-49c5-a9d2-fdc2f044733d",
   "metadata": {},
   "outputs": [
    {
     "name": "stdout",
     "output_type": "stream",
     "text": [
      "False\n"
     ]
    }
   ],
   "source": [
    "challenge = 'thirty days of python'\n",
    "print(challenge.startswith('30'))"
   ]
  },
  {
   "cell_type": "code",
   "execution_count": null,
   "id": "ea0a5b73-7e41-4c27-be54-05487d743060",
   "metadata": {},
   "outputs": [],
   "source": []
  }
 ],
 "metadata": {
  "kernelspec": {
   "display_name": "Python 3 (ipykernel)",
   "language": "python",
   "name": "python3"
  },
  "language_info": {
   "codemirror_mode": {
    "name": "ipython",
    "version": 3
   },
   "file_extension": ".py",
   "mimetype": "text/x-python",
   "name": "python",
   "nbconvert_exporter": "python",
   "pygments_lexer": "ipython3",
   "version": "3.11.5"
  }
 },
 "nbformat": 4,
 "nbformat_minor": 5
}
