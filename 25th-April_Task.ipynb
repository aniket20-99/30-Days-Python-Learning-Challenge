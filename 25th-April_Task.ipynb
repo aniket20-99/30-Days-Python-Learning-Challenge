{
 "cells": [
  {
   "cell_type": "markdown",
   "id": "909db749-e718-4286-9f1e-d945fe5a9050",
   "metadata": {},
   "source": [
    "# Tuples \n",
    "1. Tuple is similar to List except that the objects in tuple are immutable which means we cannot \n",
    "change the elements of a tuple once assigned. \n",
    "2. When we do not want to change the data over time, tuple is a preferred data type. \n",
    "3. Iterating over the elements of a tuple is faster compared to iterating over a list."
   ]
  },
  {
   "cell_type": "markdown",
   "id": "41f94e4e-2ec2-495b-917b-4bf2c869f1a0",
   "metadata": {},
   "source": [
    "# Tuple Creation"
   ]
  },
  {
   "cell_type": "code",
   "execution_count": 4,
   "id": "0bde40cd-9e6a-4839-929f-865add458ac3",
   "metadata": {},
   "outputs": [
    {
     "data": {
      "text/plain": [
       "()"
      ]
     },
     "execution_count": 4,
     "metadata": {},
     "output_type": "execute_result"
    }
   ],
   "source": [
    "tup1 = ()\n",
    "tup1"
   ]
  },
  {
   "cell_type": "code",
   "execution_count": 5,
   "id": "c0e1e683-6b90-4470-be51-074a1e945f8a",
   "metadata": {},
   "outputs": [
    {
     "data": {
      "text/plain": [
       "(30, 40, 60)"
      ]
     },
     "execution_count": 5,
     "metadata": {},
     "output_type": "execute_result"
    }
   ],
   "source": [
    "tup2 = (30,40,60)\n",
    "tup2"
   ]
  },
  {
   "cell_type": "code",
   "execution_count": 6,
   "id": "39a74262-6450-46d7-8009-68237d6f7d85",
   "metadata": {},
   "outputs": [
    {
     "data": {
      "text/plain": [
       "(25.76, 35.87, 87.33)"
      ]
     },
     "execution_count": 6,
     "metadata": {},
     "output_type": "execute_result"
    }
   ],
   "source": [
    "tup3 = (25.76,35.87,87.33)\n",
    "tup3"
   ]
  },
  {
   "cell_type": "code",
   "execution_count": 7,
   "id": "af71ef84-d452-4c47-aa89-063d67146ad7",
   "metadata": {},
   "outputs": [
    {
     "data": {
      "text/plain": [
       "('one', 'two', 'three')"
      ]
     },
     "execution_count": 7,
     "metadata": {},
     "output_type": "execute_result"
    }
   ],
   "source": [
    "tup4 = ('one','two','three')\n",
    "tup4"
   ]
  },
  {
   "cell_type": "code",
   "execution_count": 8,
   "id": "81de64e3-d8d4-4063-9229-af15c8c98bde",
   "metadata": {},
   "outputs": [
    {
     "data": {
      "text/plain": [
       "('Amit', 30, (78, 95), (50, 80))"
      ]
     },
     "execution_count": 8,
     "metadata": {},
     "output_type": "execute_result"
    }
   ],
   "source": [
    "tup5 = ('Amit',30,(78,95),(50,80))\n",
    "tup5"
   ]
  },
  {
   "cell_type": "code",
   "execution_count": 9,
   "id": "df323ae6-2bd1-4692-9fb4-3aa9460b11e2",
   "metadata": {},
   "outputs": [
    {
     "data": {
      "text/plain": [
       "(150, 'Ajit', 68.9)"
      ]
     },
     "execution_count": 9,
     "metadata": {},
     "output_type": "execute_result"
    }
   ],
   "source": [
    "tup6 = (150,'Ajit',68.90)\n",
    "tup6"
   ]
  },
  {
   "cell_type": "code",
   "execution_count": 10,
   "id": "0350ecf3-aed1-4c79-9b59-6d9a8c3d37bf",
   "metadata": {},
   "outputs": [
    {
     "data": {
      "text/plain": [
       "('Abhi', 30, [50, 80], [20, 250], {'Akhil', 'Rohit'}, (73, 85, 98))"
      ]
     },
     "execution_count": 10,
     "metadata": {},
     "output_type": "execute_result"
    }
   ],
   "source": [
    "tup7 = ('Abhi',30,[50,80],[20,250],{'Akhil','Rohit'},(73,85,98))\n",
    "tup7"
   ]
  },
  {
   "cell_type": "code",
   "execution_count": 11,
   "id": "70613e64-48be-4054-9c5b-bf60be4ef8a7",
   "metadata": {},
   "outputs": [
    {
     "data": {
      "text/plain": [
       "6"
      ]
     },
     "execution_count": 11,
     "metadata": {},
     "output_type": "execute_result"
    }
   ],
   "source": [
    "len(tup7)"
   ]
  },
  {
   "cell_type": "code",
   "execution_count": 12,
   "id": "176d364b-0c22-4953-9ebc-43b5a5e33aa2",
   "metadata": {},
   "outputs": [
    {
     "data": {
      "text/plain": [
       "30"
      ]
     },
     "execution_count": 12,
     "metadata": {},
     "output_type": "execute_result"
    }
   ],
   "source": [
    "# Tuple indexing\n",
    "tup2[0]"
   ]
  },
  {
   "cell_type": "code",
   "execution_count": 13,
   "id": "bff647ff-7b87-4dcf-9731-3e0ac6fec86b",
   "metadata": {},
   "outputs": [
    {
     "data": {
      "text/plain": [
       "'three'"
      ]
     },
     "execution_count": 13,
     "metadata": {},
     "output_type": "execute_result"
    }
   ],
   "source": [
    "tup4[2]"
   ]
  },
  {
   "cell_type": "code",
   "execution_count": 14,
   "id": "c4090972-5011-416d-9fdf-0380a87a6437",
   "metadata": {},
   "outputs": [
    {
     "data": {
      "text/plain": [
       "'thre'"
      ]
     },
     "execution_count": 14,
     "metadata": {},
     "output_type": "execute_result"
    }
   ],
   "source": [
    "tup4[2][0:4]"
   ]
  },
  {
   "cell_type": "code",
   "execution_count": 15,
   "id": "4fdd9118-2a63-4fe2-967e-373021a144f7",
   "metadata": {},
   "outputs": [
    {
     "data": {
      "text/plain": [
       "('one', 'two')"
      ]
     },
     "execution_count": 15,
     "metadata": {},
     "output_type": "execute_result"
    }
   ],
   "source": [
    "tup4[-5:-1]"
   ]
  },
  {
   "cell_type": "code",
   "execution_count": 16,
   "id": "7d24bd36-0e07-4693-8ba9-449a7101e0d6",
   "metadata": {},
   "outputs": [
    {
     "data": {
      "text/plain": [
       "(50, 80)"
      ]
     },
     "execution_count": 16,
     "metadata": {},
     "output_type": "execute_result"
    }
   ],
   "source": [
    "tup5[-1]"
   ]
  },
  {
   "cell_type": "markdown",
   "id": "5f610d56-0e7b-42b5-9a22-b026faea9d81",
   "metadata": {},
   "source": [
    "# Tuple Slicing"
   ]
  },
  {
   "cell_type": "code",
   "execution_count": 18,
   "id": "6172e898-415f-407b-a95c-27248a1247b6",
   "metadata": {},
   "outputs": [
    {
     "data": {
      "text/plain": [
       "('one', 'two', 'three', 'four', 'five', 'six', 'seven', 'eight')"
      ]
     },
     "execution_count": 18,
     "metadata": {},
     "output_type": "execute_result"
    }
   ],
   "source": [
    "mytup = ('one','two','three','four','five','six','seven','eight')\n",
    "mytup"
   ]
  },
  {
   "cell_type": "code",
   "execution_count": 19,
   "id": "7c32de73-ae95-4fcf-9d9f-8c73c6638790",
   "metadata": {},
   "outputs": [
    {
     "data": {
      "text/plain": [
       "8"
      ]
     },
     "execution_count": 19,
     "metadata": {},
     "output_type": "execute_result"
    }
   ],
   "source": [
    "len(mytup)"
   ]
  },
  {
   "cell_type": "code",
   "execution_count": 20,
   "id": "6b20311c-008f-47ce-affc-bba41215365f",
   "metadata": {},
   "outputs": [
    {
     "data": {
      "text/plain": [
       "('one', 'two', 'three', 'four')"
      ]
     },
     "execution_count": 20,
     "metadata": {},
     "output_type": "execute_result"
    }
   ],
   "source": [
    "mytup[0:4]"
   ]
  },
  {
   "cell_type": "code",
   "execution_count": 22,
   "id": "9c27e529-f487-488a-9952-deb4bc0d92eb",
   "metadata": {},
   "outputs": [
    {
     "data": {
      "text/plain": [
       "'fo'"
      ]
     },
     "execution_count": 22,
     "metadata": {},
     "output_type": "execute_result"
    }
   ],
   "source": [
    "mytup[3][0:2]"
   ]
  },
  {
   "cell_type": "code",
   "execution_count": 23,
   "id": "926578f9-326a-4022-a667-8952c256ccba",
   "metadata": {},
   "outputs": [
    {
     "data": {
      "text/plain": [
       "('one', 'two', 'three')"
      ]
     },
     "execution_count": 23,
     "metadata": {},
     "output_type": "execute_result"
    }
   ],
   "source": [
    "mytup[:3]"
   ]
  },
  {
   "cell_type": "code",
   "execution_count": 26,
   "id": "ed4a1493-fcd3-4a7f-9d7a-0f7038a20757",
   "metadata": {},
   "outputs": [
    {
     "data": {
      "text/plain": [
       "('six', 'seven', 'eight')"
      ]
     },
     "execution_count": 26,
     "metadata": {},
     "output_type": "execute_result"
    }
   ],
   "source": [
    "mytup[-3:]"
   ]
  },
  {
   "cell_type": "code",
   "execution_count": 28,
   "id": "e388a451-3896-4eb2-9b77-3f63db08c469",
   "metadata": {},
   "outputs": [
    {
     "data": {
      "text/plain": [
       "('seven', 'eight')"
      ]
     },
     "execution_count": 28,
     "metadata": {},
     "output_type": "execute_result"
    }
   ],
   "source": [
    "mytup[-2:]"
   ]
  },
  {
   "cell_type": "code",
   "execution_count": 32,
   "id": "53038a3c-36ac-4fb0-b07d-cccb5b2458af",
   "metadata": {},
   "outputs": [
    {
     "data": {
      "text/plain": [
       "('eight', 'seven', 'six', 'five', 'four', 'three', 'two', 'one')"
      ]
     },
     "execution_count": 32,
     "metadata": {},
     "output_type": "execute_result"
    }
   ],
   "source": [
    "mytup[::-1]"
   ]
  },
  {
   "cell_type": "code",
   "execution_count": 33,
   "id": "aeb74c83-9853-4240-8035-45be1829fb56",
   "metadata": {},
   "outputs": [
    {
     "data": {
      "text/plain": [
       "('one', 'two', 'three', 'four', 'five', 'six', 'seven', 'eight')"
      ]
     },
     "execution_count": 33,
     "metadata": {},
     "output_type": "execute_result"
    }
   ],
   "source": [
    "mytup[:]"
   ]
  },
  {
   "cell_type": "markdown",
   "id": "e5f1d7b4-1cd6-4155-95c6-0ad2886f580a",
   "metadata": {},
   "source": [
    "# Remove and Change Items"
   ]
  },
  {
   "cell_type": "code",
   "execution_count": 34,
   "id": "5fe388f0-dd07-4eab-8d89-4b860f103d4e",
   "metadata": {},
   "outputs": [
    {
     "data": {
      "text/plain": [
       "('one', 'two', 'three', 'four', 'five', 'six', 'seven', 'eight')"
      ]
     },
     "execution_count": 34,
     "metadata": {},
     "output_type": "execute_result"
    }
   ],
   "source": [
    "mytup"
   ]
  },
  {
   "cell_type": "code",
   "execution_count": 35,
   "id": "9055b60c-460b-4bc1-93f7-bb0ac61b98d4",
   "metadata": {},
   "outputs": [
    {
     "ename": "TypeError",
     "evalue": "'tuple' object doesn't support item deletion",
     "output_type": "error",
     "traceback": [
      "\u001b[1;31m---------------------------------------------------------------------------\u001b[0m",
      "\u001b[1;31mTypeError\u001b[0m                                 Traceback (most recent call last)",
      "Cell \u001b[1;32mIn[35], line 1\u001b[0m\n\u001b[1;32m----> 1\u001b[0m \u001b[38;5;28;01mdel\u001b[39;00m mytup[\u001b[38;5;241m0\u001b[39m]\n",
      "\u001b[1;31mTypeError\u001b[0m: 'tuple' object doesn't support item deletion"
     ]
    }
   ],
   "source": [
    "del mytup[0]  # Tuples are immutable which means we can't DELETE tuple items"
   ]
  },
  {
   "cell_type": "code",
   "execution_count": 36,
   "id": "59dc825e-3c10-4c5e-8d7f-4d2b228e2506",
   "metadata": {},
   "outputs": [
    {
     "ename": "TypeError",
     "evalue": "'tuple' object does not support item assignment",
     "output_type": "error",
     "traceback": [
      "\u001b[1;31m---------------------------------------------------------------------------\u001b[0m",
      "\u001b[1;31mTypeError\u001b[0m                                 Traceback (most recent call last)",
      "Cell \u001b[1;32mIn[36], line 1\u001b[0m\n\u001b[1;32m----> 1\u001b[0m mytup[\u001b[38;5;241m0\u001b[39m] \u001b[38;5;241m=\u001b[39m \u001b[38;5;241m5\u001b[39m\n",
      "\u001b[1;31mTypeError\u001b[0m: 'tuple' object does not support item assignment"
     ]
    }
   ],
   "source": [
    "mytup[0] = 5 # Tuples are immutable which means we can't change tuple element "
   ]
  },
  {
   "cell_type": "code",
   "execution_count": 37,
   "id": "d5f8af00-7b7e-433c-914a-acd281f994ee",
   "metadata": {},
   "outputs": [],
   "source": [
    "del mytup # We cant delete any element of the tuple but we can delete the whole tuple"
   ]
  },
  {
   "cell_type": "code",
   "execution_count": 38,
   "id": "63757a4b-25ec-4b9a-946c-41666486a5be",
   "metadata": {},
   "outputs": [
    {
     "ename": "NameError",
     "evalue": "name 'mytup' is not defined",
     "output_type": "error",
     "traceback": [
      "\u001b[1;31m---------------------------------------------------------------------------\u001b[0m",
      "\u001b[1;31mNameError\u001b[0m                                 Traceback (most recent call last)",
      "Cell \u001b[1;32mIn[38], line 1\u001b[0m\n\u001b[1;32m----> 1\u001b[0m mytup\n",
      "\u001b[1;31mNameError\u001b[0m: name 'mytup' is not defined"
     ]
    }
   ],
   "source": [
    "mytup"
   ]
  },
  {
   "cell_type": "markdown",
   "id": "176a1d97-dd9a-4536-98e0-a37e3d14ad9d",
   "metadata": {},
   "source": [
    "# Loop through a tuple"
   ]
  },
  {
   "cell_type": "code",
   "execution_count": 39,
   "id": "e167302b-e12f-4e61-b9a6-a458e70f2a9c",
   "metadata": {},
   "outputs": [],
   "source": [
    "mytup = ('one', 'two', 'three', 'four', 'five', 'six', 'seven', 'eight')\n"
   ]
  },
  {
   "cell_type": "code",
   "execution_count": 40,
   "id": "e4a05709-bfff-4c40-b12b-f329a0894b63",
   "metadata": {},
   "outputs": [
    {
     "name": "stdout",
     "output_type": "stream",
     "text": [
      "one\n",
      "two\n",
      "three\n",
      "four\n",
      "five\n",
      "six\n",
      "seven\n",
      "eight\n"
     ]
    }
   ],
   "source": [
    "for i in mytup:\n",
    "    print(i)"
   ]
  },
  {
   "cell_type": "code",
   "execution_count": 41,
   "id": "a4536357-aa0d-43f1-b769-54cd2b0ba432",
   "metadata": {},
   "outputs": [
    {
     "name": "stdout",
     "output_type": "stream",
     "text": [
      "(0, 'one')\n",
      "(1, 'two')\n",
      "(2, 'three')\n",
      "(3, 'four')\n",
      "(4, 'five')\n",
      "(5, 'six')\n",
      "(6, 'seven')\n",
      "(7, 'eight')\n"
     ]
    }
   ],
   "source": [
    "for i in enumerate(mytup):\n",
    "    print(i)"
   ]
  },
  {
   "cell_type": "markdown",
   "id": "0fd18235-93a0-4d16-8a6b-8e7170f21450",
   "metadata": {},
   "source": [
    "# Count"
   ]
  },
  {
   "cell_type": "code",
   "execution_count": 42,
   "id": "a3dd4aa3-66d5-423f-a823-d3b52b3baf21",
   "metadata": {},
   "outputs": [
    {
     "data": {
      "text/plain": [
       "('one', 'two', 'three', 'four', 'five', 'six', 'seven', 'eight')"
      ]
     },
     "execution_count": 42,
     "metadata": {},
     "output_type": "execute_result"
    }
   ],
   "source": [
    "mytup"
   ]
  },
  {
   "cell_type": "code",
   "execution_count": 47,
   "id": "1980fd3e-f9c2-4624-a268-014e160948e5",
   "metadata": {},
   "outputs": [],
   "source": [
    "mytup1  = ('one', 'two', 'one', 'four', 'five', 'one', 'two', 'two')"
   ]
  },
  {
   "cell_type": "code",
   "execution_count": 50,
   "id": "5ef4b321-c6cb-4ce5-807f-55fecf3b3054",
   "metadata": {},
   "outputs": [
    {
     "data": {
      "text/plain": [
       "3"
      ]
     },
     "execution_count": 50,
     "metadata": {},
     "output_type": "execute_result"
    }
   ],
   "source": [
    "mytup1.count('one') # Number of times item \"one\" occured in the tuple."
   ]
  },
  {
   "cell_type": "code",
   "execution_count": 51,
   "id": "c3a1a3ef-be4c-41a1-9929-2428ddec187f",
   "metadata": {},
   "outputs": [
    {
     "data": {
      "text/plain": [
       "3"
      ]
     },
     "execution_count": 51,
     "metadata": {},
     "output_type": "execute_result"
    }
   ],
   "source": [
    "mytup1.count('two')"
   ]
  },
  {
   "cell_type": "code",
   "execution_count": 52,
   "id": "fdef5a10-d8a5-489b-b3f1-ad67e4fb8e26",
   "metadata": {},
   "outputs": [
    {
     "data": {
      "text/plain": [
       "1"
      ]
     },
     "execution_count": 52,
     "metadata": {},
     "output_type": "execute_result"
    }
   ],
   "source": [
    "mytup1.count('four')"
   ]
  },
  {
   "cell_type": "markdown",
   "id": "7773f1f6-33d1-4be2-9ed5-1a60580ffe05",
   "metadata": {},
   "source": [
    "# Tuple Membership"
   ]
  },
  {
   "cell_type": "code",
   "execution_count": 54,
   "id": "e9aa9189-2415-437e-8e9b-bf983dda5355",
   "metadata": {},
   "outputs": [
    {
     "data": {
      "text/plain": [
       "('one', 'two', 'three', 'four', 'five', 'six', 'seven', 'eight')"
      ]
     },
     "execution_count": 54,
     "metadata": {},
     "output_type": "execute_result"
    }
   ],
   "source": [
    "mytup"
   ]
  },
  {
   "cell_type": "code",
   "execution_count": 55,
   "id": "0586af77-13db-4cc6-8d3d-6c421a52c74d",
   "metadata": {},
   "outputs": [
    {
     "data": {
      "text/plain": [
       "True"
      ]
     },
     "execution_count": 55,
     "metadata": {},
     "output_type": "execute_result"
    }
   ],
   "source": [
    "'two' in mytup  # Check if 'one' exist in the list"
   ]
  },
  {
   "cell_type": "code",
   "execution_count": 56,
   "id": "fa641486-13a3-47e8-ac0e-52215177b84d",
   "metadata": {},
   "outputs": [
    {
     "data": {
      "text/plain": [
       "False"
      ]
     },
     "execution_count": 56,
     "metadata": {},
     "output_type": "execute_result"
    }
   ],
   "source": [
    "'nine' in mytup"
   ]
  },
  {
   "cell_type": "code",
   "execution_count": 57,
   "id": "df545406-b6b9-4432-a0ef-f53fd6a8dbc0",
   "metadata": {},
   "outputs": [
    {
     "name": "stdout",
     "output_type": "stream",
     "text": [
      "Two is present in the tuple\n"
     ]
    }
   ],
   "source": [
    "if 'two' in mytup:\n",
    "    print('Two is present in the tuple')\n",
    "else:\n",
    "    print('Two is not present in the tuple')"
   ]
  },
  {
   "cell_type": "markdown",
   "id": "e0843fa9-bf5c-4b3d-a4f6-94fb491c4a2f",
   "metadata": {},
   "source": [
    "# Index position"
   ]
  },
  {
   "cell_type": "code",
   "execution_count": 58,
   "id": "4f34b289-96f0-4d07-b387-5a7c80c40e62",
   "metadata": {},
   "outputs": [
    {
     "data": {
      "text/plain": [
       "('one', 'two', 'three', 'four', 'five', 'six', 'seven', 'eight')"
      ]
     },
     "execution_count": 58,
     "metadata": {},
     "output_type": "execute_result"
    }
   ],
   "source": [
    "mytup"
   ]
  },
  {
   "cell_type": "code",
   "execution_count": 59,
   "id": "3f1303d1-c0ff-4b3a-a5ca-2c2b56bf0bb6",
   "metadata": {},
   "outputs": [
    {
     "data": {
      "text/plain": [
       "0"
      ]
     },
     "execution_count": 59,
     "metadata": {},
     "output_type": "execute_result"
    }
   ],
   "source": [
    "mytup.index('one')"
   ]
  },
  {
   "cell_type": "code",
   "execution_count": 60,
   "id": "07599f80-b10e-475c-a40e-c5626db04f7a",
   "metadata": {},
   "outputs": [
    {
     "data": {
      "text/plain": [
       "5"
      ]
     },
     "execution_count": 60,
     "metadata": {},
     "output_type": "execute_result"
    }
   ],
   "source": [
    "mytup.index('six')"
   ]
  },
  {
   "cell_type": "markdown",
   "id": "c44f7739-e456-4bc6-8024-93174b8f3f87",
   "metadata": {},
   "source": [
    "# Sorting"
   ]
  },
  {
   "cell_type": "code",
   "execution_count": 61,
   "id": "6a54940d-e34c-47d2-be5c-30ea94d110d6",
   "metadata": {},
   "outputs": [
    {
     "data": {
      "text/plain": [
       "(25.76, 35.87, 87.33)"
      ]
     },
     "execution_count": 61,
     "metadata": {},
     "output_type": "execute_result"
    }
   ],
   "source": [
    "tup3"
   ]
  },
  {
   "cell_type": "code",
   "execution_count": 62,
   "id": "f1dc23cb-0028-4bf0-9154-bd3963dcff8c",
   "metadata": {},
   "outputs": [
    {
     "data": {
      "text/plain": [
       "[25.76, 35.87, 87.33]"
      ]
     },
     "execution_count": 62,
     "metadata": {},
     "output_type": "execute_result"
    }
   ],
   "source": [
    "sorted(tup3)"
   ]
  },
  {
   "cell_type": "code",
   "execution_count": 63,
   "id": "d09c1796-529b-47be-afdc-40a3b0761cd8",
   "metadata": {},
   "outputs": [
    {
     "data": {
      "text/plain": [
       "[87.33, 35.87, 25.76]"
      ]
     },
     "execution_count": 63,
     "metadata": {},
     "output_type": "execute_result"
    }
   ],
   "source": [
    "sorted(tup3,reverse = True)"
   ]
  },
  {
   "cell_type": "markdown",
   "id": "256033a9-3a32-40dd-8222-0b415b7601a7",
   "metadata": {},
   "source": [
    "# Sets\n",
    "1) Unordered & Unindexed collection of items. \n",
    "2) Set elements are unique. Duplicate elements are not allowed. \n",
    "3) Set elements are immutable (cannot be changed). \n",
    "4) Set itself is mutable. We can add or remove items from it."
   ]
  },
  {
   "cell_type": "markdown",
   "id": "a1abdfed-6acb-4ad4-b64e-e75e48d9b204",
   "metadata": {},
   "source": [
    "## Set creation"
   ]
  },
  {
   "cell_type": "code",
   "execution_count": 65,
   "id": "eaec29a9-b290-4761-b3e3-3487c6c6e30b",
   "metadata": {},
   "outputs": [
    {
     "data": {
      "text/plain": [
       "{2, 4, 5, 7}"
      ]
     },
     "execution_count": 65,
     "metadata": {},
     "output_type": "execute_result"
    }
   ],
   "source": [
    "myset = {2,4,5,7}\n",
    "myset"
   ]
  },
  {
   "cell_type": "code",
   "execution_count": 66,
   "id": "e0abc52e-a471-4244-bd38-3727fe97a479",
   "metadata": {},
   "outputs": [
    {
     "data": {
      "text/plain": [
       "4"
      ]
     },
     "execution_count": 66,
     "metadata": {},
     "output_type": "execute_result"
    }
   ],
   "source": [
    "len(myset)"
   ]
  },
  {
   "cell_type": "code",
   "execution_count": 67,
   "id": "05fbd3a1-63df-43b5-972c-22e7166e8ee1",
   "metadata": {},
   "outputs": [
    {
     "data": {
      "text/plain": [
       "{1, 2, 4, 5}"
      ]
     },
     "execution_count": 67,
     "metadata": {},
     "output_type": "execute_result"
    }
   ],
   "source": [
    "set1  ={1,2,2,1,4,5,5} # Duplicate elements are not allowed in test\n",
    "set1"
   ]
  },
  {
   "cell_type": "code",
   "execution_count": 68,
   "id": "ada099aa-4647-4c7e-bbfb-42cc5f7bcf7b",
   "metadata": {},
   "outputs": [
    {
     "data": {
      "text/plain": [
       "{4.89, 8.5, 23.33, 45.98, 56.9}"
      ]
     },
     "execution_count": 68,
     "metadata": {},
     "output_type": "execute_result"
    }
   ],
   "source": [
    "set2 = {23.33,45.98,56.90,4.89,8.5}\n",
    "set2"
   ]
  },
  {
   "cell_type": "code",
   "execution_count": 70,
   "id": "7207d0c3-9c8e-497c-b024-61d0d092db94",
   "metadata": {},
   "outputs": [],
   "source": [
    "set3 = {'Amit','Ajay','Vijay','Ravi'} # set of strings"
   ]
  },
  {
   "cell_type": "code",
   "execution_count": 71,
   "id": "76f9b8fc-d542-4a58-b6f0-23b25c70bca8",
   "metadata": {},
   "outputs": [],
   "source": [
    "set4 = {10,20,'Ani',(15,28,59)} # Mixed set datatypes"
   ]
  },
  {
   "cell_type": "code",
   "execution_count": 72,
   "id": "274f8b48-39d6-4c5c-920b-b619b2eee15f",
   "metadata": {},
   "outputs": [
    {
     "data": {
      "text/plain": [
       "{(15, 28, 59), 10, 20, 'Ani'}"
      ]
     },
     "execution_count": 72,
     "metadata": {},
     "output_type": "execute_result"
    }
   ],
   "source": [
    "set4"
   ]
  },
  {
   "cell_type": "code",
   "execution_count": 75,
   "id": "d979e6b8-f216-4964-a17a-7d60243df572",
   "metadata": {},
   "outputs": [
    {
     "ename": "TypeError",
     "evalue": "unhashable type: 'list'",
     "output_type": "error",
     "traceback": [
      "\u001b[1;31m---------------------------------------------------------------------------\u001b[0m",
      "\u001b[1;31mTypeError\u001b[0m                                 Traceback (most recent call last)",
      "Cell \u001b[1;32mIn[75], line 1\u001b[0m\n\u001b[1;32m----> 1\u001b[0m set4  \u001b[38;5;241m=\u001b[39m {\u001b[38;5;241m10\u001b[39m,\u001b[38;5;241m20\u001b[39m,\u001b[38;5;124m'\u001b[39m\u001b[38;5;124mAni\u001b[39m\u001b[38;5;124m'\u001b[39m,[\u001b[38;5;241m15\u001b[39m,\u001b[38;5;241m28\u001b[39m,\u001b[38;5;241m59\u001b[39m]} \u001b[38;5;66;03m#  set doesn't allow mutable items like lists \u001b[39;00m\n\u001b[0;32m      2\u001b[0m set4\n",
      "\u001b[1;31mTypeError\u001b[0m: unhashable type: 'list'"
     ]
    }
   ],
   "source": [
    "set4  = {10,20,'Ani',[15,28,59]} #  set doesn't allow mutable items like lists \n",
    "set4"
   ]
  },
  {
   "cell_type": "code",
   "execution_count": 76,
   "id": "98dbfedd-2fb4-4b18-a607-6cfeb3496398",
   "metadata": {},
   "outputs": [
    {
     "name": "stdout",
     "output_type": "stream",
     "text": [
      "<class 'set'>\n"
     ]
    }
   ],
   "source": [
    "set5 = set()\n",
    "print(type(set5))"
   ]
  },
  {
   "cell_type": "code",
   "execution_count": 77,
   "id": "f4267c4e-20e0-4b74-9728-9b714a160cc5",
   "metadata": {},
   "outputs": [
    {
     "data": {
      "text/plain": [
       "{'four', 'one', 'three', 'two'}"
      ]
     },
     "execution_count": 77,
     "metadata": {},
     "output_type": "execute_result"
    }
   ],
   "source": [
    "myset1 = set(('one','two','three','four'))\n",
    "myset1"
   ]
  },
  {
   "cell_type": "markdown",
   "id": "3f1d9e1f-64b4-4db2-a7c1-4e7b7a5c0b51",
   "metadata": {},
   "source": [
    "# Loop through set"
   ]
  },
  {
   "cell_type": "code",
   "execution_count": 79,
   "id": "50416d31-50e9-45a3-83db-a27d6b555b11",
   "metadata": {},
   "outputs": [
    {
     "name": "stdout",
     "output_type": "stream",
     "text": [
      "five\n",
      "six\n",
      "three\n",
      "four\n",
      "one\n",
      "eight\n",
      "two\n",
      "seven\n"
     ]
    }
   ],
   "source": [
    "myset = {'one', 'two', 'three', 'four', 'five', 'six', 'seven', 'eight'}\n",
    "for i in myset:\n",
    "    print(i)"
   ]
  },
  {
   "cell_type": "code",
   "execution_count": 80,
   "id": "198720b2-6b9f-4722-a69b-79e5b174f488",
   "metadata": {},
   "outputs": [
    {
     "name": "stdout",
     "output_type": "stream",
     "text": [
      "(0, 'five')\n",
      "(1, 'six')\n",
      "(2, 'three')\n",
      "(3, 'four')\n",
      "(4, 'one')\n",
      "(5, 'eight')\n",
      "(6, 'two')\n",
      "(7, 'seven')\n"
     ]
    }
   ],
   "source": [
    "for i in enumerate(myset):\n",
    "    print(i)"
   ]
  },
  {
   "cell_type": "markdown",
   "id": "f06e5948-9a45-4da2-b483-9ff5f8a53edf",
   "metadata": {},
   "source": [
    "# Set membership"
   ]
  },
  {
   "cell_type": "code",
   "execution_count": 81,
   "id": "585b4df6-9d01-4737-a710-a8d5e7a3517e",
   "metadata": {},
   "outputs": [
    {
     "data": {
      "text/plain": [
       "{'eight', 'five', 'four', 'one', 'seven', 'six', 'three', 'two'}"
      ]
     },
     "execution_count": 81,
     "metadata": {},
     "output_type": "execute_result"
    }
   ],
   "source": [
    "myset"
   ]
  },
  {
   "cell_type": "code",
   "execution_count": 82,
   "id": "6d182f59-3828-402f-aad9-c5b515c49165",
   "metadata": {},
   "outputs": [
    {
     "data": {
      "text/plain": [
       "True"
      ]
     },
     "execution_count": 82,
     "metadata": {},
     "output_type": "execute_result"
    }
   ],
   "source": [
    "'five' in myset"
   ]
  },
  {
   "cell_type": "code",
   "execution_count": 83,
   "id": "08384e73-ed20-4c89-bd76-c2e7431b2c89",
   "metadata": {},
   "outputs": [
    {
     "data": {
      "text/plain": [
       "False"
      ]
     },
     "execution_count": 83,
     "metadata": {},
     "output_type": "execute_result"
    }
   ],
   "source": [
    "'ten' in myset"
   ]
  },
  {
   "cell_type": "code",
   "execution_count": 84,
   "id": "e698c216-f4df-4872-96e3-333d387de53d",
   "metadata": {},
   "outputs": [
    {
     "data": {
      "text/plain": [
       "True"
      ]
     },
     "execution_count": 84,
     "metadata": {},
     "output_type": "execute_result"
    }
   ],
   "source": [
    "'ten' not in myset"
   ]
  },
  {
   "cell_type": "code",
   "execution_count": 85,
   "id": "f6d8dd2a-4162-47dc-86eb-f4f62a0cb2b4",
   "metadata": {},
   "outputs": [
    {
     "name": "stdout",
     "output_type": "stream",
     "text": [
      "Two is present in the set\n"
     ]
    }
   ],
   "source": [
    "if 'two' in myset:\n",
    "    print('Two is present in the set')\n",
    "\n",
    "else:\n",
    "    print('Two is not present in the set')"
   ]
  },
  {
   "cell_type": "code",
   "execution_count": 88,
   "id": "6645a9aa-6a5a-4063-8a85-4cfc410ef450",
   "metadata": {},
   "outputs": [
    {
     "name": "stdout",
     "output_type": "stream",
     "text": [
      "Eleven is not present in the set\n"
     ]
    }
   ],
   "source": [
    "if 'eleven' in myset:\n",
    "    print('Eleven is present in the set')\n",
    "\n",
    "else:\n",
    "    print('Eleven is not present in the set')"
   ]
  },
  {
   "cell_type": "markdown",
   "id": "e3406c8d-bab3-4676-a7ac-382ed4100cab",
   "metadata": {},
   "source": [
    "# Add and Remove Items "
   ]
  },
  {
   "cell_type": "code",
   "execution_count": 89,
   "id": "0da7e65b-4f17-4876-adb6-22e84f43881c",
   "metadata": {},
   "outputs": [
    {
     "data": {
      "text/plain": [
       "{'eight', 'five', 'four', 'one', 'seven', 'six', 'three', 'two'}"
      ]
     },
     "execution_count": 89,
     "metadata": {},
     "output_type": "execute_result"
    }
   ],
   "source": [
    "myset"
   ]
  },
  {
   "cell_type": "code",
   "execution_count": 90,
   "id": "0306fd7f-46b5-4a47-a723-e1133744554c",
   "metadata": {},
   "outputs": [
    {
     "data": {
      "text/plain": [
       "{'eight', 'five', 'four', 'nine', 'one', 'seven', 'six', 'three', 'two'}"
      ]
     },
     "execution_count": 90,
     "metadata": {},
     "output_type": "execute_result"
    }
   ],
   "source": [
    "myset.add('nine')\n",
    "myset"
   ]
  },
  {
   "cell_type": "code",
   "execution_count": 91,
   "id": "02d7aa5c-a105-4ba7-a379-94477f671548",
   "metadata": {},
   "outputs": [
    {
     "data": {
      "text/plain": [
       "{'eight',\n",
       " 'eleven',\n",
       " 'five',\n",
       " 'four',\n",
       " 'nine',\n",
       " 'one',\n",
       " 'seven',\n",
       " 'six',\n",
       " 'ten',\n",
       " 'three',\n",
       " 'twelve',\n",
       " 'two'}"
      ]
     },
     "execution_count": 91,
     "metadata": {},
     "output_type": "execute_result"
    }
   ],
   "source": [
    "myset.update(['ten','eleven','twelve'])\n",
    "myset"
   ]
  },
  {
   "cell_type": "code",
   "execution_count": 92,
   "id": "d6d0ee5e-715d-460d-98d4-07475af5b899",
   "metadata": {},
   "outputs": [],
   "source": [
    "myset.remove('nine')"
   ]
  },
  {
   "cell_type": "code",
   "execution_count": 93,
   "id": "c212a3de-83dd-4ea2-8cb6-7d17c7997383",
   "metadata": {},
   "outputs": [
    {
     "data": {
      "text/plain": [
       "{'eight',\n",
       " 'eleven',\n",
       " 'five',\n",
       " 'four',\n",
       " 'one',\n",
       " 'seven',\n",
       " 'six',\n",
       " 'ten',\n",
       " 'three',\n",
       " 'twelve',\n",
       " 'two'}"
      ]
     },
     "execution_count": 93,
     "metadata": {},
     "output_type": "execute_result"
    }
   ],
   "source": [
    "myset"
   ]
  },
  {
   "cell_type": "code",
   "execution_count": 94,
   "id": "276cb6dc-0cb4-4672-9d17-d92787688892",
   "metadata": {},
   "outputs": [],
   "source": [
    "myset.clear()"
   ]
  },
  {
   "cell_type": "code",
   "execution_count": 95,
   "id": "a13c2af2-30aa-431d-849e-0147289ec4cf",
   "metadata": {},
   "outputs": [
    {
     "data": {
      "text/plain": [
       "set()"
      ]
     },
     "execution_count": 95,
     "metadata": {},
     "output_type": "execute_result"
    }
   ],
   "source": [
    "myset"
   ]
  },
  {
   "cell_type": "code",
   "execution_count": 96,
   "id": "46cfd466-c397-407b-ab02-78b52cf0e7e5",
   "metadata": {},
   "outputs": [],
   "source": [
    "del myset"
   ]
  },
  {
   "cell_type": "code",
   "execution_count": 97,
   "id": "a6e94d5b-f202-408b-8d5e-4812640a1757",
   "metadata": {},
   "outputs": [
    {
     "ename": "NameError",
     "evalue": "name 'myset' is not defined",
     "output_type": "error",
     "traceback": [
      "\u001b[1;31m---------------------------------------------------------------------------\u001b[0m",
      "\u001b[1;31mNameError\u001b[0m                                 Traceback (most recent call last)",
      "Cell \u001b[1;32mIn[97], line 1\u001b[0m\n\u001b[1;32m----> 1\u001b[0m myset\n",
      "\u001b[1;31mNameError\u001b[0m: name 'myset' is not defined"
     ]
    }
   ],
   "source": [
    "myset"
   ]
  },
  {
   "cell_type": "markdown",
   "id": "e2b0de3f-a70c-49af-87cf-75d1df9aeef3",
   "metadata": {},
   "source": [
    "# Copy Set"
   ]
  },
  {
   "cell_type": "code",
   "execution_count": 99,
   "id": "da6af844-a52f-4175-897d-a0c670fc1ecd",
   "metadata": {},
   "outputs": [],
   "source": [
    "myset  = {'eight', 'five', 'four', 'nine', 'one', 'seven', 'six', 'three', 'two'}"
   ]
  },
  {
   "cell_type": "code",
   "execution_count": 104,
   "id": "035f4934-9eea-4246-88bc-ead48231eef5",
   "metadata": {},
   "outputs": [
    {
     "data": {
      "text/plain": [
       "{'eight', 'five', 'four', 'nine', 'one', 'seven', 'six', 'three', 'two'}"
      ]
     },
     "execution_count": 104,
     "metadata": {},
     "output_type": "execute_result"
    }
   ],
   "source": [
    "myset2 = myset\n",
    "myset2"
   ]
  },
  {
   "cell_type": "code",
   "execution_count": 105,
   "id": "a274bd4c-7785-40dc-ab8c-68203c255b05",
   "metadata": {},
   "outputs": [
    {
     "data": {
      "text/plain": [
       "2968238986112"
      ]
     },
     "execution_count": 105,
     "metadata": {},
     "output_type": "execute_result"
    }
   ],
   "source": [
    "id(myset)"
   ]
  },
  {
   "cell_type": "code",
   "execution_count": 106,
   "id": "72bbc56b-57bb-45c8-94f1-232af9b497fc",
   "metadata": {},
   "outputs": [
    {
     "data": {
      "text/plain": [
       "2968238986112"
      ]
     },
     "execution_count": 106,
     "metadata": {},
     "output_type": "execute_result"
    }
   ],
   "source": [
    "id(myset2)"
   ]
  },
  {
   "cell_type": "code",
   "execution_count": 107,
   "id": "92c54f0c-25f3-47d7-9322-874dcc18116e",
   "metadata": {},
   "outputs": [
    {
     "data": {
      "text/plain": [
       "{'eight', 'five', 'four', 'nine', 'one', 'seven', 'six', 'three', 'two'}"
      ]
     },
     "execution_count": 107,
     "metadata": {},
     "output_type": "execute_result"
    }
   ],
   "source": [
    "my_set = myset.copy()\n",
    "my_set"
   ]
  },
  {
   "cell_type": "code",
   "execution_count": 108,
   "id": "2dc87465-c905-4e69-aa52-7a8513b54e32",
   "metadata": {},
   "outputs": [
    {
     "data": {
      "text/plain": [
       "2968240143744"
      ]
     },
     "execution_count": 108,
     "metadata": {},
     "output_type": "execute_result"
    }
   ],
   "source": [
    "id(my_set)"
   ]
  },
  {
   "cell_type": "code",
   "execution_count": 109,
   "id": "1d4b0c8b-c494-4951-a512-90973f706c6f",
   "metadata": {},
   "outputs": [],
   "source": [
    "myset.add('ten')"
   ]
  },
  {
   "cell_type": "code",
   "execution_count": 111,
   "id": "7f6c801f-ccf0-4c26-9149-a1895987cafb",
   "metadata": {},
   "outputs": [
    {
     "data": {
      "text/plain": [
       "{'eight', 'five', 'four', 'nine', 'one', 'seven', 'six', 'ten', 'three', 'two'}"
      ]
     },
     "execution_count": 111,
     "metadata": {},
     "output_type": "execute_result"
    }
   ],
   "source": [
    "myset"
   ]
  },
  {
   "cell_type": "code",
   "execution_count": 112,
   "id": "ff15a237-ff4f-4b21-9e7e-855a7e8f9455",
   "metadata": {},
   "outputs": [
    {
     "data": {
      "text/plain": [
       "{'eight', 'five', 'four', 'nine', 'one', 'seven', 'six', 'ten', 'three', 'two'}"
      ]
     },
     "execution_count": 112,
     "metadata": {},
     "output_type": "execute_result"
    }
   ],
   "source": [
    "myset2"
   ]
  },
  {
   "cell_type": "code",
   "execution_count": 113,
   "id": "d0d24b52-96f7-4e01-b21e-45c6a9aa07fb",
   "metadata": {},
   "outputs": [
    {
     "data": {
      "text/plain": [
       "{'eight', 'five', 'four', 'nine', 'one', 'seven', 'six', 'three', 'two'}"
      ]
     },
     "execution_count": 113,
     "metadata": {},
     "output_type": "execute_result"
    }
   ],
   "source": [
    "my_set"
   ]
  },
  {
   "cell_type": "markdown",
   "id": "f6018133-25e0-4bf3-a739-40d92a331bb3",
   "metadata": {},
   "source": [
    "# Set Operation"
   ]
  },
  {
   "cell_type": "code",
   "execution_count": 114,
   "id": "d79ebd1f-acb9-42c6-afcf-de4876addbda",
   "metadata": {},
   "outputs": [],
   "source": [
    "a = {20,30,40,50,50}\n",
    "b = {40,50,60,70,80}\n",
    "c = {80,90,100}"
   ]
  },
  {
   "cell_type": "code",
   "execution_count": 115,
   "id": "b18ce6e7-9a9d-4db5-80e9-2bfad4f11a6a",
   "metadata": {},
   "outputs": [
    {
     "data": {
      "text/plain": [
       "{20, 30, 40, 50, 60, 70, 80}"
      ]
     },
     "execution_count": 115,
     "metadata": {},
     "output_type": "execute_result"
    }
   ],
   "source": [
    "a | b # Unioun"
   ]
  },
  {
   "cell_type": "code",
   "execution_count": 116,
   "id": "704310f7-3b34-42b0-aa78-a503aabe0a19",
   "metadata": {},
   "outputs": [
    {
     "data": {
      "text/plain": [
       "{20, 30, 40, 50, 60, 70, 80}"
      ]
     },
     "execution_count": 116,
     "metadata": {},
     "output_type": "execute_result"
    }
   ],
   "source": [
    "a.union(b)"
   ]
  },
  {
   "cell_type": "code",
   "execution_count": 117,
   "id": "ff355f86-7392-4f44-b918-375d752263b1",
   "metadata": {},
   "outputs": [
    {
     "data": {
      "text/plain": [
       "{20, 30, 40, 50, 60, 70, 80, 90, 100}"
      ]
     },
     "execution_count": 117,
     "metadata": {},
     "output_type": "execute_result"
    }
   ],
   "source": [
    "a.union(b,c)"
   ]
  },
  {
   "cell_type": "code",
   "execution_count": 118,
   "id": "76f76eeb-0416-4d35-b8e5-907a696cb4f9",
   "metadata": {},
   "outputs": [],
   "source": [
    "a.update(b)"
   ]
  },
  {
   "cell_type": "code",
   "execution_count": 119,
   "id": "23d0b630-2feb-4cdf-b0c7-3c8c74814b26",
   "metadata": {},
   "outputs": [
    {
     "data": {
      "text/plain": [
       "{20, 30, 40, 50, 60, 70, 80}"
      ]
     },
     "execution_count": 119,
     "metadata": {},
     "output_type": "execute_result"
    }
   ],
   "source": [
    "a"
   ]
  },
  {
   "cell_type": "code",
   "execution_count": 120,
   "id": "b33080fd-78c9-43e1-919f-f3976d2a7e4e",
   "metadata": {},
   "outputs": [],
   "source": [
    "a.update(c)"
   ]
  },
  {
   "cell_type": "code",
   "execution_count": 121,
   "id": "268c8e83-bd7a-46a0-bc8e-4abc34b62b5b",
   "metadata": {},
   "outputs": [
    {
     "data": {
      "text/plain": [
       "{20, 30, 40, 50, 60, 70, 80, 90, 100}"
      ]
     },
     "execution_count": 121,
     "metadata": {},
     "output_type": "execute_result"
    }
   ],
   "source": [
    "a"
   ]
  },
  {
   "cell_type": "markdown",
   "id": "ef29c857-1cb3-488a-9d9f-ca8c34d049c7",
   "metadata": {},
   "source": [
    "# Intersection"
   ]
  },
  {
   "cell_type": "code",
   "execution_count": 129,
   "id": "a237f280-e402-4a66-bb4d-a10bfd2605a2",
   "metadata": {},
   "outputs": [],
   "source": [
    "A = {1,2,3,4,5}\n",
    "B = {4,5,6,7,8}"
   ]
  },
  {
   "cell_type": "code",
   "execution_count": 130,
   "id": "a9443069-99d7-49ad-9041-e222ecfe334f",
   "metadata": {},
   "outputs": [
    {
     "data": {
      "text/plain": [
       "{4, 5}"
      ]
     },
     "execution_count": 130,
     "metadata": {},
     "output_type": "execute_result"
    }
   ],
   "source": [
    "A & B"
   ]
  },
  {
   "cell_type": "code",
   "execution_count": 131,
   "id": "31380836-4f71-4a02-88f2-596be6228e77",
   "metadata": {},
   "outputs": [
    {
     "data": {
      "text/plain": [
       "{4, 5}"
      ]
     },
     "execution_count": 131,
     "metadata": {},
     "output_type": "execute_result"
    }
   ],
   "source": [
    "A.intersection(B)"
   ]
  },
  {
   "cell_type": "code",
   "execution_count": 125,
   "id": "e9557ede-7573-4f7e-ac45-24d3d3401248",
   "metadata": {},
   "outputs": [
    {
     "data": {
      "text/plain": [
       "set()"
      ]
     },
     "execution_count": 125,
     "metadata": {},
     "output_type": "execute_result"
    }
   ],
   "source": [
    "B.intersection(a)"
   ]
  },
  {
   "cell_type": "code",
   "execution_count": 132,
   "id": "d951a250-73fd-4860-8f36-f916efa9309f",
   "metadata": {},
   "outputs": [
    {
     "data": {
      "text/plain": [
       "{4, 5}"
      ]
     },
     "execution_count": 132,
     "metadata": {},
     "output_type": "execute_result"
    }
   ],
   "source": [
    "A.intersection_update(B)\n",
    "A"
   ]
  },
  {
   "cell_type": "markdown",
   "id": "0e88e7b0-5b46-4f19-a9d4-711d87a5f9d8",
   "metadata": {},
   "source": [
    "# Difference"
   ]
  },
  {
   "cell_type": "code",
   "execution_count": 134,
   "id": "47699809-f661-4a26-af70-1d2b62e7cd35",
   "metadata": {},
   "outputs": [],
   "source": [
    "A = {1,2,3,4,5}\n",
    "B = {4,5,6,7,8}"
   ]
  },
  {
   "cell_type": "code",
   "execution_count": 135,
   "id": "b9f26c76-3aa4-4c10-84c0-c5c7aec4556d",
   "metadata": {},
   "outputs": [
    {
     "data": {
      "text/plain": [
       "{1, 2, 3}"
      ]
     },
     "execution_count": 135,
     "metadata": {},
     "output_type": "execute_result"
    }
   ],
   "source": [
    "A - B"
   ]
  },
  {
   "cell_type": "code",
   "execution_count": 136,
   "id": "47f638ed-2548-4a51-87a0-4820e802c65e",
   "metadata": {},
   "outputs": [
    {
     "data": {
      "text/plain": [
       "{1, 2, 3}"
      ]
     },
     "execution_count": 136,
     "metadata": {},
     "output_type": "execute_result"
    }
   ],
   "source": [
    "A.difference(B)"
   ]
  },
  {
   "cell_type": "code",
   "execution_count": 137,
   "id": "ad634681-49ac-44f8-8e0a-385b68c069eb",
   "metadata": {},
   "outputs": [
    {
     "data": {
      "text/plain": [
       "{6, 7, 8}"
      ]
     },
     "execution_count": 137,
     "metadata": {},
     "output_type": "execute_result"
    }
   ],
   "source": [
    "B - A"
   ]
  },
  {
   "cell_type": "code",
   "execution_count": 138,
   "id": "82434abc-e2c2-49b4-937b-5f90ff7a3709",
   "metadata": {},
   "outputs": [
    {
     "data": {
      "text/plain": [
       "{6, 7, 8}"
      ]
     },
     "execution_count": 138,
     "metadata": {},
     "output_type": "execute_result"
    }
   ],
   "source": [
    "B.difference(A)"
   ]
  },
  {
   "cell_type": "code",
   "execution_count": 139,
   "id": "1ac3a603-9de8-41d5-8b91-8b553a650272",
   "metadata": {},
   "outputs": [],
   "source": [
    "B.difference_update(A)"
   ]
  },
  {
   "cell_type": "code",
   "execution_count": 140,
   "id": "d65f1b32-b83c-4549-8884-7e7947b812a7",
   "metadata": {},
   "outputs": [
    {
     "data": {
      "text/plain": [
       "{6, 7, 8}"
      ]
     },
     "execution_count": 140,
     "metadata": {},
     "output_type": "execute_result"
    }
   ],
   "source": [
    "B"
   ]
  },
  {
   "cell_type": "markdown",
   "id": "74bfd833-a9db-41e9-8abf-68cc3d7d5834",
   "metadata": {},
   "source": [
    "# Symmetric Difference"
   ]
  },
  {
   "cell_type": "code",
   "execution_count": 141,
   "id": "d6b88442-7c1e-4b63-89a2-c3e2855a01e3",
   "metadata": {},
   "outputs": [],
   "source": [
    "A = {1,2,3,4,5}\n",
    "B = {4,5,6,7,8}"
   ]
  },
  {
   "cell_type": "code",
   "execution_count": 142,
   "id": "22868b72-af36-4f4e-957d-a0eaef946e26",
   "metadata": {},
   "outputs": [
    {
     "data": {
      "text/plain": [
       "{1, 2, 3, 6, 7, 8}"
      ]
     },
     "execution_count": 142,
     "metadata": {},
     "output_type": "execute_result"
    }
   ],
   "source": [
    "A ^ B"
   ]
  },
  {
   "cell_type": "code",
   "execution_count": 143,
   "id": "2a1ea2f6-f06b-407d-aac2-400201b0cfcf",
   "metadata": {},
   "outputs": [
    {
     "data": {
      "text/plain": [
       "{1, 2, 3, 6, 7, 8}"
      ]
     },
     "execution_count": 143,
     "metadata": {},
     "output_type": "execute_result"
    }
   ],
   "source": [
    "A.symmetric_difference(B)"
   ]
  },
  {
   "cell_type": "code",
   "execution_count": 144,
   "id": "aca2d3f3-3a51-40f6-8a99-d663f374d194",
   "metadata": {},
   "outputs": [
    {
     "data": {
      "text/plain": [
       "{1, 2, 3, 6, 7, 8}"
      ]
     },
     "execution_count": 144,
     "metadata": {},
     "output_type": "execute_result"
    }
   ],
   "source": [
    "B.symmetric_difference(A)"
   ]
  },
  {
   "cell_type": "code",
   "execution_count": 145,
   "id": "398ce963-d861-43b9-b488-d91f0121f25c",
   "metadata": {},
   "outputs": [],
   "source": [
    "A.symmetric_difference_update(B)"
   ]
  },
  {
   "cell_type": "code",
   "execution_count": 146,
   "id": "2ae5b351-a11d-4428-84b7-09299b7486ce",
   "metadata": {},
   "outputs": [
    {
     "data": {
      "text/plain": [
       "{1, 2, 3, 6, 7, 8}"
      ]
     },
     "execution_count": 146,
     "metadata": {},
     "output_type": "execute_result"
    }
   ],
   "source": [
    "A"
   ]
  },
  {
   "cell_type": "markdown",
   "id": "c3217df4-1735-4376-8b58-9b4e2371d7c2",
   "metadata": {},
   "source": [
    "# Subset, Superset and Disjoint"
   ]
  },
  {
   "cell_type": "code",
   "execution_count": 147,
   "id": "14e01775-bcb6-40a3-af41-58114d27e0cf",
   "metadata": {},
   "outputs": [],
   "source": [
    "A = {1,2,3,4,5,6,7,8,9} \n",
    "B = {3,4,5,6,7,8} \n",
    "C = {10,20,30,40} "
   ]
  },
  {
   "cell_type": "code",
   "execution_count": 148,
   "id": "733745f9-1132-4245-b6aa-9a8dcdef8f30",
   "metadata": {},
   "outputs": [
    {
     "data": {
      "text/plain": [
       "False"
      ]
     },
     "execution_count": 148,
     "metadata": {},
     "output_type": "execute_result"
    }
   ],
   "source": [
    "A.issubset(B)"
   ]
  },
  {
   "cell_type": "code",
   "execution_count": 149,
   "id": "9b23daad-4bfe-4337-a7bc-ff912e3e384f",
   "metadata": {},
   "outputs": [
    {
     "data": {
      "text/plain": [
       "True"
      ]
     },
     "execution_count": 149,
     "metadata": {},
     "output_type": "execute_result"
    }
   ],
   "source": [
    "B.issubset(A)"
   ]
  },
  {
   "cell_type": "code",
   "execution_count": 150,
   "id": "fcc3d2b9-8256-4a75-8bfb-4793b5bb62c8",
   "metadata": {},
   "outputs": [
    {
     "data": {
      "text/plain": [
       "True"
      ]
     },
     "execution_count": 150,
     "metadata": {},
     "output_type": "execute_result"
    }
   ],
   "source": [
    "A.issuperset(B)"
   ]
  },
  {
   "cell_type": "code",
   "execution_count": 151,
   "id": "c59eaf5f-a2e8-4e1f-b89e-08599f6a48ef",
   "metadata": {},
   "outputs": [
    {
     "data": {
      "text/plain": [
       "False"
      ]
     },
     "execution_count": 151,
     "metadata": {},
     "output_type": "execute_result"
    }
   ],
   "source": [
    "A.issuperset(C)"
   ]
  },
  {
   "cell_type": "code",
   "execution_count": 152,
   "id": "f156913c-041f-4916-92ee-ad6e340e6e1a",
   "metadata": {},
   "outputs": [
    {
     "data": {
      "text/plain": [
       "False"
      ]
     },
     "execution_count": 152,
     "metadata": {},
     "output_type": "execute_result"
    }
   ],
   "source": [
    "C.issubset(A)"
   ]
  },
  {
   "cell_type": "code",
   "execution_count": 154,
   "id": "62723258-5385-4f2b-a476-8dd1837192b9",
   "metadata": {},
   "outputs": [
    {
     "data": {
      "text/plain": [
       "False"
      ]
     },
     "execution_count": 154,
     "metadata": {},
     "output_type": "execute_result"
    }
   ],
   "source": [
    "B.isdisjoint(A)"
   ]
  },
  {
   "cell_type": "code",
   "execution_count": 155,
   "id": "3a4ee358-ef3b-4378-926b-3aa952b14e5e",
   "metadata": {},
   "outputs": [
    {
     "data": {
      "text/plain": [
       "True"
      ]
     },
     "execution_count": 155,
     "metadata": {},
     "output_type": "execute_result"
    }
   ],
   "source": [
    "C.isdisjoint(A)"
   ]
  },
  {
   "cell_type": "code",
   "execution_count": 156,
   "id": "9a76d1f9-f4c4-48aa-911a-58a0dc728d3e",
   "metadata": {},
   "outputs": [],
   "source": [
    "A =  {1, 2, 3, 4, 5, 6, 7, 8, 9} "
   ]
  },
  {
   "cell_type": "code",
   "execution_count": 157,
   "id": "0aefc95f-676c-48a0-b833-a1a6d8ece8d2",
   "metadata": {},
   "outputs": [
    {
     "data": {
      "text/plain": [
       "45"
      ]
     },
     "execution_count": 157,
     "metadata": {},
     "output_type": "execute_result"
    }
   ],
   "source": [
    "sum(A)"
   ]
  },
  {
   "cell_type": "code",
   "execution_count": 158,
   "id": "7efb8f1e-c055-4df7-8276-f76d7d06b6c1",
   "metadata": {},
   "outputs": [
    {
     "data": {
      "text/plain": [
       "9"
      ]
     },
     "execution_count": 158,
     "metadata": {},
     "output_type": "execute_result"
    }
   ],
   "source": [
    "max(A)"
   ]
  },
  {
   "cell_type": "code",
   "execution_count": 159,
   "id": "fd017ae4-2b2e-42f4-8209-4b1ba98becec",
   "metadata": {},
   "outputs": [
    {
     "data": {
      "text/plain": [
       "1"
      ]
     },
     "execution_count": 159,
     "metadata": {},
     "output_type": "execute_result"
    }
   ],
   "source": [
    "min(A)"
   ]
  },
  {
   "cell_type": "code",
   "execution_count": 160,
   "id": "21c049f5-3b94-45f5-9790-f81cff7ef76d",
   "metadata": {},
   "outputs": [
    {
     "data": {
      "text/plain": [
       "9"
      ]
     },
     "execution_count": 160,
     "metadata": {},
     "output_type": "execute_result"
    }
   ],
   "source": [
    "len(A)"
   ]
  },
  {
   "cell_type": "code",
   "execution_count": 161,
   "id": "d5f6e5bd-d66e-46e1-97fe-36f2fd142982",
   "metadata": {},
   "outputs": [
    {
     "data": {
      "text/plain": [
       "[(0, 1), (1, 2), (2, 3), (3, 4), (4, 5), (5, 6), (6, 7), (7, 8), (8, 9)]"
      ]
     },
     "execution_count": 161,
     "metadata": {},
     "output_type": "execute_result"
    }
   ],
   "source": [
    "list(enumerate(A))"
   ]
  },
  {
   "cell_type": "code",
   "execution_count": 162,
   "id": "8a26a425-7bd3-4292-85ae-336d716d5b35",
   "metadata": {},
   "outputs": [],
   "source": [
    "D = sorted(A,reverse  = True)"
   ]
  },
  {
   "cell_type": "code",
   "execution_count": 163,
   "id": "3a18de86-e8a8-48e3-8ad4-0281e6b124f9",
   "metadata": {},
   "outputs": [
    {
     "data": {
      "text/plain": [
       "[9, 8, 7, 6, 5, 4, 3, 2, 1]"
      ]
     },
     "execution_count": 163,
     "metadata": {},
     "output_type": "execute_result"
    }
   ],
   "source": [
    "D"
   ]
  },
  {
   "cell_type": "code",
   "execution_count": 164,
   "id": "c4b60095-128c-4823-bc59-cc560b516b5c",
   "metadata": {},
   "outputs": [
    {
     "data": {
      "text/plain": [
       "[1, 2, 3, 4, 5, 6, 7, 8, 9]"
      ]
     },
     "execution_count": 164,
     "metadata": {},
     "output_type": "execute_result"
    }
   ],
   "source": [
    "sorted(D)"
   ]
  },
  {
   "cell_type": "markdown",
   "id": "b2678ad5-515d-4e8b-b515-58487a5b8f2d",
   "metadata": {},
   "source": [
    "# Dictionary \n",
    "* Dictionary is a mutable data type in Python. \n",
    "*  A python dictionary is a collection of key and value pairs separated by a colon (:) & enclosed in curly braces {}. \n",
    "* Keys must be unique in a dictionary, duplicate values are allowed. "
   ]
  },
  {
   "cell_type": "code",
   "execution_count": 165,
   "id": "2183dfd8-9a70-4f21-8e4e-e4d722502853",
   "metadata": {},
   "outputs": [
    {
     "data": {
      "text/plain": [
       "{}"
      ]
     },
     "execution_count": 165,
     "metadata": {},
     "output_type": "execute_result"
    }
   ],
   "source": [
    "dict = dict()\n",
    "dict"
   ]
  },
  {
   "cell_type": "code",
   "execution_count": 167,
   "id": "0da99e41-04e3-44f4-9961-6de88d9ea564",
   "metadata": {},
   "outputs": [
    {
     "data": {
      "text/plain": [
       "{}"
      ]
     },
     "execution_count": 167,
     "metadata": {},
     "output_type": "execute_result"
    }
   ],
   "source": [
    "dict1  = {}\n",
    "dict1"
   ]
  },
  {
   "cell_type": "code",
   "execution_count": 168,
   "id": "7249c86e-4b4a-43cb-aa10-02f2b16fca7d",
   "metadata": {},
   "outputs": [
    {
     "data": {
      "text/plain": [
       "{1: 'one', 2: 'two', 3: 'Three', 4: 'Four'}"
      ]
     },
     "execution_count": 168,
     "metadata": {},
     "output_type": "execute_result"
    }
   ],
   "source": [
    "dict2 = {1:'one',2:'two',3:'Three',4:'Four'} # Dictionary with integer keys\n",
    "dict2"
   ]
  },
  {
   "cell_type": "code",
   "execution_count": 169,
   "id": "3b013eca-6e91-4c1f-a055-4f33fb990805",
   "metadata": {},
   "outputs": [
    {
     "data": {
      "text/plain": [
       "dict_keys([1, 2, 3, 4])"
      ]
     },
     "execution_count": 169,
     "metadata": {},
     "output_type": "execute_result"
    }
   ],
   "source": [
    "dict2.keys()"
   ]
  },
  {
   "cell_type": "code",
   "execution_count": 170,
   "id": "d4766564-0bdc-44a9-8894-8ae6b038ab0f",
   "metadata": {},
   "outputs": [
    {
     "data": {
      "text/plain": [
       "dict_values(['one', 'two', 'Three', 'Four'])"
      ]
     },
     "execution_count": 170,
     "metadata": {},
     "output_type": "execute_result"
    }
   ],
   "source": [
    "dict2.values()"
   ]
  },
  {
   "cell_type": "code",
   "execution_count": 171,
   "id": "541468a2-4c7e-4b0a-bd25-85654ab9bea5",
   "metadata": {},
   "outputs": [
    {
     "data": {
      "text/plain": [
       "dict_items([(1, 'one'), (2, 'two'), (3, 'Three'), (4, 'Four')])"
      ]
     },
     "execution_count": 171,
     "metadata": {},
     "output_type": "execute_result"
    }
   ],
   "source": [
    "dict2.items()"
   ]
  },
  {
   "cell_type": "code",
   "execution_count": 172,
   "id": "5ce3ba01-2c08-4f07-8cef-bab78fe6d593",
   "metadata": {},
   "outputs": [
    {
     "data": {
      "text/plain": [
       "{1: 'one', 2: 'two', 'A': ['Amit', 'Rahul', 'Raj']}"
      ]
     },
     "execution_count": 172,
     "metadata": {},
     "output_type": "execute_result"
    }
   ],
   "source": [
    "mydict = {1:'one',2:'two','A':['Amit','Rahul','Raj']}\n",
    "mydict"
   ]
  },
  {
   "cell_type": "code",
   "execution_count": 173,
   "id": "66c3a9ac-f094-488b-9da6-f10b77f459dd",
   "metadata": {},
   "outputs": [
    {
     "data": {
      "text/plain": [
       "{1: 'one',\n",
       " 2: 'two',\n",
       " 'A': ['Amit', 'Rahul', 'Raj'],\n",
       " 'B': ('Cricket', 'Football', 'Scocer')}"
      ]
     },
     "execution_count": 173,
     "metadata": {},
     "output_type": "execute_result"
    }
   ],
   "source": [
    "mydict = {1:'one',2:'two','A':['Amit','Rahul','Raj'],'B':('Cricket','Football','Scocer')}\n",
    "mydict"
   ]
  },
  {
   "cell_type": "code",
   "execution_count": 175,
   "id": "8aa094fa-5266-40b5-8291-3e1a7963dcd7",
   "metadata": {},
   "outputs": [
    {
     "data": {
      "text/plain": [
       "{'c': None, 'b': None, 'a': None, 'd': None}"
      ]
     },
     "execution_count": 175,
     "metadata": {},
     "output_type": "execute_result"
    }
   ],
   "source": [
    "keys = {'a','b','c','d'}\n",
    "mydict1 = dict.fromkeys(keys)\n",
    "mydict1"
   ]
  },
  {
   "cell_type": "code",
   "execution_count": 176,
   "id": "134bb0b2-94e7-4f24-8154-8026a3fb9a78",
   "metadata": {},
   "outputs": [
    {
     "data": {
      "text/plain": [
       "{'c': 10, 'b': 10, 'a': 10, 'd': 10}"
      ]
     },
     "execution_count": 176,
     "metadata": {},
     "output_type": "execute_result"
    }
   ],
   "source": [
    "keys = {'a','b','c','d'}\n",
    "value = 10\n",
    "mydict1 = dict.fromkeys(keys,value)\n",
    "mydict1"
   ]
  },
  {
   "cell_type": "code",
   "execution_count": 181,
   "id": "f6e0c13e-3c0f-44a4-b2c2-6a4da9bd1ba2",
   "metadata": {},
   "outputs": [
    {
     "data": {
      "text/plain": [
       "{'c': [10, 20, 30], 'b': [10, 20, 30], 'a': [10, 20, 30], 'd': [10, 20, 30]}"
      ]
     },
     "execution_count": 181,
     "metadata": {},
     "output_type": "execute_result"
    }
   ],
   "source": [
    "keys = {'a','b','c','d'}\n",
    "values  = [10,20,30]\n",
    "mydict2 = dict.fromkeys(keys,values) # Pass variable name of key and value\n",
    "mydict2"
   ]
  },
  {
   "cell_type": "code",
   "execution_count": 183,
   "id": "571f8ed3-bb6c-4224-a668-6ff84f341ab4",
   "metadata": {},
   "outputs": [
    {
     "data": {
      "text/plain": [
       "{'c': [10, 20, 30, 40],\n",
       " 'b': [10, 20, 30, 40],\n",
       " 'a': [10, 20, 30, 40],\n",
       " 'd': [10, 20, 30, 40]}"
      ]
     },
     "execution_count": 183,
     "metadata": {},
     "output_type": "execute_result"
    }
   ],
   "source": [
    "values.append(40)\n",
    "mydict2"
   ]
  },
  {
   "cell_type": "markdown",
   "id": "8a770f54-328a-4fec-b4e7-e03c0e400b41",
   "metadata": {},
   "source": [
    "# Accessing Items"
   ]
  },
  {
   "cell_type": "code",
   "execution_count": 185,
   "id": "0d7d0964-2efe-4d3a-9c5b-02cd1daccef4",
   "metadata": {},
   "outputs": [
    {
     "data": {
      "text/plain": [
       "{1: 'one', 2: 'two', 3: 'Three', 4: 'Four'}"
      ]
     },
     "execution_count": 185,
     "metadata": {},
     "output_type": "execute_result"
    }
   ],
   "source": [
    "dict2"
   ]
  },
  {
   "cell_type": "code",
   "execution_count": 186,
   "id": "8118f071-9517-4ce7-9a72-8b0ae0434472",
   "metadata": {},
   "outputs": [
    {
     "data": {
      "text/plain": [
       "'one'"
      ]
     },
     "execution_count": 186,
     "metadata": {},
     "output_type": "execute_result"
    }
   ],
   "source": [
    "dict2[1]"
   ]
  },
  {
   "cell_type": "code",
   "execution_count": 187,
   "id": "881b89af-a7e1-4122-a408-d8020eee530f",
   "metadata": {},
   "outputs": [
    {
     "data": {
      "text/plain": [
       "'one'"
      ]
     },
     "execution_count": 187,
     "metadata": {},
     "output_type": "execute_result"
    }
   ],
   "source": [
    "dict2.get(1)"
   ]
  },
  {
   "cell_type": "code",
   "execution_count": 192,
   "id": "772eb9f4-5367-4977-a9c6-43e39589898e",
   "metadata": {},
   "outputs": [
    {
     "data": {
      "text/plain": [
       "{'Name': 'Abhi', 'ID': 2345, 'DOB': 1999, 'Job': 'Analyst'}"
      ]
     },
     "execution_count": 192,
     "metadata": {},
     "output_type": "execute_result"
    }
   ],
   "source": [
    "dict1 = {'Name':'Abhi','ID':2345,'DOB':1999,'Job':'Analyst'}\n",
    "dict1"
   ]
  },
  {
   "cell_type": "code",
   "execution_count": 193,
   "id": "733dd6c0-a99e-49b6-ae00-651e91ef628f",
   "metadata": {},
   "outputs": [
    {
     "data": {
      "text/plain": [
       "'Abhi'"
      ]
     },
     "execution_count": 193,
     "metadata": {},
     "output_type": "execute_result"
    }
   ],
   "source": [
    "dict1.get('Name')"
   ]
  },
  {
   "cell_type": "code",
   "execution_count": 195,
   "id": "38f18054-f202-407f-baa3-fd729f0b9a9f",
   "metadata": {},
   "outputs": [
    {
     "data": {
      "text/plain": [
       "'n'"
      ]
     },
     "execution_count": 195,
     "metadata": {},
     "output_type": "execute_result"
    }
   ],
   "source": [
    "dict1.get('Job')"
   ]
  },
  {
   "cell_type": "code",
   "execution_count": 200,
   "id": "50d7fd41-23dd-4f8b-9293-2050e40e2cd0",
   "metadata": {},
   "outputs": [
    {
     "data": {
      "text/plain": [
       "'Abhi'"
      ]
     },
     "execution_count": 200,
     "metadata": {},
     "output_type": "execute_result"
    }
   ],
   "source": [
    "dict1.get('Name')"
   ]
  },
  {
   "cell_type": "markdown",
   "id": "0dfa9b4f-4e95-46ad-ac50-be306f410ec8",
   "metadata": {},
   "source": [
    "# Add remove and Change Items"
   ]
  },
  {
   "cell_type": "code",
   "execution_count": 201,
   "id": "e747b2ea-7155-4d7e-9608-93c259b2c8ba",
   "metadata": {},
   "outputs": [
    {
     "data": {
      "text/plain": [
       "{'Name': 'Anish', 'ID': 1233, 'DOB': 1995, 'Address': 'Delhi'}"
      ]
     },
     "execution_count": 201,
     "metadata": {},
     "output_type": "execute_result"
    }
   ],
   "source": [
    "mydict = {'Name':'Anish','ID':1233,'DOB':1995,'Address':'Delhi'}\n",
    "mydict"
   ]
  },
  {
   "cell_type": "code",
   "execution_count": 202,
   "id": "776a543b-6b1f-4aa9-9f79-930f58bb4d81",
   "metadata": {},
   "outputs": [
    {
     "data": {
      "text/plain": [
       "{'Name': 'Anish',\n",
       " 'ID': 1233,\n",
       " 'DOB': 1998,\n",
       " 'Address': 'Delhi',\n",
       " 'Adress': 'Mumbai'}"
      ]
     },
     "execution_count": 202,
     "metadata": {},
     "output_type": "execute_result"
    }
   ],
   "source": [
    "mydict['DOB'] = 1998\n",
    "mydict['Adress'] = 'Mumbai'\n",
    "mydict"
   ]
  },
  {
   "cell_type": "code",
   "execution_count": 203,
   "id": "db54dc01-309c-4180-8c38-712f9e1400a7",
   "metadata": {},
   "outputs": [
    {
     "data": {
      "text/plain": [
       "{'Name': 'Anish',\n",
       " 'ID': 1233,\n",
       " 'DOB': 1999,\n",
       " 'Address': 'Delhi',\n",
       " 'Adress': 'Mumbai'}"
      ]
     },
     "execution_count": 203,
     "metadata": {},
     "output_type": "execute_result"
    }
   ],
   "source": [
    "dict = {'DOB':1999}\n",
    "mydict.update(dict)\n",
    "mydict"
   ]
  },
  {
   "cell_type": "code",
   "execution_count": 204,
   "id": "bcda9773-019a-46a1-9766-13546e562398",
   "metadata": {},
   "outputs": [
    {
     "data": {
      "text/plain": [
       "{'Name': 'Anish',\n",
       " 'ID': 1233,\n",
       " 'DOB': 1999,\n",
       " 'Address': 'Delhi',\n",
       " 'Adress': 'Mumbai',\n",
       " 'Job': 'Analyst'}"
      ]
     },
     "execution_count": 204,
     "metadata": {},
     "output_type": "execute_result"
    }
   ],
   "source": [
    "mydict['Job'] = 'Analyst'  # Adding items in the dictionary\n",
    "mydict"
   ]
  },
  {
   "cell_type": "code",
   "execution_count": 205,
   "id": "ad2de798-96fc-486e-abc8-3173723d4774",
   "metadata": {},
   "outputs": [
    {
     "data": {
      "text/plain": [
       "'Analyst'"
      ]
     },
     "execution_count": 205,
     "metadata": {},
     "output_type": "execute_result"
    }
   ],
   "source": [
    "mydict.pop('Job') # Removing items in the dictionary using Pop method"
   ]
  },
  {
   "cell_type": "code",
   "execution_count": 207,
   "id": "d2d2f6b8-2258-439f-ba2d-12045e7efc34",
   "metadata": {},
   "outputs": [
    {
     "ename": "TypeError",
     "evalue": "pop expected at least 1 argument, got 0",
     "output_type": "error",
     "traceback": [
      "\u001b[1;31m---------------------------------------------------------------------------\u001b[0m",
      "\u001b[1;31mTypeError\u001b[0m                                 Traceback (most recent call last)",
      "Cell \u001b[1;32mIn[207], line 1\u001b[0m\n\u001b[1;32m----> 1\u001b[0m mydict\u001b[38;5;241m.\u001b[39mpop()\n",
      "\u001b[1;31mTypeError\u001b[0m: pop expected at least 1 argument, got 0"
     ]
    }
   ],
   "source": [
    "mydict.pop() # pop expected at least 1 argument, got 0"
   ]
  },
  {
   "cell_type": "code",
   "execution_count": 208,
   "id": "8d04df55-3771-44e2-9596-ca54b14d7838",
   "metadata": {},
   "outputs": [
    {
     "data": {
      "text/plain": [
       "('Adress', 'Mumbai')"
      ]
     },
     "execution_count": 208,
     "metadata": {},
     "output_type": "execute_result"
    }
   ],
   "source": [
    "mydict.popitem()"
   ]
  },
  {
   "cell_type": "code",
   "execution_count": 209,
   "id": "08541e2b-2b0a-412f-9cc9-ca6c99c5c582",
   "metadata": {},
   "outputs": [
    {
     "data": {
      "text/plain": [
       "{'Name': 'Anish', 'ID': 1233, 'DOB': 1999, 'Address': 'Delhi'}"
      ]
     },
     "execution_count": 209,
     "metadata": {},
     "output_type": "execute_result"
    }
   ],
   "source": [
    "mydict"
   ]
  },
  {
   "cell_type": "code",
   "execution_count": 211,
   "id": "560b6e5f-d394-4c5f-8f68-a16956d4f3a0",
   "metadata": {},
   "outputs": [
    {
     "data": {
      "text/plain": [
       "{'Name': 'Anish', 'DOB': 1999, 'Address': 'Delhi'}"
      ]
     },
     "execution_count": 211,
     "metadata": {},
     "output_type": "execute_result"
    }
   ],
   "source": [
    "del[mydict['ID']]\n",
    "mydict"
   ]
  },
  {
   "cell_type": "code",
   "execution_count": 212,
   "id": "23e911d7-88d8-43cd-b80a-ab85e2f12aff",
   "metadata": {},
   "outputs": [],
   "source": [
    "mydict.clear()"
   ]
  },
  {
   "cell_type": "code",
   "execution_count": 213,
   "id": "3f8536ee-215c-4d0c-90a8-c775a26c66ce",
   "metadata": {},
   "outputs": [
    {
     "data": {
      "text/plain": [
       "{}"
      ]
     },
     "execution_count": 213,
     "metadata": {},
     "output_type": "execute_result"
    }
   ],
   "source": [
    "mydict"
   ]
  },
  {
   "cell_type": "code",
   "execution_count": 214,
   "id": "51c5815c-73fa-4aa3-92b5-8a9ac98342d6",
   "metadata": {},
   "outputs": [],
   "source": [
    "del mydict"
   ]
  },
  {
   "cell_type": "code",
   "execution_count": 215,
   "id": "d69a657e-e430-4b4c-a7ed-5ad549378112",
   "metadata": {},
   "outputs": [
    {
     "ename": "NameError",
     "evalue": "name 'mydict' is not defined",
     "output_type": "error",
     "traceback": [
      "\u001b[1;31m---------------------------------------------------------------------------\u001b[0m",
      "\u001b[1;31mNameError\u001b[0m                                 Traceback (most recent call last)",
      "Cell \u001b[1;32mIn[215], line 1\u001b[0m\n\u001b[1;32m----> 1\u001b[0m mydict\n",
      "\u001b[1;31mNameError\u001b[0m: name 'mydict' is not defined"
     ]
    }
   ],
   "source": [
    "mydict"
   ]
  },
  {
   "cell_type": "markdown",
   "id": "577cdc17-9441-4f31-8034-6b15fb951d49",
   "metadata": {},
   "source": [
    "# Copy Dictionary"
   ]
  },
  {
   "cell_type": "code",
   "execution_count": 228,
   "id": "92d7e4d2-ee0e-49f1-8a69-61b95743d5ea",
   "metadata": {},
   "outputs": [
    {
     "data": {
      "text/plain": [
       "{'Name': 'Anish', 'ID': 1233, 'DOB': 1999, 'Address': 'Delhi'}"
      ]
     },
     "execution_count": 228,
     "metadata": {},
     "output_type": "execute_result"
    }
   ],
   "source": [
    "mydict5 = {'Name': 'Anish', 'ID': 1233, 'DOB': 1999, 'Address': 'Delhi'}\n",
    "mydict5"
   ]
  },
  {
   "cell_type": "code",
   "execution_count": 229,
   "id": "16efa67c-9592-4b3a-ae72-c7a98760d370",
   "metadata": {},
   "outputs": [],
   "source": [
    "mydict6 = mydict5"
   ]
  },
  {
   "cell_type": "code",
   "execution_count": 230,
   "id": "3ae3da6d-8fcc-4fe3-b35b-7f0d6425d973",
   "metadata": {},
   "outputs": [
    {
     "data": {
      "text/plain": [
       "2968240335040"
      ]
     },
     "execution_count": 230,
     "metadata": {},
     "output_type": "execute_result"
    }
   ],
   "source": [
    "id(mydict5)"
   ]
  },
  {
   "cell_type": "code",
   "execution_count": 231,
   "id": "451ae7ca-cdfa-4ca1-94b5-7880db01e5bd",
   "metadata": {},
   "outputs": [
    {
     "data": {
      "text/plain": [
       "2968240335040"
      ]
     },
     "execution_count": 231,
     "metadata": {},
     "output_type": "execute_result"
    }
   ],
   "source": [
    "id(mydict6)"
   ]
  },
  {
   "cell_type": "code",
   "execution_count": 232,
   "id": "2217dc88-e926-4301-b6ba-ba8413ecd41d",
   "metadata": {},
   "outputs": [],
   "source": [
    "mydict7 = mydict5.copy() # Create a copy of the dictionary"
   ]
  },
  {
   "cell_type": "code",
   "execution_count": 233,
   "id": "8038366e-ccda-4a68-b52b-f516fc09f7a0",
   "metadata": {},
   "outputs": [
    {
     "data": {
      "text/plain": [
       "2968240561152"
      ]
     },
     "execution_count": 233,
     "metadata": {},
     "output_type": "execute_result"
    }
   ],
   "source": [
    "id(mydict7)"
   ]
  },
  {
   "cell_type": "code",
   "execution_count": 234,
   "id": "2c566a46-066e-4655-9740-66d47283a1b8",
   "metadata": {},
   "outputs": [],
   "source": [
    "mydict5['Address'] = 'Hydrabad'"
   ]
  },
  {
   "cell_type": "code",
   "execution_count": 235,
   "id": "1c9828ae-2570-4e45-8050-a5dfbb64d64d",
   "metadata": {},
   "outputs": [
    {
     "data": {
      "text/plain": [
       "{'Name': 'Anish', 'ID': 1233, 'DOB': 1999, 'Address': 'Hydrabad'}"
      ]
     },
     "execution_count": 235,
     "metadata": {},
     "output_type": "execute_result"
    }
   ],
   "source": [
    "mydict5"
   ]
  },
  {
   "cell_type": "code",
   "execution_count": 236,
   "id": "14e79935-919d-4e2a-b9a5-acb21183ed47",
   "metadata": {},
   "outputs": [
    {
     "data": {
      "text/plain": [
       "{'Name': 'Anish', 'ID': 1233, 'DOB': 1999, 'Address': 'Hydrabad'}"
      ]
     },
     "execution_count": 236,
     "metadata": {},
     "output_type": "execute_result"
    }
   ],
   "source": [
    "mydict6"
   ]
  },
  {
   "cell_type": "code",
   "execution_count": 237,
   "id": "6d1c2cda-b077-45fd-ad8a-d5c6039afab6",
   "metadata": {},
   "outputs": [
    {
     "data": {
      "text/plain": [
       "{'Name': 'Anish', 'ID': 1233, 'DOB': 1999, 'Address': 'Delhi'}"
      ]
     },
     "execution_count": 237,
     "metadata": {},
     "output_type": "execute_result"
    }
   ],
   "source": [
    "mydict7"
   ]
  },
  {
   "cell_type": "markdown",
   "id": "2d8c9629-280a-4b50-a096-e43472c9c7f4",
   "metadata": {},
   "source": [
    "# Loop Through Dictionary"
   ]
  },
  {
   "cell_type": "code",
   "execution_count": 239,
   "id": "55460266-d33f-4c11-a91c-bb141388fd75",
   "metadata": {},
   "outputs": [
    {
     "data": {
      "text/plain": [
       "{'Name': 'Anish', 'ID': 1233, 'DOB': 1999, 'Address': 'Hydrabad'}"
      ]
     },
     "execution_count": 239,
     "metadata": {},
     "output_type": "execute_result"
    }
   ],
   "source": [
    "mydict6 = {'Name': 'Anish', 'ID': 1233, 'DOB': 1999, 'Address': 'Hydrabad'}\n",
    "mydict6"
   ]
  },
  {
   "cell_type": "code",
   "execution_count": 240,
   "id": "6c8f0cc2-755c-4461-b63c-2950d333a816",
   "metadata": {},
   "outputs": [
    {
     "name": "stdout",
     "output_type": "stream",
     "text": [
      "Name\n",
      "ID\n",
      "DOB\n",
      "Address\n"
     ]
    }
   ],
   "source": [
    "for i in mydict6:\n",
    "    print(i)"
   ]
  },
  {
   "cell_type": "code",
   "execution_count": 241,
   "id": "1012d4ef-7616-4433-ae27-4fe5ba782e25",
   "metadata": {},
   "outputs": [
    {
     "name": "stdout",
     "output_type": "stream",
     "text": [
      "Name : Anish\n",
      "ID : 1233\n",
      "DOB : 1999\n",
      "Address : Hydrabad\n"
     ]
    }
   ],
   "source": [
    "for i in mydict6:\n",
    "    print(i, ':', mydict6[i])"
   ]
  },
  {
   "cell_type": "code",
   "execution_count": null,
   "id": "971497ca-2496-4944-ba80-0117b43a9ce3",
   "metadata": {},
   "outputs": [],
   "source": []
  },
  {
   "cell_type": "markdown",
   "id": "546fcf38-1bfc-4909-8902-49db7cc41fe9",
   "metadata": {},
   "source": [
    "# Dictionary Membership"
   ]
  },
  {
   "cell_type": "code",
   "execution_count": 243,
   "id": "0fe80b0c-8e79-4abc-8524-2e648bd84715",
   "metadata": {},
   "outputs": [
    {
     "data": {
      "text/plain": [
       "{'Name': 'Abhi', 'ID': 2345, 'DOB': 1999, 'Job': 'Analyst'}"
      ]
     },
     "execution_count": 243,
     "metadata": {},
     "output_type": "execute_result"
    }
   ],
   "source": [
    "dict1 = {'Name':'Abhi','ID':2345,'DOB':1999,'Job':'Analyst'}\n",
    "dict1"
   ]
  },
  {
   "cell_type": "code",
   "execution_count": 244,
   "id": "86184510-4bb2-4048-a840-51dfd2c13b7b",
   "metadata": {},
   "outputs": [
    {
     "data": {
      "text/plain": [
       "True"
      ]
     },
     "execution_count": 244,
     "metadata": {},
     "output_type": "execute_result"
    }
   ],
   "source": [
    "'Name' in dict1"
   ]
  },
  {
   "cell_type": "code",
   "execution_count": 246,
   "id": "19bcd6b3-e09f-47e0-a642-ed306104aa28",
   "metadata": {},
   "outputs": [
    {
     "data": {
      "text/plain": [
       "True"
      ]
     },
     "execution_count": 246,
     "metadata": {},
     "output_type": "execute_result"
    }
   ],
   "source": [
    "'Job' in  dict1"
   ]
  },
  {
   "cell_type": "code",
   "execution_count": 247,
   "id": "c67659ae-1362-4174-a834-3a0fa47a60e7",
   "metadata": {},
   "outputs": [
    {
     "data": {
      "text/plain": [
       "False"
      ]
     },
     "execution_count": 247,
     "metadata": {},
     "output_type": "execute_result"
    }
   ],
   "source": [
    "'Job' not in dict1"
   ]
  },
  {
   "cell_type": "markdown",
   "id": "46a99e06-a040-48a2-897e-f083b5c2acbb",
   "metadata": {},
   "source": [
    "# All / Any \n",
    "### The all() method returns: \n",
    "* True - If all all keys of the dictionary are true \n",
    "* False - If any key of the dictionary is false \n",
    "### The any() function returns True if any key of the dictionary is True. If not, any() returns False. "
   ]
  },
  {
   "cell_type": "code",
   "execution_count": 248,
   "id": "e6b28c67-5f49-48c6-870c-38b6a8c21221",
   "metadata": {},
   "outputs": [
    {
     "data": {
      "text/plain": [
       "{'Name': 'Abhi', 'ID': 2345, 'DOB': 1999, 'Job': 'Analyst'}"
      ]
     },
     "execution_count": 248,
     "metadata": {},
     "output_type": "execute_result"
    }
   ],
   "source": [
    "dict1 = {'Name':'Abhi','ID':2345,'DOB':1999,'Job':'Analyst'}\n",
    "dict1"
   ]
  },
  {
   "cell_type": "code",
   "execution_count": 249,
   "id": "4e2b3abf-0af8-451f-b143-73b12d97f564",
   "metadata": {},
   "outputs": [
    {
     "data": {
      "text/plain": [
       "True"
      ]
     },
     "execution_count": 249,
     "metadata": {},
     "output_type": "execute_result"
    }
   ],
   "source": [
    "all(dict1)"
   ]
  },
  {
   "cell_type": "code",
   "execution_count": 250,
   "id": "cba1678f-fad9-46b2-a511-5e9529a728dd",
   "metadata": {},
   "outputs": [
    {
     "data": {
      "text/plain": [
       "True"
      ]
     },
     "execution_count": 250,
     "metadata": {},
     "output_type": "execute_result"
    }
   ],
   "source": [
    "any(dict1)"
   ]
  },
  {
   "cell_type": "code",
   "execution_count": null,
   "id": "34f5d52d-4696-4944-b92e-150b68c5e973",
   "metadata": {},
   "outputs": [],
   "source": []
  }
 ],
 "metadata": {
  "kernelspec": {
   "display_name": "Python 3 (ipykernel)",
   "language": "python",
   "name": "python3"
  },
  "language_info": {
   "codemirror_mode": {
    "name": "ipython",
    "version": 3
   },
   "file_extension": ".py",
   "mimetype": "text/x-python",
   "name": "python",
   "nbconvert_exporter": "python",
   "pygments_lexer": "ipython3",
   "version": "3.11.5"
  }
 },
 "nbformat": 4,
 "nbformat_minor": 5
}
