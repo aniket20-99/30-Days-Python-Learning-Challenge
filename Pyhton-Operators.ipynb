{
 "cells": [
  {
   "cell_type": "markdown",
   "id": "2404f141-7ca6-4784-99b9-5f40e7279194",
   "metadata": {},
   "source": [
    "# Arithmetic  Operations in python"
   ]
  },
  {
   "cell_type": "markdown",
   "id": "547a3a16-46ae-454e-9268-935d8389cc6a",
   "metadata": {},
   "source": [
    "### Integers"
   ]
  },
  {
   "cell_type": "code",
   "execution_count": 1,
   "id": "6b9f662a-4904-45e6-9030-3f552da23b8d",
   "metadata": {},
   "outputs": [
    {
     "name": "stdout",
     "output_type": "stream",
     "text": [
      "Addition:  25\n",
      "Subtraction:  20\n",
      "Multiplication:  100\n",
      "Division:  5.0\n",
      "Division:  3.75\n",
      "Division without reminder:  6\n",
      "Modulus:  1\n",
      "Exponential:  125\n"
     ]
    }
   ],
   "source": [
    "print('Addition: ', 10 + 15)\n",
    "print('Subtraction: ',50 - 30)\n",
    "print('Multiplication: ', 20 * 5)\n",
    "print('Division: ',40 / 8 ) # Division in Python gives floating number\n",
    "print('Division: ', 30 / 8)\n",
    "print('Division without reminder: ', 30 // 5) # gives without the floating number or without the remaining\n",
    "print('Modulus: ', 10 % 3) #Gives Remainder\n",
    "print('Exponential: ', 5 ** 3)"
   ]
  },
  {
   "cell_type": "code",
   "execution_count": 2,
   "id": "af9f36e1-4d41-4b0c-8eca-e47117539218",
   "metadata": {},
   "outputs": [
    {
     "name": "stdout",
     "output_type": "stream",
     "text": [
      "Floating number,PI 3.14\n",
      "Floating number,gravity 9.81\n"
     ]
    }
   ],
   "source": [
    "# Floating numbers\n",
    "print('Floating number,PI', 3.14)\n",
    "print('Floating number,gravity',9.81)"
   ]
  },
  {
   "cell_type": "code",
   "execution_count": 3,
   "id": "c548865f-12f3-484f-8a58-65b46d263f31",
   "metadata": {},
   "outputs": [
    {
     "name": "stdout",
     "output_type": "stream",
     "text": [
      "Complex number:  (20+50j)\n",
      "multiplying Complex number:  (-400+700j)\n"
     ]
    }
   ],
   "source": [
    "# Complex numbers\n",
    "print('Complex number: ', 20 + 50j)\n",
    "print('multiplying Complex number: ', (10 + 20j) * (20 + 30j))"
   ]
  },
  {
   "cell_type": "code",
   "execution_count": 4,
   "id": "6717376f-3a78-49c2-97d1-ef06bf160fc9",
   "metadata": {},
   "outputs": [],
   "source": [
    "# Declaring the variable at the top first\n",
    "\n",
    "a = 5 # a is a variable name and 5 is an integer data type\n",
    "b = 10 # b is a variable name and 10 is an integer data type"
   ]
  },
  {
   "cell_type": "code",
   "execution_count": 7,
   "id": "e7f49305-f378-45d9-9387-9e55b741f668",
   "metadata": {},
   "outputs": [
    {
     "name": "stdout",
     "output_type": "stream",
     "text": [
      "15\n",
      "-5\n",
      "50\n",
      "0.5\n",
      "0\n",
      "5\n",
      "9765625\n"
     ]
    }
   ],
   "source": [
    "# Arithmatic operations and assigning the result to variable\n",
    "addition = a + b\n",
    "subtraction = a - b\n",
    "product =  a * b\n",
    "division = a / b\n",
    "floor_division = a // b \n",
    "remainder = a % b # Use for remainder\n",
    "exponential =  a ** b\n"
   ]
  },
  {
   "cell_type": "code",
   "execution_count": 9,
   "id": "01e1e9e9-fbee-44f5-bd04-48c8e2f28c6a",
   "metadata": {},
   "outputs": [
    {
     "name": "stdout",
     "output_type": "stream",
     "text": [
      "a + b =  15\n",
      "a - b =  -5\n",
      "a * b =  50\n",
      "a / b =  0.5\n",
      "a // b =  0\n",
      "a % b =  5\n",
      "a ** b =  9765625\n"
     ]
    }
   ],
   "source": [
    "print('a + b = ',addition) \n",
    "print('a - b = ',subtraction)\n",
    "print('a * b = ',product)\n",
    "print('a / b = ',division)\n",
    "print('a // b = ',floor_division)\n",
    "print('a % b = ',remainder)\n",
    "print('a ** b = ',exponential)"
   ]
  },
  {
   "cell_type": "code",
   "execution_count": 12,
   "id": "fc8f7874-d310-4ad6-b149-24a59ff1b972",
   "metadata": {},
   "outputs": [],
   "source": [
    "# Declaring values and organinizing them together\n",
    "num1 = 4\n",
    "num2 = 10"
   ]
  },
  {
   "cell_type": "code",
   "execution_count": 13,
   "id": "f62cf115-fe23-4b9a-bf46-4732dbd92cd1",
   "metadata": {},
   "outputs": [],
   "source": [
    "# Arithmetic Operations\n",
    "Sum = num1 + num2\n",
    "diff = num1 - num2\n",
    "product = num1 * num2\n",
    "div = num2 / num1\n",
    "remainder = num2 % num1\n",
    "expon = num2 ** num1"
   ]
  },
  {
   "cell_type": "code",
   "execution_count": 15,
   "id": "7079ac9c-72c2-44ae-b69c-042e0ca47e86",
   "metadata": {},
   "outputs": [
    {
     "name": "stdout",
     "output_type": "stream",
     "text": [
      "Sum:  14\n",
      "Difference:  -6\n",
      "Product:  40\n",
      "Division:  2.5\n",
      "Remainder:  2\n",
      "Exponential:  10000\n"
     ]
    }
   ],
   "source": [
    "# Printing values with label\n",
    "print('Sum: ',Sum)\n",
    "print('Difference: ',diff)\n",
    "print('Product: ',product)\n",
    "print('Division: ',div)\n",
    "print('Remainder: ',remainder)\n",
    "print('Exponential: ',expon)"
   ]
  },
  {
   "cell_type": "markdown",
   "id": "7d29d729-6fbc-431a-9bb5-e998da541b9e",
   "metadata": {},
   "source": [
    "# Mathematical Operations"
   ]
  },
  {
   "cell_type": "code",
   "execution_count": 16,
   "id": "53d6b81d-241e-4c39-a105-6d1d890fa2df",
   "metadata": {},
   "outputs": [
    {
     "name": "stdout",
     "output_type": "stream",
     "text": [
      "Area of a circle having radius 10 is:- 314.0\n"
     ]
    }
   ],
   "source": [
    "# Calculating area of a circle\n",
    "radius = 10\n",
    "area = 3.14 * radius **2\n",
    "print(f'Area of a circle having radius {radius} is:- {area}')"
   ]
  },
  {
   "cell_type": "code",
   "execution_count": 18,
   "id": "968d35f3-1968-439b-b778-9400514bebc0",
   "metadata": {},
   "outputs": [
    {
     "name": "stdout",
     "output_type": "stream",
     "text": [
      "Area of a rectangle having length 15 and width 30 is:- 450\n"
     ]
    }
   ],
   "source": [
    "# Calculating area of a rectangle\n",
    "length = 15\n",
    "width = 30\n",
    "area = length * width\n",
    "\n",
    "print(f'Area of a rectangle having length {length} and width {width} is:- {area}')"
   ]
  },
  {
   "cell_type": "code",
   "execution_count": 23,
   "id": "0b9e7dfc-9f83-44ce-9922-c065630dbe0a",
   "metadata": {},
   "outputs": [
    {
     "name": "stdout",
     "output_type": "stream",
     "text": [
      "667.08 5\n"
     ]
    }
   ],
   "source": [
    "# Calculating a weight of an object\n",
    "mass = 68\n",
    "gravity = 9.81\n",
    "weight = mass * gravity\n",
    "print(weight,'N')"
   ]
  },
  {
   "cell_type": "markdown",
   "id": "74334423-06e0-402b-a7b6-569d9e8c34f0",
   "metadata": {},
   "source": [
    "# Comparision Operators"
   ]
  },
  {
   "cell_type": "code",
   "execution_count": 25,
   "id": "5b19c542-84d9-44d4-982f-1a5cb3c32690",
   "metadata": {},
   "outputs": [
    {
     "name": "stdout",
     "output_type": "stream",
     "text": [
      "True\n",
      "True\n",
      "False\n",
      "True\n",
      "True\n",
      "False\n",
      "True\n"
     ]
    }
   ],
   "source": [
    "print( 3 > 2)   # True, because 3 is greater than 2\n",
    "print(3 >= 2)    # True, because 3 is greater than 2\n",
    "print(3 < 2)     # False,  because 3 is greater than 2\n",
    "print(2 < 3)     # True, because 2 is less than 3\n",
    "print(2 <= 3)    # True, because 2 is less than 3\n",
    "print(3 == 2)    # False, because 3 is not equal to 2\n",
    "print(3 != 2)    # True, because 3 is not equal to 2"
   ]
  },
  {
   "cell_type": "code",
   "execution_count": 26,
   "id": "af12c52d-096a-45c4-b6a7-77e5c66c93db",
   "metadata": {},
   "outputs": [
    {
     "name": "stdout",
     "output_type": "stream",
     "text": [
      "True\n",
      "True\n",
      "True\n",
      "False\n",
      "True\n",
      "True\n",
      "False\n"
     ]
    }
   ],
   "source": [
    "print(len('apple') == len('mango')) \n",
    "print(len('mango') != len('avacado'))\n",
    "print(len('mango') < len('avacado'))\n",
    "print(len('milk') != len('meat'))\n",
    "print(len('milk') == len('meat'))\n",
    "print(len('potato') == len('tomato'))\n",
    "print(len('python') > len('javascript'))"
   ]
  },
  {
   "cell_type": "markdown",
   "id": "28fc7fbc-bdac-4b7d-8710-9cfcd08a1b1d",
   "metadata": {},
   "source": [
    "### Boolean comparison"
   ]
  },
  {
   "cell_type": "code",
   "execution_count": 29,
   "id": "5c736bc6-03cd-476c-a9f6-1cef41ced6ad",
   "metadata": {},
   "outputs": [
    {
     "name": "stdout",
     "output_type": "stream",
     "text": [
      "True == True:- True\n",
      "True == False:- False\n",
      "False == False:- True\n",
      "True and True:- True\n",
      "True or False:- True\n"
     ]
    }
   ],
   "source": [
    "print('True == True:-', True == True)\n",
    "print('True == False:-', True == False)\n",
    "print('False == False:-', False == False)\n",
    "print('True and True:-', True and True)\n",
    "print('True or False:-', True or False)\n"
   ]
  },
  {
   "cell_type": "markdown",
   "id": "10b0e2b2-492e-4147-a6fc-86ca23796ad7",
   "metadata": {},
   "source": [
    "### Membership and Identity Operators"
   ]
  },
  {
   "cell_type": "code",
   "execution_count": 32,
   "id": "4da1ef6b-e104-4e38-8083-6755f6857cf6",
   "metadata": {},
   "outputs": [
    {
     "name": "stdout",
     "output_type": "stream",
     "text": [
      "1 is 1:- True\n",
      "1 is not 2:- True\n",
      "A in Amnimkea:- True\n",
      "i in Amnimkea:- True\n",
      "True\n",
      "a in an:- True\n",
      "4 is 2**2:- True\n"
     ]
    },
    {
     "name": "stderr",
     "output_type": "stream",
     "text": [
      "<>:1: SyntaxWarning: \"is\" with a literal. Did you mean \"==\"?\n",
      "<>:2: SyntaxWarning: \"is not\" with a literal. Did you mean \"!=\"?\n",
      "<>:7: SyntaxWarning: \"is\" with a literal. Did you mean \"==\"?\n",
      "<>:1: SyntaxWarning: \"is\" with a literal. Did you mean \"==\"?\n",
      "<>:2: SyntaxWarning: \"is not\" with a literal. Did you mean \"!=\"?\n",
      "<>:7: SyntaxWarning: \"is\" with a literal. Did you mean \"==\"?\n",
      "C:\\Users\\suraj\\AppData\\Local\\Temp\\ipykernel_4224\\1374662919.py:1: SyntaxWarning: \"is\" with a literal. Did you mean \"==\"?\n",
      "  print('1 is 1:-', 1 is 1)\n",
      "C:\\Users\\suraj\\AppData\\Local\\Temp\\ipykernel_4224\\1374662919.py:2: SyntaxWarning: \"is not\" with a literal. Did you mean \"!=\"?\n",
      "  print('1 is not 2:-', 1 is not 2)\n",
      "C:\\Users\\suraj\\AppData\\Local\\Temp\\ipykernel_4224\\1374662919.py:7: SyntaxWarning: \"is\" with a literal. Did you mean \"==\"?\n",
      "  print('4 is 2**2:-', 4 is 2**2)\n"
     ]
    }
   ],
   "source": [
    "print('1 is 1:-', 1 is 1)\n",
    "print('1 is not 2:-', 1 is not 2)\n",
    "print('A in Amnimkea:-', 'A' in 'Amnimkea')\n",
    "print('i in Amnimkea:-', 'i' in 'Amnimkea')\n",
    "print('coding' in 'coding for all')\n",
    "print('a in an:-', 'a' in 'an')\n",
    "print('4 is 2**2:-', 4 is 2**2)"
   ]
  },
  {
   "cell_type": "code",
   "execution_count": 33,
   "id": "08b131f6-9ff4-44af-a0fc-d9ca7a9e0597",
   "metadata": {},
   "outputs": [
    {
     "name": "stdout",
     "output_type": "stream",
     "text": [
      "False\n",
      "False\n",
      "False\n",
      "True\n",
      "True\n",
      "True\n",
      "False\n",
      "False\n",
      "True\n",
      "True\n",
      "False\n"
     ]
    }
   ],
   "source": [
    "print(5 > 9 and 10 > 25) # True - because both statements are true\n",
    "print(5 > 9 and 10 < 25) # False - because the second statement is false\n",
    "print(6 < 8 and 8 < 5) # False - because both statements are false\n",
    "print(10 > 5 or 6 > 3) # True - because both statements are true\n",
    "print(10 > 7 or 8 < 6) # True - because one of the statement is true\n",
    "print(12 < 8 or 8 < 9)  # False - because both statements are false\n",
    "print(not 10 > 5) # False - because 3 > 2 is true, then not True gives False\n",
    "print(not True)    # False - Negation, the not operator turns true to false\n",
    "print(not False)     # True\n",
    "print(not not True) # True\n",
    "print(not not False)# False"
   ]
  },
  {
   "cell_type": "code",
   "execution_count": null,
   "id": "150cd00a-286f-4e53-adf3-5e639f17462c",
   "metadata": {},
   "outputs": [],
   "source": []
  }
 ],
 "metadata": {
  "kernelspec": {
   "display_name": "Python 3 (ipykernel)",
   "language": "python",
   "name": "python3"
  },
  "language_info": {
   "codemirror_mode": {
    "name": "ipython",
    "version": 3
   },
   "file_extension": ".py",
   "mimetype": "text/x-python",
   "name": "python",
   "nbconvert_exporter": "python",
   "pygments_lexer": "ipython3",
   "version": "3.11.5"
  }
 },
 "nbformat": 4,
 "nbformat_minor": 5
}
