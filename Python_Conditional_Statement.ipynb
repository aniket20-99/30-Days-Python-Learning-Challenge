{
 "cells": [
  {
   "cell_type": "code",
   "execution_count": 1,
   "id": "aa709d10-6e1f-4431-b8ad-193f336e254e",
   "metadata": {},
   "outputs": [
    {
     "name": "stdout",
     "output_type": "stream",
     "text": [
      "Data Science\n"
     ]
    }
   ],
   "source": [
    "if True:\n",
    "    print(\"Data Science\")"
   ]
  },
  {
   "cell_type": "code",
   "execution_count": 2,
   "id": "5dede1b3-1700-47b3-bf39-b17a5edc4990",
   "metadata": {},
   "outputs": [
    {
     "name": "stdout",
     "output_type": "stream",
     "text": [
      "bye for now\n"
     ]
    }
   ],
   "source": [
    "if False:\n",
    "    print('Data Science')\n",
    "print('bye for now')"
   ]
  },
  {
   "cell_type": "code",
   "execution_count": 3,
   "id": "7958b8d8-3726-4a10-83a1-5f5409d4f124",
   "metadata": {},
   "outputs": [
    {
     "name": "stdout",
     "output_type": "stream",
     "text": [
      "Data Science\n",
      "bye for now\n"
     ]
    }
   ],
   "source": [
    "if True:\n",
    "    print('Data Science')\n",
    "print('bye for now')"
   ]
  },
  {
   "cell_type": "code",
   "execution_count": 4,
   "id": "955cd83c-6ab1-4b76-b5e5-4fa1ede11948",
   "metadata": {},
   "outputs": [
    {
     "name": "stdout",
     "output_type": "stream",
     "text": [
      "Data Science\n"
     ]
    }
   ],
   "source": [
    "if True:\n",
    "    print('Data Science')\n",
    "else:\n",
    "    print('Bye for now')"
   ]
  },
  {
   "cell_type": "code",
   "execution_count": 5,
   "id": "4dbb5386-dcfa-45fc-82e0-6297ee65b90b",
   "metadata": {},
   "outputs": [
    {
     "name": "stdout",
     "output_type": "stream",
     "text": [
      "Bye for now\n"
     ]
    }
   ],
   "source": [
    "if False:\n",
    "    print('Data Science')\n",
    "else:\n",
    "    print('Bye for now')\n",
    "    "
   ]
  },
  {
   "cell_type": "code",
   "execution_count": 6,
   "id": "ae2d57f9-4d05-4a71-8f04-17f5ec0e55bf",
   "metadata": {},
   "outputs": [
    {
     "name": "stdout",
     "output_type": "stream",
     "text": [
      "Even number\n"
     ]
    }
   ],
   "source": [
    "# Programs\n",
    "x = 4\n",
    "r = x % 2\n",
    "\n",
    "if r == 0:\n",
    "    print('Even number')"
   ]
  },
  {
   "cell_type": "code",
   "execution_count": 7,
   "id": "9287c8ec-86f7-4ea9-9365-7b16e8902015",
   "metadata": {},
   "outputs": [],
   "source": [
    "x = 5\n",
    "r = x % 2\n",
    "\n",
    "if r == 0:\n",
    "    print('Even number')\n",
    "\n"
   ]
  },
  {
   "cell_type": "code",
   "execution_count": 8,
   "id": "6ab1b611-f406-407e-a4b3-40d35768f16d",
   "metadata": {},
   "outputs": [
    {
     "name": "stdout",
     "output_type": "stream",
     "text": [
      "odd number\n"
     ]
    }
   ],
   "source": [
    "x = 5\n",
    "r = x % 2\n",
    "\n",
    "if r == 0:\n",
    "    print('Even number')\n",
    "\n",
    "if r == 1:\n",
    "    print('odd number')\n",
    "    "
   ]
  },
  {
   "cell_type": "code",
   "execution_count": 9,
   "id": "ea9a9669-8c70-4c77-b48f-0487e33ef471",
   "metadata": {},
   "outputs": [
    {
     "name": "stdout",
     "output_type": "stream",
     "text": [
      "odd number\n"
     ]
    }
   ],
   "source": [
    "x = 5\n",
    "r = x % 2\n",
    "\n",
    "if r == 0:\n",
    "    print('Even number')\n",
    "if r != 0:\n",
    "    print('odd number')"
   ]
  },
  {
   "cell_type": "code",
   "execution_count": 10,
   "id": "118f46d9-3e7a-4566-9467-29cfc30f5628",
   "metadata": {},
   "outputs": [
    {
     "name": "stdout",
     "output_type": "stream",
     "text": [
      "Even number\n"
     ]
    }
   ],
   "source": [
    "x = 4 \n",
    "r = x % 2\n",
    "\n",
    "if r == 0:\n",
    "    print('Even number')\n",
    "else:\n",
    "    print('Odd number')\n",
    "    "
   ]
  },
  {
   "cell_type": "code",
   "execution_count": 13,
   "id": "86c43d2a-8af9-4daa-b9a1-72083eaec0cf",
   "metadata": {},
   "outputs": [
    {
     "name": "stdout",
     "output_type": "stream",
     "text": [
      "Odd Number\n"
     ]
    }
   ],
   "source": [
    "x = 3\n",
    "\n",
    "r = x % 2\n",
    "\n",
    "if r == 0:\n",
    "    print('Even number')\n",
    "    if x > 5:\n",
    "        print('Greater number')\n",
    "\n",
    "else:\n",
    "    print('Odd Number')\n",
    "    "
   ]
  },
  {
   "cell_type": "code",
   "execution_count": 14,
   "id": "db927f38-9121-4a0e-bb8b-1346712ad5cc",
   "metadata": {},
   "outputs": [
    {
     "name": "stdout",
     "output_type": "stream",
     "text": [
      "Even number\n",
      "Lesser number\n"
     ]
    }
   ],
   "source": [
    "x = 4\n",
    "r = x % 2\n",
    "\n",
    "if r == 0:\n",
    "    print('Even number')\n",
    "    if x > 5:\n",
    "        print('Greater number')\n",
    "    else:\n",
    "        print('Lesser number')\n",
    "\n",
    "else:\n",
    "    print('Odd Number')"
   ]
  },
  {
   "cell_type": "code",
   "execution_count": 15,
   "id": "6bf5291b-797b-44c5-b492-5a712ec1d4e9",
   "metadata": {},
   "outputs": [
    {
     "name": "stdout",
     "output_type": "stream",
     "text": [
      "Even number\n",
      "Greater number\n"
     ]
    }
   ],
   "source": [
    "x = 6\n",
    "\n",
    "r = x % 2\n",
    "if r == 0:\n",
    "    print('Even number')\n",
    "    if x > 5:\n",
    "        print('Greater number')\n",
    "    else:\n",
    "        print('Lesser number')\n",
    "        \n",
    "else:\n",
    "    print('Odd Number')"
   ]
  },
  {
   "cell_type": "code",
   "execution_count": 16,
   "id": "58c20882-24cc-42ff-baeb-45419db296f6",
   "metadata": {},
   "outputs": [
    {
     "name": "stdout",
     "output_type": "stream",
     "text": [
      "Two\n"
     ]
    }
   ],
   "source": [
    "x = 2\n",
    "\n",
    "if x == 1:\n",
    "    print('one')\n",
    "if x == 2:\n",
    "    print('Two')\n",
    "if x == 3:\n",
    "    print('Three')\n",
    "if x == 4:\n",
    "    print('Four')\n",
    "\n"
   ]
  },
  {
   "cell_type": "code",
   "execution_count": 18,
   "id": "ee8f4474-0d79-4796-a5c8-b4f98b721d02",
   "metadata": {},
   "outputs": [
    {
     "name": "stdout",
     "output_type": "stream",
     "text": [
      "Number not found\n"
     ]
    }
   ],
   "source": [
    "x = 5\n",
    "\n",
    "if x == 1:\n",
    "    print('One')\n",
    "if x == 2:\n",
    "    print('Two')\n",
    "if x == 3:\n",
    "    print('Three')\n",
    "if x == 4:\n",
    "    print('Four')\n",
    "\n",
    "else:\n",
    "    print('Number not found')"
   ]
  },
  {
   "cell_type": "code",
   "execution_count": 19,
   "id": "6753050a-f2e9-4d5c-9512-8c02754e09ab",
   "metadata": {},
   "outputs": [
    {
     "name": "stdout",
     "output_type": "stream",
     "text": [
      "data science\n",
      "data science\n",
      "data science\n",
      "data science\n",
      "data science\n"
     ]
    }
   ],
   "source": [
    "# Loops in Python\n",
    "print('data science')\n",
    "print('data science')\n",
    "print('data science')\n",
    "print('data science')    \n",
    "print('data science')"
   ]
  },
  {
   "cell_type": "code",
   "execution_count": 22,
   "id": "d097f9c3-1117-41b3-b4f9-6e3940bd0570",
   "metadata": {},
   "outputs": [
    {
     "name": "stdout",
     "output_type": "stream",
     "text": [
      "Data Science\n",
      "Data Science\n",
      "Data Science\n",
      "Data Science\n",
      "Data Science\n"
     ]
    }
   ],
   "source": [
    "i = 1\n",
    "\n",
    "while i <= 5:\n",
    "    print('Data Science')\n",
    "\n",
    "    i = i + 1"
   ]
  },
  {
   "cell_type": "code",
   "execution_count": 24,
   "id": "fd41b059-3bd5-4058-80f8-b9c47caa6c82",
   "metadata": {},
   "outputs": [
    {
     "name": "stdout",
     "output_type": "stream",
     "text": [
      "Data scince 1\n",
      "Data scince 2\n",
      "Data scince 3\n",
      "Data scince 4\n",
      "Data scince 5\n"
     ]
    }
   ],
   "source": [
    "i = 1\n",
    "\n",
    "while i <=5 :\n",
    "    print('Data scince',i)\n",
    "\n",
    "    i = i + 1 # increament"
   ]
  },
  {
   "cell_type": "code",
   "execution_count": 25,
   "id": "d77f97a4-720d-4075-8f67-582c6df88ced",
   "metadata": {},
   "outputs": [
    {
     "name": "stdout",
     "output_type": "stream",
     "text": [
      "Data scince 5\n",
      "Data scince 4\n",
      "Data scince 3\n",
      "Data scince 2\n",
      "Data scince 1\n"
     ]
    }
   ],
   "source": [
    "i = 5 # initializing\n",
    "\n",
    "while i >= 1:  # Condition\n",
    "    print('Data scince',i)\n",
    "\n",
    "    i = i - 1 # Decreament"
   ]
  },
  {
   "cell_type": "code",
   "execution_count": 27,
   "id": "b2534ae4-399b-4d11-b02d-7bc879fc063d",
   "metadata": {},
   "outputs": [
    {
     "name": "stdout",
     "output_type": "stream",
     "text": [
      "Data Science\n",
      "Technology\n",
      "Technology\n",
      "Technology\n",
      "Technology\n",
      "\n",
      "Data Science\n",
      "Technology\n",
      "Technology\n",
      "Technology\n",
      "Technology\n",
      "\n",
      "Data Science\n",
      "Technology\n",
      "Technology\n",
      "Technology\n",
      "Technology\n",
      "\n",
      "Data Science\n",
      "Technology\n",
      "Technology\n",
      "Technology\n",
      "Technology\n",
      "\n",
      "Data Science\n",
      "Technology\n",
      "Technology\n",
      "Technology\n",
      "Technology\n",
      "\n"
     ]
    }
   ],
   "source": [
    "i = 1\n",
    "\n",
    "while i <= 5:\n",
    "    print('Data Science')\n",
    "    j = 1\n",
    "    while j <= 4:\n",
    "        print('Technology')\n",
    "        j = j + 1\n",
    "\n",
    "    i = i + 1\n",
    "    print()"
   ]
  },
  {
   "cell_type": "code",
   "execution_count": 37,
   "id": "ea25c46b-5fc8-4259-8b28-fa985f34decd",
   "metadata": {},
   "outputs": [
    {
     "name": "stdout",
     "output_type": "stream",
     "text": [
      "Data Science  Technology Technology Technology Technology\n",
      "Data Science  Technology Technology Technology Technology\n",
      "Data Science  Technology Technology Technology Technology\n",
      "Data Science  Technology Technology Technology Technology\n",
      "Data Science  Technology Technology Technology Technology\n"
     ]
    }
   ],
   "source": [
    "i = 1\n",
    "while i <= 5:\n",
    "    print('Data Science', end = \" \")\n",
    "    j = 1\n",
    "    while j <= 4:\n",
    "        print(' Technology',end = \"\")\n",
    "        j = j + 1\n",
    "\n",
    "    i = i + 1\n",
    "    print()"
   ]
  },
  {
   "cell_type": "code",
   "execution_count": 40,
   "id": "e63ea70f-e510-4b41-9538-68feea9c0f20",
   "metadata": {},
   "outputs": [
    {
     "name": "stdout",
     "output_type": "stream",
     "text": [
      "0 1 2 3 \n",
      "0 2 4 6 \n",
      "0 3 6 9 \n",
      "0 4 8 12 \n"
     ]
    }
   ],
   "source": [
    "i = 1\n",
    "\n",
    "while i <= 4:\n",
    "    j = 0\n",
    "    while j <=3 :\n",
    "        print(i * j,end = \" \")\n",
    "        j += 1\n",
    "    print()\n",
    "    i += 1\n",
    "\n",
    "        "
   ]
  },
  {
   "cell_type": "code",
   "execution_count": 41,
   "id": "5af9c7db-cd94-43d8-b0ed-da868eb25815",
   "metadata": {},
   "outputs": [
    {
     "name": "stdout",
     "output_type": "stream",
     "text": [
      "A\n",
      "n\n",
      "i\n",
      "k\n",
      "e\n",
      "t\n"
     ]
    }
   ],
   "source": [
    "name = \"Aniket\"\n",
    "\n",
    "for i in name:\n",
    "    print(i)"
   ]
  },
  {
   "cell_type": "code",
   "execution_count": 47,
   "id": "20ee9683-81ba-4a78-b344-d4da2e102bd5",
   "metadata": {},
   "outputs": [
    {
     "name": "stdout",
     "output_type": "stream",
     "text": [
      "1\n",
      "4\n",
      "6\n",
      "8.7\n",
      "Hello\n"
     ]
    }
   ],
   "source": [
    "list1 = [1,4,6,8.7,'Hello']\n",
    "\n",
    "for i in list1:\n",
    "    print(i)"
   ]
  },
  {
   "cell_type": "code",
   "execution_count": 46,
   "id": "49d86c81-6e07-4aa6-86a1-70932c4cd4f4",
   "metadata": {},
   "outputs": [
    {
     "name": "stdout",
     "output_type": "stream",
     "text": [
      "1 4 6 7 Hello "
     ]
    }
   ],
   "source": [
    "list1 = [1,4,6,8.7,'Hello']\n",
    "\n",
    "for i in list1:\n",
    "    print(i,end = \" \")"
   ]
  },
  {
   "cell_type": "code",
   "execution_count": 52,
   "id": "b282ac55-a4fa-4a9d-b69e-1bc3d8a5ac13",
   "metadata": {},
   "outputs": [
    {
     "name": "stdout",
     "output_type": "stream",
     "text": [
      "0 1 2 3 4 "
     ]
    }
   ],
   "source": [
    "for i in range(5):\n",
    "    print(i,end = ' ')"
   ]
  },
  {
   "cell_type": "code",
   "execution_count": 53,
   "id": "732b4ae6-95c7-4300-bd65-ac627eec5e1e",
   "metadata": {},
   "outputs": [
    {
     "name": "stdout",
     "output_type": "stream",
     "text": [
      "0\n",
      "3\n",
      "6\n",
      "9\n"
     ]
    }
   ],
   "source": [
    "for i in range(0,11,3):\n",
    "    print(i)"
   ]
  },
  {
   "cell_type": "code",
   "execution_count": 54,
   "id": "e87aa0dd-94c3-428a-8ed6-2ec4915dfe78",
   "metadata": {},
   "outputs": [
    {
     "name": "stdout",
     "output_type": "stream",
     "text": [
      "5\n",
      "10\n",
      "15\n",
      "20\n",
      "25\n",
      "30\n",
      "35\n",
      "40\n",
      "45\n",
      "50\n"
     ]
    }
   ],
   "source": [
    "for i in range(1,51):\n",
    "\n",
    "    if i % 5 == 0:\n",
    "        print(i)"
   ]
  },
  {
   "cell_type": "code",
   "execution_count": 56,
   "id": "1b8a3baf-8d18-4155-a085-692990641dd0",
   "metadata": {},
   "outputs": [
    {
     "name": "stdout",
     "output_type": "stream",
     "text": [
      "1 2 3 4 6 7 8 9 11 12 13 14 16 17 18 19 21 22 23 24 26 27 28 29 31 32 33 34 36 37 38 39 41 42 43 44 46 47 48 49 "
     ]
    }
   ],
   "source": [
    "for i in range(1,51):\n",
    "    if i % 5 != 0:\n",
    "        print(i,end = ' ')"
   ]
  },
  {
   "cell_type": "code",
   "execution_count": 57,
   "id": "d03f8c1e-5141-419f-abdf-7c251278b61d",
   "metadata": {},
   "outputs": [
    {
     "name": "stdout",
     "output_type": "stream",
     "text": [
      "1\n",
      "2\n",
      "3\n",
      "4\n",
      "5\n",
      "6\n",
      "7\n",
      "8\n",
      "9\n",
      "10\n"
     ]
    }
   ],
   "source": [
    "for i in range(1,11):\n",
    "    print(i)"
   ]
  },
  {
   "cell_type": "code",
   "execution_count": 58,
   "id": "96f3e8cb-dc4d-488e-9e20-3ba9663f09fa",
   "metadata": {},
   "outputs": [
    {
     "name": "stdout",
     "output_type": "stream",
     "text": [
      "1\n",
      "2\n",
      "3\n",
      "4\n",
      "5\n",
      "6\n"
     ]
    }
   ],
   "source": [
    "for i in range(1,11):\n",
    "    if i == 7:\n",
    "        break\n",
    "    print(i)"
   ]
  },
  {
   "cell_type": "code",
   "execution_count": 59,
   "id": "9a566bc3-ce24-41e6-b22d-3d7760ffdade",
   "metadata": {},
   "outputs": [
    {
     "name": "stdout",
     "output_type": "stream",
     "text": [
      "1\n",
      "2\n",
      "3\n",
      "4\n",
      "5\n",
      "6\n",
      "7\n",
      "8\n",
      "9\n",
      "10\n",
      "11\n",
      "12\n",
      "14\n",
      "15\n",
      "16\n",
      "17\n",
      "18\n",
      "19\n",
      "20\n"
     ]
    }
   ],
   "source": [
    "for i in range(1,21):\n",
    "    if i == 13:\n",
    "        continue\n",
    "    print(i)"
   ]
  },
  {
   "cell_type": "code",
   "execution_count": 60,
   "id": "45c06f1d-9ad4-487a-b109-d27d54533d77",
   "metadata": {},
   "outputs": [
    {
     "name": "stdout",
     "output_type": "stream",
     "text": [
      "Hello 1\n",
      "Hello 2\n",
      "Hello 3\n",
      "Hello 4\n",
      "Hello 6\n",
      "Hello 7\n",
      "Hello 8\n",
      "Hello 9\n",
      "Hello 10\n"
     ]
    }
   ],
   "source": [
    "for i in range(1,11):\n",
    "    if i == 5:\n",
    "        continue\n",
    "    print('Hello',i)"
   ]
  },
  {
   "cell_type": "code",
   "execution_count": 61,
   "id": "2215b25c-376d-4e4b-ad71-04c7a4584dd6",
   "metadata": {},
   "outputs": [
    {
     "ename": "SyntaxError",
     "evalue": "incomplete input (1116375593.py, line 2)",
     "output_type": "error",
     "traceback": [
      "\u001b[1;36m  Cell \u001b[1;32mIn[61], line 2\u001b[1;36m\u001b[0m\n\u001b[1;33m    \u001b[0m\n\u001b[1;37m    ^\u001b[0m\n\u001b[1;31mSyntaxError\u001b[0m\u001b[1;31m:\u001b[0m incomplete input\n"
     ]
    }
   ],
   "source": [
    "for i in range(1,11):\n",
    "    "
   ]
  },
  {
   "cell_type": "code",
   "execution_count": 62,
   "id": "a310f2e9-4d36-421d-a42c-236eb14567d6",
   "metadata": {},
   "outputs": [],
   "source": [
    "# For solving the above error we use pass if we have to put our code for future usage:\n",
    "\n",
    "for i in range(1,11):\n",
    "    pass"
   ]
  },
  {
   "cell_type": "code",
   "execution_count": 65,
   "id": "8aa22e4f-5e6a-42db-9343-43b7acf3b9a7",
   "metadata": {},
   "outputs": [
    {
     "name": "stdout",
     "output_type": "stream",
     "text": [
      "3\n",
      "6\n",
      "9\n",
      "12\n",
      "15\n",
      "18\n",
      "21\n",
      "24\n",
      "27\n",
      "30\n",
      "33\n",
      "36\n",
      "39\n",
      "42\n",
      "45\n",
      "48\n",
      "end\n"
     ]
    }
   ],
   "source": [
    "for i in range(1,51):\n",
    "    if i % 3 == 0:\n",
    "        print(i)\n",
    "print('end')"
   ]
  },
  {
   "cell_type": "code",
   "execution_count": 68,
   "id": "2c627c25-5871-46a9-9474-a9c2c7e44429",
   "metadata": {},
   "outputs": [
    {
     "name": "stdout",
     "output_type": "stream",
     "text": [
      "1\n",
      "2\n",
      "4\n",
      "5\n",
      "7\n",
      "8\n",
      "10\n",
      "11\n",
      "13\n",
      "14\n",
      "16\n",
      "17\n",
      "19\n",
      "20\n",
      "22\n",
      "23\n",
      "25\n",
      "26\n",
      "28\n",
      "29\n",
      "31\n",
      "32\n",
      "34\n",
      "35\n",
      "37\n",
      "38\n",
      "40\n",
      "41\n",
      "43\n",
      "44\n",
      "46\n",
      "47\n",
      "49\n",
      "end\n"
     ]
    }
   ],
   "source": [
    "for i in range(1,50):\n",
    "    if i % 3 == 0:\n",
    "        continue\n",
    "    print(i)\n",
    "print('end')"
   ]
  },
  {
   "cell_type": "code",
   "execution_count": 69,
   "id": "3ee790a8-ea44-4a05-abce-d6196695633d",
   "metadata": {},
   "outputs": [
    {
     "name": "stdout",
     "output_type": "stream",
     "text": [
      "1\n",
      "2\n",
      "4\n",
      "7\n",
      "8\n",
      "11\n",
      "13\n",
      "14\n",
      "16\n",
      "17\n",
      "19\n",
      "22\n",
      "23\n",
      "26\n",
      "28\n",
      "29\n",
      "31\n",
      "32\n",
      "34\n",
      "37\n",
      "38\n",
      "41\n",
      "43\n",
      "44\n",
      "46\n",
      "47\n",
      "49\n",
      "end\n"
     ]
    }
   ],
   "source": [
    "for i in range(1,51):\n",
    "    if i % 3 == 0 or i % 5 == 0:\n",
    "        continue\n",
    "    print(i)\n",
    "print('end')"
   ]
  },
  {
   "cell_type": "code",
   "execution_count": 74,
   "id": "f8d3d2fb-d965-4489-8704-66ecaac05f96",
   "metadata": {},
   "outputs": [
    {
     "name": "stdout",
     "output_type": "stream",
     "text": [
      "1\n",
      "2\n",
      "3\n",
      "4\n",
      "5\n",
      "6\n",
      "7\n",
      "8\n",
      "9\n",
      "10\n",
      "11\n",
      "12\n",
      "13\n",
      "14\n",
      "16\n",
      "17\n",
      "18\n",
      "19\n",
      "20\n",
      "21\n",
      "22\n",
      "23\n",
      "24\n",
      "25\n",
      "26\n",
      "27\n",
      "28\n",
      "29\n",
      "31\n",
      "32\n",
      "33\n",
      "34\n",
      "35\n",
      "36\n",
      "37\n",
      "38\n",
      "39\n",
      "40\n",
      "41\n",
      "42\n",
      "43\n",
      "44\n",
      "46\n",
      "47\n",
      "48\n",
      "49\n",
      "50\n",
      "end\n"
     ]
    }
   ],
   "source": [
    "for i in range(1,51):\n",
    "    if i % 3 == 0 and i % 5 == 0:\n",
    "        continue\n",
    "    print(i)\n",
    "print('end')"
   ]
  },
  {
   "cell_type": "code",
   "execution_count": 75,
   "id": "e6221be7-9b14-40d7-8a12-3942659dd655",
   "metadata": {},
   "outputs": [
    {
     "name": "stdout",
     "output_type": "stream",
     "text": [
      "1\n",
      "3\n",
      "5\n",
      "7\n",
      "9\n",
      "11\n",
      "13\n",
      "15\n",
      "17\n",
      "19\n",
      "21\n",
      "23\n",
      "25\n",
      "27\n",
      "29\n",
      "31\n",
      "33\n",
      "35\n",
      "37\n",
      "39\n",
      "41\n",
      "43\n",
      "45\n",
      "47\n",
      "49\n",
      "end\n"
     ]
    }
   ],
   "source": [
    "for i in range(1,50):\n",
    "    if (i % 2 == 0):\n",
    "        pass\n",
    "    else:\n",
    "        print(i)\n",
    "print('end')"
   ]
  },
  {
   "cell_type": "code",
   "execution_count": 76,
   "id": "81cb60c2-8587-432d-a0e2-808b54dd782b",
   "metadata": {},
   "outputs": [
    {
     "name": "stdout",
     "output_type": "stream",
     "text": [
      "# # # # "
     ]
    }
   ],
   "source": [
    "for i in range(4):\n",
    "    print('#', end=' ')"
   ]
  },
  {
   "cell_type": "code",
   "execution_count": 82,
   "id": "8c32fddb-1c9b-48ae-bcf3-3def2551253d",
   "metadata": {},
   "outputs": [
    {
     "name": "stdout",
     "output_type": "stream",
     "text": [
      "# # # # 0\n",
      "# # # # 1\n",
      "# # # # 2\n",
      "# # # # 3\n"
     ]
    }
   ],
   "source": [
    "for i in range(4):\n",
    "    for j in range(4):\n",
    "        print('#', end=' ')\n",
    "    print(i)"
   ]
  },
  {
   "cell_type": "code",
   "execution_count": 85,
   "id": "8cecd293-deff-4d1a-ae7b-0e8b8ed6e212",
   "metadata": {},
   "outputs": [
    {
     "name": "stdin",
     "output_type": "stream",
     "text": [
      "Enter your number 20\n"
     ]
    },
    {
     "name": "stdout",
     "output_type": "stream",
     "text": [
      "You failed\n"
     ]
    }
   ],
   "source": [
    "num = int(input('Enter your number'))\n",
    "\n",
    "if num >= 80:\n",
    "    print('Passed with 1st Distintion')\n",
    "elif num >= 60:\n",
    "    print('Passed with 1st division ')\n",
    "elif num >= 50:\n",
    "    print('Passed with 2nd division')\n",
    "else:\n",
    "    print('You failed')"
   ]
  },
  {
   "cell_type": "code",
   "execution_count": null,
   "id": "a97eb564-8fb9-4a57-b6f3-93d37cae848a",
   "metadata": {},
   "outputs": [],
   "source": []
  }
 ],
 "metadata": {
  "kernelspec": {
   "display_name": "Python 3 (ipykernel)",
   "language": "python",
   "name": "python3"
  },
  "language_info": {
   "codemirror_mode": {
    "name": "ipython",
    "version": 3
   },
   "file_extension": ".py",
   "mimetype": "text/x-python",
   "name": "python",
   "nbconvert_exporter": "python",
   "pygments_lexer": "ipython3",
   "version": "3.11.5"
  }
 },
 "nbformat": 4,
 "nbformat_minor": 5
}
