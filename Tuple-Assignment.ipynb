{
 "cells": [
  {
   "cell_type": "markdown",
   "id": "09552c0a-8407-4de0-85b3-00b2a6481946",
   "metadata": {},
   "source": [
    "# Tuple Creation \n",
    "* A tuple is an ordered, immutable collection of elements.\n",
    "* Elements are enclosed in parentheses () and separated by commas.\n",
    "* Tuples can store mixed data types – strings, numbers, booleans, even other tuples."
   ]
  },
  {
   "cell_type": "code",
   "execution_count": 4,
   "id": "6d9b7341-8b6c-495b-9138-e9188305fd1d",
   "metadata": {},
   "outputs": [
    {
     "data": {
      "text/plain": [
       "()"
      ]
     },
     "execution_count": 4,
     "metadata": {},
     "output_type": "execute_result"
    }
   ],
   "source": [
    "tup1 = ()\n",
    "tup1"
   ]
  },
  {
   "cell_type": "code",
   "execution_count": 1,
   "id": "583cd167-c8f3-46a3-91b9-ee3983c4df1c",
   "metadata": {},
   "outputs": [
    {
     "data": {
      "text/plain": [
       "(20, 40, 50)"
      ]
     },
     "execution_count": 1,
     "metadata": {},
     "output_type": "execute_result"
    }
   ],
   "source": [
    "tup2 = (20,40,50)\n",
    "tup2"
   ]
  },
  {
   "cell_type": "code",
   "execution_count": 6,
   "id": "a8a5a641-c88a-4338-bf0b-edb002a91ee8",
   "metadata": {},
   "outputs": [
    {
     "data": {
      "text/plain": [
       "(20.33, 40.76, 89.43)"
      ]
     },
     "execution_count": 6,
     "metadata": {},
     "output_type": "execute_result"
    }
   ],
   "source": [
    "tup3 = (20.33,40.76,89.43)\n",
    "tup3"
   ]
  },
  {
   "cell_type": "code",
   "execution_count": 7,
   "id": "9827a613-f320-4378-bf42-943552e76d00",
   "metadata": {},
   "outputs": [
    {
     "data": {
      "text/plain": [
       "('one', 'two', 'three', 'four')"
      ]
     },
     "execution_count": 7,
     "metadata": {},
     "output_type": "execute_result"
    }
   ],
   "source": [
    "tup4 = ('one','two','three','four')\n",
    "tup4"
   ]
  },
  {
   "cell_type": "code",
   "execution_count": 9,
   "id": "c19c39d5-e25b-451d-b9b0-8995dcef8004",
   "metadata": {},
   "outputs": [
    {
     "data": {
      "text/plain": [
       "('Ani', 23, (40, 76), (200, 134))"
      ]
     },
     "execution_count": 9,
     "metadata": {},
     "output_type": "execute_result"
    }
   ],
   "source": [
    "tup5 = ('Ani',23,(40,76),(200,134)) # Nested Tuple\n",
    "tup5"
   ]
  },
  {
   "cell_type": "code",
   "execution_count": 10,
   "id": "f3a81c43-40b7-4c9c-9eb7-f09a4700d32e",
   "metadata": {},
   "outputs": [
    {
     "data": {
      "text/plain": [
       "(234, 'Aniket', 45.774)"
      ]
     },
     "execution_count": 10,
     "metadata": {},
     "output_type": "execute_result"
    }
   ],
   "source": [
    "tup6 = (234,'Aniket',45.774) # Tuple of mixed datatypes\n",
    "tup6"
   ]
  },
  {
   "cell_type": "code",
   "execution_count": 11,
   "id": "b15e419b-05b7-4c7f-a1b1-eff2cb990e30",
   "metadata": {},
   "outputs": [
    {
     "data": {
      "text/plain": [
       "('Ani', 34, [65, 80], [150, 60], {'Abhi', 'Anaya'}, (84, 58, 30))"
      ]
     },
     "execution_count": 11,
     "metadata": {},
     "output_type": "execute_result"
    }
   ],
   "source": [
    "tup7 = ('Ani',34,[65,80],[150,60],{'Abhi','Anaya'},(84,58,30))\n",
    "tup7"
   ]
  },
  {
   "cell_type": "code",
   "execution_count": 12,
   "id": "20f73b63-75b0-4fe4-a1e2-95e45c2500ed",
   "metadata": {},
   "outputs": [
    {
     "data": {
      "text/plain": [
       "6"
      ]
     },
     "execution_count": 12,
     "metadata": {},
     "output_type": "execute_result"
    }
   ],
   "source": [
    "len(tup7)"
   ]
  },
  {
   "cell_type": "markdown",
   "id": "ccd29ab0-b03c-4647-8c44-1d6648c596a5",
   "metadata": {},
   "source": [
    "# Tuple Indexing"
   ]
  },
  {
   "cell_type": "code",
   "execution_count": 13,
   "id": "4f794bbf-9ce7-404c-bb7a-6752bfc3aa98",
   "metadata": {},
   "outputs": [
    {
     "data": {
      "text/plain": [
       "20"
      ]
     },
     "execution_count": 13,
     "metadata": {},
     "output_type": "execute_result"
    }
   ],
   "source": [
    "tup2[0] # Retrive the first element from the tuple"
   ]
  },
  {
   "cell_type": "code",
   "execution_count": 14,
   "id": "637a7d21-e34b-44a7-8adf-6b33d96159e6",
   "metadata": {},
   "outputs": [
    {
     "data": {
      "text/plain": [
       "'one'"
      ]
     },
     "execution_count": 14,
     "metadata": {},
     "output_type": "execute_result"
    }
   ],
   "source": [
    "tup4[0]"
   ]
  },
  {
   "cell_type": "code",
   "execution_count": 15,
   "id": "d8f611b2-cc68-4d2a-8f25-8a8edcff9e3c",
   "metadata": {},
   "outputs": [
    {
     "data": {
      "text/plain": [
       "'o'"
      ]
     },
     "execution_count": 15,
     "metadata": {},
     "output_type": "execute_result"
    }
   ],
   "source": [
    "tup4[0][0]"
   ]
  },
  {
   "cell_type": "code",
   "execution_count": 17,
   "id": "5116d459-63b7-4f9b-8be5-e82fb5775ba4",
   "metadata": {},
   "outputs": [
    {
     "data": {
      "text/plain": [
       "'four'"
      ]
     },
     "execution_count": 17,
     "metadata": {},
     "output_type": "execute_result"
    }
   ],
   "source": [
    "tup4[-1] # Retrieve the last element from the tuple "
   ]
  },
  {
   "cell_type": "markdown",
   "id": "6fe778a2-affd-4aec-a9bd-9ee3555c5d23",
   "metadata": {},
   "source": [
    "# Tuple Slicing"
   ]
  },
  {
   "cell_type": "code",
   "execution_count": 4,
   "id": "70f6e3e3-5413-4dbf-af4a-ab4b44deeae5",
   "metadata": {},
   "outputs": [],
   "source": [
    "mytuple = ('one','two','three','four','five','six','seven','eight')"
   ]
  },
  {
   "cell_type": "code",
   "execution_count": 5,
   "id": "99faf8c8-65eb-4025-9947-e992bd0560a6",
   "metadata": {},
   "outputs": [
    {
     "data": {
      "text/plain": [
       "('one', 'two', 'three', 'four', 'five', 'six', 'seven', 'eight')"
      ]
     },
     "execution_count": 5,
     "metadata": {},
     "output_type": "execute_result"
    }
   ],
   "source": [
    "mytuple"
   ]
  },
  {
   "cell_type": "code",
   "execution_count": 9,
   "id": "bf68947f-212a-4478-b3c3-637e60b59ec9",
   "metadata": {},
   "outputs": [
    {
     "data": {
      "text/plain": [
       "('three', 'four', 'five')"
      ]
     },
     "execution_count": 9,
     "metadata": {},
     "output_type": "execute_result"
    }
   ],
   "source": [
    "mytuple[2:5]"
   ]
  },
  {
   "cell_type": "code",
   "execution_count": 21,
   "id": "9a3f1669-db17-449d-a6a8-9d4db79c8df4",
   "metadata": {},
   "outputs": [
    {
     "data": {
      "text/plain": [
       "('one', 'two', 'three')"
      ]
     },
     "execution_count": 21,
     "metadata": {},
     "output_type": "execute_result"
    }
   ],
   "source": [
    "mytuple[:3]"
   ]
  },
  {
   "cell_type": "code",
   "execution_count": 22,
   "id": "3e06f8b7-41b3-4374-b991-32bdff6db255",
   "metadata": {},
   "outputs": [
    {
     "data": {
      "text/plain": [
       "('one', 'two')"
      ]
     },
     "execution_count": 22,
     "metadata": {},
     "output_type": "execute_result"
    }
   ],
   "source": [
    "mytuple[:2]"
   ]
  },
  {
   "cell_type": "code",
   "execution_count": 23,
   "id": "eed50105-397e-4b96-b880-c1734257ae43",
   "metadata": {},
   "outputs": [
    {
     "data": {
      "text/plain": [
       "('six', 'seven', 'eight')"
      ]
     },
     "execution_count": 23,
     "metadata": {},
     "output_type": "execute_result"
    }
   ],
   "source": [
    "mytuple[-3:]"
   ]
  },
  {
   "cell_type": "code",
   "execution_count": 24,
   "id": "e1d38b5c-52c8-4968-97b6-a93a5bfcf457",
   "metadata": {},
   "outputs": [
    {
     "data": {
      "text/plain": [
       "('seven', 'eight')"
      ]
     },
     "execution_count": 24,
     "metadata": {},
     "output_type": "execute_result"
    }
   ],
   "source": [
    "mytuple[-2:]"
   ]
  },
  {
   "cell_type": "code",
   "execution_count": 25,
   "id": "5443b622-8ef0-4e8e-bd28-60365c78aff8",
   "metadata": {},
   "outputs": [
    {
     "data": {
      "text/plain": [
       "'eight'"
      ]
     },
     "execution_count": 25,
     "metadata": {},
     "output_type": "execute_result"
    }
   ],
   "source": [
    "mytuple[-1]"
   ]
  },
  {
   "cell_type": "code",
   "execution_count": 26,
   "id": "92bcdb0b-4496-4b29-aaa6-cd36d38cb661",
   "metadata": {},
   "outputs": [
    {
     "data": {
      "text/plain": [
       "('one', 'two', 'three', 'four', 'five', 'six', 'seven', 'eight')"
      ]
     },
     "execution_count": 26,
     "metadata": {},
     "output_type": "execute_result"
    }
   ],
   "source": [
    "mytuple[:]"
   ]
  },
  {
   "cell_type": "markdown",
   "id": "7ad70744-2bc2-4efd-a37d-91566335d42c",
   "metadata": {},
   "source": [
    "# Remove & change Item "
   ]
  },
  {
   "cell_type": "code",
   "execution_count": 27,
   "id": "3b4d3520-d826-4ab9-bd9f-c0fc80c3fc58",
   "metadata": {},
   "outputs": [
    {
     "data": {
      "text/plain": [
       "('one', 'two', 'three', 'four', 'five', 'six', 'seven', 'eight')"
      ]
     },
     "execution_count": 27,
     "metadata": {},
     "output_type": "execute_result"
    }
   ],
   "source": [
    "mytuple"
   ]
  },
  {
   "cell_type": "code",
   "execution_count": 28,
   "id": "3e84d355-b0b0-471a-bd24-05b4a00121f8",
   "metadata": {},
   "outputs": [
    {
     "ename": "TypeError",
     "evalue": "'tuple' object doesn't support item deletion",
     "output_type": "error",
     "traceback": [
      "\u001b[1;31m---------------------------------------------------------------------------\u001b[0m",
      "\u001b[1;31mTypeError\u001b[0m                                 Traceback (most recent call last)",
      "Cell \u001b[1;32mIn[28], line 1\u001b[0m\n\u001b[1;32m----> 1\u001b[0m \u001b[38;5;28;01mdel\u001b[39;00m mytuple[\u001b[38;5;241m0\u001b[39m]\n",
      "\u001b[1;31mTypeError\u001b[0m: 'tuple' object doesn't support item deletion"
     ]
    }
   ],
   "source": [
    "del mytuple[0] # Tuples are immutable, so we cant delete tuple item"
   ]
  },
  {
   "cell_type": "code",
   "execution_count": 31,
   "id": "1a72ac4f-7cf7-43bd-ba77-97eb60f9a50f",
   "metadata": {},
   "outputs": [
    {
     "ename": "TypeError",
     "evalue": "'tuple' object does not support item assignment",
     "output_type": "error",
     "traceback": [
      "\u001b[1;31m---------------------------------------------------------------------------\u001b[0m",
      "\u001b[1;31mTypeError\u001b[0m                                 Traceback (most recent call last)",
      "Cell \u001b[1;32mIn[31], line 1\u001b[0m\n\u001b[1;32m----> 1\u001b[0m mytuple[\u001b[38;5;241m1\u001b[39m] \u001b[38;5;241m=\u001b[39m \u001b[38;5;241m10\u001b[39m\n",
      "\u001b[1;31mTypeError\u001b[0m: 'tuple' object does not support item assignment"
     ]
    }
   ],
   "source": [
    "mytuple[1] = 10 # Tuples are immutable which means we can't change the value of any tuple items"
   ]
  },
  {
   "cell_type": "code",
   "execution_count": 32,
   "id": "fb846cb3-5707-49d6-9336-bed5d2ddbed6",
   "metadata": {},
   "outputs": [],
   "source": [
    "del tup2  # Deleting the whole tuple can be possible"
   ]
  },
  {
   "cell_type": "markdown",
   "id": "71c1591e-3fc6-4f00-99f2-313ea9d6bfed",
   "metadata": {},
   "source": [
    "# Loop through a tuple"
   ]
  },
  {
   "cell_type": "code",
   "execution_count": 33,
   "id": "387ad04f-3ee5-4727-a34d-aa1834d2cfd8",
   "metadata": {},
   "outputs": [
    {
     "data": {
      "text/plain": [
       "('one', 'two', 'three', 'four', 'five', 'six', 'seven', 'eight')"
      ]
     },
     "execution_count": 33,
     "metadata": {},
     "output_type": "execute_result"
    }
   ],
   "source": [
    "mytuple"
   ]
  },
  {
   "cell_type": "code",
   "execution_count": 34,
   "id": "0f3c03c2-42ab-4c2d-b027-37d598214381",
   "metadata": {},
   "outputs": [
    {
     "name": "stdout",
     "output_type": "stream",
     "text": [
      "one\n",
      "two\n",
      "three\n",
      "four\n",
      "five\n",
      "six\n",
      "seven\n",
      "eight\n"
     ]
    }
   ],
   "source": [
    "for i in mytuple:\n",
    "    print(i)"
   ]
  },
  {
   "cell_type": "code",
   "execution_count": 35,
   "id": "2dd647de-0129-4ea9-b828-0874ff2073a0",
   "metadata": {},
   "outputs": [
    {
     "name": "stdout",
     "output_type": "stream",
     "text": [
      "(0, 'one')\n",
      "(1, 'two')\n",
      "(2, 'three')\n",
      "(3, 'four')\n",
      "(4, 'five')\n",
      "(5, 'six')\n",
      "(6, 'seven')\n",
      "(7, 'eight')\n"
     ]
    }
   ],
   "source": [
    "for i in enumerate(mytuple):\n",
    "    print(i)\n"
   ]
  },
  {
   "cell_type": "markdown",
   "id": "f1e1b12b-15b8-42ac-8596-0d49e45ec6cc",
   "metadata": {},
   "source": [
    "# Tuple Membership"
   ]
  },
  {
   "cell_type": "code",
   "execution_count": 36,
   "id": "271748b8-f653-4b4a-8cca-022bfa66860e",
   "metadata": {},
   "outputs": [
    {
     "data": {
      "text/plain": [
       "('one', 'two', 'three', 'four', 'five', 'six', 'seven', 'eight')"
      ]
     },
     "execution_count": 36,
     "metadata": {},
     "output_type": "execute_result"
    }
   ],
   "source": [
    "mytuple"
   ]
  },
  {
   "cell_type": "code",
   "execution_count": 39,
   "id": "9dbbcd6f-99a1-4787-8d62-9563b7f2d1c4",
   "metadata": {},
   "outputs": [
    {
     "data": {
      "text/plain": [
       "True"
      ]
     },
     "execution_count": 39,
     "metadata": {},
     "output_type": "execute_result"
    }
   ],
   "source": [
    "'three' in mytuple #Check if 'three' is exist in tuple or not"
   ]
  },
  {
   "cell_type": "code",
   "execution_count": 40,
   "id": "da910a3c-8b14-400e-a416-5ed6abee0af9",
   "metadata": {},
   "outputs": [
    {
     "data": {
      "text/plain": [
       "False"
      ]
     },
     "execution_count": 40,
     "metadata": {},
     "output_type": "execute_result"
    }
   ],
   "source": [
    "'ten' in mytuple #Check if 'three' is exist in tuple or not"
   ]
  },
  {
   "cell_type": "code",
   "execution_count": 41,
   "id": "46c117a9-8502-48af-a8a8-43d86fefb77a",
   "metadata": {},
   "outputs": [
    {
     "name": "stdout",
     "output_type": "stream",
     "text": [
      "Three is present in the tuple\n"
     ]
    }
   ],
   "source": [
    "if 'five' in mytuple:\n",
    "    print('five is present in the tuple')\n",
    "\n",
    "else:\n",
    "    print('five is not present in the tuple')"
   ]
  },
  {
   "cell_type": "code",
   "execution_count": 42,
   "id": "b25f0a7c-8262-4a8c-b3fe-cf6a0e560b70",
   "metadata": {},
   "outputs": [
    {
     "name": "stdout",
     "output_type": "stream",
     "text": [
      "fifteen is not present in the tuple\n"
     ]
    }
   ],
   "source": [
    "if 'fifteen' in mytuple:\n",
    "    print('fifteen is present in the tuple')\n",
    "\n",
    "else:\n",
    "    print('fifteen is not present in the tuple')"
   ]
  },
  {
   "cell_type": "markdown",
   "id": "7f7384cb-712e-4534-a1f8-ce2d299a28ac",
   "metadata": {},
   "source": [
    "# Index position"
   ]
  },
  {
   "cell_type": "code",
   "execution_count": 43,
   "id": "0b534610-2ee3-46a6-8188-5571e4292688",
   "metadata": {},
   "outputs": [
    {
     "data": {
      "text/plain": [
       "('one', 'two', 'three', 'four', 'five', 'six', 'seven', 'eight')"
      ]
     },
     "execution_count": 43,
     "metadata": {},
     "output_type": "execute_result"
    }
   ],
   "source": [
    "mytuple"
   ]
  },
  {
   "cell_type": "code",
   "execution_count": 45,
   "id": "67ed6166-ab39-4076-be3f-66adaf974e6e",
   "metadata": {},
   "outputs": [
    {
     "data": {
      "text/plain": [
       "6"
      ]
     },
     "execution_count": 45,
     "metadata": {},
     "output_type": "execute_result"
    }
   ],
   "source": [
    "mytuple.index('seven') # Retreive the index location of the element"
   ]
  },
  {
   "cell_type": "code",
   "execution_count": 46,
   "id": "cdfcbe1c-f963-45b7-b9be-d9eb5e796637",
   "metadata": {},
   "outputs": [
    {
     "data": {
      "text/plain": [
       "2"
      ]
     },
     "execution_count": 46,
     "metadata": {},
     "output_type": "execute_result"
    }
   ],
   "source": [
    "mytuple.index('three')"
   ]
  },
  {
   "cell_type": "code",
   "execution_count": 50,
   "id": "7d4a0211-8618-4d50-98a7-b291e7cfb88c",
   "metadata": {},
   "outputs": [],
   "source": [
    "mytuple1 = ('one', 'two', 'three', 'four','one','one','two','three')"
   ]
  },
  {
   "cell_type": "code",
   "execution_count": 53,
   "id": "44afe151-e2c2-4220-9a28-66e417cb0f9e",
   "metadata": {},
   "outputs": [
    {
     "data": {
      "text/plain": [
       "0"
      ]
     },
     "execution_count": 53,
     "metadata": {},
     "output_type": "execute_result"
    }
   ],
   "source": [
    "mytuple1.index('one') # Retrieve the index location of the first occurance element"
   ]
  },
  {
   "cell_type": "code",
   "execution_count": 54,
   "id": "3020e351-eac9-4d05-9016-21a42d422486",
   "metadata": {},
   "outputs": [
    {
     "data": {
      "text/plain": [
       "3"
      ]
     },
     "execution_count": 54,
     "metadata": {},
     "output_type": "execute_result"
    }
   ],
   "source": [
    "mytuple1.count('one')"
   ]
  },
  {
   "cell_type": "markdown",
   "id": "e26f223e-46ce-4a0e-b7fa-83a99012cdcf",
   "metadata": {},
   "source": [
    "# Sorting"
   ]
  },
  {
   "cell_type": "code",
   "execution_count": 57,
   "id": "c8bde2cd-4ba0-4e56-a647-98804fd15b41",
   "metadata": {},
   "outputs": [
    {
     "data": {
      "text/plain": [
       "(49, 67, 85, 65, 95, 76)"
      ]
     },
     "execution_count": 57,
     "metadata": {},
     "output_type": "execute_result"
    }
   ],
   "source": [
    "mytup3 =  (49,67,85,65,95,76)\n",
    "mytup3"
   ]
  },
  {
   "cell_type": "code",
   "execution_count": 68,
   "id": "21de643f-4894-4042-8566-900ea8e8746e",
   "metadata": {},
   "outputs": [
    {
     "data": {
      "text/plain": [
       "95"
      ]
     },
     "execution_count": 68,
     "metadata": {},
     "output_type": "execute_result"
    }
   ],
   "source": [
    "max(mytup3) # Retrive the maximum number from the tuple"
   ]
  },
  {
   "cell_type": "code",
   "execution_count": 67,
   "id": "d383a16b-f374-47b7-8a04-0c7a4a1d7093",
   "metadata": {},
   "outputs": [
    {
     "data": {
      "text/plain": [
       "49"
      ]
     },
     "execution_count": 67,
     "metadata": {},
     "output_type": "execute_result"
    }
   ],
   "source": [
    "min(mytup3) # Retrieve the minimum number from the tuple"
   ]
  },
  {
   "cell_type": "code",
   "execution_count": 59,
   "id": "b29658ea-1926-453d-984a-af9c83871bf3",
   "metadata": {},
   "outputs": [
    {
     "data": {
      "text/plain": [
       "[49, 65, 67, 76, 85, 95]"
      ]
     },
     "execution_count": 59,
     "metadata": {},
     "output_type": "execute_result"
    }
   ],
   "source": [
    "sorted(mytup3) # Returns a new sorted tuple and will not change the original tuple"
   ]
  },
  {
   "cell_type": "code",
   "execution_count": 60,
   "id": "faf0a683-aed0-45e0-bf51-21e8eae2b6e4",
   "metadata": {},
   "outputs": [
    {
     "data": {
      "text/plain": [
       "[95, 85, 76, 67, 65, 49]"
      ]
     },
     "execution_count": 60,
     "metadata": {},
     "output_type": "execute_result"
    }
   ],
   "source": [
    "sorted(mytup3,reverse = True) # Sort in descending order"
   ]
  },
  {
   "cell_type": "code",
   "execution_count": 10,
   "id": "98744868-d0f7-4420-9d17-8160bbd2c1c9",
   "metadata": {},
   "outputs": [
    {
     "data": {
      "text/plain": [
       "('one', 'two', 'three', 'four', 'five', 'six', 'seven', 'eight')"
      ]
     },
     "execution_count": 10,
     "metadata": {},
     "output_type": "execute_result"
    }
   ],
   "source": [
    "mytuple"
   ]
  },
  {
   "cell_type": "code",
   "execution_count": null,
   "id": "aaa79f8e-936b-4486-94dc-cb5e818fcf15",
   "metadata": {},
   "outputs": [],
   "source": []
  },
  {
   "cell_type": "code",
   "execution_count": null,
   "id": "3feab5bd-be61-4bc1-9372-d01796c56300",
   "metadata": {},
   "outputs": [],
   "source": []
  }
 ],
 "metadata": {
  "kernelspec": {
   "display_name": "Python 3 (ipykernel)",
   "language": "python",
   "name": "python3"
  },
  "language_info": {
   "codemirror_mode": {
    "name": "ipython",
    "version": 3
   },
   "file_extension": ".py",
   "mimetype": "text/x-python",
   "name": "python",
   "nbconvert_exporter": "python",
   "pygments_lexer": "ipython3",
   "version": "3.11.5"
  }
 },
 "nbformat": 4,
 "nbformat_minor": 5
}
