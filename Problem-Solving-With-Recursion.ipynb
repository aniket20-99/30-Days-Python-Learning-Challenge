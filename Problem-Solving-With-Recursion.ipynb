{
 "cells": [
  {
   "cell_type": "code",
   "execution_count": 3,
   "id": "58a3b0bb-a884-450d-8742-4f3ba88eb523",
   "metadata": {},
   "outputs": [
    {
     "name": "stdin",
     "output_type": "stream",
     "text": [
      "Enter first number 10\n",
      "Enter second number 8\n"
     ]
    },
    {
     "name": "stdout",
     "output_type": "stream",
     "text": [
      "80\n"
     ]
    }
   ],
   "source": [
    "def recursive_mult(a,b):\n",
    "    if  b == 0:\n",
    "        return 0\n",
    "    else:\n",
    "        return a + recursive_mult(a,b-1)\n",
    "a = int(input('Enter first number'))\n",
    "b = int(input('Enter second number'))\n",
    "print(recursive_mult(a,b))"
   ]
  },
  {
   "cell_type": "code",
   "execution_count": 4,
   "id": "510a4d7b-2c05-43f9-a4f9-384cbc630129",
   "metadata": {},
   "outputs": [
    {
     "name": "stdin",
     "output_type": "stream",
     "text": [
      "Enter first number -6\n",
      "Enter second number 6\n"
     ]
    },
    {
     "name": "stdout",
     "output_type": "stream",
     "text": [
      "-36\n"
     ]
    }
   ],
   "source": [
    "def recursive_mult(a,b):\n",
    "    if  b == 0:\n",
    "        return 0\n",
    "    else:\n",
    "        return a + recursive_mult(a,b-1)\n",
    "a = int(input('Enter first number'))\n",
    "b = int(input('Enter second number'))\n",
    "print(recursive_mult(a,b))"
   ]
  },
  {
   "cell_type": "code",
   "execution_count": null,
   "id": "d2273ec8-5354-48ae-adaf-9d58008c0d62",
   "metadata": {},
   "outputs": [
    {
     "name": "stdin",
     "output_type": "stream",
     "text": [
      "Enter first number -5\n"
     ]
    }
   ],
   "source": [
    "def recursive_mult(a,b):\n",
    "    if  b == 0:\n",
    "        return 0\n",
    "    else:\n",
    "        return a + recursive_mult(a,b-1)\n",
    "a = int(input('Enter first number'))\n",
    "b = int(input('Enter second number'))\n",
    "print(recursive_mult(a,b))"
   ]
  },
  {
   "cell_type": "code",
   "execution_count": null,
   "id": "a666ed8d-3d5c-4c76-bdce-9598fb0aefae",
   "metadata": {},
   "outputs": [],
   "source": []
  }
 ],
 "metadata": {
  "kernelspec": {
   "display_name": "Python 3 (ipykernel)",
   "language": "python",
   "name": "python3"
  },
  "language_info": {
   "codemirror_mode": {
    "name": "ipython",
    "version": 3
   },
   "file_extension": ".py",
   "mimetype": "text/x-python",
   "name": "python",
   "nbconvert_exporter": "python",
   "pygments_lexer": "ipython3",
   "version": "3.12.7"
  }
 },
 "nbformat": 4,
 "nbformat_minor": 5
}
