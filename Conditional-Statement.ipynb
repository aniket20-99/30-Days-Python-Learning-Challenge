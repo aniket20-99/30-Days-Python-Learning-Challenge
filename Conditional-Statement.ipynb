{
 "cells": [
  {
   "cell_type": "code",
   "execution_count": null,
   "id": "e4c90fa1-bbd5-45e8-a1ea-07353ae33006",
   "metadata": {},
   "outputs": [],
   "source": [
    "if True:\n",
    "    print('Data Science')"
   ]
  },
  {
   "cell_type": "code",
   "execution_count": null,
   "id": "6b3f5072-ea8b-4add-bf20-5d92edfff6c3",
   "metadata": {},
   "outputs": [],
   "source": [
    "if False:\n",
    "    print('Data Science')\n",
    "print('Data Engineer')"
   ]
  },
  {
   "cell_type": "code",
   "execution_count": null,
   "id": "20c1c6d7-4394-4996-bbdf-d53c437c4b83",
   "metadata": {},
   "outputs": [],
   "source": [
    "if True:\n",
    "    print('Data Science')\n",
    "print('Data Engineer')"
   ]
  },
  {
   "cell_type": "code",
   "execution_count": null,
   "id": "44275088-a6a6-42f4-a159-01f3907d753b",
   "metadata": {},
   "outputs": [],
   "source": [
    "if True:\n",
    "    print('Data Science')\n",
    "else:\n",
    "    print('Data Engineer')"
   ]
  },
  {
   "cell_type": "code",
   "execution_count": null,
   "id": "a31f940d-3c9e-453c-b25c-11423f307cd3",
   "metadata": {},
   "outputs": [],
   "source": [
    "if False:\n",
    "    print('Data Science')\n",
    "\n",
    "else:\n",
    "    print('Data Engineer')"
   ]
  },
  {
   "cell_type": "markdown",
   "id": "a8a67edc-e172-4495-94e2-74d26b5def4d",
   "metadata": {},
   "source": [
    "# Programs"
   ]
  },
  {
   "cell_type": "code",
   "execution_count": null,
   "id": "5134f38c-9ec7-413f-b487-a528640d66b7",
   "metadata": {},
   "outputs": [],
   "source": [
    "x = 6\n",
    "r = x % 2\n",
    "\n",
    "if r == 0:\n",
    "    print('Even Number')"
   ]
  },
  {
   "cell_type": "code",
   "execution_count": null,
   "id": "25f6a4d4-03e7-4972-8a65-7e13d833ad78",
   "metadata": {},
   "outputs": [],
   "source": [
    "x = 5\n",
    "r = x % 2\n",
    "\n",
    "if r == 0:\n",
    "    print('Even Number')"
   ]
  },
  {
   "cell_type": "code",
   "execution_count": null,
   "id": "a2e1048f-dbc5-48f8-b21d-ec84ad2ff8ad",
   "metadata": {},
   "outputs": [],
   "source": [
    "x = 7\n",
    "r = x % 2\n",
    "\n",
    "if r == 0:\n",
    "    print('Even number')\n",
    "\n",
    "if r == 1:\n",
    "    print('Odd number')"
   ]
  },
  {
   "cell_type": "code",
   "execution_count": null,
   "id": "08de23f0-07de-4fe5-b761-cef35abf23f6",
   "metadata": {},
   "outputs": [],
   "source": [
    "x = 7 \n",
    "r = x % 2\n",
    "\n",
    "if r == 0:\n",
    "    print('Even number')\n",
    "\n",
    "if r != 0:\n",
    "    print('Odd number')"
   ]
  },
  {
   "cell_type": "code",
   "execution_count": null,
   "id": "37435ccc-36c0-4edd-a38f-bfb68dab5f96",
   "metadata": {},
   "outputs": [],
   "source": [
    "x = 3\n",
    "r = x % 2\n",
    "\n",
    "if r == 0:\n",
    "    print('Even number')\n",
    "    if x > 5:\n",
    "        print('greater number')\n",
    "else:\n",
    "    print('Odd number')"
   ]
  },
  {
   "cell_type": "code",
   "execution_count": null,
   "id": "edfac27a-9916-4e66-a0f8-8f6df956c550",
   "metadata": {},
   "outputs": [],
   "source": [
    "x = 10\n",
    "r = x % 2\n",
    "\n",
    "if r == 0:\n",
    "    print('Even number')\n",
    "    if x > 5:\n",
    "        print('Greater Number')\n",
    "    else:\n",
    "        print(\"Not Greater\")\n",
    "else:\n",
    "    print('Odd number')"
   ]
  },
  {
   "cell_type": "code",
   "execution_count": null,
   "id": "e2c452dd-651d-4abc-a09d-e9896721796d",
   "metadata": {},
   "outputs": [],
   "source": [
    "x = 2\n",
    "\n",
    "if x == 1:\n",
    "    print('one')\n",
    "if x == 2:\n",
    "    print('Two')\n",
    "if x == 3:\n",
    "    print('Three')\n",
    "\n",
    "if x == 4:\n",
    "    print('Four')"
   ]
  },
  {
   "cell_type": "code",
   "execution_count": null,
   "id": "4cf85c80-ea23-4abf-9510-f8a42a4ca602",
   "metadata": {},
   "outputs": [],
   "source": [
    "num = int(input(\"ENter your number\"))\n",
    "\n",
    "if num == 1:\n",
    "    print('one')\n",
    "elif num == 2:\n",
    "    print('Two')\n",
    "elif num == 3:\n",
    "    print('Three')\n",
    "elif num == 4:\n",
    "    print('Four')\n",
    "else:\n",
    "    print('Number not found')"
   ]
  },
  {
   "cell_type": "markdown",
   "id": "90e5a1a0-a7ab-45f5-a3fc-5c5073d37bba",
   "metadata": {},
   "source": [
    "# Loops in Python"
   ]
  },
  {
   "cell_type": "code",
   "execution_count": null,
   "id": "7ec8dba1-cd8f-4abe-a5d2-b1330966e5e7",
   "metadata": {},
   "outputs": [],
   "source": [
    "print('Data Science')\n",
    "print('Data Science')\n",
    "print('Data Science')\n",
    "print('Data Science')\n",
    "print('Data Science')"
   ]
  },
  {
   "cell_type": "code",
   "execution_count": null,
   "id": "0c76b2be-6b39-46b7-90e0-1b35bb285a35",
   "metadata": {},
   "outputs": [],
   "source": [
    "i = 1\n",
    "\n",
    "while i <= 5:\n",
    "    print('Data science')\n",
    "    i = i + 1"
   ]
  },
  {
   "cell_type": "code",
   "execution_count": null,
   "id": "39b773d4-15b7-4c1e-b2af-83310db791fe",
   "metadata": {},
   "outputs": [],
   "source": [
    "i = 5\n",
    "\n",
    "while i >=1:\n",
    "    print('Data Science')\n",
    "    i = i - 1"
   ]
  },
  {
   "cell_type": "code",
   "execution_count": null,
   "id": "74d077bf-4b1e-478e-b9e5-797501c9a575",
   "metadata": {},
   "outputs": [],
   "source": []
  }
 ],
 "metadata": {
  "kernelspec": {
   "display_name": "Python [conda env:myenv]",
   "language": "python",
   "name": "conda-env-myenv-py"
  },
  "language_info": {
   "codemirror_mode": {
    "name": "ipython",
    "version": 3
   },
   "file_extension": ".py",
   "mimetype": "text/x-python",
   "name": "python",
   "nbconvert_exporter": "python",
   "pygments_lexer": "ipython3",
   "version": "3.10.16"
  }
 },
 "nbformat": 4,
 "nbformat_minor": 5
}
