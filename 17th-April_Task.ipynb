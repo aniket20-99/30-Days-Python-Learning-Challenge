{
 "cells": [
  {
   "cell_type": "markdown",
   "id": "9c15e80e-0e60-4679-a5a5-56ab1951a6bb",
   "metadata": {},
   "source": [
    "#                                Python Tutorial"
   ]
  },
  {
   "cell_type": "code",
   "execution_count": 1,
   "id": "3ae1d802-7e97-4347-9f2c-8af5ed7ada31",
   "metadata": {},
   "outputs": [],
   "source": [
    "import sys\n",
    "import keyword\n",
    "import operator\n",
    "from datetime import datetime\n",
    "import os"
   ]
  },
  {
   "cell_type": "markdown",
   "id": "fa029a48-abe6-4369-b570-05eee054b509",
   "metadata": {},
   "source": [
    "# Keywords\n",
    "* Keywords are the reserved words in python and cant be used as an identifier"
   ]
  },
  {
   "cell_type": "code",
   "execution_count": 2,
   "id": "7f5f71a3-8bd8-46ff-a99d-ab891a57fa8a",
   "metadata": {},
   "outputs": [
    {
     "name": "stdout",
     "output_type": "stream",
     "text": [
      "['False', 'None', 'True', 'and', 'as', 'assert', 'async', 'await', 'break', 'class', 'continue', 'def', 'del', 'elif', 'else', 'except', 'finally', 'for', 'from', 'global', 'if', 'import', 'in', 'is', 'lambda', 'nonlocal', 'not', 'or', 'pass', 'raise', 'return', 'try', 'while', 'with', 'yield']\n"
     ]
    }
   ],
   "source": [
    "print(keyword.kwlist) # list all python keywords"
   ]
  },
  {
   "cell_type": "code",
   "execution_count": 6,
   "id": "6d6c03ec-58da-4cf8-a364-ebce4f895464",
   "metadata": {},
   "outputs": [
    {
     "name": "stdout",
     "output_type": "stream",
     "text": [
      "35\n"
     ]
    }
   ],
   "source": [
    "print(len(keyword.kwlist))"
   ]
  },
  {
   "cell_type": "markdown",
   "id": "19c0d3de-b795-4482-bdd0-5d7e95640455",
   "metadata": {},
   "source": [
    "# Identifier\n",
    "* An identifier is a name given to entities like class, functions, variables, etc. It helps to differentiate one entity from another."
   ]
  },
  {
   "cell_type": "code",
   "execution_count": 7,
   "id": "21ff8e80-d2b6-4e70-804e-2bbc0e928f15",
   "metadata": {},
   "outputs": [
    {
     "ename": "SyntaxError",
     "evalue": "invalid decimal literal (2087397812.py, line 1)",
     "output_type": "error",
     "traceback": [
      "\u001b[1;36m  Cell \u001b[1;32mIn[7], line 1\u001b[1;36m\u001b[0m\n\u001b[1;33m    1var = 10 # Identifier can't start with a digit\u001b[0m\n\u001b[1;37m    ^\u001b[0m\n\u001b[1;31mSyntaxError\u001b[0m\u001b[1;31m:\u001b[0m invalid decimal literal\n"
     ]
    }
   ],
   "source": [
    "1var = 10 # Identifier can't start with a digit"
   ]
  },
  {
   "cell_type": "code",
   "execution_count": 8,
   "id": "8f41950f-906c-444a-87bf-29ef0df0bf94",
   "metadata": {},
   "outputs": [
    {
     "ename": "SyntaxError",
     "evalue": "invalid syntax (2860878467.py, line 1)",
     "output_type": "error",
     "traceback": [
      "\u001b[1;36m  Cell \u001b[1;32mIn[8], line 1\u001b[1;36m\u001b[0m\n\u001b[1;33m    var12@ = 20 # Identifier can't use special character\u001b[0m\n\u001b[1;37m           ^\u001b[0m\n\u001b[1;31mSyntaxError\u001b[0m\u001b[1;31m:\u001b[0m invalid syntax\n"
     ]
    }
   ],
   "source": [
    "var12@ = 20 # Identifier can't use special character"
   ]
  },
  {
   "cell_type": "code",
   "execution_count": 9,
   "id": "eb1a7f56-415f-4aa1-86ca-95ee336d0bdb",
   "metadata": {},
   "outputs": [
    {
     "ename": "SyntaxError",
     "evalue": "invalid syntax (2777366544.py, line 1)",
     "output_type": "error",
     "traceback": [
      "\u001b[1;36m  Cell \u001b[1;32mIn[9], line 1\u001b[1;36m\u001b[0m\n\u001b[1;33m    import = 22 # Keywords cant be used as identifiers\u001b[0m\n\u001b[1;37m           ^\u001b[0m\n\u001b[1;31mSyntaxError\u001b[0m\u001b[1;31m:\u001b[0m invalid syntax\n"
     ]
    }
   ],
   "source": [
    "import = 22 # Keywords cant be used as identifiers"
   ]
  },
  {
   "cell_type": "code",
   "execution_count": 10,
   "id": "c88a96c7-a2e8-4c16-91c6-be7627e5405a",
   "metadata": {},
   "outputs": [],
   "source": [
    "\"\"\"\n",
    "Correct way of defining an identifier\n",
    "(Identifiers can be combination of letters in lowercase (a to z) or uppercase)\n",
    "\"\"\"\n",
    "val2 = 110"
   ]
  },
  {
   "cell_type": "code",
   "execution_count": 11,
   "id": "872d5fcf-6c98-4e17-aef6-214bdb0ed113",
   "metadata": {},
   "outputs": [],
   "source": [
    "val_ = 12"
   ]
  },
  {
   "cell_type": "markdown",
   "id": "41dc3461-5aca-4318-a728-b6be96a4d848",
   "metadata": {},
   "source": [
    "# Comments in Python\n",
    "* Comments can be used to explain the code for more readabilty"
   ]
  },
  {
   "cell_type": "code",
   "execution_count": 12,
   "id": "61377657-23c6-4250-b31f-27fa21ae4276",
   "metadata": {},
   "outputs": [],
   "source": [
    "# Single line comment\n",
    "val1  = 10"
   ]
  },
  {
   "cell_type": "code",
   "execution_count": 13,
   "id": "3d60130e-cd2d-42fb-ad47-e5f06b9d24da",
   "metadata": {},
   "outputs": [],
   "source": [
    "# Multiple\n",
    "# Line\n",
    "# Comment\n",
    "\n",
    "val = 18"
   ]
  },
  {
   "cell_type": "code",
   "execution_count": 15,
   "id": "c4c2f80c-9c62-45d7-87b0-09e09a0b6e69",
   "metadata": {},
   "outputs": [],
   "source": [
    "'''\n",
    "Multiple\n",
    "Line\n",
    "Comment\n",
    "'''\n",
    "\n",
    "val1 = 19"
   ]
  },
  {
   "cell_type": "markdown",
   "id": "16adc0e4-c05e-498e-8fe6-0e8e48c0b28f",
   "metadata": {},
   "source": [
    "# Statements\n",
    "* Instructions that a Python interpreter can execute."
   ]
  },
  {
   "cell_type": "code",
   "execution_count": 17,
   "id": "7f84e25b-ba0d-4f6d-9303-d245013b4c20",
   "metadata": {},
   "outputs": [
    {
     "data": {
      "text/plain": [
       "(20, int, '0x7ffa5f409588')"
      ]
     },
     "execution_count": 17,
     "metadata": {},
     "output_type": "execute_result"
    }
   ],
   "source": [
    "p = 20 # Creates an integer abject with value 20 and assigns the variable p \n",
    "q = 20 # Create new reference q which will point to value 20.\n",
    "r = q # Variable r will also point to the same location where p & q are pointing\n",
    "p, type(p), hex(id(p)) # Variable P is pointing to memory location '0x7ffa5f409588'"
   ]
  },
  {
   "cell_type": "code",
   "execution_count": 18,
   "id": "b03607ad-1b9b-40b9-aaee-38f8c44d006b",
   "metadata": {},
   "outputs": [
    {
     "data": {
      "text/plain": [
       "(20, int, '0x7ffa5f409588')"
      ]
     },
     "execution_count": 18,
     "metadata": {},
     "output_type": "execute_result"
    }
   ],
   "source": [
    "q, type(q), hex(id(q))"
   ]
  },
  {
   "cell_type": "code",
   "execution_count": 19,
   "id": "9a097cb1-3804-467c-8bae-457a7b641d31",
   "metadata": {},
   "outputs": [
    {
     "data": {
      "text/plain": [
       "(20, int, '0x7ffa5f409588')"
      ]
     },
     "execution_count": 19,
     "metadata": {},
     "output_type": "execute_result"
    }
   ],
   "source": [
    "r,type(r), hex(id(r))"
   ]
  },
  {
   "cell_type": "code",
   "execution_count": 20,
   "id": "75b5a8d3-397f-4a4d-b9e3-957678a57fcb",
   "metadata": {},
   "outputs": [
    {
     "name": "stdout",
     "output_type": "stream",
     "text": [
      "35\n"
     ]
    }
   ],
   "source": [
    "p = 20\n",
    "p = p + 15 # Variable overwriting\n",
    "print(p)"
   ]
  },
  {
   "cell_type": "markdown",
   "id": "cfe944a0-d6a8-45d0-8e61-516f6038f061",
   "metadata": {},
   "source": [
    "# Variable Assignment"
   ]
  },
  {
   "cell_type": "code",
   "execution_count": 23,
   "id": "fc52dda0-e6b3-4500-9275-994cfe6585fb",
   "metadata": {},
   "outputs": [
    {
     "name": "stdout",
     "output_type": "stream",
     "text": [
      "10\n",
      "2.57\n",
      "Pyhton Language\n"
     ]
    }
   ],
   "source": [
    "intvar = 10 # integer variable\n",
    "floatvar  = 2.57 # Float variable\n",
    "strvar = 'Pyhton Language' # String variable\n",
    "\n",
    "print(intvar)\n",
    "print(floatvar)\n",
    "print(strvar)"
   ]
  },
  {
   "cell_type": "markdown",
   "id": "9f99d521-4b81-4914-9db8-5b930ac0aa0b",
   "metadata": {},
   "source": [
    "# Multiple assignment"
   ]
  },
  {
   "cell_type": "code",
   "execution_count": 26,
   "id": "0fbe1b54-edde-4d8c-be6f-1ddfb67f1494",
   "metadata": {},
   "outputs": [
    {
     "name": "stdout",
     "output_type": "stream",
     "text": [
      "10\n",
      "25.5\n",
      "Python Language\n"
     ]
    }
   ],
   "source": [
    "intvar, floatvar, strvar = 10,25.5,'Python Language' # use comma(,) to seperate\n",
    "print(intvar)\n",
    "print(floatvar)\n",
    "print(strvar)"
   ]
  },
  {
   "cell_type": "code",
   "execution_count": 29,
   "id": "b6870b73-f9bf-41a5-9976-55b417bdae4a",
   "metadata": {},
   "outputs": [
    {
     "name": "stdout",
     "output_type": "stream",
     "text": [
      "25 25 25 25\n"
     ]
    }
   ],
   "source": [
    "p1 = p2 = p3 = p4  = 25 # All variables pointing to same value\n",
    "print(p1,p2,p3,p4)"
   ]
  },
  {
   "cell_type": "markdown",
   "id": "a22a76a5-5aef-45eb-be6f-5163731314e2",
   "metadata": {},
   "source": [
    "# Data Types"
   ]
  },
  {
   "cell_type": "markdown",
   "id": "66e907b4-87d0-4aeb-9cd5-5fe1f3d72078",
   "metadata": {},
   "source": [
    "### Numeric"
   ]
  },
  {
   "cell_type": "code",
   "execution_count": 31,
   "id": "d62451b2-63be-44de-88d0-d595d39343d3",
   "metadata": {},
   "outputs": [
    {
     "name": "stdout",
     "output_type": "stream",
     "text": [
      "12\n",
      "<class 'int'>\n",
      "28\n",
      "12  is Integer? True\n"
     ]
    }
   ],
   "source": [
    "val1 = 12 # Integer Data type\n",
    "print(val1)\n",
    "print(type(val1)) # type of object\n",
    "print(sys.getsizeof(val1)) # Size of integer object in bytes\n",
    "print(val1, ' is Integer?', isinstance(val1,int)) # val1 is an instance of int"
   ]
  },
  {
   "cell_type": "code",
   "execution_count": 35,
   "id": "9854e980-4daf-4272-b7ce-31b71aa34e58",
   "metadata": {},
   "outputs": [
    {
     "name": "stdout",
     "output_type": "stream",
     "text": [
      "78.45\n",
      "<class 'float'>\n",
      "24\n",
      "78.45  is flaot? True\n"
     ]
    }
   ],
   "source": [
    "val2 = 78.45 # Float data type\n",
    "print(val2)\n",
    "print(type(val2))\n",
    "print(sys.getsizeof(val2))\n",
    "print(val2, ' is flaot?', isinstance(val2,float)) # val2 is an instance of float"
   ]
  },
  {
   "cell_type": "code",
   "execution_count": 36,
   "id": "0607c1b0-898d-4506-9c63-09c1ebe34220",
   "metadata": {},
   "outputs": [
    {
     "name": "stdout",
     "output_type": "stream",
     "text": [
      "(20+30j)\n",
      "<class 'complex'>\n",
      "32\n",
      "(20+30j)  is complex? True\n"
     ]
    }
   ],
   "source": [
    "val3 = 20 + 30j # Complex data type\n",
    "print(val3)\n",
    "print(type(val3))\n",
    "print(sys.getsizeof(val3))\n",
    "print(val3, ' is complex?', isinstance(val3,complex)) # val3 is an instance of complex"
   ]
  },
  {
   "cell_type": "code",
   "execution_count": 37,
   "id": "fa5c3985-c064-4d58-998e-984ba7467226",
   "metadata": {},
   "outputs": [
    {
     "data": {
      "text/plain": [
       "424"
      ]
     },
     "execution_count": 37,
     "metadata": {},
     "output_type": "execute_result"
    }
   ],
   "source": [
    "sys.getsizeof(int) #Size of integer object in bytes"
   ]
  },
  {
   "cell_type": "code",
   "execution_count": 38,
   "id": "84ea44ab-0db7-43b3-8432-c54df98d1d35",
   "metadata": {},
   "outputs": [
    {
     "data": {
      "text/plain": [
       "424"
      ]
     },
     "execution_count": 38,
     "metadata": {},
     "output_type": "execute_result"
    }
   ],
   "source": [
    "sys.getsizeof(float) # size of float  object in bytes"
   ]
  },
  {
   "cell_type": "code",
   "execution_count": 39,
   "id": "cb972053-e96f-4307-aaff-0ff1caf7a093",
   "metadata": {},
   "outputs": [
    {
     "data": {
      "text/plain": [
       "424"
      ]
     },
     "execution_count": 39,
     "metadata": {},
     "output_type": "execute_result"
    }
   ],
   "source": [
    "sys.getsizeof(complex) # Size of complex object in bytes"
   ]
  },
  {
   "cell_type": "markdown",
   "id": "8fe3340b-b1bb-4449-b556-e741c8dab173",
   "metadata": {},
   "source": [
    "# Boolean\n",
    "* Boolean data type can have only two possible values true or false.\n",
    "  "
   ]
  },
  {
   "cell_type": "code",
   "execution_count": 40,
   "id": "dd69f535-26c0-4740-a1f9-7300dec31239",
   "metadata": {},
   "outputs": [],
   "source": [
    "bool1 = True"
   ]
  },
  {
   "cell_type": "code",
   "execution_count": 41,
   "id": "eb610d52-017a-41fd-82ba-a96dd4c4ede3",
   "metadata": {},
   "outputs": [],
   "source": [
    "bool2 = False"
   ]
  },
  {
   "cell_type": "code",
   "execution_count": 42,
   "id": "8d3618fd-71de-4c76-b01b-6524acd31c30",
   "metadata": {},
   "outputs": [
    {
     "name": "stdout",
     "output_type": "stream",
     "text": [
      "<class 'bool'>\n"
     ]
    }
   ],
   "source": [
    "print(type(bool1))"
   ]
  },
  {
   "cell_type": "code",
   "execution_count": 43,
   "id": "3c9e77ca-56f6-40bf-9c91-aa7a275dbc6d",
   "metadata": {},
   "outputs": [
    {
     "name": "stdout",
     "output_type": "stream",
     "text": [
      "<class 'bool'>\n"
     ]
    }
   ],
   "source": [
    "print(type(bool2))"
   ]
  },
  {
   "cell_type": "code",
   "execution_count": 44,
   "id": "c9ed7d59-36e9-49de-ae97-35049d782e2d",
   "metadata": {},
   "outputs": [
    {
     "data": {
      "text/plain": [
       "True"
      ]
     },
     "execution_count": 44,
     "metadata": {},
     "output_type": "execute_result"
    }
   ],
   "source": [
    "isinstance(bool1, bool)"
   ]
  },
  {
   "cell_type": "code",
   "execution_count": 45,
   "id": "40da23a3-91d1-4c0b-bf10-6a61a7e4b64f",
   "metadata": {},
   "outputs": [
    {
     "data": {
      "text/plain": [
       "True"
      ]
     },
     "execution_count": 45,
     "metadata": {},
     "output_type": "execute_result"
    }
   ],
   "source": [
    "isinstance(bool2, bool)"
   ]
  },
  {
   "cell_type": "code",
   "execution_count": 46,
   "id": "bccdf009-99f0-4c81-87f3-4a56420dba61",
   "metadata": {},
   "outputs": [
    {
     "data": {
      "text/plain": [
       "False"
      ]
     },
     "execution_count": 46,
     "metadata": {},
     "output_type": "execute_result"
    }
   ],
   "source": [
    "bool(0)"
   ]
  },
  {
   "cell_type": "code",
   "execution_count": 47,
   "id": "8136aba6-bdf8-48c5-b25e-f52946d0c62d",
   "metadata": {},
   "outputs": [
    {
     "data": {
      "text/plain": [
       "True"
      ]
     },
     "execution_count": 47,
     "metadata": {},
     "output_type": "execute_result"
    }
   ],
   "source": [
    "bool(1)"
   ]
  },
  {
   "cell_type": "code",
   "execution_count": 50,
   "id": "fd9a977c-038c-419c-9167-d5551335cb25",
   "metadata": {},
   "outputs": [
    {
     "data": {
      "text/plain": [
       "False"
      ]
     },
     "execution_count": 50,
     "metadata": {},
     "output_type": "execute_result"
    }
   ],
   "source": [
    "bool(None)"
   ]
  },
  {
   "cell_type": "code",
   "execution_count": 55,
   "id": "0916db9d-72de-4d41-81b2-a73fd2d87fbb",
   "metadata": {},
   "outputs": [
    {
     "data": {
      "text/plain": [
       "False"
      ]
     },
     "execution_count": 55,
     "metadata": {},
     "output_type": "execute_result"
    }
   ],
   "source": [
    "bool(False)"
   ]
  },
  {
   "cell_type": "code",
   "execution_count": 53,
   "id": "cd0f1cf2-8df7-4208-8c7d-4367b821f6f6",
   "metadata": {},
   "outputs": [
    {
     "data": {
      "text/plain": [
       "True"
      ]
     },
     "execution_count": 53,
     "metadata": {},
     "output_type": "execute_result"
    }
   ],
   "source": [
    "bool (True)"
   ]
  },
  {
   "cell_type": "markdown",
   "id": "5b19c77a-e988-4d08-931d-1a2e21f558af",
   "metadata": {},
   "source": [
    "# String\n",
    "### String Creation "
   ]
  },
  {
   "cell_type": "code",
   "execution_count": 57,
   "id": "a7b0b4a0-db43-4820-8ade-e9536470e1d4",
   "metadata": {},
   "outputs": [
    {
     "name": "stdout",
     "output_type": "stream",
     "text": [
      "Hello python\n"
     ]
    }
   ],
   "source": [
    "str1 = \"Hello python\"\n",
    "print(str1)"
   ]
  },
  {
   "cell_type": "code",
   "execution_count": 62,
   "id": "898d62c0-3bdc-4066-a152-706997824e9c",
   "metadata": {},
   "outputs": [
    {
     "name": "stdout",
     "output_type": "stream",
     "text": [
      "Hello World\n"
     ]
    }
   ],
   "source": [
    "mystr  = 'Hello World' # Define string using single quotes\n",
    "print(mystr)"
   ]
  },
  {
   "cell_type": "code",
   "execution_count": 60,
   "id": "2f7b43b9-4f19-4718-b9f5-a53ced9d57d0",
   "metadata": {},
   "outputs": [
    {
     "name": "stdout",
     "output_type": "stream",
     "text": [
      "Hello World\n"
     ]
    }
   ],
   "source": [
    "mystr = \"Hello World\" # Define string using double quotes\n",
    "print(mystr)"
   ]
  },
  {
   "cell_type": "code",
   "execution_count": 65,
   "id": "9e04300f-b76f-4138-a6ae-aba1ad4801fd",
   "metadata": {},
   "outputs": [
    {
     "name": "stdout",
     "output_type": "stream",
     "text": [
      "Hello \n",
      "            World\n"
     ]
    }
   ],
   "source": [
    "mystr = '''Hello \n",
    "            World''' # Define string using single triple quotes\n",
    "print(mystr)"
   ]
  },
  {
   "cell_type": "code",
   "execution_count": 64,
   "id": "f36823e4-6569-4d7c-a87c-8c335359754d",
   "metadata": {},
   "outputs": [
    {
     "name": "stdout",
     "output_type": "stream",
     "text": [
      "Hello\n",
      "            World\n"
     ]
    }
   ],
   "source": [
    "mystr = \"\"\"Hello\n",
    "            World\"\"\" # Define string using triple quotes\n",
    "print(mystr)"
   ]
  },
  {
   "cell_type": "code",
   "execution_count": 67,
   "id": "51e195e7-0805-495e-b0e8-d5a41019af93",
   "metadata": {},
   "outputs": [
    {
     "name": "stdout",
     "output_type": "stream",
     "text": [
      "Happy Monday Everyone \n"
     ]
    }
   ],
   "source": [
    "mystr =  ('Happy '\n",
    "          'Monday '\n",
    "          'Everyone ')\n",
    "print(mystr)"
   ]
  },
  {
   "cell_type": "code",
   "execution_count": 69,
   "id": "1f6a3206-7b78-4d37-8ef1-d7c4696c6b63",
   "metadata": {},
   "outputs": [
    {
     "name": "stdout",
     "output_type": "stream",
     "text": [
      "Woohoo Woohoo Woohoo Woohoo Woohoo \n"
     ]
    }
   ],
   "source": [
    "mystr2 = 'Woohoo '\n",
    "mystr2 = mystr2 * 5\n",
    "print(mystr2)"
   ]
  },
  {
   "cell_type": "code",
   "execution_count": 70,
   "id": "a3beb3b4-7589-467a-81ef-9a9b341d3cb7",
   "metadata": {},
   "outputs": [
    {
     "data": {
      "text/plain": [
       "35"
      ]
     },
     "execution_count": 70,
     "metadata": {},
     "output_type": "execute_result"
    }
   ],
   "source": [
    "len(mystr2) # length of string"
   ]
  },
  {
   "cell_type": "markdown",
   "id": "5c1d6688-323b-4306-bb3b-9235c878bf64",
   "metadata": {},
   "source": [
    "# String Indexing\n",
    "* Forward Indexing --> Left to right (Index starts from 0)\n",
    "* Backward Indexing --> right to Left (Index starts from -1)"
   ]
  },
  {
   "cell_type": "code",
   "execution_count": 93,
   "id": "0c277026-f4b1-4262-b9a1-89a3fd941b20",
   "metadata": {},
   "outputs": [],
   "source": [
    "str1 = 'Hello Python'"
   ]
  },
  {
   "cell_type": "code",
   "execution_count": 94,
   "id": "65f05988-a899-467c-bbaa-bf3e363d9840",
   "metadata": {},
   "outputs": [
    {
     "data": {
      "text/plain": [
       "'H'"
      ]
     },
     "execution_count": 94,
     "metadata": {},
     "output_type": "execute_result"
    }
   ],
   "source": [
    "str[0] # First character in string \"str1\""
   ]
  },
  {
   "cell_type": "code",
   "execution_count": 95,
   "id": "e7f11789-d280-4015-a0c1-d0f75d048e9a",
   "metadata": {},
   "outputs": [
    {
     "data": {
      "text/plain": [
       "'n'"
      ]
     },
     "execution_count": 95,
     "metadata": {},
     "output_type": "execute_result"
    }
   ],
   "source": [
    "str1[len(str)-1] # last character in string using len function"
   ]
  },
  {
   "cell_type": "code",
   "execution_count": 96,
   "id": "d2610ea1-46f3-4572-9bce-97b78fdf9789",
   "metadata": {},
   "outputs": [
    {
     "data": {
      "text/plain": [
       "'n'"
      ]
     },
     "execution_count": 96,
     "metadata": {},
     "output_type": "execute_result"
    }
   ],
   "source": [
    "str[-1] # last character in string"
   ]
  },
  {
   "cell_type": "code",
   "execution_count": 97,
   "id": "aeb09fbb-a99a-4414-85ae-8c1d741e22ec",
   "metadata": {},
   "outputs": [
    {
     "data": {
      "text/plain": [
       "'p'"
      ]
     },
     "execution_count": 97,
     "metadata": {},
     "output_type": "execute_result"
    }
   ],
   "source": [
    "str[6] # Fetch 7th element of the string"
   ]
  },
  {
   "cell_type": "code",
   "execution_count": 98,
   "id": "d4fa9c84-701d-4a1d-83ff-564fe59179c2",
   "metadata": {},
   "outputs": [
    {
     "data": {
      "text/plain": [
       "' '"
      ]
     },
     "execution_count": 98,
     "metadata": {},
     "output_type": "execute_result"
    }
   ],
   "source": [
    "str1[5]"
   ]
  },
  {
   "cell_type": "markdown",
   "id": "0d54f928-1131-431f-9cb9-1b35980ef672",
   "metadata": {},
   "source": [
    "### String Slicing"
   ]
  },
  {
   "cell_type": "code",
   "execution_count": 99,
   "id": "df2710fc-fb68-4b27-bb31-05252cc7f362",
   "metadata": {},
   "outputs": [
    {
     "data": {
      "text/plain": [
       "'Hello'"
      ]
     },
     "execution_count": 99,
     "metadata": {},
     "output_type": "execute_result"
    }
   ],
   "source": [
    "str1[0:5] # String slicing - fetch all character from 0 to 5 index "
   ]
  },
  {
   "cell_type": "code",
   "execution_count": 100,
   "id": "ccf2f298-224a-4ba9-bc3d-19da2afc159e",
   "metadata": {},
   "outputs": [
    {
     "data": {
      "text/plain": [
       "'Python'"
      ]
     },
     "execution_count": 100,
     "metadata": {},
     "output_type": "execute_result"
    }
   ],
   "source": [
    "str1[6:12] #string slicing - Retreive all characters between 6 - 12 index loc"
   ]
  },
  {
   "cell_type": "code",
   "execution_count": 101,
   "id": "c41a94cb-e30c-4fd0-bc57-bfd9d0817d41",
   "metadata": {},
   "outputs": [
    {
     "data": {
      "text/plain": [
       "'th'"
      ]
     },
     "execution_count": 101,
     "metadata": {},
     "output_type": "execute_result"
    }
   ],
   "source": [
    "str1[-4:-2] #Rereive Last four characters of the string"
   ]
  },
  {
   "cell_type": "code",
   "execution_count": 102,
   "id": "1c4915c0-8a23-4663-813c-37d5943c4e52",
   "metadata": {},
   "outputs": [
    {
     "data": {
      "text/plain": [
       "'Python'"
      ]
     },
     "execution_count": 102,
     "metadata": {},
     "output_type": "execute_result"
    }
   ],
   "source": [
    "str1[-6:] # Retreive last six characters of the string "
   ]
  },
  {
   "cell_type": "code",
   "execution_count": 103,
   "id": "4160c910-092c-441f-8e6a-f2b2f11fa681",
   "metadata": {},
   "outputs": [
    {
     "data": {
      "text/plain": [
       "'Hell'"
      ]
     },
     "execution_count": 103,
     "metadata": {},
     "output_type": "execute_result"
    }
   ],
   "source": [
    "str1[:4] # Retreive first four characters of the string "
   ]
  },
  {
   "cell_type": "code",
   "execution_count": 104,
   "id": "35b7ca80-3e03-4b4f-a594-608e753c2ea8",
   "metadata": {},
   "outputs": [
    {
     "data": {
      "text/plain": [
       "'Hello '"
      ]
     },
     "execution_count": 104,
     "metadata": {},
     "output_type": "execute_result"
    }
   ],
   "source": [
    "str1[:6] # Retreive first six characters of the string "
   ]
  },
  {
   "cell_type": "markdown",
   "id": "af41ffdb-4404-4210-9bd8-b27c22509aca",
   "metadata": {},
   "source": [
    "### Update & Delete String"
   ]
  },
  {
   "cell_type": "code",
   "execution_count": 105,
   "id": "ec216436-46f7-4254-9840-3709108d8221",
   "metadata": {},
   "outputs": [
    {
     "data": {
      "text/plain": [
       "'Hello Python'"
      ]
     },
     "execution_count": 105,
     "metadata": {},
     "output_type": "execute_result"
    }
   ],
   "source": [
    "str1"
   ]
  },
  {
   "cell_type": "code",
   "execution_count": 106,
   "id": "719fcb9d-46e1-4f92-b04c-3b42b5ce9627",
   "metadata": {},
   "outputs": [
    {
     "ename": "TypeError",
     "evalue": "'str' object does not support item assignment",
     "output_type": "error",
     "traceback": [
      "\u001b[1;31m---------------------------------------------------------------------------\u001b[0m",
      "\u001b[1;31mTypeError\u001b[0m                                 Traceback (most recent call last)",
      "Cell \u001b[1;32mIn[106], line 2\u001b[0m\n\u001b[0;32m      1\u001b[0m \u001b[38;5;66;03m# Strings are immutable which means elements of a string cannot be changed once taken\u001b[39;00m\n\u001b[1;32m----> 2\u001b[0m \u001b[38;5;28mstr\u001b[39m[\u001b[38;5;241m0\u001b[39m:\u001b[38;5;241m5\u001b[39m] \u001b[38;5;241m=\u001b[39m \u001b[38;5;124m'\u001b[39m\u001b[38;5;124mHOLAA\u001b[39m\u001b[38;5;124m'\u001b[39m\n",
      "\u001b[1;31mTypeError\u001b[0m: 'str' object does not support item assignment"
     ]
    }
   ],
   "source": [
    "# Strings are immutable which means elements of a string cannot be changed once taken\n",
    "str[0:5] = 'HOLAA'"
   ]
  },
  {
   "cell_type": "code",
   "execution_count": 107,
   "id": "5c24184b-7769-44ca-b7a1-2bd787d388c6",
   "metadata": {},
   "outputs": [],
   "source": [
    "del str1 # Delete a string\n"
   ]
  },
  {
   "cell_type": "code",
   "execution_count": 108,
   "id": "3647ba0c-9ae3-401d-8776-385f1e6ba720",
   "metadata": {},
   "outputs": [
    {
     "ename": "NameError",
     "evalue": "name 'str1' is not defined",
     "output_type": "error",
     "traceback": [
      "\u001b[1;31m---------------------------------------------------------------------------\u001b[0m",
      "\u001b[1;31mNameError\u001b[0m                                 Traceback (most recent call last)",
      "Cell \u001b[1;32mIn[108], line 1\u001b[0m\n\u001b[1;32m----> 1\u001b[0m \u001b[38;5;28mprint\u001b[39m(str1)\n",
      "\u001b[1;31mNameError\u001b[0m: name 'str1' is not defined"
     ]
    }
   ],
   "source": [
    "print(str1)"
   ]
  },
  {
   "cell_type": "markdown",
   "id": "58508fa5-867b-45b2-8d1b-19de52ca1fb7",
   "metadata": {},
   "source": [
    "### String Concatenation"
   ]
  },
  {
   "cell_type": "code",
   "execution_count": 111,
   "id": "e3a19959-99a4-4bac-9632-4399b47a99fc",
   "metadata": {},
   "outputs": [
    {
     "name": "stdout",
     "output_type": "stream",
     "text": [
      "Hello Aahan\n"
     ]
    }
   ],
   "source": [
    "# String concatenation\n",
    "s1 = 'Hello '\n",
    "s2 = 'Aahan'\n",
    "s3 = s1 + s2\n",
    "print(s3)"
   ]
  },
  {
   "cell_type": "code",
   "execution_count": null,
   "id": "448b4afb-1b56-4afd-87f4-d3e6dcbf1c17",
   "metadata": {},
   "outputs": [],
   "source": []
  }
 ],
 "metadata": {
  "kernelspec": {
   "display_name": "Python 3 (ipykernel)",
   "language": "python",
   "name": "python3"
  },
  "language_info": {
   "codemirror_mode": {
    "name": "ipython",
    "version": 3
   },
   "file_extension": ".py",
   "mimetype": "text/x-python",
   "name": "python",
   "nbconvert_exporter": "python",
   "pygments_lexer": "ipython3",
   "version": "3.11.5"
  }
 },
 "nbformat": 4,
 "nbformat_minor": 5
}
