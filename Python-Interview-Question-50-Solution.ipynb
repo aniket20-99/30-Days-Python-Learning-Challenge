{
 "cells": [
  {
   "cell_type": "markdown",
   "id": "db586803-7862-4d92-a095-18040f66b13f",
   "metadata": {},
   "source": [
    "**1.** **Question:** What is the `input()` function in Python used for? "
   ]
  },
  {
   "cell_type": "markdown",
   "id": "fc110cb1-e0c5-4699-aef3-9339df94e21b",
   "metadata": {},
   "source": [
    "The input() function in Python is used to get input from the user.\n",
    "The function then returns the user's input as a string"
   ]
  },
  {
   "cell_type": "markdown",
   "id": "dd5c51cd-c05f-4a91-a444-900f95561a94",
   "metadata": {},
   "source": [
    "**2.** **Question:** How can you accept an integer as input from the user using \n",
    "`input()`? "
   ]
  },
  {
   "cell_type": "markdown",
   "id": "5f68ba1d-5231-45ad-afdb-7de3c2345ae5",
   "metadata": {},
   "source": [
    "we can convert the string returned by input() into integer using int() function:"
   ]
  },
  {
   "cell_type": "code",
   "execution_count": 2,
   "id": "0d1901bd-8bca-4ead-b8e8-ea2118d19569",
   "metadata": {},
   "outputs": [
    {
     "name": "stdin",
     "output_type": "stream",
     "text": [
      "Enter the number 5\n"
     ]
    },
    {
     "data": {
      "text/plain": [
       "5"
      ]
     },
     "execution_count": 2,
     "metadata": {},
     "output_type": "execute_result"
    }
   ],
   "source": [
    "num = int(input('Enter the number'))\n",
    "num"
   ]
  },
  {
   "cell_type": "markdown",
   "id": "b8b74454-ec92-42af-b9d8-e49fc20eb4b6",
   "metadata": {},
   "source": [
    "**3.** **Question:** How do you accept a float input from the user? "
   ]
  },
  {
   "cell_type": "markdown",
   "id": "1a608502-f9d2-49b0-a86e-88a674a6e6cc",
   "metadata": {},
   "source": [
    "Ans- We can use float() to convert the string input into a floating- point numbers"
   ]
  },
  {
   "cell_type": "code",
   "execution_count": 3,
   "id": "19ca9c5d-9a72-43b3-9ae0-90e7365d4ddd",
   "metadata": {},
   "outputs": [
    {
     "name": "stdin",
     "output_type": "stream",
     "text": [
      "Enter the number 10\n"
     ]
    },
    {
     "data": {
      "text/plain": [
       "10.0"
      ]
     },
     "execution_count": 3,
     "metadata": {},
     "output_type": "execute_result"
    }
   ],
   "source": [
    "num1 = float(input('Enter the number'))\n",
    "num1"
   ]
  },
  {
   "cell_type": "markdown",
   "id": "4a5952fa-3d2c-4094-9116-ec8a36a61f65",
   "metadata": {},
   "source": [
    "**4.** **Question:** How can you take multiple space-separated values as input? "
   ]
  },
  {
   "cell_type": "markdown",
   "id": "2efc849e-2bcf-40dc-872a-576a3aa0ea97",
   "metadata": {},
   "source": [
    "Ans- We can use split() function to split the input string into a list of values."
   ]
  },
  {
   "cell_type": "code",
   "execution_count": 6,
   "id": "2e2d12f8-591c-474b-874b-0e0c48b4914d",
   "metadata": {},
   "outputs": [
    {
     "name": "stdin",
     "output_type": "stream",
     "text": [
      "Enter space seperated names Aniket Rohan Sohan Ravi \n"
     ]
    },
    {
     "name": "stdout",
     "output_type": "stream",
     "text": [
      "['Aniket', 'Rohan', 'Sohan', 'Ravi']\n"
     ]
    }
   ],
   "source": [
    "name = input(\"Enter space seperated names\").split()\n",
    "print(name)"
   ]
  },
  {
   "cell_type": "markdown",
   "id": "c814bd9e-90be-49f9-ac83-e51712140fb2",
   "metadata": {},
   "source": [
    "**5.** **Question:** How do you check if a number entered by the user is positive, \n",
    "negative, or zero? "
   ]
  },
  {
   "cell_type": "markdown",
   "id": "30c8d4a4-765a-47eb-ba79-6bb4cdad3f22",
   "metadata": {},
   "source": [
    "Ans-For checking if a number entered by the user is positive, negative, or zero we can use conditional statement."
   ]
  },
  {
   "cell_type": "code",
   "execution_count": 8,
   "id": "75e6778b-4beb-46b0-9933-13bfe91edcb3",
   "metadata": {},
   "outputs": [
    {
     "name": "stdin",
     "output_type": "stream",
     "text": [
      "Enter ypur number 0\n"
     ]
    },
    {
     "name": "stdout",
     "output_type": "stream",
     "text": [
      "Number is Zero\n"
     ]
    }
   ],
   "source": [
    "num = int(input('Enter ypur number'))\n",
    "\n",
    "if num > 0:\n",
    "    print(\"Number is positive\")\n",
    "elif num < 0:\n",
    "    print(\"Number is negative\")\n",
    "else:\n",
    "    print(\"Number is Zero\")"
   ]
  },
  {
   "cell_type": "markdown",
   "id": "4329af75-6c5f-4025-9f2a-65cc6211b104",
   "metadata": {},
   "source": [
    "**6.** **Question:** How do you convert user input to a list of integers? "
   ]
  },
  {
   "cell_type": "markdown",
   "id": "9a3f5192-1eba-40d4-94ef-4fcfe3d9a9d8",
   "metadata": {},
   "source": [
    "Ans- After using split(), we can convert each elemnt to an integer using a list comprehension:"
   ]
  },
  {
   "cell_type": "code",
   "execution_count": 17,
   "id": "29c9f014-3442-42bf-a1da-735d82bbf6f9",
   "metadata": {},
   "outputs": [
    {
     "name": "stdin",
     "output_type": "stream",
     "text": [
      "Enter your number 10 20 30 40 50\n"
     ]
    },
    {
     "name": "stdout",
     "output_type": "stream",
     "text": [
      "[10, 20, 30, 40, 50]\n"
     ]
    }
   ],
   "source": [
    "num = input('Enter your number')\n",
    "num_list = [int(x) for x in num.split()]\n",
    "print(num_list)"
   ]
  },
  {
   "cell_type": "code",
   "execution_count": 19,
   "id": "a5e59b0c-b1c5-46f9-a114-11ae317a622f",
   "metadata": {},
   "outputs": [
    {
     "name": "stdin",
     "output_type": "stream",
     "text": [
      "Enter your number 10 20 30 40 50\n"
     ]
    },
    {
     "name": "stdout",
     "output_type": "stream",
     "text": [
      "[10, 20, 30, 40, 50]\n"
     ]
    }
   ],
   "source": [
    "num = [int(x) for x in input('Enter your number').split()]\n",
    "print(num)"
   ]
  },
  {
   "cell_type": "markdown",
   "id": "2d528a36-2fb7-4807-a4d6-afd156c6c6f1",
   "metadata": {},
   "source": [
    "**7.** **Question:** How do you accept a string input and print it in uppercase?"
   ]
  },
  {
   "cell_type": "markdown",
   "id": "a276d663-5d4e-4c59-a6da-119a158fb5aa",
   "metadata": {},
   "source": [
    "Ans- We can use upper() method to print any string input in uppercase"
   ]
  },
  {
   "cell_type": "code",
   "execution_count": 21,
   "id": "9922f7da-3268-4014-a4aa-2777dcdcaaa6",
   "metadata": {},
   "outputs": [
    {
     "name": "stdin",
     "output_type": "stream",
     "text": [
      "Enter your name aniket\n"
     ]
    },
    {
     "name": "stdout",
     "output_type": "stream",
     "text": [
      "ANIKET\n"
     ]
    }
   ],
   "source": [
    "name = input('Enter your name')\n",
    "print(name.upper())"
   ]
  },
  {
   "cell_type": "markdown",
   "id": "e7529bbd-f39a-4c54-9bc3-9ec9f5a927f7",
   "metadata": {},
   "source": [
    "**8.** **Question:** Write a Python program that accepts a string and prints the \n",
    "number of vowels in it. "
   ]
  },
  {
   "cell_type": "code",
   "execution_count": 23,
   "id": "8dbe9483-c822-46fe-8261-b4b318e60797",
   "metadata": {},
   "outputs": [
    {
     "name": "stdin",
     "output_type": "stream",
     "text": [
      "Enter a string: akjvfoegreobnverovnwoi\n"
     ]
    },
    {
     "name": "stdout",
     "output_type": "stream",
     "text": [
      "Number of vowels 9\n"
     ]
    }
   ],
   "source": [
    "# Method 1:\n",
    "user_input = input('Enter a string:')\n",
    "vowels = \"aeiouAEIOU\"\n",
    "count = 0\n",
    "\n",
    "for char in user_input:\n",
    "    if char in vowels:\n",
    "        count += 1\n",
    "print(\"Number of vowels\",count)"
   ]
  },
  {
   "cell_type": "code",
   "execution_count": 24,
   "id": "9c7fb4b0-ffdf-4687-810c-10ae8d1792c5",
   "metadata": {},
   "outputs": [
    {
     "name": "stdin",
     "output_type": "stream",
     "text": [
      "Enter a string:  ebfqeofqwedanJPAOIENGGNGSROIOOEOW\n"
     ]
    },
    {
     "name": "stdout",
     "output_type": "stream",
     "text": [
      "Number of vowels 15\n"
     ]
    }
   ],
   "source": [
    "# Method 2\n",
    "user_input = input(\"Enter a string: \")\n",
    "vowels = \"aeiouAEIOU\"\n",
    "count = sum(1 for char in user_input if char in vowels)\n",
    "print(\"Number of vowels\",count)"
   ]
  },
  {
   "cell_type": "markdown",
   "id": "885e9cfe-a813-492e-b92a-d3bd7707f2e1",
   "metadata": {},
   "source": [
    "**9.** **Question:** Write a program that takes a number as input and checks if it is \n",
    "even or odd. \n"
   ]
  },
  {
   "cell_type": "code",
   "execution_count": 26,
   "id": "32a9672a-b814-4d3a-9658-99f05cc37e9f",
   "metadata": {},
   "outputs": [
    {
     "name": "stdin",
     "output_type": "stream",
     "text": [
      "Enter a number 10\n"
     ]
    },
    {
     "name": "stdout",
     "output_type": "stream",
     "text": [
      "Number is even\n"
     ]
    }
   ],
   "source": [
    "num = int(input(\"Enter a number\"))\n",
    "\n",
    "if num % 2 == 0:\n",
    "    print(\"Number is even\")\n",
    "else:\n",
    "    print(\"Number is odd\")"
   ]
  },
  {
   "cell_type": "markdown",
   "id": "6b04711f-23ae-433f-85c4-26ceda0564cc",
   "metadata": {},
   "source": [
    " **10.** **Question:** How would you check if a string is a palindrome using `input()`? "
   ]
  },
  {
   "cell_type": "code",
   "execution_count": 28,
   "id": "80b1cf00-1316-4cd2-895c-dffcc3729d46",
   "metadata": {},
   "outputs": [
    {
     "name": "stdin",
     "output_type": "stream",
     "text": [
      "Enter a string abababa\n"
     ]
    },
    {
     "name": "stdout",
     "output_type": "stream",
     "text": [
      "Given text is palindrome\n"
     ]
    }
   ],
   "source": [
    "text = input(\"Enter a string\")\n",
    "if text == text[::-1]:\n",
    "    print(\"Given text is palindrome\")\n",
    "\n",
    "else:\n",
    "    print('Not a palindrome')"
   ]
  },
  {
   "cell_type": "markdown",
   "id": "fcd50f90-08be-4b14-88c7-271cd9e06a63",
   "metadata": {},
   "source": [
    "**11.** **Question:** Write a program that takes a number as input and prints its \n",
    "square. "
   ]
  },
  {
   "cell_type": "code",
   "execution_count": 29,
   "id": "8e07222d-443d-43cf-b78e-f7787a007bb2",
   "metadata": {},
   "outputs": [
    {
     "name": "stdin",
     "output_type": "stream",
     "text": [
      "Enter a number 10\n"
     ]
    },
    {
     "name": "stdout",
     "output_type": "stream",
     "text": [
      "Squar of the given number 10 is 100\n"
     ]
    }
   ],
   "source": [
    "num = int(input(\"Enter a number\"))\n",
    "print(f'Squar of the given number {num} is',num**2)"
   ]
  },
  {
   "cell_type": "markdown",
   "id": "48c62981-0630-458f-b142-c1a2243107cf",
   "metadata": {},
   "source": [
    "**12.** **Question:** Write a program that asks for a number and prints whether it is \n",
    "divisible by 3. "
   ]
  },
  {
   "cell_type": "code",
   "execution_count": 30,
   "id": "fd4335f3-76c9-4e12-86fa-ca3a4237143c",
   "metadata": {},
   "outputs": [
    {
     "name": "stdin",
     "output_type": "stream",
     "text": [
      "Enter a number 18\n"
     ]
    },
    {
     "name": "stdout",
     "output_type": "stream",
     "text": [
      "Number is divisble by 3\n"
     ]
    }
   ],
   "source": [
    "num = int(input('Enter a number'))\n",
    "\n",
    "if num % 3 == 0:\n",
    "    print(\"Number is divisble by 3\")\n",
    "else:\n",
    "    print(\"Number is not divisible by 3\")"
   ]
  },
  {
   "cell_type": "markdown",
   "id": "5e1f9295-0c38-4d03-b828-e570b4cc7dfb",
   "metadata": {},
   "source": [
    "**13.** **Question:** How would you check if a number is divisible by both 3 and 7? "
   ]
  },
  {
   "cell_type": "code",
   "execution_count": 31,
   "id": "3cc29c96-fe10-4a7f-b746-4dec68cd6b2c",
   "metadata": {},
   "outputs": [
    {
     "name": "stdin",
     "output_type": "stream",
     "text": [
      "Enter a number 21\n"
     ]
    },
    {
     "name": "stdout",
     "output_type": "stream",
     "text": [
      "Number is divisible by both 3 and 7\n"
     ]
    }
   ],
   "source": [
    "num = int(input(\"Enter a number\"))\n",
    "if num % 3 == 0 and num % 7 == 0:\n",
    "    print(\"Number is divisible by both 3 and 7\")\n",
    "\n",
    "else:\n",
    "    print(\"Number is not divisible by both 3 and 7\")"
   ]
  },
  {
   "cell_type": "markdown",
   "id": "40ae9e59-1e1d-4a9f-9dac-5185548bb075",
   "metadata": {},
   "source": [
    "**14.** **Question:** How do you accept a list of comma-separated values as input? "
   ]
  },
  {
   "cell_type": "code",
   "execution_count": 38,
   "id": "a5f776b3-f27d-47f7-a20a-1bf06a4e88b2",
   "metadata": {},
   "outputs": [
    {
     "name": "stdin",
     "output_type": "stream",
     "text": [
      "Enter a comma seperated values: ab,cd,ef,gh,ij\n"
     ]
    },
    {
     "name": "stdout",
     "output_type": "stream",
     "text": [
      "['ab', 'cd', 'ef', 'gh', 'ij']\n"
     ]
    }
   ],
   "source": [
    "text = input(\"Enter a comma seperated values:\").split(\",\")\n",
    "print(text)"
   ]
  },
  {
   "cell_type": "markdown",
   "id": "cdef0b57-c1cf-4563-9882-393bf50f4aaa",
   "metadata": {},
   "source": [
    "**15.** **Question:** Write a Python program that takes two numbers as input and \n",
    "prints their product. "
   ]
  },
  {
   "cell_type": "code",
   "execution_count": 40,
   "id": "e74ae9bb-5686-4986-9604-666e6761458d",
   "metadata": {},
   "outputs": [
    {
     "name": "stdin",
     "output_type": "stream",
     "text": [
      "Enter your 1st number 20\n",
      "Enter your 2nd number 50\n"
     ]
    },
    {
     "name": "stdout",
     "output_type": "stream",
     "text": [
      "Product of the two number 20 and 50 is:-  1000\n"
     ]
    }
   ],
   "source": [
    "num1 = int(input(\"Enter your 1st number\"))\n",
    "num2 = int(input(\"Enter your 2nd number\"))\n",
    "\n",
    "print(f'Product of the two number {num1} and {num2} is:- ',num1 * num2)"
   ]
  },
  {
   "cell_type": "markdown",
   "id": "47f77f9c-83c8-4c91-bd58-34699a8ffebb",
   "metadata": {},
   "source": [
    "**16.** **Question:** Write a program that checks if the input number is a prime \r\n",
    "number.r:"
   ]
  },
  {
   "cell_type": "code",
   "execution_count": null,
   "id": "b34cd89a-0e9a-4c35-a7dc-90e693f83070",
   "metadata": {},
   "outputs": [],
   "source": []
  },
  {
   "cell_type": "markdown",
   "id": "1b8a514c-096c-493f-b7c0-cdb9205eb827",
   "metadata": {},
   "source": [
    "**17.** **Question:** How can you accept a boolean value (True/False) from the user?"
   ]
  },
  {
   "cell_type": "code",
   "execution_count": 46,
   "id": "b189972d-9e20-450f-9b5b-25f34921b732",
   "metadata": {},
   "outputs": [
    {
     "name": "stdin",
     "output_type": "stream",
     "text": [
      "Enter True or False True\n"
     ]
    },
    {
     "name": "stdout",
     "output_type": "stream",
     "text": [
      "True\n"
     ]
    }
   ],
   "source": [
    "user_input = input(\"Enter True or False\").lower() == 'true'\n",
    "print(user_input)"
   ]
  },
  {
   "cell_type": "markdown",
   "id": "8c0ac2d5-65bd-4dee-b9c3-9c317b65232c",
   "metadata": {},
   "source": [
    "**18.** **Question:** Write a program that accepts a string and prints the reverse of \n",
    "that string. "
   ]
  },
  {
   "cell_type": "code",
   "execution_count": 48,
   "id": "777a4bed-923e-4504-a657-9e3fe2efb501",
   "metadata": {},
   "outputs": [
    {
     "name": "stdin",
     "output_type": "stream",
     "text": [
      "Enter a string abcdefghijklmno\n"
     ]
    },
    {
     "name": "stdout",
     "output_type": "stream",
     "text": [
      "Reverse of string is: onmlkjihgfedcba\n"
     ]
    }
   ],
   "source": [
    "text = input(\"Enter a string\")\n",
    "print(\"Reverse of string is:\",text[::-1])"
   ]
  },
  {
   "cell_type": "markdown",
   "id": "9d4632b0-b9e6-42d4-a793-529253ef88e5",
   "metadata": {},
   "source": [
    "**19.** **Question:** Write a program that asks for a user's name and age and prints a \n",
    "message. "
   ]
  },
  {
   "cell_type": "code",
   "execution_count": 50,
   "id": "b7c2d4ed-20c2-40ce-b058-957900bb7579",
   "metadata": {},
   "outputs": [
    {
     "name": "stdin",
     "output_type": "stream",
     "text": [
      "Enter your name Aniket\n",
      "Enter your age 25\n"
     ]
    },
    {
     "name": "stdout",
     "output_type": "stream",
     "text": [
      "Hello Aniket.\n",
      "You are 25 years old\n"
     ]
    }
   ],
   "source": [
    "name = input(\"Enter your name\")\n",
    "age = int(input(\"Enter your age\"))\n",
    "\n",
    "print(f'Hello {name}.\\nYou are {age} years old')"
   ]
  },
  {
   "cell_type": "markdown",
   "id": "8533f395-a1d9-4b54-9e6f-b26b8e18f264",
   "metadata": {},
   "source": [
    "**20.** **Question:** Write a program to calculate the factorial of a number using \n",
    "`input()`. "
   ]
  },
  {
   "cell_type": "code",
   "execution_count": 57,
   "id": "00380179-cafa-46b3-bc71-938f0f0969a2",
   "metadata": {},
   "outputs": [
    {
     "name": "stdin",
     "output_type": "stream",
     "text": [
      "Enter a number 5\n"
     ]
    },
    {
     "name": "stdout",
     "output_type": "stream",
     "text": [
      "Factorial of given number is: 120\n"
     ]
    }
   ],
   "source": [
    "fact = int(input(\"Enter a number\"))\n",
    "factorial = 1\n",
    "for i in range(1,fact+1):\n",
    "    factorial *= i\n",
    "print(\"Factorial of given number is:\",factorial)"
   ]
  },
  {
   "cell_type": "markdown",
   "id": "9f08937e-0213-4af4-bb47-736e753dadfc",
   "metadata": {},
   "source": [
    "**21.** **Question:** How do you prevent a user from entering an empty string? "
   ]
  },
  {
   "cell_type": "code",
   "execution_count": 58,
   "id": "0fa0b552-74e9-454f-a728-d7bb3f56079d",
   "metadata": {},
   "outputs": [
    {
     "name": "stdin",
     "output_type": "stream",
     "text": [
      "Enter a stirng \n"
     ]
    },
    {
     "name": "stdout",
     "output_type": "stream",
     "text": [
      "Input can't be empty\n"
     ]
    }
   ],
   "source": [
    "user_input = input(\"Enter a stirng\")\n",
    "\n",
    "if not user_input:\n",
    "    print(\"Input can't be empty\")\n",
    "\n",
    "else:\n",
    "    print(f'ypu entered: {user_input}')"
   ]
  },
  {
   "cell_type": "markdown",
   "id": "d1f96a11-e9e6-4ff9-bc87-3e7d1de5fef3",
   "metadata": {},
   "source": [
    "**22.** **Question:** Write a program to check if an entered number is a perfect \n",
    "square. "
   ]
  },
  {
   "cell_type": "code",
   "execution_count": 63,
   "id": "d83ed95e-772b-47f0-8016-8bdde2975e81",
   "metadata": {},
   "outputs": [
    {
     "name": "stdin",
     "output_type": "stream",
     "text": [
      "Enter a number 81\n"
     ]
    },
    {
     "name": "stdout",
     "output_type": "stream",
     "text": [
      "Entered number 81 is a perfect square\n"
     ]
    }
   ],
   "source": [
    "import math as m\n",
    "num = int(input(\"Enter a number\"))\n",
    "if m.isqrt(num)**2 == num:\n",
    "    print('Entered number',num,'is a perfect square')\n",
    "\n",
    "else:\n",
    "    print('Entered number',num,'is not a perfect square')"
   ]
  },
  {
   "cell_type": "markdown",
   "id": "4fed9702-d97f-49cc-a554-424619b6e1bb",
   "metadata": {},
   "source": [
    "**23.** **Question:** Write a program that asks the user for a year and determines if \n",
    "it's a leap year. "
   ]
  },
  {
   "cell_type": "code",
   "execution_count": 66,
   "id": "5df15798-95f3-4c08-8e76-f7b1191c1514",
   "metadata": {},
   "outputs": [
    {
     "name": "stdin",
     "output_type": "stream",
     "text": [
      "Enter a year 2024\n"
     ]
    },
    {
     "name": "stdout",
     "output_type": "stream",
     "text": [
      "Entered year 2024 is a leap year\n"
     ]
    }
   ],
   "source": [
    "year = int(input(\"Enter a year\"))\n",
    "\n",
    "if (year % 4 == 0 and year % 100 != 0)  or year % 400 ==0:\n",
    "    print(f'Entered year {year} is a leap year')\n",
    "else:\n",
    "    print(f'Entered year {year} is not a leap year')"
   ]
  },
  {
   "cell_type": "markdown",
   "id": "0acb9206-a546-47ab-94e0-c675b3ca6b63",
   "metadata": {},
   "source": [
    "**24.** **Question:** How can you remove leading and trailing spaces from a string \n",
    "input? "
   ]
  },
  {
   "cell_type": "markdown",
   "id": "a4b20834-0d90-49c3-958c-0709c9e18b24",
   "metadata": {},
   "source": [
    "Ans- We can remove leading and trailing spaces from a string input by using .strip()"
   ]
  },
  {
   "cell_type": "code",
   "execution_count": 69,
   "id": "7d94e093-bb9a-4b73-b9ad-c4818102a2c9",
   "metadata": {},
   "outputs": [
    {
     "name": "stdin",
     "output_type": "stream",
     "text": [
      "Enter a string with having space both side              hello         \n"
     ]
    },
    {
     "name": "stdout",
     "output_type": "stream",
     "text": [
      "hello\n"
     ]
    }
   ],
   "source": [
    "user = input(\"Enter a string with having space both side\").strip()\n",
    "print(user)"
   ]
  },
  {
   "cell_type": "markdown",
   "id": "e3fc0d15-5605-472c-9825-1282026af1e2",
   "metadata": {},
   "source": [
    "**25.** **Question:** How do you handle incorrect inputs when you expect an integer \n",
    "using `input()`? "
   ]
  },
  {
   "cell_type": "code",
   "execution_count": null,
   "id": "0a8ab473-5f1c-4234-8254-c19b158edbaf",
   "metadata": {},
   "outputs": [],
   "source": []
  },
  {
   "cell_type": "markdown",
   "id": "fb54dd0d-32fb-4a10-925c-84000c0143e5",
   "metadata": {},
   "source": [
    "**27.** **Question:** How would you convert user input to lowercase using `input()`?"
   ]
  },
  {
   "cell_type": "raw",
   "id": "2b17ee8a-f17c-450a-9093-cda2b85a80ce",
   "metadata": {},
   "source": [
    "Ans- We can convert user input to lowercase by using .lower() function"
   ]
  },
  {
   "cell_type": "code",
   "execution_count": 71,
   "id": "4e10222f-4727-4f5b-a620-c3a82e7ebb5f",
   "metadata": {},
   "outputs": [
    {
     "name": "stdin",
     "output_type": "stream",
     "text": [
      "Enter a string ABCDEF\n"
     ]
    },
    {
     "name": "stdout",
     "output_type": "stream",
     "text": [
      "abcdef\n"
     ]
    }
   ],
   "source": [
    "user = input(\"Enter a string\").lower()\n",
    "print(user)"
   ]
  },
  {
   "cell_type": "markdown",
   "id": "b3e36782-0b91-490e-8d96-f2860cf6b03a",
   "metadata": {},
   "source": [
    "**28.** **Question:** Write a program that accepts a number and prints whether it is a \n",
    "multiple of 10. "
   ]
  },
  {
   "cell_type": "code",
   "execution_count": 74,
   "id": "105e23b6-22f6-4ab7-8f64-d8d628af0064",
   "metadata": {},
   "outputs": [
    {
     "name": "stdin",
     "output_type": "stream",
     "text": [
      "Enter your number 80\n"
     ]
    },
    {
     "name": "stdout",
     "output_type": "stream",
     "text": [
      "Number 80 is multiple of 10\n"
     ]
    }
   ],
   "source": [
    "num = int(input(\"Enter your number\"))\n",
    "\n",
    "if num % 10 == 0:\n",
    "    print(f\"Number {num} is multiple of 10\")\n",
    "else:\n",
    "    print(f\"Number {num} is not multiple of 10\")"
   ]
  },
  {
   "cell_type": "markdown",
   "id": "1c4d9986-252b-48f4-a5fc-c3e7f4b45e54",
   "metadata": {},
   "source": [
    "**29.** **Question:** How would you check if a string contains only alphabets using \n",
    "`input()`? "
   ]
  },
  {
   "cell_type": "markdown",
   "id": "3c7181bc-bd4a-41fb-b1c0-c36b6abf3792",
   "metadata": {},
   "source": [
    "Ans- We can use .isalpha() to check if a string contains only alphabets "
   ]
  },
  {
   "cell_type": "code",
   "execution_count": 75,
   "id": "e8f7091b-806c-4729-b9aa-fcdf96470cd6",
   "metadata": {},
   "outputs": [
    {
     "name": "stdin",
     "output_type": "stream",
     "text": [
      "Enter a string abhcjiri10\n"
     ]
    },
    {
     "name": "stdout",
     "output_type": "stream",
     "text": [
      "False\n"
     ]
    }
   ],
   "source": [
    "# 1st Method\n",
    "user = input(\"Enter a string\").isalpha()\n",
    "print(user)"
   ]
  },
  {
   "cell_type": "code",
   "execution_count": 79,
   "id": "24ce235d-7ccf-4fee-af09-3896429cb7df",
   "metadata": {},
   "outputs": [
    {
     "name": "stdin",
     "output_type": "stream",
     "text": [
      "Enter a string Hydrabad\n"
     ]
    },
    {
     "name": "stdout",
     "output_type": "stream",
     "text": [
      "Entered inputs only contains alphabets\n"
     ]
    }
   ],
   "source": [
    "# 2nd Method\n",
    "user = input(\"Enter a string\")\n",
    "if user.isalpha():\n",
    "    print(\"Entered inputs only contains alphabets\")\n",
    "else:\n",
    "    print(\"Entered inputs contains non-alphabets\")"
   ]
  },
  {
   "cell_type": "markdown",
   "id": "37f34154-b10e-4132-a1dd-2f23c9af12a9",
   "metadata": {},
   "source": [
    "**30.** **Question:** Write a program to count the number of words in a sentence \n",
    "entered by the user. "
   ]
  },
  {
   "cell_type": "code",
   "execution_count": 85,
   "id": "d7579f93-2d4b-42ff-b51a-ad7e9a1ece83",
   "metadata": {},
   "outputs": [
    {
     "name": "stdin",
     "output_type": "stream",
     "text": [
      "Enter a sentence: Python is an object oriented programming language\n"
     ]
    },
    {
     "name": "stdout",
     "output_type": "stream",
     "text": [
      "Number of words: 7\n"
     ]
    }
   ],
   "source": [
    "text = input(\"Enter a sentence:\")\n",
    "print(\"Number of words:\",len(text.split()))"
   ]
  },
  {
   "cell_type": "markdown",
   "id": "2c7585e2-81fa-4ccc-86e7-950b3bae4bb3",
   "metadata": {},
   "source": [
    "**31.** **Question:** How would you accept a date input from the user in Python?"
   ]
  },
  {
   "cell_type": "code",
   "execution_count": 87,
   "id": "4be37817-e938-4522-be27-d5560b35e4a7",
   "metadata": {},
   "outputs": [
    {
     "name": "stdin",
     "output_type": "stream",
     "text": [
      "Enter a date (YYYY-MM-DD): 1999-12-08\n"
     ]
    },
    {
     "name": "stdout",
     "output_type": "stream",
     "text": [
      "Entered date: 1999-12-08 00:00:00\n"
     ]
    }
   ],
   "source": [
    "from datetime import datetime\n",
    "date = input(\"Enter a date (YYYY-MM-DD):\")\n",
    "date = datetime.strptime(date,\"%Y-%m-%d\")\n",
    "print(\"Entered date:\",date)"
   ]
  },
  {
   "cell_type": "markdown",
   "id": "bb77911e-077b-4650-9874-6d7e36557ffb",
   "metadata": {},
   "source": [
    "**32.** **Question:** Write a program that checks if the entered number is divisible by \n",
    "both 3 and 5. "
   ]
  },
  {
   "cell_type": "code",
   "execution_count": 89,
   "id": "6517ecd2-c4c0-44b4-b82f-0b2e24801eb5",
   "metadata": {},
   "outputs": [
    {
     "name": "stdin",
     "output_type": "stream",
     "text": [
      "Enter your number 15\n"
     ]
    },
    {
     "name": "stdout",
     "output_type": "stream",
     "text": [
      "15 is divisible by both 3 and 5\n"
     ]
    }
   ],
   "source": [
    "num = int(input(\"Enter your number\"))\n",
    "if num % 3 == 0 and num % 5 == 0:\n",
    "    print(f\"{num} is divisible by both 3 and 5\")\n",
    "else:\n",
    "    print(f\"{num} is not divisible by both 3 and 5\")"
   ]
  },
  {
   "cell_type": "markdown",
   "id": "ce0a52be-c943-4f48-8e9b-00c0e62add94",
   "metadata": {},
   "source": [
    "**33.** **Question:** Write a program to swap the values of two variables using \n",
    "`input()`. "
   ]
  },
  {
   "cell_type": "code",
   "execution_count": 93,
   "id": "ae4ac84e-117f-4a58-aa79-aeebbb2f8b8c",
   "metadata": {},
   "outputs": [
    {
     "name": "stdin",
     "output_type": "stream",
     "text": [
      "Enter your 1st number 10\n",
      "Enter your 2nd number 20\n"
     ]
    },
    {
     "name": "stdout",
     "output_type": "stream",
     "text": [
      "Swapped variable:a=20,b =10\n"
     ]
    }
   ],
   "source": [
    "# 1st Method \n",
    "a = int(input(\"Enter your 1st number\"))\n",
    "b = int(input(\"Enter your 2nd number\"))\n",
    "\n",
    "a,b = b,a\n",
    "print(f\"Swapped variable:a={a},b ={b}\")"
   ]
  },
  {
   "cell_type": "code",
   "execution_count": 94,
   "id": "755f2e8f-1ccf-4877-800e-c3f259528278",
   "metadata": {},
   "outputs": [
    {
     "name": "stdin",
     "output_type": "stream",
     "text": [
      "Enter your 1st number 10\n",
      "Enter your 2nd number 20\n"
     ]
    },
    {
     "name": "stdout",
     "output_type": "stream",
     "text": [
      "Swapped variable:a=20,b =10\n"
     ]
    }
   ],
   "source": [
    "# 2nd Method (Using Operator)\n",
    "a = int(input(\"Enter your 1st number\"))\n",
    "b = int(input(\"Enter your 2nd number\"))\n",
    "\n",
    "a = a + b\n",
    "b = a - b\n",
    "a = a - b\n",
    "\n",
    "print(f\"Swapped variable:a={a},b ={b}\")"
   ]
  },
  {
   "cell_type": "code",
   "execution_count": 95,
   "id": "e130c036-0244-4a2a-91e6-4998d334a4f3",
   "metadata": {},
   "outputs": [
    {
     "name": "stdin",
     "output_type": "stream",
     "text": [
      "Enter your 1st number 20\n",
      "Enter your 2nd number 50\n"
     ]
    },
    {
     "name": "stdout",
     "output_type": "stream",
     "text": [
      "Swapped variable:a=50,b =20\n"
     ]
    }
   ],
   "source": [
    "# 3rd Method (XOR)\n",
    "a = int(input(\"Enter your 1st number\"))\n",
    "b = int(input(\"Enter your 2nd number\"))\n",
    "\n",
    "a = a ^ b\n",
    "b = a ^ b\n",
    "a = a ^ b\n",
    "\n",
    "print(f\"Swapped variable:a={a},b ={b}\")"
   ]
  },
  {
   "cell_type": "markdown",
   "id": "6f7c28a4-1398-4586-a570-9adaff941972",
   "metadata": {},
   "source": [
    "**34.** **Question:** Write a program to take user input and print it without spaces \n",
    "between words. "
   ]
  },
  {
   "cell_type": "code",
   "execution_count": 96,
   "id": "f9b40fd3-3e39-42c7-8e0b-5bdede40e4ce",
   "metadata": {},
   "outputs": [
    {
     "name": "stdin",
     "output_type": "stream",
     "text": [
      "Enter a string Data science Agentic AI\n"
     ]
    },
    {
     "name": "stdout",
     "output_type": "stream",
     "text": [
      "DatascienceAgenticAI\n"
     ]
    }
   ],
   "source": [
    "user = input(\"Enter a string\")\n",
    "print(user.replace(\" \",\"\"))"
   ]
  },
  {
   "cell_type": "markdown",
   "id": "99342396-4466-48b5-80fb-5fc4632254ab",
   "metadata": {},
   "source": [
    "**35.** **Question:** How do you validate if an entered input is a valid email address?"
   ]
  },
  {
   "cell_type": "code",
   "execution_count": 97,
   "id": "c2cec090-df69-4c8d-bf22-c52ed90e5f5b",
   "metadata": {},
   "outputs": [
    {
     "name": "stdin",
     "output_type": "stream",
     "text": [
      "Enter your Email aniket120899@gmail.com\n"
     ]
    },
    {
     "name": "stdout",
     "output_type": "stream",
     "text": [
      "Your Email is Valid\n"
     ]
    }
   ],
   "source": [
    "import re\n",
    "email = input(\"Enter your Email\")\n",
    "if re.match(r\"[^@]+@[^@]+\\.[^@]+\", email):\n",
    "    print(\"Your Email is Valid\")\n",
    "\n",
    "else:\n",
    "    print(\"Your Email is Invalid\")"
   ]
  },
  {
   "cell_type": "markdown",
   "id": "f2e9e8c7-b55e-4148-b634-c303a16fc955",
   "metadata": {},
   "source": [
    "**36.** **Question:** Write a program that accepts a number and prints its cube."
   ]
  },
  {
   "cell_type": "code",
   "execution_count": 99,
   "id": "c64796ea-3bdc-42e2-ae9e-630b7a414564",
   "metadata": {},
   "outputs": [
    {
     "name": "stdin",
     "output_type": "stream",
     "text": [
      "Enter your number 20\n"
     ]
    },
    {
     "name": "stdout",
     "output_type": "stream",
     "text": [
      "The cube of 20 is:- 8000\n"
     ]
    }
   ],
   "source": [
    "num = int(input(\"Enter your number\"))\n",
    "print(f\"The cube of {num} is:-\",num**3)"
   ]
  },
  {
   "cell_type": "markdown",
   "id": "1c68a6cb-6eac-4821-8f4f-151f3f99c324",
   "metadata": {},
   "source": [
    "**37.** **Question:** How would you accept and store multiple names from the user?"
   ]
  },
  {
   "cell_type": "code",
   "execution_count": 101,
   "id": "5711991a-b36e-42eb-9e50-ffb32df8f7de",
   "metadata": {},
   "outputs": [
    {
     "name": "stdin",
     "output_type": "stream",
     "text": [
      "Enter name seperated by commas:  Abhi,Ruhi,Ani,Sohan\n"
     ]
    },
    {
     "name": "stdout",
     "output_type": "stream",
     "text": [
      "Names [' Abhi', 'Ruhi', 'Ani', 'Sohan']\n"
     ]
    }
   ],
   "source": [
    "names = input(\"Enter name seperated by commas:\").split(\",\")\n",
    "print(\"Names\",names)"
   ]
  },
  {
   "cell_type": "markdown",
   "id": "a42b8648-2da9-4003-8da2-29055d976644",
   "metadata": {},
   "source": [
    "**38.** **Question:** How would you extract numbers from a string entered by the \n",
    "user? "
   ]
  },
  {
   "cell_type": "code",
   "execution_count": null,
   "id": "ee7fc5c5-a36a-4e01-afdb-aae4626c2c6d",
   "metadata": {},
   "outputs": [],
   "source": []
  }
 ],
 "metadata": {
  "kernelspec": {
   "display_name": "Python 3 (ipykernel)",
   "language": "python",
   "name": "python3"
  },
  "language_info": {
   "codemirror_mode": {
    "name": "ipython",
    "version": 3
   },
   "file_extension": ".py",
   "mimetype": "text/x-python",
   "name": "python",
   "nbconvert_exporter": "python",
   "pygments_lexer": "ipython3",
   "version": "3.12.7"
  }
 },
 "nbformat": 4,
 "nbformat_minor": 5
}
