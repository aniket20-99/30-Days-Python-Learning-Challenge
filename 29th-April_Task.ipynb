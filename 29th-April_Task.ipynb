{
 "cells": [
  {
   "cell_type": "markdown",
   "id": "7abe9e6b-feac-4c53-84f9-7d7902c56457",
   "metadata": {},
   "source": [
    "# Print"
   ]
  },
  {
   "cell_type": "markdown",
   "id": "74866c8f-2c24-4538-acb5-02303ad77376",
   "metadata": {},
   "source": [
    "# print() function prints the message to the screen or any other standard output device"
   ]
  },
  {
   "cell_type": "code",
   "execution_count": 1,
   "id": "e6caf959-0a40-47d1-8bb6-ab1c695886c9",
   "metadata": {},
   "outputs": [
    {
     "data": {
      "text/plain": [
       "35"
      ]
     },
     "execution_count": 1,
     "metadata": {},
     "output_type": "execute_result"
    }
   ],
   "source": [
    "a = 20\n",
    "b = 35\n",
    "a\n",
    "b"
   ]
  },
  {
   "cell_type": "code",
   "execution_count": 2,
   "id": "a079ad4f-c133-41ee-9514-47d4f75bd201",
   "metadata": {},
   "outputs": [
    {
     "name": "stdout",
     "output_type": "stream",
     "text": [
      "20\n",
      "15\n"
     ]
    }
   ],
   "source": [
    "a = 20\n",
    "b = 15\n",
    "print(a)\n",
    "print(b)"
   ]
  },
  {
   "cell_type": "code",
   "execution_count": 5,
   "id": "a76aa645-248b-4ff6-9920-167e8431f315",
   "metadata": {},
   "outputs": [
    {
     "name": "stdout",
     "output_type": "stream",
     "text": [
      "10\n",
      "10 20\n",
      "python\n",
      "10 20 python\n"
     ]
    }
   ],
   "source": [
    "print(10)\n",
    "print(10,20)\n",
    "print('python')\n",
    "print(10,20,'python')"
   ]
  },
  {
   "cell_type": "code",
   "execution_count": 6,
   "id": "c1de9048-34a9-4630-9ac2-6b5183901af0",
   "metadata": {},
   "outputs": [
    {
     "name": "stdout",
     "output_type": "stream",
     "text": [
      "70\n"
     ]
    }
   ],
   "source": [
    "num1 = 30\n",
    "num2 = 40\n",
    "add = num1 + num2\n",
    "print(add)"
   ]
  },
  {
   "cell_type": "markdown",
   "id": "101a591e-2c98-474c-9a8f-a7cc5134d27b",
   "metadata": {},
   "source": [
    "## Print result with string"
   ]
  },
  {
   "cell_type": "code",
   "execution_count": 9,
   "id": "6bcd1bd1-d4e1-4c2c-bb2b-be06695bc984",
   "metadata": {},
   "outputs": [
    {
     "name": "stdout",
     "output_type": "stream",
     "text": [
      "The addition of 20 and 30 is = 50\n"
     ]
    }
   ],
   "source": [
    "num1 = 20\n",
    "num2 = 30\n",
    "add = num1 + num2\n",
    "print('The addition of',num1,'and',num2,'is =',add)"
   ]
  },
  {
   "cell_type": "code",
   "execution_count": 10,
   "id": "95f729d4-5117-4390-98f9-09b34f49013d",
   "metadata": {},
   "outputs": [
    {
     "name": "stdout",
     "output_type": "stream",
     "text": [
      "My name is Aniket and i am 35 years old from city hydrabad\n"
     ]
    }
   ],
   "source": [
    "name = 'Aniket'\n",
    "age = 35\n",
    "city = 'hydrabad'\n",
    "print('My name is',name,'and i am',age,'years old from city',city)"
   ]
  },
  {
   "cell_type": "markdown",
   "id": "13db7489-8252-4233-93fe-ad6ca9587941",
   "metadata": {},
   "source": [
    "## print format method"
   ]
  },
  {
   "cell_type": "code",
   "execution_count": 12,
   "id": "0bf9aba1-0d7a-4515-8925-7d747f1b37a6",
   "metadata": {},
   "outputs": [
    {
     "name": "stdout",
     "output_type": "stream",
     "text": [
      "The addition of 55 and 45 is = 100\n"
     ]
    }
   ],
   "source": [
    "num1 = 55\n",
    "num2 = 45\n",
    "add = num1 + num2\n",
    "print('The addition of {} and {} is = {}'.format(num1,num2,add))"
   ]
  },
  {
   "cell_type": "markdown",
   "id": "ca4c0c3d-2e56-4a1d-97da-ea1149f91c45",
   "metadata": {},
   "source": [
    "* first decide how the print statement should be\n",
    "* like:- The addition of 55 and 45 is = 100\n",
    "* Then replace the variable position with curly bracket {}\n",
    "* Then apply .format(val1,val2,....val-nth method)\n",
    "  "
   ]
  },
  {
   "cell_type": "code",
   "execution_count": 13,
   "id": "06da5a56-4f19-4b1c-b51c-246ae4a934a5",
   "metadata": {},
   "outputs": [
    {
     "name": "stdout",
     "output_type": "stream",
     "text": [
      "Hello my name is Aniket i am 25 years old from city Hydrabad\n"
     ]
    }
   ],
   "source": [
    "name = 'Aniket'\n",
    "age = 25\n",
    "city = 'Hydrabad'\n",
    "\n",
    "print('Hello my name is {} i am {} years old from city {}'.format(name,age,city))"
   ]
  },
  {
   "cell_type": "code",
   "execution_count": 19,
   "id": "b89683ca-ee9a-4423-818b-084bdb0d217e",
   "metadata": {},
   "outputs": [
    {
     "name": "stdout",
     "output_type": "stream",
     "text": [
      "The average of 50,30 and 20 is 33.333333333333336 or 33.33\n"
     ]
    }
   ],
   "source": [
    "num1 = 50\n",
    "num2 = 30\n",
    "num3 = 20\n",
    "avg = (num1 + num2 + num3)/3\n",
    "avg1 = round((num1 + num2 + num3)/3,2)\n",
    "\n",
    "print('The average of {},{} and {} is {} or {}'.format(num1,num2,num3,avg,avg1))"
   ]
  },
  {
   "cell_type": "code",
   "execution_count": 18,
   "id": "e8b9ff90-57ec-4120-a70a-5267a295774a",
   "metadata": {},
   "outputs": [
    {
     "name": "stdout",
     "output_type": "stream",
     "text": [
      "The average of 50,30 and 20 is 33.333333333333336 or 33.33\n"
     ]
    }
   ],
   "source": [
    "num1 = 50\n",
    "num2 = 30\n",
    "num3 = 20\n",
    "avg = (num1 + num2 + num3)/3\n",
    "avg1 = round((num1 + num2 + num3)/3,2)\n",
    "print(f'The average of {num1},{num2} and {num3} is {avg} or {avg1}')"
   ]
  },
  {
   "cell_type": "code",
   "execution_count": 21,
   "id": "e525a4d0-60b4-4779-b485-ec586ac75d53",
   "metadata": {},
   "outputs": [
    {
     "name": "stdout",
     "output_type": "stream",
     "text": [
      "The addition of 15 and 25 is = 40\n",
      "The addition of 15 and 25 is = 40\n",
      "The addition of 15 and 25 is = 40\n"
     ]
    }
   ],
   "source": [
    "# Let's combine all types of formating\n",
    "num1 = 15\n",
    "num2 = 25\n",
    "add = num1 + num2\n",
    "print('The addition of',num1,'and',num2,'is =',add)\n",
    "print('The addition of {} and {} is = {}'.format(num1,num2,add))\n",
    "print(f'The addition of {num1} and {num2} is = {add}')"
   ]
  },
  {
   "cell_type": "markdown",
   "id": "3c3231ba-812c-4259-8546-f1e444045989",
   "metadata": {},
   "source": [
    "# end statement"
   ]
  },
  {
   "cell_type": "code",
   "execution_count": 22,
   "id": "349f83fb-872a-4732-bc1b-c17ac1d7365f",
   "metadata": {},
   "outputs": [
    {
     "name": "stdout",
     "output_type": "stream",
     "text": [
      "Hello\n",
      "Good morning\n"
     ]
    }
   ],
   "source": [
    "print('Hello')\n",
    "print('Good morning')\n",
    "\n",
    "# print like:- Hello Good morning -- > use end statement"
   ]
  },
  {
   "cell_type": "code",
   "execution_count": 23,
   "id": "15a61a89-282a-4bf7-a09b-77b387f42de9",
   "metadata": {},
   "outputs": [
    {
     "name": "stdout",
     "output_type": "stream",
     "text": [
      "Hello Good morning\n"
     ]
    }
   ],
   "source": [
    "print('Hello',end = ' ') #1st Statement\n",
    "print('Good morning') #2nd Statement"
   ]
  },
  {
   "cell_type": "markdown",
   "id": "76002f53-8e3c-429e-a647-75a933e93b3e",
   "metadata": {},
   "source": [
    "### Seperator\n",
    "* Here we can use only one print statement\n",
    "* Inside one print statement we have multiple values\n",
    "* we want to seperate these multiple values with anything"
   ]
  },
  {
   "cell_type": "code",
   "execution_count": 26,
   "id": "06282a26-ac6f-4e91-9ef3-58217a9cd43e",
   "metadata": {},
   "outputs": [
    {
     "name": "stdout",
     "output_type": "stream",
     "text": [
      "Hello --> hi --> How are you\n"
     ]
    }
   ],
   "source": [
    "print('Hello','hi','How are you',sep = ' --> ')"
   ]
  },
  {
   "cell_type": "code",
   "execution_count": 28,
   "id": "69369888-6e05-4bdb-9205-2a1d08e19fbd",
   "metadata": {},
   "outputs": [
    {
     "name": "stdout",
     "output_type": "stream",
     "text": [
      "Hello @ hi @ How are you\n"
     ]
    }
   ],
   "source": [
    "print('Hello','hi','How are you',sep = ' @ ')"
   ]
  },
  {
   "cell_type": "code",
   "execution_count": 31,
   "id": "277e3d40-a195-4cd1-a724-e7bdf5287ed2",
   "metadata": {},
   "outputs": [
    {
     "name": "stdout",
     "output_type": "stream",
     "text": [
      "Hello hi How are you\n"
     ]
    }
   ],
   "source": [
    "print('Hello','hi','How are you',sep = ' ')"
   ]
  },
  {
   "cell_type": "code",
   "execution_count": 32,
   "id": "67577fb7-5bb8-4e32-83ca-ba88882cf371",
   "metadata": {},
   "outputs": [
    {
     "name": "stdout",
     "output_type": "stream",
     "text": [
      "3 .\n"
     ]
    }
   ],
   "source": [
    "print(3,'.')"
   ]
  },
  {
   "cell_type": "code",
   "execution_count": 33,
   "id": "ae6b5b57-e50c-4cbc-afb9-39b87c8d7164",
   "metadata": {},
   "outputs": [
    {
     "name": "stdout",
     "output_type": "stream",
     "text": [
      "3.\n"
     ]
    }
   ],
   "source": [
    "print(3,'.',sep = '')"
   ]
  },
  {
   "cell_type": "code",
   "execution_count": 38,
   "id": "e324bc28-a2fa-4809-a706-9c12e9eb52c7",
   "metadata": {},
   "outputs": [
    {
     "name": "stdout",
     "output_type": "stream",
     "text": [
      "1 23.\n"
     ]
    }
   ],
   "source": [
    "print(1,2,end = '')\n",
    "print(3,'.',sep = '')"
   ]
  },
  {
   "cell_type": "markdown",
   "id": "4b25b4f1-84e3-4548-a6d3-1a96f9aaaad2",
   "metadata": {},
   "source": [
    "# Strings Manipulation"
   ]
  },
  {
   "cell_type": "markdown",
   "id": "df707f3b-ec5e-4e18-bcfb-6479312c6eac",
   "metadata": {},
   "source": [
    "### Escape characters\n",
    "* An escape character is created by typing backlash '\\' followed by the character you want to insert."
   ]
  },
  {
   "cell_type": "markdown",
   "id": "859481ea-d199-40d2-8c5f-37ffaf795675",
   "metadata": {},
   "source": [
    "| Escape character | Prints as         |\n",
    "|------------------|-------------------|\n",
    "| `\\'`             | Single quote      |\n",
    "| `\\\"`             | Double quote      |\n",
    "| `\\t`             | Tab               |\n",
    "| `\\n`             | Newline (line break) |\n",
    "| `\\\\`             | Backslash         |\n",
    "| `\\b`             | Backspace         |\n",
    "| `\\ooo`           | Octal value       |\n",
    "| `\\r`             | Carriage Return   |"
   ]
  },
  {
   "cell_type": "code",
   "execution_count": 41,
   "id": "745ae744-8028-4266-b57a-ed2aa3bfbc7c",
   "metadata": {},
   "outputs": [
    {
     "name": "stdout",
     "output_type": "stream",
     "text": [
      "Hello there!\n",
      "How are you?\n",
      "I'm doing fine.\n"
     ]
    }
   ],
   "source": [
    "print(\"Hello there!\\nHow are you?\\nI\\'m doing fine.\")"
   ]
  },
  {
   "cell_type": "markdown",
   "id": "6ab14202-dc21-4169-883c-805a6a3fb242",
   "metadata": {},
   "source": [
    "## Raw string\n",
    "* A raw string entirely ignores all escape characters and prints any backlash that appears in the string.\n"
   ]
  },
  {
   "cell_type": "code",
   "execution_count": 42,
   "id": "810cb346-9532-4a18-8155-8856265e943c",
   "metadata": {},
   "outputs": [
    {
     "name": "stdout",
     "output_type": "stream",
     "text": [
      "Hello there!\\nHow are you?\\nI\\'m doing fine\n"
     ]
    }
   ],
   "source": [
    "print(r\"Hello there!\\nHow are you?\\nI\\'m doing fine\")"
   ]
  },
  {
   "cell_type": "markdown",
   "id": "49a39d00-f2ef-472a-b9a3-a0e83198c939",
   "metadata": {},
   "source": [
    "* Raw strings are mostly used for regular expression definition.\n",
    "* A **regular expression** (shortened as regex [...]) is a sequence of characters that specifies a search pattern in text. [...] used by string-searching algorithms for \"find\" or \"find and replace\" operations on strings, or for input validation."
   ]
  },
  {
   "cell_type": "markdown",
   "id": "43a7afae-f68d-4770-90ae-18627919a046",
   "metadata": {},
   "source": [
    "# Multiline Strings"
   ]
  },
  {
   "cell_type": "code",
   "execution_count": 43,
   "id": "d3b4019b-3171-4244-8d25-af23fde83079",
   "metadata": {},
   "outputs": [
    {
     "name": "stdout",
     "output_type": "stream",
     "text": [
      "Dear Alisa\n",
      "     Eve's cat has been arrested for catnapping,\n",
      "     cat burglary, and extortion.\n",
      "\n",
      "     Sincerely,\n",
      "     Bob\n"
     ]
    }
   ],
   "source": [
    "print('''Dear Alisa\n",
    "     Eve's cat has been arrested for catnapping,\n",
    "     cat burglary, and extortion.\n",
    "\n",
    "     Sincerely,\n",
    "     Bob'''\n",
    "     )"
   ]
  },
  {
   "cell_type": "markdown",
   "id": "d84beb2f-3762-40e7-b893-ee32e9db85cb",
   "metadata": {},
   "source": [
    "# Indexing and Slicing strings"
   ]
  },
  {
   "cell_type": "raw",
   "id": "e695c601-e1cf-4596-9f61-cf79fb17bc97",
   "metadata": {},
   "source": [
    "H   e   l   l   o       w   o   r   l   d   !\n",
    "0   1   2   3   4   5   6   7   8   9   10  11"
   ]
  },
  {
   "cell_type": "markdown",
   "id": "a46a2469-c90d-4fc1-96a8-d10fa9d0a97a",
   "metadata": {},
   "source": [
    "### Indexing"
   ]
  },
  {
   "cell_type": "code",
   "execution_count": 45,
   "id": "1ca91696-58e9-47e0-bf95-79cc8302b177",
   "metadata": {},
   "outputs": [
    {
     "data": {
      "text/plain": [
       "'H'"
      ]
     },
     "execution_count": 45,
     "metadata": {},
     "output_type": "execute_result"
    }
   ],
   "source": [
    "str = 'Hello world!'\n",
    "str[0]"
   ]
  },
  {
   "cell_type": "code",
   "execution_count": 46,
   "id": "f6965a2d-2291-4a88-8a05-d84da83629ad",
   "metadata": {},
   "outputs": [
    {
     "data": {
      "text/plain": [
       "'o'"
      ]
     },
     "execution_count": 46,
     "metadata": {},
     "output_type": "execute_result"
    }
   ],
   "source": [
    "str[4]"
   ]
  },
  {
   "cell_type": "code",
   "execution_count": 47,
   "id": "9d968fc4-a5e6-4652-bfde-bea8a8e6cbba",
   "metadata": {},
   "outputs": [
    {
     "data": {
      "text/plain": [
       "'!'"
      ]
     },
     "execution_count": 47,
     "metadata": {},
     "output_type": "execute_result"
    }
   ],
   "source": [
    "str[-1]"
   ]
  },
  {
   "cell_type": "markdown",
   "id": "5000eada-1756-4750-9ec6-f570731a18ed",
   "metadata": {},
   "source": [
    "### Slicing "
   ]
  },
  {
   "cell_type": "code",
   "execution_count": 48,
   "id": "e82c2af4-af54-4730-b91d-b3559f2c098b",
   "metadata": {},
   "outputs": [
    {
     "data": {
      "text/plain": [
       "'Hello Aniket'"
      ]
     },
     "execution_count": 48,
     "metadata": {},
     "output_type": "execute_result"
    }
   ],
   "source": [
    "str = \"Hello Aniket\"\n",
    "str[0:]"
   ]
  },
  {
   "cell_type": "code",
   "execution_count": 52,
   "id": "e4044959-c440-4114-b51b-4d97a2fd042d",
   "metadata": {},
   "outputs": [
    {
     "data": {
      "text/plain": [
       "'Ani'"
      ]
     },
     "execution_count": 52,
     "metadata": {},
     "output_type": "execute_result"
    }
   ],
   "source": [
    "str[-6:-3]"
   ]
  },
  {
   "cell_type": "code",
   "execution_count": 53,
   "id": "c1cde74a-6770-4073-8a6a-74e4481fb589",
   "metadata": {},
   "outputs": [
    {
     "data": {
      "text/plain": [
       "12"
      ]
     },
     "execution_count": 53,
     "metadata": {},
     "output_type": "execute_result"
    }
   ],
   "source": [
    "len(str)"
   ]
  },
  {
   "cell_type": "code",
   "execution_count": 60,
   "id": "b4fdf683-bd3e-45cb-b42c-e78cdd632d6e",
   "metadata": {},
   "outputs": [
    {
     "data": {
      "text/plain": [
       "'tekinA olleH'"
      ]
     },
     "execution_count": 60,
     "metadata": {},
     "output_type": "execute_result"
    }
   ],
   "source": [
    "str[::-1]"
   ]
  },
  {
   "cell_type": "markdown",
   "id": "bedac98b-4017-4c84-999f-3be37ed0945c",
   "metadata": {},
   "source": [
    "# The in and not in operators"
   ]
  },
  {
   "cell_type": "code",
   "execution_count": 61,
   "id": "3eb9dad5-c691-4ddb-9a57-5e19ded13ae8",
   "metadata": {},
   "outputs": [
    {
     "data": {
      "text/plain": [
       "True"
      ]
     },
     "execution_count": 61,
     "metadata": {},
     "output_type": "execute_result"
    }
   ],
   "source": [
    "'Hello' in \"Hello world\""
   ]
  },
  {
   "cell_type": "code",
   "execution_count": 62,
   "id": "ff131b0f-4f88-4e47-8f44-8b0d861fc1ee",
   "metadata": {},
   "outputs": [
    {
     "data": {
      "text/plain": [
       "True"
      ]
     },
     "execution_count": 62,
     "metadata": {},
     "output_type": "execute_result"
    }
   ],
   "source": [
    "'H' in 'Hello'"
   ]
  },
  {
   "cell_type": "code",
   "execution_count": 64,
   "id": "eb60ecd8-de06-404c-90e5-bf90e4cbb25d",
   "metadata": {},
   "outputs": [
    {
     "data": {
      "text/plain": [
       "True"
      ]
     },
     "execution_count": 64,
     "metadata": {},
     "output_type": "execute_result"
    }
   ],
   "source": [
    "'' in 'spam'\n"
   ]
  },
  {
   "cell_type": "code",
   "execution_count": 66,
   "id": "79a526fe-9716-40ce-a29f-2b905e46e70d",
   "metadata": {},
   "outputs": [
    {
     "data": {
      "text/plain": [
       "False"
      ]
     },
     "execution_count": 66,
     "metadata": {},
     "output_type": "execute_result"
    }
   ],
   "source": [
    "'he' not in 'hello'"
   ]
  },
  {
   "cell_type": "markdown",
   "id": "d77b582b-8d84-4253-9fd2-b40b452afa69",
   "metadata": {},
   "source": [
    "# Upper(),lower() and title()\n",
    "### Transforms a string to upper,lower and ttile case:"
   ]
  },
  {
   "cell_type": "code",
   "execution_count": 67,
   "id": "960d65ae-7c4a-4c15-b6bc-a19043aeb8c0",
   "metadata": {},
   "outputs": [
    {
     "data": {
      "text/plain": [
       "'HELLO WORLD!'"
      ]
     },
     "execution_count": 67,
     "metadata": {},
     "output_type": "execute_result"
    }
   ],
   "source": [
    "greet = 'Hello world!'\n",
    "greet.upper()"
   ]
  },
  {
   "cell_type": "code",
   "execution_count": 68,
   "id": "bc879acb-d37e-4fa9-b3d9-2d7421a42311",
   "metadata": {},
   "outputs": [
    {
     "data": {
      "text/plain": [
       "'hello world!'"
      ]
     },
     "execution_count": 68,
     "metadata": {},
     "output_type": "execute_result"
    }
   ],
   "source": [
    "greet.lower()"
   ]
  },
  {
   "cell_type": "code",
   "execution_count": 69,
   "id": "52167820-22eb-41c2-a662-26970dd94971",
   "metadata": {},
   "outputs": [
    {
     "data": {
      "text/plain": [
       "'Hello World!'"
      ]
     },
     "execution_count": 69,
     "metadata": {},
     "output_type": "execute_result"
    }
   ],
   "source": [
    "greet.title()"
   ]
  },
  {
   "cell_type": "markdown",
   "id": "2bbd6c28-5f90-44be-bad7-b3c6d5b285e0",
   "metadata": {},
   "source": [
    "# isuper() and islower() methods\n",
    "### Returns 'True' or 'False' after evaluating if a string is in upper or lower case:"
   ]
  },
  {
   "cell_type": "code",
   "execution_count": 70,
   "id": "b1515574-89b3-4c0f-b226-ae40dccbbd21",
   "metadata": {},
   "outputs": [
    {
     "data": {
      "text/plain": [
       "False"
      ]
     },
     "execution_count": 70,
     "metadata": {},
     "output_type": "execute_result"
    }
   ],
   "source": [
    "spam = 'Hello world!'\n",
    "spam.islower()"
   ]
  },
  {
   "cell_type": "code",
   "execution_count": 71,
   "id": "a72bf9ff-2948-4acb-bbb2-302ac14e3bed",
   "metadata": {},
   "outputs": [
    {
     "data": {
      "text/plain": [
       "False"
      ]
     },
     "execution_count": 71,
     "metadata": {},
     "output_type": "execute_result"
    }
   ],
   "source": [
    "spam.isupper()"
   ]
  },
  {
   "cell_type": "code",
   "execution_count": 72,
   "id": "d2f8e8b8-0e7b-4013-a387-028c0dec5f42",
   "metadata": {},
   "outputs": [
    {
     "data": {
      "text/plain": [
       "True"
      ]
     },
     "execution_count": 72,
     "metadata": {},
     "output_type": "execute_result"
    }
   ],
   "source": [
    "'HELLO' .isupper()"
   ]
  },
  {
   "cell_type": "code",
   "execution_count": 73,
   "id": "fcb15157-66f2-4f96-aac8-c6c290696967",
   "metadata": {},
   "outputs": [
    {
     "data": {
      "text/plain": [
       "True"
      ]
     },
     "execution_count": 73,
     "metadata": {},
     "output_type": "execute_result"
    }
   ],
   "source": [
    "'hello'.islower()"
   ]
  },
  {
   "cell_type": "code",
   "execution_count": 74,
   "id": "a5dd7856-59da-4dac-bd80-a7f753531289",
   "metadata": {},
   "outputs": [
    {
     "data": {
      "text/plain": [
       "True"
      ]
     },
     "execution_count": 74,
     "metadata": {},
     "output_type": "execute_result"
    }
   ],
   "source": [
    "'12345'.isalnum()"
   ]
  },
  {
   "cell_type": "code",
   "execution_count": 75,
   "id": "62fd8362-02a9-4440-9a2d-5377351fe96b",
   "metadata": {},
   "outputs": [
    {
     "data": {
      "text/plain": [
       "True"
      ]
     },
     "execution_count": 75,
     "metadata": {},
     "output_type": "execute_result"
    }
   ],
   "source": [
    "'1234'.isalnum()"
   ]
  },
  {
   "cell_type": "code",
   "execution_count": 76,
   "id": "e5aba34c-fb4a-4081-b6a6-29759e696c65",
   "metadata": {},
   "outputs": [
    {
     "data": {
      "text/plain": [
       "False"
      ]
     },
     "execution_count": 76,
     "metadata": {},
     "output_type": "execute_result"
    }
   ],
   "source": [
    "'12345' .islower()"
   ]
  },
  {
   "cell_type": "markdown",
   "id": "5ac90b32-5cca-4568-9ac5-c653c5040e0f",
   "metadata": {},
   "source": [
    "# The isX string methods\n",
    "\n",
    "      Method             | Description\n",
    "|------------------------|------------------------------------------------------------------------------------------------------------|\n",
    "\n",
    "| `isalpha()`-------     | Returns `True` if the string consists only of letters.                                                    |\n",
    "\n",
    "| `isalnum()`            | Returns `True` if the string consists only of letters and numbers.                                         |\n",
    "| `isdecimal()`          | Returns `True` if the string consists only of numbers.                                                    |\n",
    "| `isspace()`            | Returns `True` if the string consists only of spaces, tabs, and new-lines.                                |\n",
    "| `istitle()`            | Returns `True` if the string consists only of words that begin with an uppercase letter followed by only lowercase characters. |"
   ]
  },
  {
   "cell_type": "markdown",
   "id": "235c9fc7-ca1c-4b92-a7e3-bd0f745eca5c",
   "metadata": {},
   "source": [
    "# Startswith() and endswith()"
   ]
  },
  {
   "cell_type": "code",
   "execution_count": 80,
   "id": "3ce19016-2c74-4a4b-9e85-b6433193e4ec",
   "metadata": {},
   "outputs": [
    {
     "data": {
      "text/plain": [
       "True"
      ]
     },
     "execution_count": 80,
     "metadata": {},
     "output_type": "execute_result"
    }
   ],
   "source": [
    "'Hello world!' .startswith('Hello')"
   ]
  },
  {
   "cell_type": "code",
   "execution_count": 84,
   "id": "b23ffe73-ba26-4a55-b6c1-7c8550e9930e",
   "metadata": {},
   "outputs": [
    {
     "data": {
      "text/plain": [
       "True"
      ]
     },
     "execution_count": 84,
     "metadata": {},
     "output_type": "execute_result"
    }
   ],
   "source": [
    "'Hello world!'.endswith('world!')"
   ]
  },
  {
   "cell_type": "markdown",
   "id": "99b43ba7-5735-43ca-8a21-ca696c90044d",
   "metadata": {},
   "source": [
    "# Join() and split()"
   ]
  },
  {
   "cell_type": "markdown",
   "id": "c3f8417e-cfa7-458a-a577-e5d9a03cc28a",
   "metadata": {},
   "source": [
    "### Join()\n",
    "* The ***join()*** method takes all the items in an iterable, like a list, dictionary, tuple or set, and joins them into a string. we can also specify a seperator"
   ]
  },
  {
   "cell_type": "code",
   "execution_count": 87,
   "id": "22b26385-cbb3-4d2b-be8a-bc3cd4d906be",
   "metadata": {},
   "outputs": [
    {
     "data": {
      "text/plain": [
       "'MynameisAniket'"
      ]
     },
     "execution_count": 87,
     "metadata": {},
     "output_type": "execute_result"
    }
   ],
   "source": [
    "# Join() methods using seperator\n",
    "''.join(['My','name','is','Aniket'])"
   ]
  },
  {
   "cell_type": "code",
   "execution_count": 88,
   "id": "9a380582-1bef-470d-8499-a8c6b80cd3cd",
   "metadata": {},
   "outputs": [
    {
     "data": {
      "text/plain": [
       "'My name is Aniket'"
      ]
     },
     "execution_count": 88,
     "metadata": {},
     "output_type": "execute_result"
    }
   ],
   "source": [
    "' '.join(['My','name','is','Aniket'])"
   ]
  },
  {
   "cell_type": "code",
   "execution_count": 91,
   "id": "c94a2498-2b4c-4adb-bcfd-cc36c9ed8c11",
   "metadata": {},
   "outputs": [
    {
     "data": {
      "text/plain": [
       "'My-name-is-Aniket'"
      ]
     },
     "execution_count": 91,
     "metadata": {},
     "output_type": "execute_result"
    }
   ],
   "source": [
    "'-'.join(['My','name','is','Aniket'])"
   ]
  },
  {
   "cell_type": "code",
   "execution_count": 92,
   "id": "1303f974-7399-4179-9d2e-533d46f43dc4",
   "metadata": {},
   "outputs": [
    {
     "data": {
      "text/plain": [
       "'My abc name abc is abc Aniket'"
      ]
     },
     "execution_count": 92,
     "metadata": {},
     "output_type": "execute_result"
    }
   ],
   "source": [
    "' abc '.join(['My','name','is','Aniket'])"
   ]
  },
  {
   "cell_type": "markdown",
   "id": "5f1ba860-3d79-47d2-a1b3-f997c2ad43bc",
   "metadata": {},
   "source": [
    "# Split()\n",
    "* The **split()** method splits a **string** into **list**.\n",
    "* But by default, it will use whitespace to seperate the items, but we can also set another character of choice"
   ]
  },
  {
   "cell_type": "code",
   "execution_count": 93,
   "id": "b4f54e0d-662c-4e65-82f8-86bceccf44f7",
   "metadata": {},
   "outputs": [
    {
     "data": {
      "text/plain": [
       "['My', 'name', 'is', 'aniket']"
      ]
     },
     "execution_count": 93,
     "metadata": {},
     "output_type": "execute_result"
    }
   ],
   "source": [
    "'My name is aniket'.split()"
   ]
  },
  {
   "cell_type": "code",
   "execution_count": 94,
   "id": "204a66b1-ad06-4c8c-9004-da420a833558",
   "metadata": {},
   "outputs": [
    {
     "data": {
      "text/plain": [
       "['My name is aniket']"
      ]
     },
     "execution_count": 94,
     "metadata": {},
     "output_type": "execute_result"
    }
   ],
   "source": [
    "'My name is aniket'.split('abc')"
   ]
  },
  {
   "cell_type": "code",
   "execution_count": 95,
   "id": "85f252d9-36d1-486d-9be6-0936bba7d3f9",
   "metadata": {},
   "outputs": [
    {
     "data": {
      "text/plain": [
       "['My n', 'me is ', 'niket']"
      ]
     },
     "execution_count": 95,
     "metadata": {},
     "output_type": "execute_result"
    }
   ],
   "source": [
    "'My name is aniket'.split('a')"
   ]
  },
  {
   "cell_type": "code",
   "execution_count": 96,
   "id": "505d8a39-d5cb-4d75-9e6f-b0a35b1a886e",
   "metadata": {},
   "outputs": [
    {
     "data": {
      "text/plain": [
       "['My na', 'e is aniket']"
      ]
     },
     "execution_count": 96,
     "metadata": {},
     "output_type": "execute_result"
    }
   ],
   "source": [
    "'My name is aniket'.split('m')"
   ]
  },
  {
   "cell_type": "markdown",
   "id": "9975b24e-798e-4d82-845d-b036e85606cf",
   "metadata": {},
   "source": [
    "# Justifying text with rjust(),ljust() and center()"
   ]
  },
  {
   "cell_type": "code",
   "execution_count": 97,
   "id": "9cc0a81e-ad9d-4e90-84b8-280cbaed2b22",
   "metadata": {},
   "outputs": [
    {
     "data": {
      "text/plain": [
       "'     Hello'"
      ]
     },
     "execution_count": 97,
     "metadata": {},
     "output_type": "execute_result"
    }
   ],
   "source": [
    "'Hello'.rjust(10)"
   ]
  },
  {
   "cell_type": "code",
   "execution_count": 99,
   "id": "093c6248-78fd-4302-8194-aff3fac4bf98",
   "metadata": {},
   "outputs": [
    {
     "data": {
      "text/plain": [
       "'               Hello'"
      ]
     },
     "execution_count": 99,
     "metadata": {},
     "output_type": "execute_result"
    }
   ],
   "source": [
    "'Hello'.rjust(20)"
   ]
  },
  {
   "cell_type": "code",
   "execution_count": 100,
   "id": "9514a054-05c8-4bfe-b29c-6f1603efabe3",
   "metadata": {},
   "outputs": [
    {
     "data": {
      "text/plain": [
       "'Hello     '"
      ]
     },
     "execution_count": 100,
     "metadata": {},
     "output_type": "execute_result"
    }
   ],
   "source": [
    "'Hello'.ljust(10)"
   ]
  },
  {
   "cell_type": "code",
   "execution_count": 101,
   "id": "1e951d53-12db-4e68-8c50-60a7e09aa7a8",
   "metadata": {},
   "outputs": [
    {
     "data": {
      "text/plain": [
       "'Hello               '"
      ]
     },
     "execution_count": 101,
     "metadata": {},
     "output_type": "execute_result"
    }
   ],
   "source": [
    "'Hello'.ljust(20)"
   ]
  },
  {
   "cell_type": "code",
   "execution_count": 104,
   "id": "d5c5ca98-05ce-4a55-bac9-9777c9cb2a78",
   "metadata": {},
   "outputs": [
    {
     "data": {
      "text/plain": [
       "'            Hello             '"
      ]
     },
     "execution_count": 104,
     "metadata": {},
     "output_type": "execute_result"
    }
   ],
   "source": [
    "'Hello'.center(30)"
   ]
  },
  {
   "cell_type": "markdown",
   "id": "65a2a917-5e8a-4c68-b823-0c1b3ce5f250",
   "metadata": {},
   "source": [
    "An optional second argument to **rjust()** and **ljust()** will specify a fill character apart from a space character:"
   ]
  },
  {
   "cell_type": "code",
   "execution_count": 109,
   "id": "dcda9ab7-bb0d-4287-91bf-c65387bc4857",
   "metadata": {},
   "outputs": [
    {
     "data": {
      "text/plain": [
       "'*****Hello'"
      ]
     },
     "execution_count": 109,
     "metadata": {},
     "output_type": "execute_result"
    }
   ],
   "source": [
    "'Hello'.rjust(10,'*')"
   ]
  },
  {
   "cell_type": "code",
   "execution_count": 112,
   "id": "1ec70299-d368-4f90-82ea-fba3047af06f",
   "metadata": {},
   "outputs": [
    {
     "data": {
      "text/plain": [
       "'Hello ++++++++++++++'"
      ]
     },
     "execution_count": 112,
     "metadata": {},
     "output_type": "execute_result"
    }
   ],
   "source": [
    "'Hello '.ljust(20,'+')"
   ]
  },
  {
   "cell_type": "code",
   "execution_count": 114,
   "id": "e19adaa0-e820-46ac-8e5a-c127d8755203",
   "metadata": {},
   "outputs": [
    {
     "data": {
      "text/plain": [
       "'====== Hello ======='"
      ]
     },
     "execution_count": 114,
     "metadata": {},
     "output_type": "execute_result"
    }
   ],
   "source": [
    "' Hello '.center(20,'=')"
   ]
  },
  {
   "cell_type": "markdown",
   "id": "f7581b29-9cb8-40eb-8f40-bc63407ddf36",
   "metadata": {},
   "source": [
    "## Removing whitespace with strip(),rstrip(),lstrip()"
   ]
  },
  {
   "cell_type": "code",
   "execution_count": 115,
   "id": "aca8069d-278a-46e6-823d-ac6ae7c2efb3",
   "metadata": {},
   "outputs": [
    {
     "data": {
      "text/plain": [
       "'Hello world!'"
      ]
     },
     "execution_count": 115,
     "metadata": {},
     "output_type": "execute_result"
    }
   ],
   "source": [
    "spam = '     Hello world!     '\n",
    "spam.strip()"
   ]
  },
  {
   "cell_type": "code",
   "execution_count": 116,
   "id": "883b6b37-1852-4d85-b838-636a30208d45",
   "metadata": {},
   "outputs": [
    {
     "data": {
      "text/plain": [
       "'Hello world!     '"
      ]
     },
     "execution_count": 116,
     "metadata": {},
     "output_type": "execute_result"
    }
   ],
   "source": [
    "spam.lstrip()"
   ]
  },
  {
   "cell_type": "code",
   "execution_count": 117,
   "id": "ef3cbd9a-cf7e-4088-aefe-db82ccb64c4f",
   "metadata": {},
   "outputs": [
    {
     "data": {
      "text/plain": [
       "'     Hello world!'"
      ]
     },
     "execution_count": 117,
     "metadata": {},
     "output_type": "execute_result"
    }
   ],
   "source": [
    "spam.rstrip()"
   ]
  },
  {
   "cell_type": "code",
   "execution_count": 138,
   "id": "2f808c89-c00e-4810-b2be-9b9a5529cc42",
   "metadata": {},
   "outputs": [
    {
     "data": {
      "text/plain": [
       "'BaconSpamEggs'"
      ]
     },
     "execution_count": 138,
     "metadata": {},
     "output_type": "execute_result"
    }
   ],
   "source": [
    "spam = 'SpamSpamBaconSpamEggsSpamSpam'\n",
    "spam.strip('ampS')"
   ]
  },
  {
   "cell_type": "markdown",
   "id": "c069bf15-8622-4775-9668-4a28bd54144e",
   "metadata": {},
   "source": [
    "# The Count Method\n",
    "* Counts the number of occurances of a given character or substring in the string it is applied to. Can be optionally provided staert and end index."
   ]
  },
  {
   "cell_type": "code",
   "execution_count": 120,
   "id": "7a211af0-0767-44b9-8dde-0abac4ca6559",
   "metadata": {},
   "outputs": [
    {
     "data": {
      "text/plain": [
       "4"
      ]
     },
     "execution_count": 120,
     "metadata": {},
     "output_type": "execute_result"
    }
   ],
   "source": [
    "sentence = 'one sheep two sheep three sheep four sheep'\n",
    "sentence.count('sheep')"
   ]
  },
  {
   "cell_type": "code",
   "execution_count": 121,
   "id": "cb5321d6-1438-4c3c-90a9-7bea86f033e9",
   "metadata": {},
   "outputs": [
    {
     "data": {
      "text/plain": [
       "11"
      ]
     },
     "execution_count": 121,
     "metadata": {},
     "output_type": "execute_result"
    }
   ],
   "source": [
    "sentence.count('e')"
   ]
  },
  {
   "cell_type": "code",
   "execution_count": 123,
   "id": "7d80b84f-c8f8-4945-9c13-3419bf79e3a0",
   "metadata": {},
   "outputs": [
    {
     "data": {
      "text/plain": [
       "8"
      ]
     },
     "execution_count": 123,
     "metadata": {},
     "output_type": "execute_result"
    }
   ],
   "source": [
    "sentence.count('e',8)\n",
    "# returns count of e after 'one sh' i.e 6 chars since beginning of string"
   ]
  },
  {
   "cell_type": "code",
   "execution_count": 124,
   "id": "6d8acb33-b369-457d-8732-d2f79e530cf8",
   "metadata": {},
   "outputs": [
    {
     "data": {
      "text/plain": [
       "4"
      ]
     },
     "execution_count": 124,
     "metadata": {},
     "output_type": "execute_result"
    }
   ],
   "source": [
    "sentence.count('h',7)"
   ]
  },
  {
   "cell_type": "markdown",
   "id": "35a6b18b-5ad9-4074-b7a9-9d9b134322fc",
   "metadata": {},
   "source": [
    "# Replace method\n",
    "* Replaces all occurences of a given substring with another substring. Can be optionally provided a third argument to limit the number of replacements.Returns a new string.\n"
   ]
  },
  {
   "cell_type": "code",
   "execution_count": 129,
   "id": "e625347a-bae2-43e5-8f9a-33b41537b05e",
   "metadata": {},
   "outputs": [
    {
     "data": {
      "text/plain": [
       "'Hello Aniket!'"
      ]
     },
     "execution_count": 129,
     "metadata": {},
     "output_type": "execute_result"
    }
   ],
   "source": [
    "text = \"Hello world!\"\n",
    "text.replace(\"world!\",\"Aniket!\")"
   ]
  },
  {
   "cell_type": "code",
   "execution_count": 131,
   "id": "da67db2a-7349-47c3-88a0-ee4b0d194efb",
   "metadata": {},
   "outputs": [
    {
     "data": {
      "text/plain": [
       "'orange,banana,cherry,orange'"
      ]
     },
     "execution_count": 131,
     "metadata": {},
     "output_type": "execute_result"
    }
   ],
   "source": [
    "fruits = \"apple,banana,cherry,apple\"\n",
    "fruits.replace('apple','orange')"
   ]
  },
  {
   "cell_type": "code",
   "execution_count": 135,
   "id": "e012bde0-9b60-4fc7-897f-b6ce554fb465",
   "metadata": {},
   "outputs": [
    {
     "data": {
      "text/plain": [
       "'orange,banana,cherry,apple'"
      ]
     },
     "execution_count": 135,
     "metadata": {},
     "output_type": "execute_result"
    }
   ],
   "source": [
    "fruits = \"apple,banana,cherry,apple\"\n",
    "fruits.replace('apple','orange',1)"
   ]
  },
  {
   "cell_type": "code",
   "execution_count": 136,
   "id": "df57f0b8-0bc7-476b-90aa-b0033f3ad33b",
   "metadata": {},
   "outputs": [
    {
     "data": {
      "text/plain": [
       "'I like orange, Apples are my favourite fruit'"
      ]
     },
     "execution_count": 136,
     "metadata": {},
     "output_type": "execute_result"
    }
   ],
   "source": [
    "sentence = \"I like apples, Apples are my favourite fruit\"\n",
    "sentence.replace(\"apples\",\"orange\")"
   ]
  },
  {
   "cell_type": "code",
   "execution_count": null,
   "id": "119eac39-5ff6-44cf-b684-f192cfbbaf09",
   "metadata": {},
   "outputs": [],
   "source": []
  }
 ],
 "metadata": {
  "kernelspec": {
   "display_name": "Python 3 (ipykernel)",
   "language": "python",
   "name": "python3"
  },
  "language_info": {
   "codemirror_mode": {
    "name": "ipython",
    "version": 3
   },
   "file_extension": ".py",
   "mimetype": "text/x-python",
   "name": "python",
   "nbconvert_exporter": "python",
   "pygments_lexer": "ipython3",
   "version": "3.11.5"
  }
 },
 "nbformat": 4,
 "nbformat_minor": 5
}
