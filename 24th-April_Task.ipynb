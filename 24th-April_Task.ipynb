{
 "cells": [
  {
   "cell_type": "markdown",
   "id": "ec424769-98ba-48e1-8423-ff30ede97b51",
   "metadata": {},
   "source": [
    "# Set { }\n",
    "* In Python set is an unordered collection of multiple items having different datatypes.\n",
    "* In Python, sets are mutable, unindexed and do not contain duplicates."
   ]
  },
  {
   "cell_type": "code",
   "execution_count": 1,
   "id": "0b9ab670-5e09-406f-bdc7-0f7065247aa2",
   "metadata": {},
   "outputs": [
    {
     "data": {
      "text/plain": [
       "{}"
      ]
     },
     "execution_count": 1,
     "metadata": {},
     "output_type": "execute_result"
    }
   ],
   "source": [
    "s = {}\n",
    "s"
   ]
  },
  {
   "cell_type": "code",
   "execution_count": 2,
   "id": "0502a955-833a-4eca-b062-fe294b2d57d6",
   "metadata": {},
   "outputs": [
    {
     "data": {
      "text/plain": [
       "dict"
      ]
     },
     "execution_count": 2,
     "metadata": {},
     "output_type": "execute_result"
    }
   ],
   "source": [
    "type(s)"
   ]
  },
  {
   "cell_type": "code",
   "execution_count": 14,
   "id": "ee599c7d-da18-4481-9782-ed70a39a8113",
   "metadata": {},
   "outputs": [
    {
     "name": "stdout",
     "output_type": "stream",
     "text": [
      "set()\n",
      "<class 'set'>\n"
     ]
    }
   ],
   "source": [
    "s1 = set()\n",
    "print(s1)\n",
    "print(type(s1))"
   ]
  },
  {
   "cell_type": "code",
   "execution_count": 15,
   "id": "02b081d7-6d39-4741-8c29-fc1140eee604",
   "metadata": {},
   "outputs": [],
   "source": [
    "s1.add(10)\n",
    "s1.add(20)\n",
    "s1.add(30)\n",
    "s1.add(40)\n",
    "s1.add(50)"
   ]
  },
  {
   "cell_type": "code",
   "execution_count": 16,
   "id": "fb520d70-24aa-48c6-bd44-522ddc910187",
   "metadata": {},
   "outputs": [
    {
     "data": {
      "text/plain": [
       "{10, 20, 30, 40, 50}"
      ]
     },
     "execution_count": 16,
     "metadata": {},
     "output_type": "execute_result"
    }
   ],
   "source": [
    "s1"
   ]
  },
  {
   "cell_type": "code",
   "execution_count": 11,
   "id": "b8c12126-e73a-4e4b-808d-0c9761dc5cc3",
   "metadata": {},
   "outputs": [
    {
     "name": "stdout",
     "output_type": "stream",
     "text": [
      "set()\n"
     ]
    }
   ],
   "source": [
    "s2 = set()\n",
    "print(s2)"
   ]
  },
  {
   "cell_type": "code",
   "execution_count": 12,
   "id": "1c778d82-c5d8-4acd-af9f-62ba854ca79e",
   "metadata": {},
   "outputs": [],
   "source": [
    "s2.add(20)\n",
    "s2.add('ani')\n",
    "s2.add(True)\n",
    "s2.add(1+2j)\n",
    "s2.add(3.2)"
   ]
  },
  {
   "cell_type": "code",
   "execution_count": 13,
   "id": "fb88eea3-087d-4a19-a660-d8359ca41c22",
   "metadata": {},
   "outputs": [
    {
     "data": {
      "text/plain": [
       "{(1+2j), 20, 3.2, True, 'ani'}"
      ]
     },
     "execution_count": 13,
     "metadata": {},
     "output_type": "execute_result"
    }
   ],
   "source": [
    "s2"
   ]
  },
  {
   "cell_type": "code",
   "execution_count": 17,
   "id": "8f2859f0-db04-47b7-a9d1-266ce002cf8a",
   "metadata": {},
   "outputs": [
    {
     "data": {
      "text/plain": [
       "set()"
      ]
     },
     "execution_count": 17,
     "metadata": {},
     "output_type": "execute_result"
    }
   ],
   "source": [
    "s3 = set()\n",
    "s3"
   ]
  },
  {
   "cell_type": "code",
   "execution_count": 18,
   "id": "a4e46de3-ca69-4338-ab3f-e1199524a4e1",
   "metadata": {},
   "outputs": [],
   "source": [
    "s3.add(200)\n",
    "s3.add(60)\n",
    "s3.add(55)\n",
    "s3.add(80)"
   ]
  },
  {
   "cell_type": "code",
   "execution_count": 19,
   "id": "9afa1733-c15f-431b-a7b5-cbaa5e6c0f34",
   "metadata": {},
   "outputs": [
    {
     "data": {
      "text/plain": [
       "{55, 60, 80, 200}"
      ]
     },
     "execution_count": 19,
     "metadata": {},
     "output_type": "execute_result"
    }
   ],
   "source": [
    "s3"
   ]
  },
  {
   "cell_type": "code",
   "execution_count": 20,
   "id": "2d861fcd-862e-4235-adee-b4fa442de9ef",
   "metadata": {},
   "outputs": [
    {
     "data": {
      "text/plain": [
       "set()"
      ]
     },
     "execution_count": 20,
     "metadata": {},
     "output_type": "execute_result"
    }
   ],
   "source": [
    "s4 = set()\n",
    "s4"
   ]
  },
  {
   "cell_type": "code",
   "execution_count": 21,
   "id": "175dd785-0643-411d-9a85-0f9d43e82bbd",
   "metadata": {},
   "outputs": [],
   "source": [
    "s4.add('a')\n",
    "s4.add('k')\n",
    "s4.add('l')\n",
    "s4.add('v')\n",
    "s4.add('m')"
   ]
  },
  {
   "cell_type": "code",
   "execution_count": 22,
   "id": "ecaf1d8c-fc43-4d83-8ff4-f9736c218bfd",
   "metadata": {},
   "outputs": [
    {
     "data": {
      "text/plain": [
       "{'a', 'k', 'l', 'm', 'v'}"
      ]
     },
     "execution_count": 22,
     "metadata": {},
     "output_type": "execute_result"
    }
   ],
   "source": [
    "s4"
   ]
  },
  {
   "cell_type": "code",
   "execution_count": 23,
   "id": "3a336a06-d807-4b55-8279-9ef22baa3f06",
   "metadata": {},
   "outputs": [
    {
     "name": "stdout",
     "output_type": "stream",
     "text": [
      "{40, 10, 50, 20, 30}\n",
      "{'ani', True, 3.2, (1+2j), 20}\n",
      "{200, 80, 60, 55}\n",
      "{'m', 'l', 'k', 'v', 'a'}\n"
     ]
    }
   ],
   "source": [
    "print(s1)\n",
    "print(s2)\n",
    "print(s3)\n",
    "print(s4)"
   ]
  },
  {
   "cell_type": "code",
   "execution_count": 24,
   "id": "2ba01de0-815a-4e40-9d15-0f48409da4a8",
   "metadata": {},
   "outputs": [
    {
     "data": {
      "text/plain": [
       "{(1+2j), 20, 3.2, True, 'ani'}"
      ]
     },
     "execution_count": 24,
     "metadata": {},
     "output_type": "execute_result"
    }
   ],
   "source": [
    "s2"
   ]
  },
  {
   "cell_type": "code",
   "execution_count": 25,
   "id": "b000c2d6-c50b-4fa3-9874-04cdb4fa4590",
   "metadata": {},
   "outputs": [
    {
     "ename": "TypeError",
     "evalue": "'set' object is not subscriptable",
     "output_type": "error",
     "traceback": [
      "\u001b[1;31m---------------------------------------------------------------------------\u001b[0m",
      "\u001b[1;31mTypeError\u001b[0m                                 Traceback (most recent call last)",
      "Cell \u001b[1;32mIn[25], line 1\u001b[0m\n\u001b[1;32m----> 1\u001b[0m s2[\u001b[38;5;241m0\u001b[39m]\n",
      "\u001b[1;31mTypeError\u001b[0m: 'set' object is not subscriptable"
     ]
    }
   ],
   "source": [
    "s2[0] # In set indexing is not allowed"
   ]
  },
  {
   "cell_type": "code",
   "execution_count": 28,
   "id": "1aadd88c-69c4-42e9-b005-cb6f454deb4a",
   "metadata": {},
   "outputs": [
    {
     "ename": "TypeError",
     "evalue": "'set' object is not subscriptable",
     "output_type": "error",
     "traceback": [
      "\u001b[1;31m---------------------------------------------------------------------------\u001b[0m",
      "\u001b[1;31mTypeError\u001b[0m                                 Traceback (most recent call last)",
      "Cell \u001b[1;32mIn[28], line 1\u001b[0m\n\u001b[1;32m----> 1\u001b[0m s2[\u001b[38;5;241m0\u001b[39m:\u001b[38;5;241m4\u001b[39m:\u001b[38;5;241m2\u001b[39m]\n",
      "\u001b[1;31mTypeError\u001b[0m: 'set' object is not subscriptable"
     ]
    }
   ],
   "source": [
    "s2[0:4:2] # Slicing is not allowed in set"
   ]
  },
  {
   "cell_type": "code",
   "execution_count": 29,
   "id": "1fdd4fbc-11d0-4a8d-b662-eb3dea4d59c1",
   "metadata": {},
   "outputs": [],
   "source": [
    "s5 = s4.copy()"
   ]
  },
  {
   "cell_type": "code",
   "execution_count": 30,
   "id": "4efebd72-9490-4fc5-b662-bfd48947d0e6",
   "metadata": {},
   "outputs": [
    {
     "data": {
      "text/plain": [
       "{'a', 'k', 'l', 'm', 'v'}"
      ]
     },
     "execution_count": 30,
     "metadata": {},
     "output_type": "execute_result"
    }
   ],
   "source": [
    "s5"
   ]
  },
  {
   "cell_type": "code",
   "execution_count": 31,
   "id": "55f40013-6e77-4221-b72d-7fd9b42c0fd3",
   "metadata": {},
   "outputs": [
    {
     "data": {
      "text/plain": [
       "{'a', 'k', 'l', 'm', 'v'}"
      ]
     },
     "execution_count": 31,
     "metadata": {},
     "output_type": "execute_result"
    }
   ],
   "source": [
    "s4"
   ]
  },
  {
   "cell_type": "code",
   "execution_count": 32,
   "id": "6a42d23e-0995-4eed-a60e-c97c58b565a4",
   "metadata": {},
   "outputs": [
    {
     "data": {
      "text/plain": [
       "True"
      ]
     },
     "execution_count": 32,
     "metadata": {},
     "output_type": "execute_result"
    }
   ],
   "source": [
    "s4 == s5"
   ]
  },
  {
   "cell_type": "code",
   "execution_count": 33,
   "id": "b7015d67-7761-4c9e-a476-f83a0bee9cc7",
   "metadata": {},
   "outputs": [
    {
     "data": {
      "text/plain": [
       "False"
      ]
     },
     "execution_count": 33,
     "metadata": {},
     "output_type": "execute_result"
    }
   ],
   "source": [
    "s4 != s5"
   ]
  },
  {
   "cell_type": "code",
   "execution_count": 34,
   "id": "051091cc-27b0-411e-8d9b-21cde6252e1b",
   "metadata": {},
   "outputs": [],
   "source": [
    "s5.clear()"
   ]
  },
  {
   "cell_type": "code",
   "execution_count": 35,
   "id": "72d1f233-4ac4-44e3-837d-1dda6c2b4d82",
   "metadata": {},
   "outputs": [
    {
     "data": {
      "text/plain": [
       "set()"
      ]
     },
     "execution_count": 35,
     "metadata": {},
     "output_type": "execute_result"
    }
   ],
   "source": [
    "s5"
   ]
  },
  {
   "cell_type": "code",
   "execution_count": 36,
   "id": "5dc9301b-3367-4025-ada6-b3122988de38",
   "metadata": {},
   "outputs": [],
   "source": [
    "del s5"
   ]
  },
  {
   "cell_type": "code",
   "execution_count": 37,
   "id": "109f7d9d-8ce3-44e3-94c0-c0f17e7741f2",
   "metadata": {},
   "outputs": [
    {
     "ename": "NameError",
     "evalue": "name 's5' is not defined",
     "output_type": "error",
     "traceback": [
      "\u001b[1;31m---------------------------------------------------------------------------\u001b[0m",
      "\u001b[1;31mNameError\u001b[0m                                 Traceback (most recent call last)",
      "Cell \u001b[1;32mIn[37], line 1\u001b[0m\n\u001b[1;32m----> 1\u001b[0m s5\n",
      "\u001b[1;31mNameError\u001b[0m: name 's5' is not defined"
     ]
    }
   ],
   "source": [
    "s5"
   ]
  },
  {
   "cell_type": "code",
   "execution_count": 38,
   "id": "0de05f4a-441e-43be-93a3-178b3b2df07a",
   "metadata": {},
   "outputs": [],
   "source": [
    "s4 = s3.copy()"
   ]
  },
  {
   "cell_type": "code",
   "execution_count": 39,
   "id": "1f22f366-b27c-4bdb-b442-c9390ce09a3a",
   "metadata": {},
   "outputs": [
    {
     "data": {
      "text/plain": [
       "{55, 60, 80, 200}"
      ]
     },
     "execution_count": 39,
     "metadata": {},
     "output_type": "execute_result"
    }
   ],
   "source": [
    "s4"
   ]
  },
  {
   "cell_type": "code",
   "execution_count": 40,
   "id": "2f30d268-e6c5-4efa-a914-c9778190b1bd",
   "metadata": {},
   "outputs": [
    {
     "data": {
      "text/plain": [
       "200"
      ]
     },
     "execution_count": 40,
     "metadata": {},
     "output_type": "execute_result"
    }
   ],
   "source": [
    "s4.pop()"
   ]
  },
  {
   "cell_type": "code",
   "execution_count": 41,
   "id": "fb5e8a67-8a9c-4267-b4e8-03ba8921965f",
   "metadata": {},
   "outputs": [
    {
     "data": {
      "text/plain": [
       "{55, 60, 80}"
      ]
     },
     "execution_count": 41,
     "metadata": {},
     "output_type": "execute_result"
    }
   ],
   "source": [
    "s4"
   ]
  },
  {
   "cell_type": "code",
   "execution_count": 43,
   "id": "82c3f0b4-c70c-4567-813c-520ff5901d89",
   "metadata": {},
   "outputs": [
    {
     "ename": "TypeError",
     "evalue": "set.pop() takes no arguments (1 given)",
     "output_type": "error",
     "traceback": [
      "\u001b[1;31m---------------------------------------------------------------------------\u001b[0m",
      "\u001b[1;31mTypeError\u001b[0m                                 Traceback (most recent call last)",
      "Cell \u001b[1;32mIn[43], line 1\u001b[0m\n\u001b[1;32m----> 1\u001b[0m s4\u001b[38;5;241m.\u001b[39mpop(\u001b[38;5;241m0\u001b[39m)\n",
      "\u001b[1;31mTypeError\u001b[0m: set.pop() takes no arguments (1 given)"
     ]
    }
   ],
   "source": [
    "s4.pop(0)  # index is not allowed in set."
   ]
  },
  {
   "cell_type": "code",
   "execution_count": 44,
   "id": "65f8cb86-1f95-4afa-a820-b479a870f58c",
   "metadata": {},
   "outputs": [
    {
     "data": {
      "text/plain": [
       "{10, 20, 30, 40, 50}"
      ]
     },
     "execution_count": 44,
     "metadata": {},
     "output_type": "execute_result"
    }
   ],
   "source": []
  },
  {
   "cell_type": "code",
   "execution_count": 45,
   "id": "a04edc94-b415-4d89-901e-3661091e46d4",
   "metadata": {},
   "outputs": [
    {
     "data": {
      "text/plain": [
       "{(1+2j), 20, 3.2, True, 'ani'}"
      ]
     },
     "execution_count": 45,
     "metadata": {},
     "output_type": "execute_result"
    }
   ],
   "source": [
    "s2"
   ]
  },
  {
   "cell_type": "code",
   "execution_count": 46,
   "id": "710e6afc-030c-4b20-9d34-89d729aa183c",
   "metadata": {},
   "outputs": [],
   "source": [
    "s2.remove((1+2j))"
   ]
  },
  {
   "cell_type": "code",
   "execution_count": 47,
   "id": "fd7d2f3c-3945-4bc6-b992-90f34e27f3e6",
   "metadata": {},
   "outputs": [
    {
     "data": {
      "text/plain": [
       "{20, 3.2, True, 'ani'}"
      ]
     },
     "execution_count": 47,
     "metadata": {},
     "output_type": "execute_result"
    }
   ],
   "source": [
    "s2"
   ]
  },
  {
   "cell_type": "code",
   "execution_count": 49,
   "id": "d9ddacbc-df58-4c21-bffb-5350d0c50d15",
   "metadata": {},
   "outputs": [
    {
     "data": {
      "text/plain": [
       "{20, 3.2, True, 'ani'}"
      ]
     },
     "execution_count": 49,
     "metadata": {},
     "output_type": "execute_result"
    }
   ],
   "source": [
    "s2"
   ]
  },
  {
   "cell_type": "code",
   "execution_count": 50,
   "id": "81b75631-e473-4438-99ab-f231f8cf3b96",
   "metadata": {},
   "outputs": [
    {
     "name": "stdout",
     "output_type": "stream",
     "text": [
      "40\n",
      "10\n",
      "50\n",
      "20\n",
      "30\n"
     ]
    }
   ],
   "source": [
    "for i in s1:\n",
    "    print(i)"
   ]
  },
  {
   "cell_type": "code",
   "execution_count": 52,
   "id": "b1033505-3cdb-49d7-8b42-f83a89cdc371",
   "metadata": {},
   "outputs": [
    {
     "name": "stdout",
     "output_type": "stream",
     "text": [
      "ani\n",
      "True\n",
      "3.2\n",
      "20\n"
     ]
    }
   ],
   "source": [
    "for i in s2:\n",
    "    print(i)"
   ]
  },
  {
   "cell_type": "code",
   "execution_count": 53,
   "id": "0d3e93fb-886f-40a3-890c-2799e5dbcadf",
   "metadata": {},
   "outputs": [
    {
     "name": "stdout",
     "output_type": "stream",
     "text": [
      "(0, 'ani')\n",
      "(1, True)\n",
      "(2, 3.2)\n",
      "(3, 20)\n"
     ]
    }
   ],
   "source": [
    "for i in enumerate(s2):\n",
    "    print(i)"
   ]
  },
  {
   "cell_type": "markdown",
   "id": "f21452f0-8c5f-4482-a8e6-b4653ff32635",
   "metadata": {},
   "source": [
    "## SET OPERATION"
   ]
  },
  {
   "cell_type": "code",
   "execution_count": 76,
   "id": "68deb7d9-c84c-4543-9607-96dc86e110ce",
   "metadata": {},
   "outputs": [],
   "source": [
    "# Union\n",
    "a = {10,15,20,25}\n",
    "b = {20,25,30,35,40,45,50}\n",
    "c = {40,45,50,55,60,70}"
   ]
  },
  {
   "cell_type": "code",
   "execution_count": 77,
   "id": "ff0e1c6b-3428-43bd-a8e8-39eb77d718e8",
   "metadata": {},
   "outputs": [
    {
     "data": {
      "text/plain": [
       "{10, 15, 20, 25, 30, 35, 40, 45, 50}"
      ]
     },
     "execution_count": 77,
     "metadata": {},
     "output_type": "execute_result"
    }
   ],
   "source": [
    "a | b "
   ]
  },
  {
   "cell_type": "code",
   "execution_count": 78,
   "id": "fabd56cd-32b7-4ecc-8f38-efd122e177ba",
   "metadata": {},
   "outputs": [
    {
     "data": {
      "text/plain": [
       "{20, 25, 30, 35, 40, 45, 50, 55, 60, 70}"
      ]
     },
     "execution_count": 78,
     "metadata": {},
     "output_type": "execute_result"
    }
   ],
   "source": [
    "b | c"
   ]
  },
  {
   "cell_type": "code",
   "execution_count": 79,
   "id": "8fc2d8ad-cb4b-487e-8034-edd56a8d4f41",
   "metadata": {},
   "outputs": [
    {
     "data": {
      "text/plain": [
       "{10, 15, 20, 25, 40, 45, 50, 55, 60, 70}"
      ]
     },
     "execution_count": 79,
     "metadata": {},
     "output_type": "execute_result"
    }
   ],
   "source": [
    "c.union(a)"
   ]
  },
  {
   "cell_type": "code",
   "execution_count": 80,
   "id": "f7c7710d-c813-4025-bc18-46a30d541d13",
   "metadata": {},
   "outputs": [
    {
     "data": {
      "text/plain": [
       "{10, 15, 20, 25, 30, 35, 40, 45, 50}"
      ]
     },
     "execution_count": 80,
     "metadata": {},
     "output_type": "execute_result"
    }
   ],
   "source": [
    "a.union(b)"
   ]
  },
  {
   "cell_type": "code",
   "execution_count": 81,
   "id": "3e8b9066-4ed9-4209-8d9c-760f834dde55",
   "metadata": {},
   "outputs": [
    {
     "data": {
      "text/plain": [
       "{10, 15, 20, 25, 30, 35, 40, 45, 50, 55, 60, 70}"
      ]
     },
     "execution_count": 81,
     "metadata": {},
     "output_type": "execute_result"
    }
   ],
   "source": [
    "a.union(b,c)"
   ]
  },
  {
   "cell_type": "code",
   "execution_count": 82,
   "id": "1f2cfca2-0839-46e7-8939-8717510ef472",
   "metadata": {},
   "outputs": [
    {
     "data": {
      "text/plain": [
       "{10, 15, 20, 25, 30, 35, 40, 45, 50, 55, 60, 70}"
      ]
     },
     "execution_count": 82,
     "metadata": {},
     "output_type": "execute_result"
    }
   ],
   "source": [
    "b.union(a,c)"
   ]
  },
  {
   "cell_type": "code",
   "execution_count": 83,
   "id": "75154b54-84a7-4e1e-be2d-0a45e5c0fe41",
   "metadata": {},
   "outputs": [
    {
     "data": {
      "text/plain": [
       "{10, 15, 20, 25, 30, 35, 40, 45, 50, 55, 60, 70}"
      ]
     },
     "execution_count": 83,
     "metadata": {},
     "output_type": "execute_result"
    }
   ],
   "source": [
    "c | b | a"
   ]
  },
  {
   "cell_type": "code",
   "execution_count": 84,
   "id": "c996237d-e76c-4f6f-99eb-f32c102fd0c3",
   "metadata": {},
   "outputs": [],
   "source": [
    "d = c.copy()"
   ]
  },
  {
   "cell_type": "code",
   "execution_count": 85,
   "id": "acc6ff8d-dab6-46c9-894c-2530b4a4aac1",
   "metadata": {},
   "outputs": [
    {
     "data": {
      "text/plain": [
       "{40, 45, 50, 55, 60, 70}"
      ]
     },
     "execution_count": 85,
     "metadata": {},
     "output_type": "execute_result"
    }
   ],
   "source": [
    "d"
   ]
  },
  {
   "cell_type": "code",
   "execution_count": 86,
   "id": "043f9583-c09d-477e-8280-650664294e4c",
   "metadata": {},
   "outputs": [
    {
     "name": "stdout",
     "output_type": "stream",
     "text": [
      "{50, 70, 55, 40, 60, 45}\n",
      "{50, 70, 55, 40, 60, 45}\n"
     ]
    }
   ],
   "source": [
    "print(c)\n",
    "print(d)"
   ]
  },
  {
   "cell_type": "code",
   "execution_count": 87,
   "id": "56243e0f-5f5f-4fda-961c-43eef5ebdead",
   "metadata": {},
   "outputs": [],
   "source": [
    "# update\n",
    "c.update(d)"
   ]
  },
  {
   "cell_type": "code",
   "execution_count": 88,
   "id": "fb2eaceb-37c6-4b9e-a55d-652979f56f2a",
   "metadata": {},
   "outputs": [
    {
     "data": {
      "text/plain": [
       "{40, 45, 50, 55, 60, 70}"
      ]
     },
     "execution_count": 88,
     "metadata": {},
     "output_type": "execute_result"
    }
   ],
   "source": [
    "c"
   ]
  },
  {
   "cell_type": "code",
   "execution_count": 89,
   "id": "a2425efb-5bac-4f43-a680-896864c44109",
   "metadata": {},
   "outputs": [],
   "source": [
    "d.update(a)"
   ]
  },
  {
   "cell_type": "code",
   "execution_count": 90,
   "id": "d1b857c3-f9b7-49d6-ac73-f6b5d915d94f",
   "metadata": {},
   "outputs": [
    {
     "data": {
      "text/plain": [
       "{10, 15, 20, 25, 40, 45, 50, 55, 60, 70}"
      ]
     },
     "execution_count": 90,
     "metadata": {},
     "output_type": "execute_result"
    }
   ],
   "source": [
    "d"
   ]
  },
  {
   "cell_type": "code",
   "execution_count": 74,
   "id": "d9e636e5-e45c-4d47-8bfb-c7005190bc17",
   "metadata": {},
   "outputs": [
    {
     "data": {
      "text/plain": [
       "{40, 45, 50, 55, 60, 70}"
      ]
     },
     "execution_count": 74,
     "metadata": {},
     "output_type": "execute_result"
    }
   ],
   "source": [
    "c.difference(a)"
   ]
  },
  {
   "cell_type": "code",
   "execution_count": 75,
   "id": "4461dc89-fbef-4871-be71-81b611228910",
   "metadata": {},
   "outputs": [
    {
     "data": {
      "text/plain": [
       "{10, 15, 20, 25, 40, 45, 50, 55, 60, 70}"
      ]
     },
     "execution_count": 75,
     "metadata": {},
     "output_type": "execute_result"
    }
   ],
   "source": [
    "c"
   ]
  },
  {
   "cell_type": "code",
   "execution_count": 91,
   "id": "851c302e-fa6e-46bb-92c8-6c0fcd5ba0e8",
   "metadata": {},
   "outputs": [
    {
     "name": "stdout",
     "output_type": "stream",
     "text": [
      "{25, 10, 20, 15}\n",
      "{50, 35, 20, 40, 25, 45, 30}\n",
      "{70, 40, 45, 50, 55, 60}\n"
     ]
    }
   ],
   "source": [
    "# Intersection\n",
    "print(a)\n",
    "print(b)\n",
    "print(c)"
   ]
  },
  {
   "cell_type": "code",
   "execution_count": 92,
   "id": "329a4c39-643e-4d81-9a9f-5dfb1b255bd8",
   "metadata": {},
   "outputs": [
    {
     "data": {
      "text/plain": [
       "{20, 25}"
      ]
     },
     "execution_count": 92,
     "metadata": {},
     "output_type": "execute_result"
    }
   ],
   "source": [
    "a & b"
   ]
  },
  {
   "cell_type": "code",
   "execution_count": 93,
   "id": "3213b66b-1a7e-45bf-b651-28c892e2bc49",
   "metadata": {},
   "outputs": [
    {
     "data": {
      "text/plain": [
       "{20, 25}"
      ]
     },
     "execution_count": 93,
     "metadata": {},
     "output_type": "execute_result"
    }
   ],
   "source": [
    "a.intersection(b)"
   ]
  },
  {
   "cell_type": "code",
   "execution_count": 94,
   "id": "43b9a6fc-915b-401b-a3d3-ef3727e3393b",
   "metadata": {},
   "outputs": [
    {
     "data": {
      "text/plain": [
       "set()"
      ]
     },
     "execution_count": 94,
     "metadata": {},
     "output_type": "execute_result"
    }
   ],
   "source": [
    "a.intersection(c)"
   ]
  },
  {
   "cell_type": "code",
   "execution_count": 96,
   "id": "29a99c52-b122-43ce-b3e3-7bba8ef3d665",
   "metadata": {},
   "outputs": [
    {
     "data": {
      "text/plain": [
       "{40, 45, 50}"
      ]
     },
     "execution_count": 96,
     "metadata": {},
     "output_type": "execute_result"
    }
   ],
   "source": [
    "b.intersection(c)"
   ]
  },
  {
   "cell_type": "code",
   "execution_count": 97,
   "id": "0b83537f-1b4c-44f1-9ec7-950a50d57000",
   "metadata": {},
   "outputs": [
    {
     "data": {
      "text/plain": [
       "set()"
      ]
     },
     "execution_count": 97,
     "metadata": {},
     "output_type": "execute_result"
    }
   ],
   "source": [
    "a & b & c"
   ]
  },
  {
   "cell_type": "code",
   "execution_count": 99,
   "id": "3d70f853-dbff-460d-9102-55325dd15fed",
   "metadata": {},
   "outputs": [
    {
     "data": {
      "text/plain": [
       "set()"
      ]
     },
     "execution_count": 99,
     "metadata": {},
     "output_type": "execute_result"
    }
   ],
   "source": [
    "b.intersection(c,a)"
   ]
  },
  {
   "cell_type": "code",
   "execution_count": 100,
   "id": "e992a25f-19de-4802-82ba-b0f62626237d",
   "metadata": {},
   "outputs": [
    {
     "name": "stdout",
     "output_type": "stream",
     "text": [
      "{25, 10, 20, 15}\n",
      "{50, 35, 20, 40, 25, 45, 30}\n",
      "{70, 40, 45, 50, 55, 60}\n"
     ]
    }
   ],
   "source": [
    "# Difference\n",
    "print(a)\n",
    "print(b)\n",
    "print(c)"
   ]
  },
  {
   "cell_type": "code",
   "execution_count": 101,
   "id": "d160dfed-204a-48b5-a3d1-f1f133aa19a4",
   "metadata": {},
   "outputs": [
    {
     "data": {
      "text/plain": [
       "{10, 15}"
      ]
     },
     "execution_count": 101,
     "metadata": {},
     "output_type": "execute_result"
    }
   ],
   "source": [
    "a - b"
   ]
  },
  {
   "cell_type": "code",
   "execution_count": 102,
   "id": "56654e10-6d24-4b80-aaca-811d35ba3d16",
   "metadata": {},
   "outputs": [
    {
     "data": {
      "text/plain": [
       "{20, 25, 30, 35}"
      ]
     },
     "execution_count": 102,
     "metadata": {},
     "output_type": "execute_result"
    }
   ],
   "source": [
    "b - c"
   ]
  },
  {
   "cell_type": "code",
   "execution_count": 104,
   "id": "283c622f-463f-4b4f-8c4e-65ccd3ce7f6d",
   "metadata": {},
   "outputs": [
    {
     "data": {
      "text/plain": [
       "{40, 45, 50, 55, 60, 70}"
      ]
     },
     "execution_count": 104,
     "metadata": {},
     "output_type": "execute_result"
    }
   ],
   "source": [
    "c - a"
   ]
  },
  {
   "cell_type": "code",
   "execution_count": 105,
   "id": "6f61c042-1460-4f23-b6c8-12455f0a6fda",
   "metadata": {},
   "outputs": [
    {
     "data": {
      "text/plain": [
       "{10, 15, 20, 25}"
      ]
     },
     "execution_count": 105,
     "metadata": {},
     "output_type": "execute_result"
    }
   ],
   "source": [
    "a - c"
   ]
  },
  {
   "cell_type": "code",
   "execution_count": 106,
   "id": "efc3dc7b-d5aa-482c-8872-27b85491e9ea",
   "metadata": {},
   "outputs": [
    {
     "data": {
      "text/plain": [
       "{55, 60, 70}"
      ]
     },
     "execution_count": 106,
     "metadata": {},
     "output_type": "execute_result"
    }
   ],
   "source": [
    "c - b"
   ]
  },
  {
   "cell_type": "code",
   "execution_count": null,
   "id": "1d1d5780-1546-4419-8120-27a5f948d6ee",
   "metadata": {},
   "outputs": [],
   "source": []
  }
 ],
 "metadata": {
  "kernelspec": {
   "display_name": "Python 3 (ipykernel)",
   "language": "python",
   "name": "python3"
  },
  "language_info": {
   "codemirror_mode": {
    "name": "ipython",
    "version": 3
   },
   "file_extension": ".py",
   "mimetype": "text/x-python",
   "name": "python",
   "nbconvert_exporter": "python",
   "pygments_lexer": "ipython3",
   "version": "3.11.5"
  }
 },
 "nbformat": 4,
 "nbformat_minor": 5
}
