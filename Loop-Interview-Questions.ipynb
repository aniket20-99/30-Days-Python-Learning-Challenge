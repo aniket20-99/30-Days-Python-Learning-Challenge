{
 "cells": [
  {
   "cell_type": "markdown",
   "id": "0198e200-107e-424e-b2d7-bcf38dc03664",
   "metadata": {},
   "source": [
    "### How to use the for loop in Python\n",
    "* In Python, the for loop is used to iterate over a sequence (such as a list, tuple,\n",
    "string, or dictionary) or any iterable object. The basic syntax of the for loop is:\n",
    "Python For Loop Syntax"
   ]
  },
  {
   "cell_type": "markdown",
   "id": "7a8663de-9fb6-4b91-b0e1-17986442185b",
   "metadata": {},
   "source": [
    "* Python For Loop Syntax\n"
   ]
  },
  {
   "cell_type": "code",
   "execution_count": null,
   "id": "feb5bc14-eb1d-4e3d-be87-913b2594031c",
   "metadata": {},
   "outputs": [],
   "source": [
    "for var in iterable:\n",
    "    # statements"
   ]
  },
  {
   "cell_type": "markdown",
   "id": "2c670f8b-50d7-42cc-90cd-270f58365901",
   "metadata": {},
   "source": [
    "* Note: In Python, for loops only implement the collection-based iteration.\n",
    "Here we will see Python for loop examples with different types of iterables:"
   ]
  },
  {
   "cell_type": "markdown",
   "id": "d7d9a605-bca4-45ae-afb4-1ec2ede1e0c9",
   "metadata": {},
   "source": [
    "### Python For Loop with string\n",
    "\n",
    "* This code uses a for loop to iterate over a string and print each character on a\n",
    "new line. The loop assigns each character to the variable i and continues until\n",
    "all characters in the string have been processed.\n"
   ]
  },
  {
   "cell_type": "code",
   "execution_count": 8,
   "id": "0fb7430e-a3aa-4ed5-9f19-11774dbd64a5",
   "metadata": {},
   "outputs": [
    {
     "name": "stdout",
     "output_type": "stream",
     "text": [
      "String Iteration\n",
      "P\n",
      "y\n",
      "t\n",
      "h\n",
      "o\n",
      "n\n"
     ]
    }
   ],
   "source": [
    "print('String Iteration')\n",
    "\n",
    "s = \"Python\"\n",
    "for i in s:\n",
    "    print(i)\n"
   ]
  },
  {
   "cell_type": "markdown",
   "id": "4b06afad-98db-4b7f-8c80-a140e2510cfe",
   "metadata": {},
   "source": [
    "### Python for loop with Range\n",
    "* This code uses a Python for loop with index in conjunction with the range()\n",
    "function to generate a sequence of numbers starting from 0, up to (but not\n",
    "including) 10, and with a step size of 2. For each number in the sequence, the\n",
    "loop prints its value using the print() function. The output will show the\n",
    "numbers 0, 2, 4, 6, and 8."
   ]
  },
  {
   "cell_type": "code",
   "execution_count": 9,
   "id": "2759e868-218b-4797-9961-2ce421e4923a",
   "metadata": {},
   "outputs": [
    {
     "name": "stdout",
     "output_type": "stream",
     "text": [
      "0\n",
      "2\n",
      "4\n",
      "6\n",
      "8\n"
     ]
    }
   ],
   "source": [
    "for i in range(0,10,2):\n",
    "    print(i)"
   ]
  },
  {
   "cell_type": "markdown",
   "id": "37d11908-89bc-4024-977c-b325ae0db015",
   "metadata": {},
   "source": [
    "### Python for loop Enumerate\n",
    "* In Python, the enumerate() function is used with the for loop to iterate over\n",
    "an iterable while also keeping track of the index of each item."
   ]
  },
  {
   "cell_type": "code",
   "execution_count": 12,
   "id": "74a5722b-8aaa-466e-bace-a052fee54674",
   "metadata": {},
   "outputs": [
    {
     "name": "stdout",
     "output_type": "stream",
     "text": [
      "0 Python\n",
      "1 Programming\n",
      "2 Language\n"
     ]
    }
   ],
   "source": [
    "lst = ['Python','Programming','Language']\n",
    "\n",
    "for count,ele in enumerate(lst):\n",
    "    print(count,ele)"
   ]
  },
  {
   "cell_type": "markdown",
   "id": "ae5b623d-9e2a-4c5c-ba2e-54eec4fccf5a",
   "metadata": {},
   "source": [
    "### Nested For Loops in Python\n",
    "* This code uses nested for loops to iterate over two ranges of numbers (1 to 3\n",
    "inclusive) and prints the value of i and j for each combination of the two loops.\n",
    "The inner loop is executed for each value of i in the outer loop. The output of\n",
    "this code will print the numbers from 1 to 3 three times, as each value of i is\n",
    "combined with each value of j."
   ]
  },
  {
   "cell_type": "code",
   "execution_count": 15,
   "id": "08b8ee42-ecb9-45e7-aac3-8e6c06173595",
   "metadata": {},
   "outputs": [
    {
     "name": "stdout",
     "output_type": "stream",
     "text": [
      "1 1\n",
      "1 2\n",
      "1 3\n",
      "1 4\n",
      "2 1\n",
      "2 2\n",
      "2 3\n",
      "2 4\n",
      "3 1\n",
      "3 2\n",
      "3 3\n",
      "3 4\n",
      "4 1\n",
      "4 2\n",
      "4 3\n",
      "4 4\n"
     ]
    }
   ],
   "source": [
    "for i in range(1,5):\n",
    "    for j in range(1,5):\n",
    "        print(i,j)"
   ]
  },
  {
   "cell_type": "markdown",
   "id": "a1295572-2889-4a7b-8c68-2f143fd95788",
   "metadata": {},
   "source": [
    "### Python For Loop Over List\n",
    "* This code uses a for loop to iterate over a list of strings, printing each item in\n",
    "the list on a new line. The loop assigns each item to the variable I and continues\n",
    "until all items in the list have been processed"
   ]
  },
  {
   "cell_type": "code",
   "execution_count": 16,
   "id": "875dbba7-163a-4f2b-8dc0-0411b007751b",
   "metadata": {},
   "outputs": [
    {
     "name": "stdout",
     "output_type": "stream",
     "text": [
      "Python\n",
      "for\n",
      "loops\n"
     ]
    }
   ],
   "source": [
    "l = ['Python','for','loops']\n",
    "for i in l:\n",
    "    print(i)"
   ]
  },
  {
   "cell_type": "markdown",
   "id": "e7e98d05-4ebc-4ed0-8948-ef0f5a83c735",
   "metadata": {},
   "source": [
    "### Python for loop in One Line"
   ]
  },
  {
   "cell_type": "code",
   "execution_count": 17,
   "id": "c902ef6e-f9da-4c42-855c-577610b08dbb",
   "metadata": {},
   "outputs": [
    {
     "name": "stdout",
     "output_type": "stream",
     "text": [
      "[0, 1, 2, 3, 4, 5, 6, 7, 8, 9, 10]\n"
     ]
    }
   ],
   "source": [
    "Numbers = [x for x in range(11)]\n",
    "print(Numbers)"
   ]
  },
  {
   "cell_type": "markdown",
   "id": "0edc7353-10b3-4791-8a16-e9d6e3dd0cca",
   "metadata": {},
   "source": [
    "### Python For Loop with Dictionary\n",
    "* This code uses a for loop to iterate over a dictionary and print each key-value\n",
    "pair on a new line. The loop assigns each key to the variable i and uses string\n",
    "formatting to print the key and its corresponding value."
   ]
  },
  {
   "cell_type": "code",
   "execution_count": 20,
   "id": "ced45304-33d1-4863-87ec-469a0b20cfc0",
   "metadata": {},
   "outputs": [
    {
     "name": "stdout",
     "output_type": "stream",
     "text": [
      "xyz 123\n",
      "abc 345\n"
     ]
    }
   ],
   "source": [
    "d = dict()\n",
    "d['xyz']  = 123\n",
    "d['abc'] = 345\n",
    "\n",
    "for i in d:\n",
    "    print(f'{i} {d[i]}')"
   ]
  },
  {
   "cell_type": "markdown",
   "id": "e6a9a749-ebf2-4ffc-9cce-272b0ef9dfd1",
   "metadata": {},
   "source": [
    "### Python For Loop with Tuple\n",
    "* This code iterates over a tuple of tuples using a for loop with tuple unpacking.\n",
    "In each iteration, the values from the inner tuple are assigned to variables a\n",
    "and b, respectively, and then printed to the console using the print() function.\n",
    "The output will show each pair of values from the inner tuples."
   ]
  },
  {
   "cell_type": "code",
   "execution_count": 23,
   "id": "2c515151-137c-4f28-9735-b481fc3b62be",
   "metadata": {},
   "outputs": [
    {
     "name": "stdout",
     "output_type": "stream",
     "text": [
      "(1, 2)\n",
      "(3, 4)\n",
      "(5, 6)\n",
      "1 2\n",
      "3 4\n",
      "5 6\n"
     ]
    }
   ],
   "source": [
    "tup = ((1,2),(3,4),(5,6))\n",
    "\n",
    "for a in tup:\n",
    "    print(a)\n",
    "\n",
    "for a,b in tup:\n",
    "    print(a,b)"
   ]
  },
  {
   "cell_type": "markdown",
   "id": "6a6bbd99-6257-4454-98ca-aaaa19abfdd7",
   "metadata": {},
   "source": [
    "### Python For Loop with Zip()\n",
    "* This code uses the zip() function to iterate over two lists (fruits and colors) in\n",
    "parallel. The for loop assigns the corresponding elements of both lists to the\n",
    "variables fruit and color in each iteration. Inside the loop, the print() function is\n",
    "used to display the message “is” between the fruit and color values. The\n",
    "output will display each fruit from the list of fruits along with its corresponding\n",
    "color from the colours list."
   ]
  },
  {
   "cell_type": "code",
   "execution_count": 24,
   "id": "54abc587-921c-4a55-aacd-abe821123e69",
   "metadata": {},
   "outputs": [
    {
     "name": "stdout",
     "output_type": "stream",
     "text": [
      "Aniket : Hydrabad\n",
      "Rahul : Mumbai\n",
      "Sohan : Delhi\n"
     ]
    }
   ],
   "source": [
    "name = [\"Aniket\",\"Rahul\",\"Sohan\"]\n",
    "city = [\"Hydrabad\",\"Mumbai\",\"Delhi\"]\n",
    "\n",
    "for name,city in zip(name,city):\n",
    "    print(name, ':', city)"
   ]
  },
  {
   "cell_type": "markdown",
   "id": "c834cd97-ceb0-447f-84a1-1b94d3ba06fe",
   "metadata": {},
   "source": [
    "### Control Statements that can be used with For Loop in Python\n",
    "* Loop control statements change execution from their normal sequence. When\n",
    "execution leaves a scope, all automatic objects that were created in that scope\n",
    "are destroyed. Python supports the following control statements.\n",
    "Continue in Python For Loop\n",
    "* Python continue Statement returns the control to the beginning of the loop"
   ]
  },
  {
   "cell_type": "code",
   "execution_count": 25,
   "id": "145ce154-2837-4ec5-bcde-dfe1fff8984c",
   "metadata": {},
   "outputs": [
    {
     "name": "stdout",
     "output_type": "stream",
     "text": [
      "Current Letter : P\n",
      "Current Letter : y\n",
      "Current Letter : t\n",
      "Current Letter : o\n",
      "Current Letter : n\n",
      "Current Letter : P\n",
      "Current Letter : o\n",
      "Current Letter : g\n",
      "Current Letter : a\n",
      "Current Letter : m\n",
      "Current Letter : m\n",
      "Current Letter : i\n",
      "Current Letter : n\n",
      "Current Letter : g\n"
     ]
    }
   ],
   "source": [
    "for letter in 'PythonProgramming':\n",
    "    if letter == 'h' or letter == 'r':\n",
    "        continue\n",
    "    print('Current Letter :', letter)"
   ]
  },
  {
   "cell_type": "markdown",
   "id": "c74a3568-a6cf-4fcd-a74b-588eaa86ba03",
   "metadata": {},
   "source": [
    "### Break in Python For Loop\n",
    "* Python break statement brings control out of the loop"
   ]
  },
  {
   "cell_type": "code",
   "execution_count": 27,
   "id": "32e7e8e7-af57-41aa-9e39-97c38238992b",
   "metadata": {},
   "outputs": [
    {
     "name": "stdout",
     "output_type": "stream",
     "text": [
      "Current Letter : P\n",
      "Current Letter : y\n",
      "Current Letter : t\n",
      "Current Letter : h\n",
      "Current Letter : o\n",
      "Current Letter : n\n",
      "Current Letter : P\n"
     ]
    }
   ],
   "source": [
    "for letter in 'PythonProgramming':\n",
    "    if letter  == 'r':\n",
    "        break\n",
    "    print('Current Letter :', letter)"
   ]
  },
  {
   "cell_type": "markdown",
   "id": "09cdd9a1-659b-4955-bad4-23836b408898",
   "metadata": {},
   "source": [
    "### For Loop in Python with Pass Statement\n",
    "* The pass statement to write empty loops. Pass is also used for empty control\n",
    "statements, functions, and classes"
   ]
  },
  {
   "cell_type": "code",
   "execution_count": 31,
   "id": "29e33520-40dc-4103-8b8f-4a19197d269f",
   "metadata": {},
   "outputs": [
    {
     "name": "stdout",
     "output_type": "stream",
     "text": [
      "g\n"
     ]
    }
   ],
   "source": [
    "for letter in \"PythonProgramming\":\n",
    "    pass\n",
    "\n",
    "print(letter)"
   ]
  },
  {
   "cell_type": "markdown",
   "id": "44715f15-25bc-447e-af6e-eb69b8b17b06",
   "metadata": {},
   "source": [
    "### For Loops in Python with Else Statement\n",
    "* Python also allows us to use the else condition for loops. The else block just\n",
    "after for/while is executed only when the loop is NOT terminated by a break\n",
    "statement"
   ]
  },
  {
   "cell_type": "code",
   "execution_count": 32,
   "id": "71f2f2f5-a2a0-4ef6-8cd3-aa55b757034c",
   "metadata": {},
   "outputs": [
    {
     "name": "stdout",
     "output_type": "stream",
     "text": [
      "1\n",
      "2\n",
      "3\n",
      "4\n",
      "end\n"
     ]
    }
   ],
   "source": [
    "for i in range(1,5):\n",
    "    print(i)\n",
    "\n",
    "else:\n",
    "    print(\"end\")"
   ]
  },
  {
   "cell_type": "markdown",
   "id": "e8094567-5597-482a-b388-020a3cf605a1",
   "metadata": {},
   "source": [
    "### Python For Loop Exercise Questions\n",
    "* Below are two Exercise Questions on Python for-loops. We have covered\n",
    "continue statement and range() function in these exercise questions.\n"
   ]
  },
  {
   "cell_type": "markdown",
   "id": "7305de77-f52e-4503-b382-90cc6ca1e15a",
   "metadata": {},
   "source": [
    "### Q1. Code to implement Continue statement in for-loop"
   ]
  },
  {
   "cell_type": "code",
   "execution_count": 34,
   "id": "342d978f-89f7-4a50-a887-1ec7e2a9fb0d",
   "metadata": {},
   "outputs": [
    {
     "name": "stdout",
     "output_type": "stream",
     "text": [
      "washing Shirt\n",
      "washing paints\n",
      "washing towel\n",
      "washing ['Socks']\n"
     ]
    }
   ],
   "source": [
    "clothes = ['Shirt','sock','paints','sock','towel']\n",
    "paired_socks = []\n",
    "for item in clothes:\n",
    "    if item == 'sock':\n",
    "        continue\n",
    "    else:\n",
    "        print(f'washing {item}')\n",
    "paired_socks.append(\"Socks\")\n",
    "print(f'washing {paired_socks}')"
   ]
  },
  {
   "cell_type": "markdown",
   "id": "adb0e7d8-9375-4907-9db5-3df8ea4a880e",
   "metadata": {},
   "source": [
    "### Q2. Code to implement range function in for-loop"
   ]
  },
  {
   "cell_type": "code",
   "execution_count": 36,
   "id": "d666ba9d-df23-4d25-9ba6-2871ca50a07d",
   "metadata": {},
   "outputs": [
    {
     "name": "stdout",
     "output_type": "stream",
     "text": [
      "Day 1: Run 3.0 miles\n",
      "Day 2: Run 3.5 miles\n",
      "Day 3: Run 4.0 miles\n",
      "Day 4: Run 4.5 miles\n",
      "Day 5: Run 5.0 miles\n",
      "Day 6: Run 5.5 miles\n"
     ]
    }
   ],
   "source": [
    "for day in range(1,7):\n",
    "    distance = 3 + (day - 1) * 0.5\n",
    "    print(f'Day {day}: Run {distance:.1f} miles')"
   ]
  },
  {
   "cell_type": "markdown",
   "id": "715058c8-2b9d-459e-a13d-179c29ba51eb",
   "metadata": {},
   "source": [
    "# PYTHON LOOP Q & A"
   ]
  },
  {
   "cell_type": "markdown",
   "id": "9efed212-45df-4e07-9dab-40e4df0cc565",
   "metadata": {},
   "source": [
    "## Section - A"
   ]
  },
  {
   "cell_type": "markdown",
   "id": "50bbe48c-f008-452b-ae4a-8764674e7803",
   "metadata": {},
   "source": [
    "### 1. What is the purpose of the while loop in Python?\n",
    "- a) To execute a block of code repeatedly until a condition is false\n",
    "- b) To execute a block of code a fixed number of times\n",
    "- c) To define a function\n",
    "- d) To iterate over items in a sequence"
   ]
  },
  {
   "cell_type": "code",
   "execution_count": null,
   "id": "66e4716f-24e4-431e-8f79-0a49654a9e98",
   "metadata": {},
   "outputs": [],
   "source": [
    "Ans - a"
   ]
  },
  {
   "cell_type": "markdown",
   "id": "8adb00ef-0f02-4dc9-8fa4-57babd13330f",
   "metadata": {},
   "source": [
    "### 2. What is the syntax for a while loop in Python?\n",
    "- a) while condition:\n",
    "- b) while condition():\n",
    "- c) while (condition):\n",
    "- d) while loop condition:"
   ]
  },
  {
   "cell_type": "code",
   "execution_count": null,
   "id": "fee4c8ba-e44d-4c77-b1a8-17049544752d",
   "metadata": {},
   "outputs": [],
   "source": [
    "Ans - a"
   ]
  },
  {
   "cell_type": "markdown",
   "id": "981bf6e3-2c6d-4d9d-b248-4ed0e29b369d",
   "metadata": {},
   "source": [
    "### 3. How can you exit a loop prematurely in Python?\n",
    "- a) Using the break statement\n",
    "- b) Using the continue statement\n",
    "- c) Using the pass statement\n",
    "- d) Using the exit function"
   ]
  },
  {
   "cell_type": "code",
   "execution_count": null,
   "id": "1180480b-4c1d-43cb-a4ff-66d061c9d6b9",
   "metadata": {},
   "outputs": [],
   "source": [
    "Ans - a"
   ]
  },
  {
   "cell_type": "markdown",
   "id": "0f543b0b-9d03-464d-a601-8a8b4227a272",
   "metadata": {},
   "source": [
    "### 4. What is the purpose of the for loop in Python?\n",
    "- a) To execute a block of code repeatedly until a condition is false\n",
    "- b) To iterate over items in a sequence\n",
    "- c) To execute a block of code a fixed number of times\n",
    "- d) To define a function"
   ]
  },
  {
   "cell_type": "code",
   "execution_count": null,
   "id": "b96a530a-f703-4486-8a7f-475dcca91f6f",
   "metadata": {},
   "outputs": [],
   "source": [
    "Ans - b"
   ]
  },
  {
   "cell_type": "markdown",
   "id": "3e14b459-c682-437f-810b-93ef7b7e58f8",
   "metadata": {},
   "source": [
    "### 5. What is the syntax for a for loop in Python?\n",
    "- a) for item in sequence\n",
    "- b) for item in range(n):\n",
    "- c) for index in range(len(sequence)):\n",
    "- d) All of the above"
   ]
  },
  {
   "cell_type": "code",
   "execution_count": null,
   "id": "20e8f01a-7f1e-40c6-989c-92879a8e26ac",
   "metadata": {},
   "outputs": [],
   "source": [
    "Ans - d"
   ]
  },
  {
   "cell_type": "code",
   "execution_count": null,
   "id": "53a56682-2b00-4dc0-a187-b7dde90e5eba",
   "metadata": {},
   "outputs": [],
   "source": [
    "### 6. What will the following code snippet print?\n",
    "fruits = [\"apple\", \"banana\", \"cherry\"]\n",
    "for fruit in fruits:\n",
    "print(fruit)\n",
    "\n",
    "- a) apple banana cherry\n",
    "- b) [“apple”, “banana”, “cherry”]\n",
    "- c) 0 1 2\n",
    "- d) No output\n"
   ]
  },
  {
   "cell_type": "code",
   "execution_count": 40,
   "id": "7c390a0a-7e80-439e-adb1-2b2834237fca",
   "metadata": {},
   "outputs": [
    {
     "name": "stdout",
     "output_type": "stream",
     "text": [
      "apple\n",
      "banana\n",
      "cherry\n"
     ]
    }
   ],
   "source": [
    "Ans - a"
   ]
  },
  {
   "cell_type": "markdown",
   "id": "ef602ad7-8cb0-409f-9474-0f28d828250d",
   "metadata": {},
   "source": [
    "### 7. How can you skip the current iteration of a loop and continue with the next iteration?\n",
    "- a) Using the skip statement\n",
    "- b) Using the pass statement\n",
    "- c) Using the break statement\n",
    "- d) Using the continue statement"
   ]
  },
  {
   "cell_type": "code",
   "execution_count": null,
   "id": "d986c38b-9521-4c70-a9b9-e75af8c69a2a",
   "metadata": {},
   "outputs": [],
   "source": [
    "Ans - d"
   ]
  },
  {
   "cell_type": "markdown",
   "id": "d457b9c3-e901-480a-a7ec-2b9ea495c953",
   "metadata": {},
   "source": [
    "### 8. What is the purpose of the range() function in Python?\n",
    "- a) To generate a sequence of numbers\n",
    "- b) To iterate over items in a sequence\n",
    "- c) To define a function\n",
    "- d) To execute a block of code repeatedly until a condition is false"
   ]
  },
  {
   "cell_type": "code",
   "execution_count": null,
   "id": "7422b717-26b3-4b7b-8758-caa0e68b69ee",
   "metadata": {},
   "outputs": [],
   "source": [
    "Ans - a"
   ]
  },
  {
   "cell_type": "markdown",
   "id": "7272f978-88c1-4d2b-bced-e9cbace5b708",
   "metadata": {},
   "source": [
    "### 9. What will the following code snippet print?\n",
    "- for i in range(3):\n",
    "-    print(i)\n",
    "- a) 0 1 2\n",
    "- b) 1 2 3\n",
    "- c) 2 1 0\n",
    "- d) 3 2 1 0"
   ]
  },
  {
   "cell_type": "code",
   "execution_count": null,
   "id": "a8399250-4631-4b82-a999-e39238c56f1f",
   "metadata": {},
   "outputs": [],
   "source": [
    "Ans - a"
   ]
  },
  {
   "cell_type": "markdown",
   "id": "fe75c06c-bf52-452b-b480-fe7208f9773c",
   "metadata": {},
   "source": [
    "### 10. What will be the output of the following code?\n",
    "- a) 1 2\n",
    "- b) 1 2 3\n",
    "- c) 1 2 4 5\n",
    "- d) 1 2 4"
   ]
  },
  {
   "cell_type": "code",
   "execution_count": null,
   "id": "4e322efa-5d58-4505-8571-e28c96d38e59",
   "metadata": {},
   "outputs": [],
   "source": [
    "for i in range(1, 6):\n",
    "    if i == 3:\n",
    "        continue\n",
    "    print(i)"
   ]
  },
  {
   "cell_type": "code",
   "execution_count": null,
   "id": "ff494269-4b2e-47bf-8863-ce58ee9d18e3",
   "metadata": {},
   "outputs": [],
   "source": [
    "Ans - c"
   ]
  },
  {
   "cell_type": "markdown",
   "id": "4e407e7e-bdd3-4ab2-b17e-70abd58aa2f2",
   "metadata": {},
   "source": [
    "### 11. What will be the output of the following code?"
   ]
  },
  {
   "cell_type": "code",
   "execution_count": null,
   "id": "a7cbfb42-147f-4267-96be-2e9b8c9bcce6",
   "metadata": {},
   "outputs": [],
   "source": [
    "for i in range(3):\n",
    "    for j in range(3):\n",
    "        print(i + j, end=' ')\n",
    "    print()"
   ]
  },
  {
   "cell_type": "markdown",
   "id": "ed26d2c7-63d3-4bfc-afab-52ddc11bd2ed",
   "metadata": {},
   "source": [
    "### 12. What will be printed by the following code?\n",
    "- a) 5 4 3 2 1\n",
    "- b) 5 4\n",
    "- c) Done\n",
    "- d) 5 4 3"
   ]
  },
  {
   "cell_type": "code",
   "execution_count": null,
   "id": "31671300-1bad-43c9-a55f-6c79877c6b28",
   "metadata": {},
   "outputs": [],
   "source": [
    "num = 5\n",
    "while num > 0:\n",
    "    print(num)\n",
    "    num -= 1\n",
    "    if num == 3:\n",
    "    break\n",
    "else:\n",
    "    print(\"Done\")"
   ]
  },
  {
   "cell_type": "code",
   "execution_count": null,
   "id": "50b12c7f-1c01-4d27-970b-1ff31f1d9eff",
   "metadata": {},
   "outputs": [],
   "source": [
    "Ans - b"
   ]
  },
  {
   "cell_type": "markdown",
   "id": "dec937b4-3f29-4715-9c8d-4033f0bfec3d",
   "metadata": {},
   "source": [
    "### 13. What is the output of the following code?\n",
    "\n",
    "- a) A\n",
    "- b) B\n",
    "- c) C\n",
    "- d) A and B\n"
   ]
  },
  {
   "cell_type": "code",
   "execution_count": null,
   "id": "5331b599-9123-4b69-84e3-db5d4c5a10c7",
   "metadata": {},
   "outputs": [],
   "source": [
    "x = 10\n",
    "if x > 5:\n",
    "    print(\"A\")\n",
    "elif x > 7:\n",
    "     print(\"B\")\n",
    "else:\n",
    "    print(\"C\")"
   ]
  },
  {
   "cell_type": "code",
   "execution_count": null,
   "id": "da557ea5-b54b-4bcb-830c-2fff5df2dd24",
   "metadata": {},
   "outputs": [],
   "source": [
    "Ans - a"
   ]
  },
  {
   "cell_type": "markdown",
   "id": "109b3141-fef6-4ba4-a00e-fb1f72c6d5e3",
   "metadata": {},
   "source": [
    "### 14. What will be the output of the following code?\n",
    "- a) 5 3 1\n",
    "- b) 5 3\n",
    "- c) 5 3 Done\n",
    "- d) 5 3 1 Done"
   ]
  },
  {
   "cell_type": "code",
   "execution_count": null,
   "id": "3e8afed7-6f0e-4da7-8972-d2b4354dd714",
   "metadata": {},
   "outputs": [],
   "source": [
    "x = 5\n",
    "while x > 0:\n",
    "    print(x, end=\" \")\n",
    "    x -= 2\n",
    "    if x == 1:\n",
    "    break\n",
    "else:\n",
    "    print(\"Done\")"
   ]
  },
  {
   "cell_type": "code",
   "execution_count": null,
   "id": "57a0c394-d71f-48a3-aed6-7cb9b4f1051e",
   "metadata": {},
   "outputs": [],
   "source": [
    "Ans - d"
   ]
  },
  {
   "cell_type": "markdown",
   "id": "3814ac74-d2ce-4237-9292-32484c2b8d85",
   "metadata": {},
   "source": [
    "### 15. What is the output of the following code?\n",
    "\n",
    "- a) 0 1 3 4\n",
    "- b) 0 1 2 3 4\n",
    "- c) 0 1 3 4 5\n",
    "- d) 0 1 2 3 4 5"
   ]
  },
  {
   "cell_type": "code",
   "execution_count": null,
   "id": "0b7f95de-a72d-4f0a-a167-145edcf89f26",
   "metadata": {},
   "outputs": [],
   "source": [
    "for i in range(5):\n",
    "    if i == 2:\n",
    "     continue\n",
    "     print(i, end=\" \")"
   ]
  },
  {
   "cell_type": "code",
   "execution_count": null,
   "id": "bec685bd-470d-4e2a-a941-d78ae27630df",
   "metadata": {},
   "outputs": [],
   "source": [
    "Ans - a"
   ]
  },
  {
   "cell_type": "markdown",
   "id": "efdf1b19-f346-435a-a386-95969e95e0e8",
   "metadata": {},
   "source": [
    "### 16. What is the output of the following code?\n",
    "- a) 0 1 2 3 4 5\n",
    "- b) 0 1 2 3 4 Loop completed.\n",
    "- c) Loop completed.\n",
    "- d) This code will result in an error"
   ]
  },
  {
   "cell_type": "code",
   "execution_count": null,
   "id": "709930af-1af4-480c-9f26-aa16dc19239e",
   "metadata": {},
   "outputs": [],
   "source": [
    "num = 0\n",
    "while num < 5:\n",
    "    print(num)\n",
    "    num += 1\n",
    "else:\n",
    "    print(\"Loop completed.\")"
   ]
  },
  {
   "cell_type": "code",
   "execution_count": null,
   "id": "e9449e5b-2e48-4d76-80b9-f2256d3e567c",
   "metadata": {},
   "outputs": [],
   "source": [
    "Ans - b"
   ]
  },
  {
   "cell_type": "markdown",
   "id": "17da17f8-6c8d-4add-81a7-0eedc26ffe84",
   "metadata": {},
   "source": [
    "### 17. What will be the output of the following code?\n",
    "- a)\n",
    "  - Greater than 5\n",
    "  - Greater than 8\n",
    "  - Equal or less than 12\n",
    "- b)\n",
    "  - Greater than 5\n",
    "  - Greater than 8\n",
    "  - Greater than 12\n",
    "  - Equal or less than 12\n",
    "- c)\n",
    "  - Greater than 5\n",
    "  - Greater than 8\n",
    "- d) Equal or less than 12\n"
   ]
  },
  {
   "cell_type": "code",
   "execution_count": null,
   "id": "5cce6639-827d-4734-b89d-29509b2b050f",
   "metadata": {},
   "outputs": [],
   "source": [
    "x = 10\n",
    "if x > 5:\n",
    "    print(\"Greater than 5\")\n",
    "if x > 8:\n",
    "    print(\"Greater than 8\")\n",
    "if x > 12:\n",
    "    print(\"Greater than 12\")\n",
    "else:\n",
    "    print(\"Equal or less than 12\")"
   ]
  },
  {
   "cell_type": "code",
   "execution_count": null,
   "id": "290809f1-f766-48a5-bf7e-74670415a4f8",
   "metadata": {},
   "outputs": [],
   "source": [
    "Ans - a"
   ]
  },
  {
   "cell_type": "markdown",
   "id": "3c370084-a302-47b8-a3f7-189e05bbf3df",
   "metadata": {},
   "source": [
    "### 18. What will be the output of the following code?\n"
   ]
  },
  {
   "cell_type": "code",
   "execution_count": null,
   "id": "373679b9-71e9-4116-b234-4a56d0986a63",
   "metadata": {},
   "outputs": [],
   "source": [
    "for i in range(3):\n",
    "    for j in range(3):\n",
    "        print(i * j, end=' ')\n",
    "    print()"
   ]
  },
  {
   "cell_type": "raw",
   "id": "f5075015-6c56-4413-a3b9-35dddb478c6c",
   "metadata": {},
   "source": [
    "0 0 0\n",
    "0 1 2\n",
    "0 2 4"
   ]
  },
  {
   "cell_type": "markdown",
   "id": "a1aa53f0-3f1d-43fb-84bd-2b5dad79349a",
   "metadata": {},
   "source": [
    "### 19. What will be the output of the following code?\n",
    "\n",
    "- a) 10 7 4 1 Loop completed.\n",
    "- b) 10 7 4 1\n",
    "- c) Loop completed.\n",
    "- d) This code will result in an error."
   ]
  },
  {
   "cell_type": "code",
   "execution_count": null,
   "id": "26f5c851-120b-476c-a0a8-eb948728cb70",
   "metadata": {},
   "outputs": [],
   "source": [
    "num = 10\n",
    "while num > 0:\n",
    "    print(num)\n",
    "    num -= 3\n",
    "else:\n",
    "    print(\"Loop completed.\")"
   ]
  },
  {
   "cell_type": "code",
   "execution_count": null,
   "id": "2a3206c2-33b7-4233-8fa2-0f23f9deebb7",
   "metadata": {},
   "outputs": [],
   "source": [
    "Ans - a"
   ]
  },
  {
   "cell_type": "markdown",
   "id": "02ff3bb7-d86f-4adc-b9c2-c97c8522b942",
   "metadata": {},
   "source": [
    "### 20. What will the following code snippet print?\n",
    "\n",
    "- a) 0 1 2\n",
    "- b) 1 2 3\n",
    "- c) 2 \n",
    "- d) 3 2 1 0\n"
   ]
  },
  {
   "cell_type": "code",
   "execution_count": null,
   "id": "a9835cfe-969a-4827-8d8a-61383450dfe2",
   "metadata": {},
   "outputs": [],
   "source": [
    "for i in range(3):\n",
    "    pass\n",
    "print(i)"
   ]
  },
  {
   "cell_type": "code",
   "execution_count": null,
   "id": "d8f2b443-19c8-4d72-8d6c-9c2d49c0f6d5",
   "metadata": {},
   "outputs": [],
   "source": [
    "Ans - c"
   ]
  },
  {
   "cell_type": "markdown",
   "id": "9b10e14f-b954-4294-8b5c-3f31fec0d5e9",
   "metadata": {},
   "source": [
    "### 21. What is the purpose of the pass statement in Python?\n",
    "- a) To exit from a loop prematurely\n",
    "- b) To skip the current iteration of a loop\n",
    "- c) To execute a block of code if a condition is false\n",
    "- d) To do nothing and act as a placeholder"
   ]
  },
  {
   "cell_type": "code",
   "execution_count": null,
   "id": "d0a680b9-3cdc-4f7b-97dc-08ffe0d3d0a5",
   "metadata": {},
   "outputs": [],
   "source": [
    "Ans - d"
   ]
  },
  {
   "cell_type": "markdown",
   "id": "45b12f7a-054d-4fc3-a96e-69898f0ef5dc",
   "metadata": {},
   "source": [
    "### 22. What is the purpose of the else block in a loop in Python?\n",
    "- a) To execute if the loop encounters an error\n",
    "- b) To execute if the loop completes without encountering a break statement\n",
    "- c) To execute if the loop encounters a continue statement\n",
    "- d) To execute if the loop encounters a pass statement"
   ]
  },
  {
   "cell_type": "code",
   "execution_count": null,
   "id": "b8e9a3f0-5b44-4cd1-bb22-12792d6da207",
   "metadata": {},
   "outputs": [],
   "source": [
    "Ans - b"
   ]
  },
  {
   "cell_type": "markdown",
   "id": "daa875d1-6314-40ab-9be8-4bbe56676ee2",
   "metadata": {},
   "source": [
    "### 23. What is the output of the following code?\n",
    "\n",
    "- a) Hey\n",
    "- b) Hi\n",
    "- c) Hello\n",
    "- d) Hello, Hi"
   ]
  },
  {
   "cell_type": "code",
   "execution_count": null,
   "id": "3109f9e2-9f03-4a4a-bb10-40896d9e4d49",
   "metadata": {},
   "outputs": [],
   "source": [
    "x = 10\n",
    "if x > 5:\n",
    "    print(\"Hello\")\n",
    "elif x > 8:\n",
    "    print(\"Hi\")\n",
    "else:\n",
    "    print(\"Hey\")"
   ]
  },
  {
   "cell_type": "code",
   "execution_count": null,
   "id": "a4fca0a0-8952-4c45-b43b-95687ec8e198",
   "metadata": {},
   "outputs": [],
   "source": [
    "Ans - c"
   ]
  },
  {
   "cell_type": "markdown",
   "id": "8502c78e-be52-42ae-a545-85553ae8b35f",
   "metadata": {},
   "source": [
    "### 24. What is the output of the following code?\n",
    "\n",
    "- a) \\n2\\n\\n4\\n*\n",
    "- b) *\\n2\\n*\\n4\\n*\\n\n",
    "- c) \\n2\\n\\n*\\n4\\n\n",
    "- d) \\n\\n2\\n*\\n4\\n"
   ]
  },
  {
   "cell_type": "code",
   "execution_count": null,
   "id": "dd9c3ee4-adc1-4145-a605-e3c0eee84ec8",
   "metadata": {},
   "outputs": [],
   "source": [
    "for i in range(1, 6):\n",
    "    if i % 2 == 0:\n",
    "        print(i)\n",
    "        continue\n",
    "    print(\"*\")"
   ]
  },
  {
   "cell_type": "code",
   "execution_count": null,
   "id": "c8bc9545-893d-4fd7-82cf-41b4da5aa75b",
   "metadata": {},
   "outputs": [],
   "source": [
    "Ans - b"
   ]
  },
  {
   "cell_type": "markdown",
   "id": "feb64e0b-41f6-42d3-a00e-93a40e48a8fb",
   "metadata": {},
   "source": [
    "### 25. What will be the output of the following code?\n",
    "\n",
    "- a) 5\\n4\\n3\\n2\\n1\\nDone\n",
    "- b) Done\\n5\\n4\\n3\\n2\\n1\n",
    "- c) 5\\n4\\n3\\n2\\n1\n",
    "- d) Done\n"
   ]
  },
  {
   "cell_type": "code",
   "execution_count": null,
   "id": "b25be2dc-44a5-4407-9b43-5b3db7dfd2b0",
   "metadata": {},
   "outputs": [],
   "source": [
    "x = 5\n",
    "while x > 0:\n",
    "    print(x)\n",
    "    x -= 1\n",
    "else:\n",
    "     print(\"Done\")"
   ]
  },
  {
   "cell_type": "code",
   "execution_count": null,
   "id": "b88e523e-3a97-46ab-9f0d-13d634581467",
   "metadata": {},
   "outputs": [],
   "source": [
    "Ans - a"
   ]
  },
  {
   "cell_type": "markdown",
   "id": "5c50f3d8-5ef8-45c6-8557-ca67ea117953",
   "metadata": {},
   "source": [
    "### 26. What will be the output of the following code?\n",
    "- a) 1\\n2\n",
    "- b) 1\\n2\\n3\\n4\\n5\\nLoop completed.\n",
    "- c) 1\\n2\\n3\\n4\\n5\n",
    "- d) 1\\n2\\n3"
   ]
  },
  {
   "cell_type": "code",
   "execution_count": null,
   "id": "782d6609-d1e8-4824-83e9-ca10e2965f0e",
   "metadata": {},
   "outputs": [],
   "source": [
    "for i in range(1, 6):\n",
    "    if i == 3:\n",
    "    break\n",
    "    print(i)\n",
    "else:\n",
    "     print(\"Loop completed.\")"
   ]
  },
  {
   "cell_type": "code",
   "execution_count": null,
   "id": "fcc3d577-a494-47d8-ad3c-3c21c000a77c",
   "metadata": {},
   "outputs": [],
   "source": [
    "Ans - a"
   ]
  },
  {
   "cell_type": "markdown",
   "id": "c02891e2-9a3d-4c50-9123-d917326bcd2a",
   "metadata": {},
   "source": [
    "# Section - B"
   ]
  },
  {
   "cell_type": "code",
   "execution_count": null,
   "id": "d8f5b5be-db08-4016-b2e4-c461e7a51906",
   "metadata": {},
   "outputs": [],
   "source": []
  },
  {
   "cell_type": "code",
   "execution_count": null,
   "id": "0d4f8af3-6ad5-4c60-b4ec-6909fc11dc87",
   "metadata": {},
   "outputs": [],
   "source": []
  },
  {
   "cell_type": "code",
   "execution_count": null,
   "id": "0d3b3e4c-f7bb-4f73-a1c9-3439911c8be1",
   "metadata": {},
   "outputs": [],
   "source": []
  },
  {
   "cell_type": "code",
   "execution_count": null,
   "id": "a46d35cd-b8ba-4dac-974e-8902156aca67",
   "metadata": {},
   "outputs": [],
   "source": []
  },
  {
   "cell_type": "code",
   "execution_count": null,
   "id": "93a9d3e2-65a5-46d5-8e77-1092b7ee0071",
   "metadata": {},
   "outputs": [],
   "source": []
  },
  {
   "cell_type": "code",
   "execution_count": null,
   "id": "1d6faa4f-d0c7-4281-990f-eeb543f6861e",
   "metadata": {},
   "outputs": [],
   "source": []
  },
  {
   "cell_type": "markdown",
   "id": "9bbeae9b-f66d-4982-b22a-ff1696898272",
   "metadata": {},
   "source": [
    "# Section C"
   ]
  },
  {
   "cell_type": "markdown",
   "id": "359ac3fb-113c-4313-b114-5a439fa7178b",
   "metadata": {},
   "source": [
    "### 1.Print numbers from 1 to 10 using a for loop:\n"
   ]
  },
  {
   "cell_type": "code",
   "execution_count": 3,
   "id": "6be8ed72-dcec-4b87-af99-6e0da23966e0",
   "metadata": {},
   "outputs": [
    {
     "name": "stdout",
     "output_type": "stream",
     "text": [
      "1 2 3 4 5 6 7 8 9 10 "
     ]
    }
   ],
   "source": [
    "for i in range(1,11):\n",
    "    print(i,end =  ' ')"
   ]
  },
  {
   "cell_type": "markdown",
   "id": "7862d4ca-95d8-4d46-a7f7-eb6aced6ea74",
   "metadata": {},
   "source": [
    "### 2. Calculate the sum of numbers from 1 to 10 using a for loop:"
   ]
  },
  {
   "cell_type": "code",
   "execution_count": 8,
   "id": "a7e2f917-b5fc-4efb-861c-e84a7a8ee1a1",
   "metadata": {},
   "outputs": [
    {
     "name": "stdout",
     "output_type": "stream",
     "text": [
      "55\n"
     ]
    }
   ],
   "source": [
    "sum_number = 0\n",
    "\n",
    "for i in range(1,11):\n",
    "    sum_number += i\n",
    "\n",
    "print(sum_number)\n",
    "    "
   ]
  },
  {
   "cell_type": "markdown",
   "id": "97a04876-0146-483d-910e-27cdeba49d61",
   "metadata": {},
   "source": [
    "### 3. Print the elements of a list using a for loop:"
   ]
  },
  {
   "cell_type": "code",
   "execution_count": 17,
   "id": "ae45192b-ee96-465d-9ec0-1a59c93a2d19",
   "metadata": {},
   "outputs": [
    {
     "name": "stdout",
     "output_type": "stream",
     "text": [
      "Mango Grapes Papaya Guava Lichi "
     ]
    }
   ],
   "source": [
    "fruits = ['Mango','Grapes','Papaya','Guava','Lichi']\n",
    "\n",
    "for fruit in fruits:\n",
    "    print(fruit, end = ' ')"
   ]
  },
  {
   "cell_type": "markdown",
   "id": "691607a0-2cb5-4c29-ba32-e2de968e7d25",
   "metadata": {},
   "source": [
    "### 4. Calculate the product of elements in a list using a for loop:"
   ]
  },
  {
   "cell_type": "code",
   "execution_count": 20,
   "id": "4c34410a-f0f0-4fe2-937f-2271c30f542d",
   "metadata": {},
   "outputs": [
    {
     "name": "stdout",
     "output_type": "stream",
     "text": [
      "1680\n"
     ]
    }
   ],
   "source": [
    "product = [5,6,7,8]\n",
    "\n",
    "product_num = 1\n",
    "for num in product:\n",
    "    product_num *= num\n",
    "\n",
    "print(product_num)"
   ]
  },
  {
   "cell_type": "markdown",
   "id": "8342a3c0-5026-41c3-8948-c62ffc1877e9",
   "metadata": {},
   "source": [
    "### 5. Print even numbers from 1 to 10 using a for loop:"
   ]
  },
  {
   "cell_type": "code",
   "execution_count": 23,
   "id": "c583172e-d01d-4ae0-b291-41bf6eaaf29c",
   "metadata": {},
   "outputs": [
    {
     "name": "stdout",
     "output_type": "stream",
     "text": [
      "2\n",
      "4\n",
      "6\n",
      "8\n",
      "10\n"
     ]
    }
   ],
   "source": [
    "for i in range(2,11,2):\n",
    "    print(i)"
   ]
  },
  {
   "cell_type": "code",
   "execution_count": 21,
   "id": "cf4fc9f7-5ac1-4f48-ad26-5fd2099aa648",
   "metadata": {},
   "outputs": [
    {
     "name": "stdout",
     "output_type": "stream",
     "text": [
      "2\n",
      "4\n",
      "6\n",
      "8\n",
      "10\n"
     ]
    }
   ],
   "source": [
    "for i in range(1,11):\n",
    "    if  i % 2 == 0:\n",
    "        print(i)\n",
    "        "
   ]
  },
  {
   "cell_type": "markdown",
   "id": "e451c2a5-75be-4fd7-ac89-693ba62cff20",
   "metadata": {},
   "source": [
    "### 6. Print numbers in reverse from 10 to 1 using a for loop:"
   ]
  },
  {
   "cell_type": "code",
   "execution_count": 27,
   "id": "1343a484-ebe3-4f9b-b8cd-dd3bb8bf2525",
   "metadata": {},
   "outputs": [
    {
     "name": "stdout",
     "output_type": "stream",
     "text": [
      "10\n",
      "9\n",
      "8\n",
      "7\n",
      "6\n",
      "5\n",
      "4\n",
      "3\n",
      "2\n",
      "1\n"
     ]
    }
   ],
   "source": [
    "for i in range(10,0,-1):\n",
    "    print(i)"
   ]
  },
  {
   "cell_type": "markdown",
   "id": "93f744d2-3a2b-4654-bbad-4cdd8ca1efb7",
   "metadata": {},
   "source": [
    "### 7. Print characters of a string using a for loop:"
   ]
  },
  {
   "cell_type": "code",
   "execution_count": 32,
   "id": "64975549-0aeb-4edd-8166-5fa5ed247fa5",
   "metadata": {},
   "outputs": [
    {
     "name": "stdout",
     "output_type": "stream",
     "text": [
      "P y t h o n   P r o g r a m m i n g "
     ]
    }
   ],
   "source": [
    "string = 'Python Programming'\n",
    "\n",
    "for i in string:\n",
    "    print(i,end = \" \")"
   ]
  },
  {
   "cell_type": "markdown",
   "id": "d8dede90-25fc-4c03-8c81-f99a16d7db04",
   "metadata": {},
   "source": [
    "### 8. Find the largest number in a list using a for loop:"
   ]
  },
  {
   "cell_type": "code",
   "execution_count": 33,
   "id": "3c39c25f-858b-4919-aa63-23b282d90abb",
   "metadata": {},
   "outputs": [
    {
     "name": "stdout",
     "output_type": "stream",
     "text": [
      "70\n"
     ]
    }
   ],
   "source": [
    "lst1 = [10,20,40,60,70]\n",
    "largest = lst1[0]\n",
    "for num in lst1:\n",
    "    if num > largest:\n",
    "        largest = num\n",
    "\n",
    "print(largest)"
   ]
  },
  {
   "cell_type": "markdown",
   "id": "7b266508-6e61-438a-bde2-6a6cde836cdc",
   "metadata": {},
   "source": [
    "### 9. Find the average of numbers in a list using a for loop:"
   ]
  },
  {
   "cell_type": "code",
   "execution_count": 36,
   "id": "be2a4577-a054-467b-9cc2-6c05d3d30e0a",
   "metadata": {},
   "outputs": [
    {
     "name": "stdout",
     "output_type": "stream",
     "text": [
      "30.0\n"
     ]
    }
   ],
   "source": [
    "avg_lst = [10,20,30,40,50]\n",
    "\n",
    "length = len(avg_lst)\n",
    "sum_lst = 0\n",
    "\n",
    "for item in avg_lst:\n",
    "    sum_lst += item\n",
    "\n",
    "average = sum_lst/length\n",
    "print(average)"
   ]
  },
  {
   "cell_type": "markdown",
   "id": "859f6bd2-084d-4e71-bb13-45aaadc3bab3",
   "metadata": {},
   "source": [
    "### 10.Print all uppercase letters in a string using a for loop:"
   ]
  },
  {
   "cell_type": "code",
   "execution_count": 38,
   "id": "02a26976-4562-48b5-a9dc-9f69db8b4b9d",
   "metadata": {},
   "outputs": [
    {
     "name": "stdout",
     "output_type": "stream",
     "text": [
      "P P R O G R G "
     ]
    }
   ],
   "source": [
    "string = \"PythonPROGRamminG\"\n",
    "\n",
    "for letter in string:\n",
    "    if letter.isupper():\n",
    "        print(letter,end = ' ')"
   ]
  },
  {
   "cell_type": "markdown",
   "id": "09aa50b7-7f7a-4c4a-927e-e8213b35f9d6",
   "metadata": {},
   "source": [
    "### 11.Count the number of vowels in a string using a for loop:"
   ]
  },
  {
   "cell_type": "code",
   "execution_count": 40,
   "id": "d61a6cfe-0a5f-452e-9ab4-a4263f6fc071",
   "metadata": {},
   "outputs": [
    {
     "name": "stdout",
     "output_type": "stream",
     "text": [
      "4\n"
     ]
    }
   ],
   "source": [
    "string  = 'Python Programming'\n",
    "vowels = \"aeiouAEIOU\"\n",
    "count = 0\n",
    "for char in string:\n",
    "    if char in vowels:\n",
    "        count += 1\n",
    "\n",
    "print(count)"
   ]
  },
  {
   "cell_type": "markdown",
   "id": "9805d21d-0f2a-4d7f-99d7-3119144a6192",
   "metadata": {},
   "source": [
    "### 12.Print a pattern of stars using nested for loops:"
   ]
  },
  {
   "cell_type": "code",
   "execution_count": 52,
   "id": "ee9d97c6-b6ef-4361-a51a-9377379ceb8d",
   "metadata": {},
   "outputs": [
    {
     "name": "stdout",
     "output_type": "stream",
     "text": [
      "* * * * * * * * * * * * * * * * * * * * * "
     ]
    }
   ],
   "source": [
    "for i in range(6):\n",
    "    for j in range(i + 1):\n",
    "        print(\"*\",end = ' ')"
   ]
  },
  {
   "cell_type": "markdown",
   "id": "bf86f6f7-9d70-427c-bc17-25b834fd4882",
   "metadata": {},
   "source": [
    "### 13.Calculate factorial of a number using a while loop:"
   ]
  },
  {
   "cell_type": "code",
   "execution_count": 53,
   "id": "08f135ad-99af-4550-9ef5-45b253f2df8f",
   "metadata": {},
   "outputs": [
    {
     "name": "stdin",
     "output_type": "stream",
     "text": [
      "Enter your number 5\n"
     ]
    },
    {
     "name": "stdout",
     "output_type": "stream",
     "text": [
      "120\n"
     ]
    }
   ],
   "source": [
    "num = int(input('Enter your number'))\n",
    "factorial = 1\n",
    "\n",
    "while num > 0:\n",
    "    factorial *= num\n",
    "    num -= 1\n",
    "\n",
    "print(factorial)"
   ]
  },
  {
   "cell_type": "markdown",
   "id": "55697aa4-c2de-4fa4-bf10-503e690e1ca3",
   "metadata": {},
   "source": [
    "### 14.Find the first occurrence of a number in a list using a while loop:\n"
   ]
  },
  {
   "cell_type": "code",
   "execution_count": 55,
   "id": "e3033180-4f17-42ef-9baa-eb74aa000fee",
   "metadata": {},
   "outputs": [
    {
     "name": "stdout",
     "output_type": "stream",
     "text": [
      "3\n"
     ]
    }
   ],
   "source": [
    "my_list = [5,8,9,11,19]\n",
    "\n",
    "target = 11\n",
    "index = 0\n",
    "\n",
    "while index < len(my_list):\n",
    "    if my_list[index] == target:\n",
    "        break\n",
    "\n",
    "    index += 1\n",
    "\n",
    "else:\n",
    "    index =-1\n",
    "\n",
    "print(index)"
   ]
  },
  {
   "cell_type": "markdown",
   "id": "1d13ba3b-b48e-4c64-a012-5fc203b945d9",
   "metadata": {},
   "source": [
    "### 15.Calculate the sum of numbers from 1 to 100 using a while loop"
   ]
  },
  {
   "cell_type": "code",
   "execution_count": 56,
   "id": "5c09642b-aa80-400f-98a1-5d373af4d7d9",
   "metadata": {},
   "outputs": [
    {
     "name": "stdout",
     "output_type": "stream",
     "text": [
      "5050\n"
     ]
    }
   ],
   "source": [
    "num = 1\n",
    "sum_numbers = 0\n",
    "while num <= 100:\n",
    "    sum_numbers += num\n",
    "    num += 1\n",
    "\n",
    "print(sum_numbers)"
   ]
  },
  {
   "cell_type": "markdown",
   "id": "ab059b6e-15d6-44f2-8270-b685a0dfe200",
   "metadata": {},
   "source": [
    "### 16.Find all prime numbers between 1 and 50 using nested for and if:\n"
   ]
  },
  {
   "cell_type": "code",
   "execution_count": 62,
   "id": "d5db7382-e98e-49ce-8613-a248932cc43f",
   "metadata": {},
   "outputs": [
    {
     "name": "stdout",
     "output_type": "stream",
     "text": [
      "1\n",
      "2\n",
      "3\n",
      "5\n",
      "7\n",
      "11\n",
      "13\n",
      "17\n",
      "19\n",
      "23\n",
      "29\n",
      "31\n",
      "37\n",
      "41\n",
      "43\n",
      "47\n"
     ]
    }
   ],
   "source": [
    "for num in range(1,51):\n",
    "    for i in range(2,num):\n",
    "        if num % i == 0:\n",
    "            break\n",
    "\n",
    "    else:\n",
    "        print(num)"
   ]
  },
  {
   "cell_type": "markdown",
   "id": "1be9cb49-1770-4356-b56e-eeb2ccd24f19",
   "metadata": {},
   "source": [
    "### 17.Print numbers divisible by 3 or 5 from 1 to 20 using a for loop:"
   ]
  },
  {
   "cell_type": "code",
   "execution_count": 63,
   "id": "9a582036-b2d8-40dd-9605-778fe3ed0eca",
   "metadata": {},
   "outputs": [
    {
     "name": "stdout",
     "output_type": "stream",
     "text": [
      "3\n",
      "5\n",
      "6\n",
      "9\n",
      "10\n",
      "12\n",
      "15\n",
      "18\n",
      "20\n"
     ]
    }
   ],
   "source": [
    "for num in range(1,21):\n",
    "    if num % 3 == 0 or num % 5 ==0:\n",
    "        print(num)"
   ]
  },
  {
   "cell_type": "markdown",
   "id": "24f2ad2e-fdfb-4b1a-b19a-a1c0116866b5",
   "metadata": {},
   "source": [
    "### 18.Print a list of squares of numbers from 1 to 5 using a list comprehension:"
   ]
  },
  {
   "cell_type": "code",
   "execution_count": 67,
   "id": "753570a8-2f96-4d37-9d5c-b4ddbb624b7a",
   "metadata": {},
   "outputs": [
    {
     "name": "stdout",
     "output_type": "stream",
     "text": [
      "[1, 4, 9, 16, 25]\n"
     ]
    }
   ],
   "source": [
    "squares = [num**2 for num in range(1,6)]\n",
    "print(squares)"
   ]
  },
  {
   "cell_type": "markdown",
   "id": "b4f5614a-d48b-4c62-8475-f58c774bae44",
   "metadata": {},
   "source": [
    "### 19.Print the Fibonacci sequence up to the 10th term using a while loop:"
   ]
  },
  {
   "cell_type": "code",
   "execution_count": 68,
   "id": "f13080ab-d81d-470f-b335-2a08d6a8ed8b",
   "metadata": {},
   "outputs": [
    {
     "name": "stdout",
     "output_type": "stream",
     "text": [
      "0 1 1 2 3 5 8 13 21 34 "
     ]
    }
   ],
   "source": [
    "a,b = 0,1\n",
    "count = 0\n",
    "while count < 10:\n",
    "    print(a,end = ' ')\n",
    "    a,b = b, a+b\n",
    "    count += 1"
   ]
  },
  {
   "cell_type": "markdown",
   "id": "c17547fd-189e-41ff-a22e-c5f1873ea0ad",
   "metadata": {},
   "source": [
    "### 20.Find the common elements in two lists using a for loop:\n"
   ]
  },
  {
   "cell_type": "code",
   "execution_count": 69,
   "id": "9f280786-8e3b-4ad0-9ea3-fc597e59a3f0",
   "metadata": {},
   "outputs": [
    {
     "name": "stdout",
     "output_type": "stream",
     "text": [
      "[3, 4, 5]\n"
     ]
    }
   ],
   "source": [
    "list1 = [1,2,3,4,5,6]\n",
    "list2 = [3,4,5,8,9,10]\n",
    "\n",
    "common_list = []\n",
    "\n",
    "for item in list1:\n",
    "    if item in list2:\n",
    "        common_list.append(item)\n",
    "\n",
    "print(common_list)"
   ]
  },
  {
   "cell_type": "markdown",
   "id": "c42ae13b-9233-4375-a37c-75fbe40a9791",
   "metadata": {},
   "source": [
    "### 21.Print numbers in a list until a negative number is encountered using a while loop:\n"
   ]
  },
  {
   "cell_type": "code",
   "execution_count": 70,
   "id": "258cba4c-cdd9-4923-8df9-2e6e91324404",
   "metadata": {},
   "outputs": [
    {
     "name": "stdout",
     "output_type": "stream",
     "text": [
      "2\n",
      "32\n",
      "12\n",
      "10\n",
      "9\n",
      "8\n"
     ]
    }
   ],
   "source": [
    "list1 = [2,32,12,10,9,8,-9,-3,4,-7]\n",
    "index = 0\n",
    "\n",
    "while list1[index] >= 0:\n",
    "    print(list1[index])\n",
    "    index += 1"
   ]
  },
  {
   "cell_type": "markdown",
   "id": "d5a42133-14e5-4537-ae86-a47cc8ce8c9b",
   "metadata": {},
   "source": [
    "### 22.Print numbers from 1 to 5, except 3 using a for loop and continue statement:"
   ]
  },
  {
   "cell_type": "code",
   "execution_count": 71,
   "id": "a77c55be-7d39-4650-bdbf-3134ab6f8739",
   "metadata": {},
   "outputs": [
    {
     "name": "stdout",
     "output_type": "stream",
     "text": [
      "1\n",
      "2\n",
      "4\n",
      "5\n"
     ]
    }
   ],
   "source": [
    "for i in range(1,6):\n",
    "    if i == 3:\n",
    "        continue\n",
    "\n",
    "    print(i)"
   ]
  },
  {
   "cell_type": "markdown",
   "id": "4821a32e-e060-4ac3-afa4-90aa95a8457f",
   "metadata": {},
   "source": [
    "### 23.Print numbers from 1 to 10. If a number is divisible by 4, stop the loop using a for loop and break statement:"
   ]
  },
  {
   "cell_type": "code",
   "execution_count": 74,
   "id": "e311833e-9adf-4e89-a243-1d4ed09c9eab",
   "metadata": {},
   "outputs": [
    {
     "name": "stdout",
     "output_type": "stream",
     "text": [
      "1\n",
      "2\n",
      "3\n"
     ]
    }
   ],
   "source": [
    "for i in range(1,11):\n",
    "    \n",
    "    if i % 4 == 0:\n",
    "        break\n",
    "    print(i)\n",
    "\n"
   ]
  },
  {
   "cell_type": "markdown",
   "id": "32b47ffc-ba11-4faa-988f-039e2ac5da98",
   "metadata": {},
   "source": [
    "### 24.Print numbers from 1 to 10. If a number is even, skip it using a for loop and else clause:\n"
   ]
  },
  {
   "cell_type": "code",
   "execution_count": 75,
   "id": "8e6f317c-f43d-4648-b020-db175c4c4834",
   "metadata": {},
   "outputs": [
    {
     "name": "stdout",
     "output_type": "stream",
     "text": [
      "1\n",
      "3\n",
      "5\n",
      "7\n",
      "9\n",
      "Loop completed successfully\n"
     ]
    }
   ],
   "source": [
    "for i in range(1,11):\n",
    "    if i % 2 == 0:\n",
    "        continue\n",
    "    print(i)\n",
    "\n",
    "else:\n",
    "    print(\"Loop completed successfully\")"
   ]
  },
  {
   "cell_type": "markdown",
   "id": "1fbe2c10-1d29-459a-8a8b-c3d80f4c1550",
   "metadata": {},
   "source": [
    "### 25.Print numbers from 1 to 10. If a number is even, break the loop using a for loop and else clause:"
   ]
  },
  {
   "cell_type": "code",
   "execution_count": 77,
   "id": "3fd24079-a7da-4890-945d-8945afbdbe81",
   "metadata": {},
   "outputs": [
    {
     "name": "stdout",
     "output_type": "stream",
     "text": [
      "1\n"
     ]
    }
   ],
   "source": [
    "for i in range(1,11):\n",
    "    if i % 2 == 0:\n",
    "        break\n",
    "    print(i)\n",
    "\n",
    "else:\n",
    "    print(\"Loop completed successfully\")"
   ]
  },
  {
   "cell_type": "markdown",
   "id": "8debf962-1e57-4869-afe8-07dc9bb6f2f7",
   "metadata": {},
   "source": [
    "# Section D"
   ]
  },
  {
   "cell_type": "code",
   "execution_count": null,
   "id": "6f0c952b-3d8e-478d-8e69-2c816517b639",
   "metadata": {},
   "outputs": [],
   "source": []
  }
 ],
 "metadata": {
  "kernelspec": {
   "display_name": "Python 3 (ipykernel)",
   "language": "python",
   "name": "python3"
  },
  "language_info": {
   "codemirror_mode": {
    "name": "ipython",
    "version": 3
   },
   "file_extension": ".py",
   "mimetype": "text/x-python",
   "name": "python",
   "nbconvert_exporter": "python",
   "pygments_lexer": "ipython3",
   "version": "3.12.7"
  }
 },
 "nbformat": 4,
 "nbformat_minor": 5
}
