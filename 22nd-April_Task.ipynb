{
 "cells": [
  {
   "cell_type": "code",
   "execution_count": 1,
   "id": "a06a19fc-ecd4-4f6c-a890-ae109074e549",
   "metadata": {},
   "outputs": [
    {
     "data": {
      "text/plain": [
       "'abc def ghi  '"
      ]
     },
     "execution_count": 1,
     "metadata": {},
     "output_type": "execute_result"
    }
   ],
   "source": [
    "txt = \"  abc def ghi  \"\n",
    "txt.lstrip()"
   ]
  },
  {
   "cell_type": "code",
   "execution_count": 2,
   "id": "c520bdcf-947e-4cfb-95fe-823ae0b7091e",
   "metadata": {},
   "outputs": [
    {
     "data": {
      "text/plain": [
       "'  abc def ghi'"
      ]
     },
     "execution_count": 2,
     "metadata": {},
     "output_type": "execute_result"
    }
   ],
   "source": [
    "txt = \"  abc def ghi  \"\n",
    "txt.rstrip()"
   ]
  },
  {
   "cell_type": "code",
   "execution_count": 3,
   "id": "f4d16589-7840-4cf6-8b4d-7d211d8211ae",
   "metadata": {},
   "outputs": [
    {
     "data": {
      "text/plain": [
       "'abc def ghi'"
      ]
     },
     "execution_count": 3,
     "metadata": {},
     "output_type": "execute_result"
    }
   ],
   "source": [
    "txt = \"  abc def ghi  \"\n",
    "txt.strip()"
   ]
  },
  {
   "cell_type": "markdown",
   "id": "d440b13c-9b8b-432d-b0c8-26c15eb51ea8",
   "metadata": {},
   "source": [
    "# Using Escape character"
   ]
  },
  {
   "cell_type": "code",
   "execution_count": 4,
   "id": "33ff7681-3800-49e2-ac91-a01835bd2262",
   "metadata": {},
   "outputs": [
    {
     "ename": "SyntaxError",
     "evalue": "invalid syntax (4114849126.py, line 2)",
     "output_type": "error",
     "traceback": [
      "\u001b[1;36m  Cell \u001b[1;32mIn[4], line 2\u001b[1;36m\u001b[0m\n\u001b[1;33m    mystr = \"My favourite TV Series is \"Game of Thrones\"\"\u001b[0m\n\u001b[1;37m                                        ^\u001b[0m\n\u001b[1;31mSyntaxError\u001b[0m\u001b[1;31m:\u001b[0m invalid syntax\n"
     ]
    }
   ],
   "source": [
    "# Using double quotes in the string is not allowed.\n",
    "mystr = \"My favourite TV Series is \"Game of Thrones\"\""
   ]
  },
  {
   "cell_type": "code",
   "execution_count": 7,
   "id": "ba8a5cb0-1579-4ec5-b489-a3a71a494d80",
   "metadata": {},
   "outputs": [
    {
     "data": {
      "text/plain": [
       "\"My favourite TV Series is 'Game of Thrones'\""
      ]
     },
     "execution_count": 7,
     "metadata": {},
     "output_type": "execute_result"
    }
   ],
   "source": [
    "# We can run the variable by using a sngle and a double quotes\n",
    "mystr = \"My favourite TV Series is 'Game of Thrones'\"\n",
    "mystr"
   ]
  },
  {
   "cell_type": "code",
   "execution_count": 8,
   "id": "3e0c647b-1191-4795-9067-ef4668c00666",
   "metadata": {},
   "outputs": [
    {
     "name": "stdout",
     "output_type": "stream",
     "text": [
      "My favourite TV Series is \"Game of Thrones\"\n"
     ]
    }
   ],
   "source": [
    "# Using escape character to allow illegal characters\n",
    "mystr = \"My favourite TV Series is \\\"Game of Thrones\\\"\"\n",
    "print(mystr)"
   ]
  },
  {
   "cell_type": "markdown",
   "id": "b9bc9246-fb0a-4aed-8401-ea9c3b52b095",
   "metadata": {},
   "source": [
    "# List [ ]\n",
    "* A list in Python is an ordered, mutable collection of items, which can be of mixed data types."
   ]
  },
  {
   "cell_type": "code",
   "execution_count": 9,
   "id": "b9f4d4e1-0bef-4f77-9773-0d61ac444a0c",
   "metadata": {},
   "outputs": [],
   "source": [
    "list1 = []"
   ]
  },
  {
   "cell_type": "code",
   "execution_count": 10,
   "id": "0773a0f1-4492-4056-8dc8-2553c14c6c32",
   "metadata": {},
   "outputs": [
    {
     "name": "stdout",
     "output_type": "stream",
     "text": [
      "<class 'list'>\n"
     ]
    }
   ],
   "source": [
    "print(type(list1))"
   ]
  },
  {
   "cell_type": "code",
   "execution_count": 11,
   "id": "d3b0eba5-acd3-49d9-86ae-afef5e2d9f2c",
   "metadata": {},
   "outputs": [],
   "source": [
    "list2 = [10,20,30] # list of integer nnumber"
   ]
  },
  {
   "cell_type": "code",
   "execution_count": 13,
   "id": "0eea9cb6-3fa5-40e9-b57d-d4ea434fdc2e",
   "metadata": {},
   "outputs": [],
   "source": [
    "list3 = [10.77,30.66,60.89]  # List of float numbers"
   ]
  },
  {
   "cell_type": "code",
   "execution_count": 14,
   "id": "4b797c1e-9441-4a85-b377-e8c996d50630",
   "metadata": {},
   "outputs": [],
   "source": [
    "list4 = ['one','two','three'] # List of strings"
   ]
  },
  {
   "cell_type": "code",
   "execution_count": 15,
   "id": "36889ba4-20ed-4d5f-8460-0b8340573401",
   "metadata": {},
   "outputs": [],
   "source": [
    "list5 = ['Asif', 25, [50,100],[150,90]] # Nested lists"
   ]
  },
  {
   "cell_type": "code",
   "execution_count": 16,
   "id": "e0ac93a4-0adb-4b82-9998-2ed52acbc355",
   "metadata": {},
   "outputs": [],
   "source": [
    "list6 = [100,'Asif',17.765] # list of mixed data types"
   ]
  },
  {
   "cell_type": "code",
   "execution_count": 17,
   "id": "87178221-1130-401b-b058-5d0355387aea",
   "metadata": {},
   "outputs": [],
   "source": [
    "list7 = ['Asif',25,[50,100],[150,90],{'john','David'}]"
   ]
  },
  {
   "cell_type": "code",
   "execution_count": 18,
   "id": "66c789d4-0cf3-46f3-b8a1-8cb7d096b4a2",
   "metadata": {},
   "outputs": [
    {
     "data": {
      "text/plain": [
       "4"
      ]
     },
     "execution_count": 18,
     "metadata": {},
     "output_type": "execute_result"
    }
   ],
   "source": [
    "len(list5) # L3ngth of list"
   ]
  },
  {
   "cell_type": "markdown",
   "id": "fa113de7-3722-4a1b-ae25-cc9e8e66c7be",
   "metadata": {},
   "source": [
    "## List Indexing\n",
    "* Forward Indexing\n",
    "* Backward indexing"
   ]
  },
  {
   "cell_type": "code",
   "execution_count": 19,
   "id": "9f54e711-a4cd-4843-8067-e271aaeed109",
   "metadata": {},
   "outputs": [
    {
     "data": {
      "text/plain": [
       "10"
      ]
     },
     "execution_count": 19,
     "metadata": {},
     "output_type": "execute_result"
    }
   ],
   "source": [
    "list2[0]"
   ]
  },
  {
   "cell_type": "code",
   "execution_count": 20,
   "id": "1d7efe42-2b18-4ab6-945f-ea8229dd719f",
   "metadata": {},
   "outputs": [
    {
     "data": {
      "text/plain": [
       "'one'"
      ]
     },
     "execution_count": 20,
     "metadata": {},
     "output_type": "execute_result"
    }
   ],
   "source": [
    "list4[0]"
   ]
  },
  {
   "cell_type": "code",
   "execution_count": 21,
   "id": "050c6a0b-b937-4446-9bfa-f7a40a944982",
   "metadata": {},
   "outputs": [
    {
     "data": {
      "text/plain": [
       "'n'"
      ]
     },
     "execution_count": 21,
     "metadata": {},
     "output_type": "execute_result"
    }
   ],
   "source": [
    "list4[0][1]"
   ]
  },
  {
   "cell_type": "code",
   "execution_count": 22,
   "id": "0afb844e-8242-4c6b-91af-3eed8aed2b4f",
   "metadata": {},
   "outputs": [
    {
     "data": {
      "text/plain": [
       "'three'"
      ]
     },
     "execution_count": 22,
     "metadata": {},
     "output_type": "execute_result"
    }
   ],
   "source": [
    "list4[-1]"
   ]
  },
  {
   "cell_type": "code",
   "execution_count": 25,
   "id": "adbd007e-e7da-4c1f-923f-1ac9b76d2b73",
   "metadata": {},
   "outputs": [
    {
     "data": {
      "text/plain": [
       "{'David', 'john'}"
      ]
     },
     "execution_count": 25,
     "metadata": {},
     "output_type": "execute_result"
    }
   ],
   "source": [
    "list7[-1]"
   ]
  },
  {
   "cell_type": "code",
   "execution_count": 26,
   "id": "cfccbdfa-6084-425a-87d2-731f3e183c33",
   "metadata": {},
   "outputs": [
    {
     "data": {
      "text/plain": [
       "['one', 'two', 'three', 'four', 'five', 'six', 'seven', 'eight', 'nine']"
      ]
     },
     "execution_count": 26,
     "metadata": {},
     "output_type": "execute_result"
    }
   ],
   "source": [
    "mylist = ['one','two','three','four','five','six','seven','eight','nine']\n",
    "mylist"
   ]
  },
  {
   "cell_type": "code",
   "execution_count": 27,
   "id": "e1a81784-2949-49f8-a033-200c1614ba9b",
   "metadata": {},
   "outputs": [
    {
     "data": {
      "text/plain": [
       "['one', 'two', 'three', 'four']"
      ]
     },
     "execution_count": 27,
     "metadata": {},
     "output_type": "execute_result"
    }
   ],
   "source": [
    "mylist[0:4] # Return all element from 0th to 4th index (n-1)"
   ]
  },
  {
   "cell_type": "code",
   "execution_count": 28,
   "id": "7aeef3fa-a100-48cc-b9bb-3cf5793a7445",
   "metadata": {},
   "outputs": [
    {
     "data": {
      "text/plain": [
       "['three', 'four', 'five']"
      ]
     },
     "execution_count": 28,
     "metadata": {},
     "output_type": "execute_result"
    }
   ],
   "source": [
    "mylist[2:5] # Return the elements from 2nd to 5th index"
   ]
  },
  {
   "cell_type": "code",
   "execution_count": 30,
   "id": "33d9db04-2c34-4aa1-9102-3445a1a96978",
   "metadata": {},
   "outputs": [
    {
     "data": {
      "text/plain": [
       "['one', 'two', 'three']"
      ]
     },
     "execution_count": 30,
     "metadata": {},
     "output_type": "execute_result"
    }
   ],
   "source": [
    "mylist[:3] # return the first three elements"
   ]
  },
  {
   "cell_type": "code",
   "execution_count": 31,
   "id": "7647e9fa-e1cf-4b58-89c3-f41309480b79",
   "metadata": {},
   "outputs": [
    {
     "data": {
      "text/plain": [
       "['one', 'two']"
      ]
     },
     "execution_count": 31,
     "metadata": {},
     "output_type": "execute_result"
    }
   ],
   "source": [
    "mylist[:2]"
   ]
  },
  {
   "cell_type": "code",
   "execution_count": 33,
   "id": "197b0c02-8910-43ad-85fd-d94c436451e2",
   "metadata": {},
   "outputs": [
    {
     "data": {
      "text/plain": [
       "['seven', 'eight', 'nine']"
      ]
     },
     "execution_count": 33,
     "metadata": {},
     "output_type": "execute_result"
    }
   ],
   "source": [
    "mylist[-3:] # Returns the last three items"
   ]
  },
  {
   "cell_type": "code",
   "execution_count": 34,
   "id": "42db9a82-c8bb-4bce-8bc3-f1064ec3c294",
   "metadata": {},
   "outputs": [
    {
     "data": {
      "text/plain": [
       "['eight', 'nine']"
      ]
     },
     "execution_count": 34,
     "metadata": {},
     "output_type": "execute_result"
    }
   ],
   "source": [
    "mylist[-2:]"
   ]
  },
  {
   "cell_type": "code",
   "execution_count": 35,
   "id": "536a96e2-e1ec-45c1-afd9-21b92c8e478d",
   "metadata": {},
   "outputs": [
    {
     "data": {
      "text/plain": [
       "'nine'"
      ]
     },
     "execution_count": 35,
     "metadata": {},
     "output_type": "execute_result"
    }
   ],
   "source": [
    "mylist[-1]"
   ]
  },
  {
   "cell_type": "code",
   "execution_count": 37,
   "id": "b138a58f-f74b-4eef-97e6-43ae66ee6a18",
   "metadata": {},
   "outputs": [
    {
     "data": {
      "text/plain": [
       "['one', 'three', 'five', 'seven', 'nine']"
      ]
     },
     "execution_count": 37,
     "metadata": {},
     "output_type": "execute_result"
    }
   ],
   "source": [
    "mylist[0:9:2]"
   ]
  },
  {
   "cell_type": "markdown",
   "id": "569caf56-68a0-4d4b-95ee-8549f907e20b",
   "metadata": {},
   "source": [
    "# Add, Remove & Change Items"
   ]
  },
  {
   "cell_type": "code",
   "execution_count": 38,
   "id": "7a63a5cc-f202-4550-aed6-47f2c2e7ddac",
   "metadata": {},
   "outputs": [
    {
     "data": {
      "text/plain": [
       "['one', 'two', 'three', 'four', 'five', 'six', 'seven', 'eight', 'nine']"
      ]
     },
     "execution_count": 38,
     "metadata": {},
     "output_type": "execute_result"
    }
   ],
   "source": [
    "mylist"
   ]
  },
  {
   "cell_type": "code",
   "execution_count": 44,
   "id": "a92ebaa2-74cb-4637-9c6b-4c3828e74a1a",
   "metadata": {},
   "outputs": [],
   "source": [
    "mylist.append('ten') # Add an Item to the end of the list"
   ]
  },
  {
   "cell_type": "code",
   "execution_count": 46,
   "id": "116d7e51-2e60-45a6-8b1d-dcfdf112dabd",
   "metadata": {},
   "outputs": [
    {
     "name": "stdout",
     "output_type": "stream",
     "text": [
      "['one', 'two', 'three', 'four', 'five', 'six', 'seven', 'eight', 'nine', 'ten', 'eleven', 'eleven', 'eleven', 'ten']\n"
     ]
    }
   ],
   "source": [
    "print(mylist)"
   ]
  },
  {
   "cell_type": "code",
   "execution_count": 43,
   "id": "be024bbd-b024-4809-92b1-88cf2928cddc",
   "metadata": {},
   "outputs": [
    {
     "name": "stdout",
     "output_type": "stream",
     "text": [
      "['one', 'two', 'three', 'four', 'five', 'six', 'seven', 'eight', 'nine', 'ten', 'eleven', 'eleven', 'eleven']\n"
     ]
    }
   ],
   "source": [
    "mylist.insert(10,'eleven') # Add item at index location 10\n",
    "print(mylist)"
   ]
  },
  {
   "cell_type": "code",
   "execution_count": 47,
   "id": "debe0f29-5d15-4f5a-b991-47547a80b75e",
   "metadata": {},
   "outputs": [
    {
     "name": "stdout",
     "output_type": "stream",
     "text": [
      "['one', 'ONE', 'two', 'three', 'four', 'five', 'six', 'seven', 'eight', 'nine', 'ten', 'eleven', 'eleven', 'eleven', 'ten']\n"
     ]
    }
   ],
   "source": [
    "mylist.insert(1,'ONE') # Add item at index location 1\n",
    "print(mylist)"
   ]
  },
  {
   "cell_type": "code",
   "execution_count": 48,
   "id": "8088a9a0-d5cf-4efa-95aa-78adcf1698f0",
   "metadata": {},
   "outputs": [],
   "source": [
    "mylist.remove('ONE') # Remove item \"ONE\""
   ]
  },
  {
   "cell_type": "code",
   "execution_count": 50,
   "id": "24053077-6017-4557-9aa8-dc64608d0dac",
   "metadata": {},
   "outputs": [
    {
     "name": "stdout",
     "output_type": "stream",
     "text": [
      "['one', 'two', 'three', 'four', 'five', 'six', 'seven', 'eight', 'nine', 'ten', 'eleven', 'eleven', 'eleven', 'ten']\n"
     ]
    }
   ],
   "source": [
    "print(mylist)"
   ]
  },
  {
   "cell_type": "code",
   "execution_count": 53,
   "id": "96ec0a75-455b-4d8b-865f-3389c62378b1",
   "metadata": {},
   "outputs": [
    {
     "name": "stdout",
     "output_type": "stream",
     "text": [
      "['one', 'two', 'three', 'four', 'five', 'six', 'seven', 'eight', 'nine', 'ten', 'eleven']\n"
     ]
    }
   ],
   "source": [
    "mylist.pop() # Default it will remove and return the last item from the list\n",
    "print(mylist)"
   ]
  },
  {
   "cell_type": "code",
   "execution_count": 54,
   "id": "9d2a2efb-e890-4ad0-8a84-419e9ae9e8f7",
   "metadata": {},
   "outputs": [
    {
     "name": "stdout",
     "output_type": "stream",
     "text": [
      "['one', 'two', 'three', 'four', 'five', 'six', 'seven', 'eight', 'ten', 'eleven']\n"
     ]
    }
   ],
   "source": [
    "mylist.pop(8) # remove item at 8th index\n",
    "print(mylist)"
   ]
  },
  {
   "cell_type": "code",
   "execution_count": 55,
   "id": "729e030c-f5c2-4f3e-8cac-98f4e9dbbd08",
   "metadata": {},
   "outputs": [
    {
     "name": "stdout",
     "output_type": "stream",
     "text": [
      "['one', 'two', 'three', 'four', 'five', 'six', 'seven', 'ten', 'eleven']\n"
     ]
    }
   ],
   "source": [
    "del mylist[7] # Remove item at index location 7\n",
    "print(mylist)"
   ]
  },
  {
   "cell_type": "code",
   "execution_count": 56,
   "id": "17fbfc06-428f-414a-bffc-1213a42117e1",
   "metadata": {},
   "outputs": [
    {
     "name": "stdout",
     "output_type": "stream",
     "text": [
      "[1, 2, 3, 'four', 'five', 'six', 'seven', 'ten', 'eleven']\n"
     ]
    }
   ],
   "source": [
    "# Change value of the string\n",
    "mylist[0] = 1\n",
    "mylist[1] = 2\n",
    "mylist[2] = 3\n",
    "print(mylist)"
   ]
  },
  {
   "cell_type": "code",
   "execution_count": 57,
   "id": "f0340399-88cf-495a-bc5d-5dadfe7b89c0",
   "metadata": {},
   "outputs": [
    {
     "name": "stdout",
     "output_type": "stream",
     "text": [
      "[]\n"
     ]
    }
   ],
   "source": [
    "mylist.clear()  # clear all the elements from the list and returns an empty list\n",
    "print(mylist)"
   ]
  },
  {
   "cell_type": "code",
   "execution_count": 58,
   "id": "059c3ad5-3e1d-446e-9f28-0d531abbc392",
   "metadata": {},
   "outputs": [
    {
     "ename": "NameError",
     "evalue": "name 'mylist' is not defined",
     "output_type": "error",
     "traceback": [
      "\u001b[1;31m---------------------------------------------------------------------------\u001b[0m",
      "\u001b[1;31mNameError\u001b[0m                                 Traceback (most recent call last)",
      "Cell \u001b[1;32mIn[58], line 2\u001b[0m\n\u001b[0;32m      1\u001b[0m \u001b[38;5;28;01mdel\u001b[39;00m mylist \u001b[38;5;66;03m# Delete the whole list \u001b[39;00m\n\u001b[1;32m----> 2\u001b[0m mylist\n",
      "\u001b[1;31mNameError\u001b[0m: name 'mylist' is not defined"
     ]
    }
   ],
   "source": [
    "del mylist # Delete the whole list \n",
    "mylist"
   ]
  },
  {
   "cell_type": "markdown",
   "id": "4926b7e2-fe20-48d8-918e-15af5f57772f",
   "metadata": {},
   "source": [
    "# Copy list"
   ]
  },
  {
   "cell_type": "code",
   "execution_count": 60,
   "id": "b3a7c52b-0528-478c-9bc6-4047962bac7d",
   "metadata": {},
   "outputs": [],
   "source": [
    "mylist = ['one', 'two', 'three', 'four', 'five', 'six', 'seven', 'eight', 'nine']"
   ]
  },
  {
   "cell_type": "code",
   "execution_count": 62,
   "id": "01095e5b-6164-4724-be11-45b198768dd7",
   "metadata": {},
   "outputs": [],
   "source": [
    "mylist1 = mylist # create a new reference \"mylist1\""
   ]
  },
  {
   "cell_type": "code",
   "execution_count": 63,
   "id": "3572bd49-c518-407d-8d54-30c9a88f8dae",
   "metadata": {},
   "outputs": [
    {
     "data": {
      "text/plain": [
       "(2295622728896, 2295622728896)"
      ]
     },
     "execution_count": 63,
     "metadata": {},
     "output_type": "execute_result"
    }
   ],
   "source": [
    "id(mylist), id(mylist1) # The address of both mylist & mylist1 will be the same"
   ]
  },
  {
   "cell_type": "code",
   "execution_count": 64,
   "id": "79b1dc38-01c4-4087-b86a-0330ec0c4830",
   "metadata": {},
   "outputs": [],
   "source": [
    "mylist2 = mylist.copy() # Create a copy of the list"
   ]
  },
  {
   "cell_type": "code",
   "execution_count": 66,
   "id": "71c14657-6d62-4bde-b326-851ebf9dd6b9",
   "metadata": {},
   "outputs": [
    {
     "data": {
      "text/plain": [
       "2295622728256"
      ]
     },
     "execution_count": 66,
     "metadata": {},
     "output_type": "execute_result"
    }
   ],
   "source": [
    "id(mylist2)"
   ]
  },
  {
   "cell_type": "code",
   "execution_count": 67,
   "id": "1c20414c-7c17-4b32-b097-3db082e109e2",
   "metadata": {},
   "outputs": [],
   "source": [
    "mylist[0] = 1"
   ]
  },
  {
   "cell_type": "code",
   "execution_count": 68,
   "id": "1b95d1a2-8272-4c34-9164-b51f1a2383e3",
   "metadata": {},
   "outputs": [
    {
     "data": {
      "text/plain": [
       "[1, 'two', 'three', 'four', 'five', 'six', 'seven', 'eight', 'nine']"
      ]
     },
     "execution_count": 68,
     "metadata": {},
     "output_type": "execute_result"
    }
   ],
   "source": [
    "mylist"
   ]
  },
  {
   "cell_type": "code",
   "execution_count": 69,
   "id": "0e86c149-e7c4-4f84-a5a7-ebd0d2da85cb",
   "metadata": {},
   "outputs": [
    {
     "data": {
      "text/plain": [
       "[1, 'two', 'three', 'four', 'five', 'six', 'seven', 'eight', 'nine']"
      ]
     },
     "execution_count": 69,
     "metadata": {},
     "output_type": "execute_result"
    }
   ],
   "source": [
    "mylist1 # mylist1 will be also impacted as it is pointing to the same list"
   ]
  },
  {
   "cell_type": "code",
   "execution_count": 71,
   "id": "67c4ce73-cc2c-4d74-845d-284cbaed247b",
   "metadata": {},
   "outputs": [
    {
     "data": {
      "text/plain": [
       "['one', 'two', 'three', 'four', 'five', 'six', 'seven', 'eight', 'nine']"
      ]
     },
     "execution_count": 71,
     "metadata": {},
     "output_type": "execute_result"
    }
   ],
   "source": [
    "mylist2 # Copy of list won't be impacted due to changes made on the original list"
   ]
  },
  {
   "cell_type": "code",
   "execution_count": 76,
   "id": "74ffaefc-1b8f-4c4e-b82d-e9c10efac9f3",
   "metadata": {},
   "outputs": [],
   "source": [
    "mylist2[1] = 2 # It will not impact on the another list"
   ]
  },
  {
   "cell_type": "code",
   "execution_count": 77,
   "id": "485c8835-3f47-4139-baae-d5fa68a5edce",
   "metadata": {},
   "outputs": [
    {
     "name": "stdout",
     "output_type": "stream",
     "text": [
      "['one', 2, 'three', 'four', 'five', 'six', 'seven', 'eight', 'nine']\n",
      "[1, 'two', 'three', 'four', 'five', 'six', 'seven', 'eight', 'nine']\n",
      "[1, 'two', 'three', 'four', 'five', 'six', 'seven', 'eight', 'nine']\n"
     ]
    }
   ],
   "source": [
    "print(mylist2)\n",
    "print(mylist1)\n",
    "print(mylist)"
   ]
  },
  {
   "cell_type": "code",
   "execution_count": 101,
   "id": "7e4d76f7-c6bd-487d-b482-c29368508736",
   "metadata": {},
   "outputs": [],
   "source": [
    "# Join Lists\n",
    "lista  = ['one','two','three','four']\n",
    "listb = ['five','six','seven','eight']"
   ]
  },
  {
   "cell_type": "code",
   "execution_count": 102,
   "id": "f81cae59-2ed2-4ccf-b9e2-3e58e6a82ba9",
   "metadata": {},
   "outputs": [],
   "source": [
    "listc = lista + listb # Join two lists by '+ operator'"
   ]
  },
  {
   "cell_type": "code",
   "execution_count": 103,
   "id": "cccc49da-e84d-4f1f-8bbc-f1385a578a05",
   "metadata": {},
   "outputs": [
    {
     "data": {
      "text/plain": [
       "['one', 'two', 'three', 'four', 'five', 'six', 'seven', 'eight']"
      ]
     },
     "execution_count": 103,
     "metadata": {},
     "output_type": "execute_result"
    }
   ],
   "source": [
    "listc"
   ]
  },
  {
   "cell_type": "code",
   "execution_count": 104,
   "id": "a2b34350-6d3c-49a1-93e7-4742b054d160",
   "metadata": {},
   "outputs": [
    {
     "name": "stdout",
     "output_type": "stream",
     "text": [
      "['one', 'two', 'three', 'four', 'five', 'six', 'seven', 'eight']\n"
     ]
    }
   ],
   "source": [
    "lista.extend(listb) #Append lsit2 with list1\n",
    "print(lista)"
   ]
  },
  {
   "cell_type": "markdown",
   "id": "5c976d8e-04a8-4cfd-8e48-844f9b421966",
   "metadata": {},
   "source": [
    "# List Membership"
   ]
  },
  {
   "cell_type": "code",
   "execution_count": 91,
   "id": "ce4580a3-a9be-48ed-a61f-3c6f325d546a",
   "metadata": {},
   "outputs": [
    {
     "name": "stdout",
     "output_type": "stream",
     "text": [
      "['one', 'two', 'three', 'four', 'five', 'six', 'seven', 'eight']\n"
     ]
    }
   ],
   "source": [
    "print(lista)"
   ]
  },
  {
   "cell_type": "code",
   "execution_count": 105,
   "id": "edb4b989-81b5-43aa-9787-bcde73f4160f",
   "metadata": {},
   "outputs": [
    {
     "data": {
      "text/plain": [
       "True"
      ]
     },
     "execution_count": 105,
     "metadata": {},
     "output_type": "execute_result"
    }
   ],
   "source": [
    "'one' in lista # Check if 'one' exist in the list"
   ]
  },
  {
   "cell_type": "code",
   "execution_count": 106,
   "id": "f2397d92-82e7-4b59-b92c-8c6110e972af",
   "metadata": {},
   "outputs": [
    {
     "data": {
      "text/plain": [
       "False"
      ]
     },
     "execution_count": 106,
     "metadata": {},
     "output_type": "execute_result"
    }
   ],
   "source": [
    "'ten' in lista"
   ]
  },
  {
   "cell_type": "code",
   "execution_count": 107,
   "id": "64a6f43e-bc03-4a08-85ac-66b4e84a04aa",
   "metadata": {},
   "outputs": [
    {
     "name": "stdout",
     "output_type": "stream",
     "text": [
      "Three is present in the list\n"
     ]
    }
   ],
   "source": [
    "if 'three' in lista:\n",
    "    print(\"Three is present in the list\")\n",
    "\n",
    "else:\n",
    "    print('Three is not present in the list')"
   ]
  },
  {
   "cell_type": "markdown",
   "id": "b3ebd898-2df4-43f5-a598-546731806bb7",
   "metadata": {},
   "source": [
    "# Reverse & Sort List"
   ]
  },
  {
   "cell_type": "code",
   "execution_count": 108,
   "id": "0d49904e-6e3e-46c1-9cfa-bc4a2f73c69b",
   "metadata": {},
   "outputs": [
    {
     "data": {
      "text/plain": [
       "['one', 'two', 'three', 'four', 'five', 'six', 'seven', 'eight']"
      ]
     },
     "execution_count": 108,
     "metadata": {},
     "output_type": "execute_result"
    }
   ],
   "source": [
    "lista"
   ]
  },
  {
   "cell_type": "code",
   "execution_count": 109,
   "id": "087974f5-7d64-410a-811b-b73b4a3f42e6",
   "metadata": {},
   "outputs": [
    {
     "data": {
      "text/plain": [
       "['eight', 'seven', 'six', 'five', 'four', 'three', 'two', 'one']"
      ]
     },
     "execution_count": 109,
     "metadata": {},
     "output_type": "execute_result"
    }
   ],
   "source": [
    "lista.reverse()\n",
    "lista"
   ]
  },
  {
   "cell_type": "code",
   "execution_count": 110,
   "id": "2d2cb7ad-396b-48b1-b561-58c12baf9e4d",
   "metadata": {},
   "outputs": [
    {
     "data": {
      "text/plain": [
       "['one', 'two', 'three', 'four', 'five', 'six', 'seven', 'eight']"
      ]
     },
     "execution_count": 110,
     "metadata": {},
     "output_type": "execute_result"
    }
   ],
   "source": [
    "lista = lista[::-1] # Reverse the list\n",
    "lista"
   ]
  },
  {
   "cell_type": "code",
   "execution_count": 112,
   "id": "3d43710e-909c-44fa-b1c8-1d8d966b3f2f",
   "metadata": {},
   "outputs": [
    {
     "data": {
      "text/plain": [
       "[2, 5, 9, 25, 83, 99]"
      ]
     },
     "execution_count": 112,
     "metadata": {},
     "output_type": "execute_result"
    }
   ],
   "source": [
    "mylistd  = [9,5,2,99,83,25]\n",
    "mylistd.sort() # Sort list in ascending order\n",
    "mylistd"
   ]
  },
  {
   "cell_type": "code",
   "execution_count": 113,
   "id": "894a89a6-949b-4192-898a-2d158d441414",
   "metadata": {},
   "outputs": [
    {
     "data": {
      "text/plain": [
       "[99, 83, 25, 9, 5, 2]"
      ]
     },
     "execution_count": 113,
     "metadata": {},
     "output_type": "execute_result"
    }
   ],
   "source": [
    "mylistd  = [9,5,2,99,83,25]\n",
    "mylistd.sort(reverse = True)\n",
    "mylistd"
   ]
  },
  {
   "cell_type": "code",
   "execution_count": 114,
   "id": "dc16592b-52cb-4e73-ac2f-5d9788e83455",
   "metadata": {},
   "outputs": [
    {
     "data": {
      "text/plain": [
       "[23, 29, 40, 50, 60, 73, 89]"
      ]
     },
     "execution_count": 114,
     "metadata": {},
     "output_type": "execute_result"
    }
   ],
   "source": [
    "myliste = [50,29,60,73,89,40,23]\n",
    "sorted(myliste)    # Returns a new sorted list and doesnt change original list"
   ]
  },
  {
   "cell_type": "code",
   "execution_count": 115,
   "id": "00320f37-78ef-4af4-a80e-965e0a089124",
   "metadata": {},
   "outputs": [
    {
     "data": {
      "text/plain": [
       "[50, 29, 60, 73, 89, 40, 23]"
      ]
     },
     "execution_count": 115,
     "metadata": {},
     "output_type": "execute_result"
    }
   ],
   "source": [
    "myliste"
   ]
  },
  {
   "cell_type": "markdown",
   "id": "79fddbb2-2308-4558-9c97-da826dd1df27",
   "metadata": {},
   "source": [
    "# Loop Through a list"
   ]
  },
  {
   "cell_type": "code",
   "execution_count": 117,
   "id": "ff665628-2ad2-4927-9602-5d6dff961d94",
   "metadata": {},
   "outputs": [
    {
     "data": {
      "text/plain": [
       "['one', 'two', 'three', 'four', 'five', 'six', 'seven', 'eight']"
      ]
     },
     "execution_count": 117,
     "metadata": {},
     "output_type": "execute_result"
    }
   ],
   "source": [
    "lista"
   ]
  },
  {
   "cell_type": "code",
   "execution_count": 119,
   "id": "864c837a-a99d-4f0e-bbab-672ebc82b28a",
   "metadata": {},
   "outputs": [
    {
     "name": "stdout",
     "output_type": "stream",
     "text": [
      "one\n",
      "two\n",
      "three\n",
      "four\n",
      "five\n",
      "six\n",
      "seven\n",
      "eight\n"
     ]
    }
   ],
   "source": [
    "for i in lista:\n",
    "    print(i)"
   ]
  },
  {
   "cell_type": "code",
   "execution_count": 121,
   "id": "afb4a967-307f-4c35-8ffb-105edf63e0c9",
   "metadata": {},
   "outputs": [
    {
     "name": "stdout",
     "output_type": "stream",
     "text": [
      "(0, 'one')\n",
      "(1, 'two')\n",
      "(2, 'three')\n",
      "(3, 'four')\n",
      "(4, 'five')\n",
      "(5, 'six')\n",
      "(6, 'seven')\n",
      "(7, 'eight')\n"
     ]
    }
   ],
   "source": [
    "for i in enumerate(lista):\n",
    "    print(i)"
   ]
  },
  {
   "cell_type": "markdown",
   "id": "31fc1da2-6d2c-43ac-a3d4-46e3ddca0148",
   "metadata": {},
   "source": [
    "# Count"
   ]
  },
  {
   "cell_type": "code",
   "execution_count": 124,
   "id": "71c24b06-30fe-4025-8172-48dcfdc38ee5",
   "metadata": {},
   "outputs": [],
   "source": [
    "list10 = ['one', 'two', 'three', 'four', 'one', 'six', 'two', 'one']"
   ]
  },
  {
   "cell_type": "code",
   "execution_count": 125,
   "id": "2eda8feb-e124-482c-9222-16dbe82add44",
   "metadata": {},
   "outputs": [
    {
     "data": {
      "text/plain": [
       "3"
      ]
     },
     "execution_count": 125,
     "metadata": {},
     "output_type": "execute_result"
    }
   ],
   "source": [
    "list10.count('one')"
   ]
  },
  {
   "cell_type": "code",
   "execution_count": 128,
   "id": "cdb787e1-7803-4d40-9631-08118904f068",
   "metadata": {},
   "outputs": [
    {
     "data": {
      "text/plain": [
       "2"
      ]
     },
     "execution_count": 128,
     "metadata": {},
     "output_type": "execute_result"
    }
   ],
   "source": [
    "list10.count('two')"
   ]
  },
  {
   "cell_type": "code",
   "execution_count": 129,
   "id": "aec1e6f8-f8ad-43ec-9c71-b0dbff3ea575",
   "metadata": {},
   "outputs": [
    {
     "data": {
      "text/plain": [
       "0"
      ]
     },
     "execution_count": 129,
     "metadata": {},
     "output_type": "execute_result"
    }
   ],
   "source": [
    "list10.count('five')"
   ]
  },
  {
   "cell_type": "markdown",
   "id": "8d8b4a07-544d-4a2b-bea3-364b1e72374a",
   "metadata": {},
   "source": [
    "# All/Any"
   ]
  },
  {
   "cell_type": "markdown",
   "id": "f5309d88-9d80-4865-aa2e-58fdcc529272",
   "metadata": {},
   "source": [
    "The all() methods returns:\n",
    "* True - If all elements in a list are true\n",
    "* False - If any element in a list is false\n",
    "\n",
    "The any() function returns True if any alement in the list is True.If not, any() returns False."
   ]
  },
  {
   "cell_type": "code",
   "execution_count": 130,
   "id": "52a9039e-aeb5-40f4-bced-f7bb0376bae8",
   "metadata": {},
   "outputs": [],
   "source": [
    "L1 = [1,2,3,4,5,0] # Will Return false as one value is false(Value 0)"
   ]
  },
  {
   "cell_type": "code",
   "execution_count": 132,
   "id": "ce91916c-d6bc-472e-b036-a1de2120f41d",
   "metadata": {},
   "outputs": [
    {
     "data": {
      "text/plain": [
       "True"
      ]
     },
     "execution_count": 132,
     "metadata": {},
     "output_type": "execute_result"
    }
   ],
   "source": [
    "all(L1)"
   ]
  },
  {
   "cell_type": "code",
   "execution_count": 133,
   "id": "55f5ab99-78f4-4c89-9054-4beb01075100",
   "metadata": {},
   "outputs": [
    {
     "data": {
      "text/plain": [
       "True"
      ]
     },
     "execution_count": 133,
     "metadata": {},
     "output_type": "execute_result"
    }
   ],
   "source": [
    "any(L1) # Will return True as we have items in the list with True value"
   ]
  },
  {
   "cell_type": "code",
   "execution_count": 135,
   "id": "f5c0fe75-3a0c-4029-b249-9715ded16c5b",
   "metadata": {},
   "outputs": [],
   "source": [
    "L2 = [1,2,3,4,True,False]"
   ]
  },
  {
   "cell_type": "code",
   "execution_count": 136,
   "id": "3e22d842-bc23-4552-a413-781e86d21a42",
   "metadata": {},
   "outputs": [
    {
     "data": {
      "text/plain": [
       "False"
      ]
     },
     "execution_count": 136,
     "metadata": {},
     "output_type": "execute_result"
    }
   ],
   "source": [
    "all(L2) # Returns false as one vale is false"
   ]
  },
  {
   "cell_type": "code",
   "execution_count": 137,
   "id": "4fdd516e-6313-4302-90ac-91f4fd812a11",
   "metadata": {},
   "outputs": [
    {
     "data": {
      "text/plain": [
       "True"
      ]
     },
     "execution_count": 137,
     "metadata": {},
     "output_type": "execute_result"
    }
   ],
   "source": [
    "any(L2) # Returns true as we have items in the lsit with True Value"
   ]
  },
  {
   "cell_type": "code",
   "execution_count": 138,
   "id": "5ce7658f-7078-4b56-b93e-4bb62d5c3c4a",
   "metadata": {},
   "outputs": [],
   "source": [
    "L3 = [1,2,3,True]"
   ]
  },
  {
   "cell_type": "code",
   "execution_count": 140,
   "id": "34776d71-6db4-4bc4-ade1-93d75d3ad59a",
   "metadata": {},
   "outputs": [
    {
     "data": {
      "text/plain": [
       "True"
      ]
     },
     "execution_count": 140,
     "metadata": {},
     "output_type": "execute_result"
    }
   ],
   "source": [
    "all(L3) # eturns true as we have items in the lsit with True Value"
   ]
  },
  {
   "cell_type": "code",
   "execution_count": 141,
   "id": "d3bcdb09-9566-423a-9bf7-b898c89078eb",
   "metadata": {},
   "outputs": [
    {
     "data": {
      "text/plain": [
       "True"
      ]
     },
     "execution_count": 141,
     "metadata": {},
     "output_type": "execute_result"
    }
   ],
   "source": [
    "any(L3)"
   ]
  },
  {
   "cell_type": "code",
   "execution_count": null,
   "id": "0b9e850a-b463-43ba-9b3d-57a18f9e0e89",
   "metadata": {},
   "outputs": [],
   "source": []
  }
 ],
 "metadata": {
  "kernelspec": {
   "display_name": "Python 3 (ipykernel)",
   "language": "python",
   "name": "python3"
  },
  "language_info": {
   "codemirror_mode": {
    "name": "ipython",
    "version": 3
   },
   "file_extension": ".py",
   "mimetype": "text/x-python",
   "name": "python",
   "nbconvert_exporter": "python",
   "pygments_lexer": "ipython3",
   "version": "3.11.5"
  }
 },
 "nbformat": 4,
 "nbformat_minor": 5
}
